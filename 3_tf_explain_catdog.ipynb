{
  "nbformat": 4,
  "nbformat_minor": 0,
  "metadata": {
    "colab": {
      "name": "3_tf_explain_catdog.ipynb",
      "provenance": [],
      "collapsed_sections": [],
      "include_colab_link": true
    },
    "kernelspec": {
      "display_name": "Python 3",
      "language": "python",
      "name": "python3"
    },
    "language_info": {
      "codemirror_mode": {
        "name": "ipython",
        "version": 3
      },
      "file_extension": ".py",
      "mimetype": "text/x-python",
      "name": "python",
      "nbconvert_exporter": "python",
      "pygments_lexer": "ipython3",
      "version": "3.7.4"
    },
    "toc": {
      "base_numbering": 1,
      "nav_menu": {},
      "number_sections": true,
      "sideBar": true,
      "skip_h1_title": false,
      "title_cell": "Table of Contents",
      "title_sidebar": "Contents",
      "toc_cell": false,
      "toc_position": {},
      "toc_section_display": true,
      "toc_window_display": false
    }
  },
  "cells": [
    {
      "cell_type": "markdown",
      "metadata": {
        "id": "view-in-github",
        "colab_type": "text"
      },
      "source": [
        "<a href=\"https://colab.research.google.com/github/SamuelBFG/DL-studies/blob/master/3_tf_explain_catdog.ipynb\" target=\"_parent\"><img src=\"https://colab.research.google.com/assets/colab-badge.svg\" alt=\"Open In Colab\"/></a>"
      ]
    },
    {
      "cell_type": "markdown",
      "metadata": {
        "id": "SHr66Q4DTGj3"
      },
      "source": [
        "# `tf-explain`\n",
        "\n",
        "tf-explain (by Raphael Meudec) helps understand the results and inner workings of a neural network with the help of visualizations, removing the veil on bias in our datasets. Few different visualization approaches are available with tf.explain.\n",
        "\n",
        "- Grad CAM: The Gradient-weighted Class Activation Mapping visualizes how parts of the image affect the neural network's output by looking into the activation maps. A heatmap is generated based on the gradients of the object id from the last convolutional layer. Grad CAM is largely a broad-spectrum heatmap generator as it is robust to noise and can be used on an array of CNN models. \n",
        "- Activations: Visualize the activations for the convolutional layers. \n",
        "- Occlusion Sensitivity: Occludes a part of the image (using a small square patch placed randomly) to figure out how robust the network is. If the prediction is still correct, on average, the network is robust. The area in the image that is the warmest (i.e. red) has the most effect on the prediction when occluded.\n",
        "\n",
        "In this notebook we will produce different visualizations on the sample images.\n",
        "\n",
        "Note: After executing the first cell you may have to `RESTART RUNTIME` if you are running on Google Colab."
      ]
    },
    {
      "cell_type": "code",
      "metadata": {
        "id": "2v99NSOQqomy",
        "outputId": "012e8882-5812-4399-9f2f-a156810a8cf8",
        "colab": {
          "base_uri": "https://localhost:8080/",
          "height": 0
        }
      },
      "source": [
        "# Perform all installations\n",
        "!pip install tensorflow-gpu==2.0.0\n",
        "!pip install tf-explain==0.1.0"
      ],
      "execution_count": 10,
      "outputs": [
        {
          "output_type": "stream",
          "text": [
            "Requirement already satisfied: tensorflow-gpu==2.0.0 in /usr/local/lib/python3.6/dist-packages (2.0.0)\n",
            "Requirement already satisfied: absl-py>=0.7.0 in /usr/local/lib/python3.6/dist-packages (from tensorflow-gpu==2.0.0) (0.10.0)\n",
            "Requirement already satisfied: keras-preprocessing>=1.0.5 in /usr/local/lib/python3.6/dist-packages (from tensorflow-gpu==2.0.0) (1.1.2)\n",
            "Requirement already satisfied: opt-einsum>=2.3.2 in /usr/local/lib/python3.6/dist-packages (from tensorflow-gpu==2.0.0) (3.3.0)\n",
            "Requirement already satisfied: wheel>=0.26 in /usr/local/lib/python3.6/dist-packages (from tensorflow-gpu==2.0.0) (0.35.1)\n",
            "Requirement already satisfied: keras-applications>=1.0.8 in /usr/local/lib/python3.6/dist-packages (from tensorflow-gpu==2.0.0) (1.0.8)\n",
            "Requirement already satisfied: protobuf>=3.6.1 in /usr/local/lib/python3.6/dist-packages (from tensorflow-gpu==2.0.0) (3.12.4)\n",
            "Requirement already satisfied: numpy<2.0,>=1.16.0 in /usr/local/lib/python3.6/dist-packages (from tensorflow-gpu==2.0.0) (1.18.5)\n",
            "Requirement already satisfied: google-pasta>=0.1.6 in /usr/local/lib/python3.6/dist-packages (from tensorflow-gpu==2.0.0) (0.2.0)\n",
            "Requirement already satisfied: tensorflow-estimator<2.1.0,>=2.0.0 in /usr/local/lib/python3.6/dist-packages (from tensorflow-gpu==2.0.0) (2.0.1)\n",
            "Requirement already satisfied: six>=1.10.0 in /usr/local/lib/python3.6/dist-packages (from tensorflow-gpu==2.0.0) (1.15.0)\n",
            "Requirement already satisfied: termcolor>=1.1.0 in /usr/local/lib/python3.6/dist-packages (from tensorflow-gpu==2.0.0) (1.1.0)\n",
            "Requirement already satisfied: wrapt>=1.11.1 in /usr/local/lib/python3.6/dist-packages (from tensorflow-gpu==2.0.0) (1.12.1)\n",
            "Requirement already satisfied: grpcio>=1.8.6 in /usr/local/lib/python3.6/dist-packages (from tensorflow-gpu==2.0.0) (1.33.1)\n",
            "Requirement already satisfied: gast==0.2.2 in /usr/local/lib/python3.6/dist-packages (from tensorflow-gpu==2.0.0) (0.2.2)\n",
            "Requirement already satisfied: astor>=0.6.0 in /usr/local/lib/python3.6/dist-packages (from tensorflow-gpu==2.0.0) (0.8.1)\n",
            "Requirement already satisfied: tensorboard<2.1.0,>=2.0.0 in /usr/local/lib/python3.6/dist-packages (from tensorflow-gpu==2.0.0) (2.0.2)\n",
            "Requirement already satisfied: h5py in /usr/local/lib/python3.6/dist-packages (from keras-applications>=1.0.8->tensorflow-gpu==2.0.0) (2.10.0)\n",
            "Requirement already satisfied: setuptools in /usr/local/lib/python3.6/dist-packages (from protobuf>=3.6.1->tensorflow-gpu==2.0.0) (50.3.0)\n",
            "Requirement already satisfied: google-auth-oauthlib<0.5,>=0.4.1 in /usr/local/lib/python3.6/dist-packages (from tensorboard<2.1.0,>=2.0.0->tensorflow-gpu==2.0.0) (0.4.1)\n",
            "Requirement already satisfied: google-auth<2,>=1.6.3 in /usr/local/lib/python3.6/dist-packages (from tensorboard<2.1.0,>=2.0.0->tensorflow-gpu==2.0.0) (1.17.2)\n",
            "Requirement already satisfied: werkzeug>=0.11.15 in /usr/local/lib/python3.6/dist-packages (from tensorboard<2.1.0,>=2.0.0->tensorflow-gpu==2.0.0) (1.0.1)\n",
            "Requirement already satisfied: markdown>=2.6.8 in /usr/local/lib/python3.6/dist-packages (from tensorboard<2.1.0,>=2.0.0->tensorflow-gpu==2.0.0) (3.3.2)\n",
            "Requirement already satisfied: requests<3,>=2.21.0 in /usr/local/lib/python3.6/dist-packages (from tensorboard<2.1.0,>=2.0.0->tensorflow-gpu==2.0.0) (2.23.0)\n",
            "Requirement already satisfied: requests-oauthlib>=0.7.0 in /usr/local/lib/python3.6/dist-packages (from google-auth-oauthlib<0.5,>=0.4.1->tensorboard<2.1.0,>=2.0.0->tensorflow-gpu==2.0.0) (1.3.0)\n",
            "Requirement already satisfied: pyasn1-modules>=0.2.1 in /usr/local/lib/python3.6/dist-packages (from google-auth<2,>=1.6.3->tensorboard<2.1.0,>=2.0.0->tensorflow-gpu==2.0.0) (0.2.8)\n",
            "Requirement already satisfied: rsa<5,>=3.1.4; python_version >= \"3\" in /usr/local/lib/python3.6/dist-packages (from google-auth<2,>=1.6.3->tensorboard<2.1.0,>=2.0.0->tensorflow-gpu==2.0.0) (4.6)\n",
            "Requirement already satisfied: cachetools<5.0,>=2.0.0 in /usr/local/lib/python3.6/dist-packages (from google-auth<2,>=1.6.3->tensorboard<2.1.0,>=2.0.0->tensorflow-gpu==2.0.0) (4.1.1)\n",
            "Requirement already satisfied: importlib-metadata; python_version < \"3.8\" in /usr/local/lib/python3.6/dist-packages (from markdown>=2.6.8->tensorboard<2.1.0,>=2.0.0->tensorflow-gpu==2.0.0) (2.0.0)\n",
            "Requirement already satisfied: idna<3,>=2.5 in /usr/local/lib/python3.6/dist-packages (from requests<3,>=2.21.0->tensorboard<2.1.0,>=2.0.0->tensorflow-gpu==2.0.0) (2.10)\n",
            "Requirement already satisfied: certifi>=2017.4.17 in /usr/local/lib/python3.6/dist-packages (from requests<3,>=2.21.0->tensorboard<2.1.0,>=2.0.0->tensorflow-gpu==2.0.0) (2020.6.20)\n",
            "Requirement already satisfied: urllib3!=1.25.0,!=1.25.1,<1.26,>=1.21.1 in /usr/local/lib/python3.6/dist-packages (from requests<3,>=2.21.0->tensorboard<2.1.0,>=2.0.0->tensorflow-gpu==2.0.0) (1.24.3)\n",
            "Requirement already satisfied: chardet<4,>=3.0.2 in /usr/local/lib/python3.6/dist-packages (from requests<3,>=2.21.0->tensorboard<2.1.0,>=2.0.0->tensorflow-gpu==2.0.0) (3.0.4)\n",
            "Requirement already satisfied: oauthlib>=3.0.0 in /usr/local/lib/python3.6/dist-packages (from requests-oauthlib>=0.7.0->google-auth-oauthlib<0.5,>=0.4.1->tensorboard<2.1.0,>=2.0.0->tensorflow-gpu==2.0.0) (3.1.0)\n",
            "Requirement already satisfied: pyasn1<0.5.0,>=0.4.6 in /usr/local/lib/python3.6/dist-packages (from pyasn1-modules>=0.2.1->google-auth<2,>=1.6.3->tensorboard<2.1.0,>=2.0.0->tensorflow-gpu==2.0.0) (0.4.8)\n",
            "Requirement already satisfied: zipp>=0.5 in /usr/local/lib/python3.6/dist-packages (from importlib-metadata; python_version < \"3.8\"->markdown>=2.6.8->tensorboard<2.1.0,>=2.0.0->tensorflow-gpu==2.0.0) (3.3.1)\n",
            "Requirement already satisfied: tf-explain==0.1.0 in /usr/local/lib/python3.6/dist-packages (0.1.0)\n",
            "Requirement already satisfied: opencv-python>=4.1.0.25 in /usr/local/lib/python3.6/dist-packages (from tf-explain==0.1.0) (4.1.2.30)\n",
            "Requirement already satisfied: numpy>=1.11.3 in /usr/local/lib/python3.6/dist-packages (from opencv-python>=4.1.0.25->tf-explain==0.1.0) (1.18.5)\n"
          ],
          "name": "stdout"
        }
      ]
    },
    {
      "cell_type": "code",
      "metadata": {
        "id": "NEKFPXGxTGj7",
        "outputId": "888c1e10-c4a5-4484-dc83-4e7f910653d5",
        "colab": {
          "base_uri": "https://localhost:8080/",
          "height": 0
        }
      },
      "source": [
        "import tensorflow as tf\n",
        "import numpy as np\n",
        "\n",
        "#Get TensorBoard to run\n",
        "%load_ext tensorboard"
      ],
      "execution_count": 11,
      "outputs": [
        {
          "output_type": "stream",
          "text": [
            "The tensorboard extension is already loaded. To reload it, use:\n",
            "  %reload_ext tensorboard\n"
          ],
          "name": "stdout"
        }
      ]
    },
    {
      "cell_type": "markdown",
      "metadata": {
        "id": "aURVLbtlTGj-"
      },
      "source": [
        "We can add multiple types of callbacks while training or use its core API to generate TensorFlow events that can later be loaded into TensorBoard. "
      ]
    },
    {
      "cell_type": "code",
      "metadata": {
        "id": "Hb5g7QTWREM-"
      },
      "source": [
        "from tf_explain.core.grad_cam import GradCAM\n",
        "from tf_explain.core.occlusion_sensitivity import OcclusionSensitivity\n",
        "from tf_explain.core.activations import ExtractActivations"
      ],
      "execution_count": 12,
      "outputs": []
    },
    {
      "cell_type": "code",
      "metadata": {
        "id": "DrELWre7VuaN"
      },
      "source": [
        "#For inference, all we need to do is pass an image, its ImageNet object ID along with a model into tf-explain’s functions. The object id is needed as tf.explain needs to figure out what is activated for that particular class."
      ],
      "execution_count": 13,
      "outputs": []
    },
    {
      "cell_type": "code",
      "metadata": {
        "id": "2LTWRK-cTGkC"
      },
      "source": [
        "try:\n",
        "  import google.colab\n",
        "  IS_COLAB_ENV = True\n",
        "except:\n",
        "  IS_COLAB_ENV = False"
      ],
      "execution_count": 14,
      "outputs": []
    },
    {
      "cell_type": "code",
      "metadata": {
        "id": "DX-ar4irTGkE"
      },
      "source": [
        "def download_sample_image(filename):\n",
        "    import requests\n",
        "    url = f'https://raw.githubusercontent.com/PracticalDL/Practical-Deep-Learning-Book/master/sample-images/{filename}'\n",
        "    open(filename, 'wb').write(requests.get(url).content)"
      ],
      "execution_count": 15,
      "outputs": []
    },
    {
      "cell_type": "code",
      "metadata": {
        "id": "dtEgO4uNTGkH"
      },
      "source": [
        "if IS_COLAB_ENV:\n",
        "    IMAGE_PATHS = ['dog.jpg', 'cat.jpg']\n",
        "    for each_filename in IMAGE_PATHS:\n",
        "        download_sample_image(each_filename)\n",
        "else:\n",
        "    IMAGE_PATHS = [ '/content/dog.jpg', '/content/cat.jpg']"
      ],
      "execution_count": 16,
      "outputs": []
    },
    {
      "cell_type": "code",
      "metadata": {
        "id": "94_DTMmIqjOQ"
      },
      "source": [
        "indices = [263, 281]\n",
        "\n",
        "layers_name = ['activation_6']\n",
        "\n",
        "for i in range(len(IMAGE_PATHS)):\n",
        "    each_path = IMAGE_PATHS[i]\n",
        "    index = indices[i]\n",
        "\n",
        "    img = tf.keras.preprocessing.image.load_img(each_path,\n",
        "                                                target_size=(224, 224))\n",
        "    img = tf.keras.preprocessing.image.img_to_array(img)\n",
        "    data = ([img], None)\n",
        "    # Define name with which to save the result as\n",
        "    name = each_path.split(\"/\")[-1].split(\".jpg\")[0]\n",
        "\n",
        "    #Save the Grad Cam visualization\n",
        "    explainer = GradCAM()\n",
        "    model = tf.keras.applications.vgg16.VGG16(weights='imagenet',\n",
        "                                              include_top=True)\n",
        "    grid = explainer.explain(data, model, 'block5_conv3', index)\n",
        "    explainer.save(grid, 'files', name + 'grad_cam.png')\n",
        "\n",
        "    #grid = explainer.explain(data, model, 'block5_conv3', index)\n",
        "    #explainer.save(grid, catpath, name + 'grad_cam.png')\n",
        "\n",
        "    # Save the Occlusion Sensitivity visualization\n",
        "    explainer = OcclusionSensitivity()\n",
        "    model = tf.keras.applications.resnet50.ResNet50(weights='imagenet',\n",
        "                                                    include_top=True)\n",
        "    # Compute Occlusion Sensitivity for patch_size 20\n",
        "    grid = explainer.explain(data, model, index, 20)\n",
        "    explainer.save(grid, 'files', name + 'occlusion_sensitivity_20.png')\n",
        "    # Compute Occlusion Sensitivity for patch_size 10\n",
        "    grid = explainer.explain(data, model, index, 10)\n",
        "    explainer.save(grid, 'files', name + 'occlusion_sensitivity_10.png')\n",
        "\n",
        "    # Save the Activations visualizations\n",
        "    data = (np.array([img]), None)\n",
        "    explainer = ExtractActivations()\n",
        "    model = tf.keras.applications.mobilenet.MobileNet(weights='imagenet',\n",
        "                                                      include_top=True)\n",
        "    grid = explainer.explain(data, model, ['conv1'])\n",
        "    explainer.save(grid, 'files', name + 'activations.png')"
      ],
      "execution_count": 17,
      "outputs": []
    },
    {
      "cell_type": "markdown",
      "metadata": {
        "id": "FsByEbcQrNxS"
      },
      "source": [
        "Please donwload the folder ***files*** that was created."
      ]
    },
    {
      "cell_type": "code",
      "metadata": {
        "id": "qKfMcgYcsKCY",
        "outputId": "af652443-1ee4-48a6-9e72-d5b9e30eae9c",
        "colab": {
          "base_uri": "https://localhost:8080/",
          "height": 0
        }
      },
      "source": [
        "!cd /content\n",
        "# Zip the directory so that we can download it\n",
        "!zip -r /content/files.zip /content/files"
      ],
      "execution_count": 21,
      "outputs": [
        {
          "output_type": "stream",
          "text": [
            "updating: content/files/ (stored 0%)\n",
            "updating: content/files/catocclusion_sensitivity_10.png (deflated 0%)\n",
            "updating: content/files/catactivations.png (deflated 0%)\n",
            "updating: content/files/dogocclusion_sensitivity_10.png (deflated 0%)\n",
            "updating: content/files/doggrad_cam.png (deflated 0%)\n",
            "updating: content/files/catgrad_cam.png (deflated 0%)\n",
            "updating: content/files/catocclusion_sensitivity_20.png (deflated 0%)\n",
            "updating: content/files/dogocclusion_sensitivity_20.png (deflated 0%)\n",
            "updating: content/files/dogactivations.png (deflated 0%)\n"
          ],
          "name": "stdout"
        }
      ]
    },
    {
      "cell_type": "code",
      "metadata": {
        "id": "3wB6fs-V6e7a"
      },
      "source": [
        ""
      ],
      "execution_count": null,
      "outputs": []
    }
  ]
}