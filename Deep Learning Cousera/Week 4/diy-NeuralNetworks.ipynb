{
 "cells": [
  {
   "cell_type": "code",
   "execution_count": 1,
   "metadata": {},
   "outputs": [],
   "source": [
    "import numpy as np\n",
    "import matplotlib.pyplot as plt"
   ]
  },
  {
   "cell_type": "markdown",
   "metadata": {},
   "source": [
    "Inicialização de $W^{[l]}$ e $b^{[l]}$:"
   ]
  },
  {
   "cell_type": "code",
   "execution_count": 34,
   "metadata": {},
   "outputs": [],
   "source": [
    "def initialize_parameters(layers_dims):\n",
    "    params = {}\n",
    "    L = len(layers_dims)\n",
    "    \n",
    "    for l in range(1, len(layers_dims)):\n",
    "        params['W'+str(l)] = np.random.randn(layers_dims[l], layers_dims[l-1])*0.01\n",
    "        params['b'+str(l)] = np.zeros((layers_dims[l], 1))\n",
    "        \n",
    "        assert(params['W'+str(l)].shape == (layers_dims[l], layers_dims[l-1]))\n",
    "        assert(params['b'+str(l)].shape == (layers_dims[l], 1))\n",
    "        \n",
    "    return params"
   ]
  },
  {
   "cell_type": "code",
   "execution_count": 39,
   "metadata": {},
   "outputs": [
    {
     "name": "stdout",
     "output_type": "stream",
     "text": [
      "dict_keys(['W1', 'b1', 'W2', 'b2', 'W3', 'b3', 'W4', 'b4', 'W5', 'b5'])\n"
     ]
    },
    {
     "data": {
      "text/plain": [
       "array([[ 0.00372363,  0.00134813],\n",
       "       [ 0.00341422, -0.01072903],\n",
       "       [ 0.0159142 ,  0.00122497],\n",
       "       [-0.0056558 ,  0.01278569],\n",
       "       [ 0.00178571,  0.00576725]])"
      ]
     },
     "execution_count": 39,
     "metadata": {},
     "output_type": "execute_result"
    }
   ],
   "source": [
    "a = initialize_parameters([2, 5, 7, 10, 3, 1])\n",
    "print(a.keys())\n",
    "a['W1']"
   ]
  },
  {
   "cell_type": "markdown",
   "metadata": {},
   "source": [
    "Forward propagation:\n",
    "\n",
    "$Z^{[l]} = W^{[l]}A^{[l-1]} + b^{[l]}$\n",
    "\n",
    "$A^{[l]} = g^{[l]}(Z^{[l]})$"
   ]
  },
  {
   "cell_type": "code",
   "execution_count": 36,
   "metadata": {},
   "outputs": [],
   "source": [
    "def sigmoid(Z):\n",
    "    A = 1/(1+np.exp(-Z))\n",
    "    cache = Z\n",
    "    return A, cache\n",
    "\n",
    "def relu(Z):\n",
    "    A = np.maximum(0,Z)\n",
    "    cache = A\n",
    "    return A, cache\n",
    "    \n",
    "def linear_forward(A_prev, W, b):\n",
    "    Z = np.dot(W, A_prev) + b\n",
    "    linear_cache = (W, b)\n",
    "    return Z, linear_cache\n",
    "    \n",
    "def linear_activation_forward(A_prev, W, b, activation):\n",
    "    Z, linear_cache = linear_forward(A_prev, W, b)\n",
    "    if activation == 'relu':\n",
    "        A, activation_cache = relu(Z)\n",
    "    elif activation == 'sigmoid':\n",
    "        A, activation_cache = sigmoid(Z)\n",
    "    caches = (linear_cache, activation_cache)\n",
    "    return A, caches\n",
    "\n",
    "def forward prop(X, parameters):\n",
    "    L = len(parameters)//2\n",
    "    \n",
    "    caches = []\n",
    "\n",
    "    A_prev = linear_activation_forward(X, W, b)\n",
    "    for l in range(1, L):\n",
    "        A = linear_activation_forward(A_prev)\n",
    "        parameters['W'+str(l)] = \n",
    "        "
   ]
  },
  {
   "cell_type": "markdown",
   "metadata": {},
   "source": []
  },
  {
   "cell_type": "code",
   "execution_count": null,
   "metadata": {},
   "outputs": [],
   "source": [
    "\n",
    "\n",
    "    "
   ]
  },
  {
   "cell_type": "code",
   "execution_count": 35,
   "metadata": {},
   "outputs": [
    {
     "name": "stdout",
     "output_type": "stream",
     "text": [
      "dict_keys(['W1', 'b1', 'W2', 'b2', 'W3', 'b3', 'W4', 'b4', 'W5', 'b5'])\n"
     ]
    },
    {
     "data": {
      "text/plain": [
       "array([[ 0.00866337,  0.00146317],\n",
       "       [-0.00783914,  0.00665355],\n",
       "       [ 0.00364407, -0.01789996],\n",
       "       [ 0.00931285, -0.0014505 ],\n",
       "       [-0.00202853,  0.01435842]])"
      ]
     },
     "execution_count": 35,
     "metadata": {},
     "output_type": "execute_result"
    }
   ],
   "source": []
  },
  {
   "cell_type": "code",
   "execution_count": null,
   "metadata": {},
   "outputs": [],
   "source": [
    "de"
   ]
  }
 ],
 "metadata": {
  "kernelspec": {
   "display_name": "Python 3",
   "language": "python",
   "name": "python3"
  },
  "language_info": {
   "codemirror_mode": {
    "name": "ipython",
    "version": 3
   },
   "file_extension": ".py",
   "mimetype": "text/x-python",
   "name": "python",
   "nbconvert_exporter": "python",
   "pygments_lexer": "ipython3",
   "version": "3.7.7"
  }
 },
 "nbformat": 4,
 "nbformat_minor": 4
}
