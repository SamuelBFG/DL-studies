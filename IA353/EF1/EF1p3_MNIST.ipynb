{
  "nbformat": 4,
  "nbformat_minor": 0,
  "metadata": {
    "colab": {
      "name": "EFp3_MNIST.ipynb",
      "provenance": [],
      "collapsed_sections": [],
      "toc_visible": true,
      "authorship_tag": "ABX9TyN097uR+dKICp5gOKZVQLb1",
      "include_colab_link": true
    },
    "kernelspec": {
      "display_name": "Python 3",
      "name": "python3"
    },
    "language_info": {
      "name": "python"
    },
    "accelerator": "GPU"
  },
  "cells": [
    {
      "cell_type": "markdown",
      "metadata": {
        "id": "view-in-github",
        "colab_type": "text"
      },
      "source": [
        "<a href=\"https://colab.research.google.com/github/SamuelBFG/DL-studies/blob/master/IA353/EFp3_MNIST.ipynb\" target=\"_parent\"><img src=\"https://colab.research.google.com/assets/colab-badge.svg\" alt=\"Open In Colab\"/></a>"
      ]
    },
    {
      "cell_type": "markdown",
      "metadata": {
        "id": "-Bp77V0rAyek"
      },
      "source": [
        "# Baseline"
      ]
    },
    {
      "cell_type": "code",
      "metadata": {
        "id": "dcUIquLq_deb"
      },
      "source": [
        "import tensorflow as tf\n",
        "import os\n",
        "import matplotlib.pyplot as plt\n",
        "from keras.optimizers import Adam"
      ],
      "execution_count": 1,
      "outputs": []
    },
    {
      "cell_type": "code",
      "metadata": {
        "id": "d2lbE3oX_jIX"
      },
      "source": [
        "mnist = tf.keras.datasets.mnist\n",
        "(x_train, y_train),(x_test, y_test) = mnist.load_data()\n",
        "x_train, x_test = x_train / 255.0, x_test / 255.0"
      ],
      "execution_count": 2,
      "outputs": []
    },
    {
      "cell_type": "code",
      "metadata": {
        "id": "sdHZwO_RAwk5"
      },
      "source": [
        "model = tf.keras.models.Sequential([\n",
        " tf.keras.layers.Flatten(),\n",
        " tf.keras.layers.Dense(512, activation=tf.nn.relu),\n",
        " tf.keras.layers.Dropout(0.5),\n",
        " tf.keras.layers.Dense(10, activation=tf.nn.softmax)\n",
        "])\n",
        "\n",
        "model.compile(optimizer='adam',\n",
        " loss='sparse_categorical_crossentropy',\n",
        " metrics=['accuracy'])"
      ],
      "execution_count": 3,
      "outputs": []
    },
    {
      "cell_type": "code",
      "metadata": {
        "colab": {
          "base_uri": "https://localhost:8080/"
        },
        "id": "5K6GfIgGGDTz",
        "outputId": "46ef097b-a280-4832-de39-f6911ca197e0"
      },
      "source": [
        "model.fit(x_train, y_train, epochs=5)"
      ],
      "execution_count": 4,
      "outputs": [
        {
          "output_type": "stream",
          "text": [
            "Epoch 1/5\n",
            "1875/1875 [==============================] - 3s 2ms/step - loss: 0.4334 - accuracy: 0.8680\n",
            "Epoch 2/5\n",
            "1875/1875 [==============================] - 3s 2ms/step - loss: 0.1432 - accuracy: 0.9561\n",
            "Epoch 3/5\n",
            "1875/1875 [==============================] - 3s 2ms/step - loss: 0.1106 - accuracy: 0.9665\n",
            "Epoch 4/5\n",
            "1875/1875 [==============================] - 3s 2ms/step - loss: 0.0938 - accuracy: 0.9701\n",
            "Epoch 5/5\n",
            "1875/1875 [==============================] - 3s 1ms/step - loss: 0.0818 - accuracy: 0.9742\n"
          ],
          "name": "stdout"
        },
        {
          "output_type": "execute_result",
          "data": {
            "text/plain": [
              "<tensorflow.python.keras.callbacks.History at 0x7fdd45113710>"
            ]
          },
          "metadata": {
            "tags": []
          },
          "execution_count": 4
        }
      ]
    },
    {
      "cell_type": "markdown",
      "metadata": {
        "id": "nGBI5vJjG7pK"
      },
      "source": [
        "## Test Accuracy"
      ]
    },
    {
      "cell_type": "code",
      "metadata": {
        "colab": {
          "base_uri": "https://localhost:8080/"
        },
        "id": "THGj-ttHGDo5",
        "outputId": "67a438af-00c5-4307-e4e8-ec2a9b833d72"
      },
      "source": [
        "model.evaluate(x_test, y_test)"
      ],
      "execution_count": 5,
      "outputs": [
        {
          "output_type": "stream",
          "text": [
            "313/313 [==============================] - 1s 2ms/step - loss: 0.0666 - accuracy: 0.9796\n"
          ],
          "name": "stdout"
        },
        {
          "output_type": "execute_result",
          "data": {
            "text/plain": [
              "[0.06658422201871872, 0.9796000123023987]"
            ]
          },
          "metadata": {
            "tags": []
          },
          "execution_count": 5
        }
      ]
    },
    {
      "cell_type": "markdown",
      "metadata": {
        "id": "xyqN_JotRWSS"
      },
      "source": [
        "## Working with multiple executions to stabilize results"
      ]
    },
    {
      "cell_type": "code",
      "metadata": {
        "colab": {
          "base_uri": "https://localhost:8080/"
        },
        "id": "4DL0e5mWGGwV",
        "outputId": "313a1127-2407-42f2-d021-1ea6701ffd51"
      },
      "source": [
        "executions = 5\n",
        "histories = []\n",
        "evaluations = []\n",
        "\n",
        "for i in range(executions):\n",
        "  model = tf.keras.models.Sequential([\n",
        "                                      tf.keras.layers.Flatten(),\n",
        "                                      tf.keras.layers.Dense(512, activation=tf.nn.relu),\n",
        "                                      tf.keras.layers.Dropout(0.5),\n",
        "                                      tf.keras.layers.Dense(10, activation=tf.nn.softmax)\n",
        "                                      ])\n",
        "  \n",
        "  print('## Training model number: ', i+1)\n",
        "\n",
        "  model.compile(optimizer='adam',\n",
        "                      loss='sparse_categorical_crossentropy',\n",
        "                      metrics=['accuracy'])\n",
        "  \n",
        "  histories.append(model.fit(x_train, y_train, epochs=5, verbose=0))\n",
        "\n",
        "  print('#• Test set:')\n",
        "  evaluations.append(model.evaluate(x_test, y_test))\n",
        "  print('\\n')"
      ],
      "execution_count": 6,
      "outputs": [
        {
          "output_type": "stream",
          "text": [
            "## Training model number:  1\n",
            "#• Test set:\n",
            "313/313 [==============================] - 1s 1ms/step - loss: 0.0714 - accuracy: 0.9793\n",
            "\n",
            "\n",
            "## Training model number:  2\n",
            "#• Test set:\n",
            "313/313 [==============================] - 1s 2ms/step - loss: 0.0679 - accuracy: 0.9798\n",
            "\n",
            "\n",
            "## Training model number:  3\n",
            "#• Test set:\n",
            "313/313 [==============================] - 1s 1ms/step - loss: 0.0728 - accuracy: 0.9779\n",
            "\n",
            "\n",
            "## Training model number:  4\n",
            "#• Test set:\n",
            "313/313 [==============================] - 1s 2ms/step - loss: 0.0660 - accuracy: 0.9809\n",
            "\n",
            "\n",
            "## Training model number:  5\n",
            "#• Test set:\n",
            "313/313 [==============================] - 1s 1ms/step - loss: 0.0725 - accuracy: 0.9778\n",
            "\n",
            "\n"
          ],
          "name": "stdout"
        }
      ]
    },
    {
      "cell_type": "code",
      "metadata": {
        "colab": {
          "base_uri": "https://localhost:8080/"
        },
        "id": "AnZ8feo5R5yL",
        "outputId": "21b742a7-8437-4726-a84f-66411f8aeb52"
      },
      "source": [
        "histories[0].history.keys()"
      ],
      "execution_count": 7,
      "outputs": [
        {
          "output_type": "execute_result",
          "data": {
            "text/plain": [
              "dict_keys(['loss', 'accuracy'])"
            ]
          },
          "metadata": {
            "tags": []
          },
          "execution_count": 7
        }
      ]
    },
    {
      "cell_type": "code",
      "metadata": {
        "colab": {
          "base_uri": "https://localhost:8080/",
          "height": 404
        },
        "id": "enTh77-JR8uX",
        "outputId": "777fdf66-fdd3-455c-e2a2-5737e9ad8a51"
      },
      "source": [
        "plt.figure(figsize=(8, 6))  \n",
        "plt.xlabel('epochs')\n",
        "plt.ylabel('Error')\n",
        "plt.title('Training Loss')\n",
        "for i in range(executions):\n",
        "  plt.plot(histories[i].history['loss'])\n",
        "plt.show()"
      ],
      "execution_count": 8,
      "outputs": [
        {
          "output_type": "display_data",
          "data": {
            "image/png": "[encoded data removed]",
            "text/plain": [
              "<Figure size 576x432 with 1 Axes>"
            ]
          },
          "metadata": {
            "tags": [],
            "needs_background": "light"
          }
        }
      ]
    },
    {
      "cell_type": "code",
      "metadata": {
        "colab": {
          "base_uri": "https://localhost:8080/"
        },
        "id": "ZN1D5CmGSKA2",
        "outputId": "fec662e6-887a-4e8e-a403-c4a3c402dc70"
      },
      "source": [
        "histories[-1].history['accuracy'] # Last training acc log per epochs"
      ],
      "execution_count": 9,
      "outputs": [
        {
          "output_type": "execute_result",
          "data": {
            "text/plain": [
              "[0.918483316898346,\n",
              " 0.9578999876976013,\n",
              " 0.9666333198547363,\n",
              " 0.9712333083152771,\n",
              " 0.9740166664123535]"
            ]
          },
          "metadata": {
            "tags": []
          },
          "execution_count": 9
        }
      ]
    },
    {
      "cell_type": "code",
      "metadata": {
        "colab": {
          "base_uri": "https://localhost:8080/"
        },
        "id": "QA2IxweESLeM",
        "outputId": "4fa8c1d9-d299-4472-eb02-24223a59d5ba"
      },
      "source": [
        "evaluations[0] # Loss and acc for the first model (LIST)"
      ],
      "execution_count": 10,
      "outputs": [
        {
          "output_type": "execute_result",
          "data": {
            "text/plain": [
              "[0.07141365855932236, 0.9793000221252441]"
            ]
          },
          "metadata": {
            "tags": []
          },
          "execution_count": 10
        }
      ]
    },
    {
      "cell_type": "code",
      "metadata": {
        "colab": {
          "base_uri": "https://localhost:8080/"
        },
        "id": "RQIo-1UsSM1G",
        "outputId": "b9333a4e-86e2-4bea-8162-34a5609b2a23"
      },
      "source": [
        "acc_val = []\n",
        "acc_test = []\n",
        "\n",
        "for i in range(executions):\n",
        "  acc_val.append(sum(histories[i].history['accuracy']) / len(histories[i].history['accuracy']))\n",
        "  acc_test.append(evaluations[i][1])\n",
        "\n",
        "acc_val"
      ],
      "execution_count": 11,
      "outputs": [
        {
          "output_type": "execute_result",
          "data": {
            "text/plain": [
              "[0.9572099924087525,\n",
              " 0.9574733257293702,\n",
              " 0.9575533270835876,\n",
              " 0.9583866715431213,\n",
              " 0.9576533198356628]"
            ]
          },
          "metadata": {
            "tags": []
          },
          "execution_count": 11
        }
      ]
    },
    {
      "cell_type": "code",
      "metadata": {
        "colab": {
          "base_uri": "https://localhost:8080/"
        },
        "id": "oo2CnEknSOYH",
        "outputId": "007dbcce-ee22-4213-cb2c-8eaaa993bad7"
      },
      "source": [
        "acc_test"
      ],
      "execution_count": 12,
      "outputs": [
        {
          "output_type": "execute_result",
          "data": {
            "text/plain": [
              "[0.9793000221252441,\n",
              " 0.9797999858856201,\n",
              " 0.9779000282287598,\n",
              " 0.98089998960495,\n",
              " 0.9778000116348267]"
            ]
          },
          "metadata": {
            "tags": []
          },
          "execution_count": 12
        }
      ]
    },
    {
      "cell_type": "markdown",
      "metadata": {
        "id": "nJO22ix6SYKQ"
      },
      "source": [
        "### Average validation accuracy (training set)"
      ]
    },
    {
      "cell_type": "code",
      "metadata": {
        "colab": {
          "base_uri": "https://localhost:8080/"
        },
        "id": "qkV-5z9GSP4A",
        "outputId": "0bad0a3c-4e1c-43a7-d927-5d1d9c21fbf9"
      },
      "source": [
        "avg_acc_val = sum(acc_val)/len(acc_val)\n",
        "avg_acc_val"
      ],
      "execution_count": 13,
      "outputs": [
        {
          "output_type": "execute_result",
          "data": {
            "text/plain": [
              "0.9576553273200987"
            ]
          },
          "metadata": {
            "tags": []
          },
          "execution_count": 13
        }
      ]
    },
    {
      "cell_type": "markdown",
      "metadata": {
        "id": "hZreH7pnSTZD"
      },
      "source": [
        "### Average test accuracy"
      ]
    },
    {
      "cell_type": "code",
      "metadata": {
        "colab": {
          "base_uri": "https://localhost:8080/"
        },
        "id": "CzNJjdEzSR3B",
        "outputId": "203ec06e-d335-4355-de65-6c0503d1b4d9"
      },
      "source": [
        "avg_acc_test = sum(acc_test)/len(acc_test)\n",
        "avg_acc_test"
      ],
      "execution_count": 14,
      "outputs": [
        {
          "output_type": "execute_result",
          "data": {
            "text/plain": [
              "0.9791400074958801"
            ]
          },
          "metadata": {
            "tags": []
          },
          "execution_count": 14
        }
      ]
    },
    {
      "cell_type": "markdown",
      "metadata": {
        "id": "aSoQFOZvbeEl"
      },
      "source": [
        "## Kfold Cross-Validation"
      ]
    },
    {
      "cell_type": "code",
      "metadata": {
        "id": "8A6h9U9obdxm"
      },
      "source": [
        "mnist = tf.keras.datasets.mnist\n",
        "(x_train, y_train),(x_test, y_test) = mnist.load_data()\n",
        "x_train, x_test = x_train / 255.0, x_test / 255.0"
      ],
      "execution_count": 15,
      "outputs": []
    },
    {
      "cell_type": "code",
      "metadata": {
        "colab": {
          "base_uri": "https://localhost:8080/"
        },
        "id": "O3Jbbxb-brNQ",
        "outputId": "dc615fdd-6cfb-4818-c7eb-7a2ee440ddd2"
      },
      "source": [
        "from sklearn.model_selection import KFold\n",
        "import numpy as np\n",
        "from sklearn.model_selection import train_test_split\n",
        "\n",
        "# Define per-fold score containers\n",
        "acc_per_fold = []\n",
        "loss_per_fold = []\n",
        "num_folds = 10\n",
        "\n",
        "\n",
        "train_data, train_data_val, train_labels, train_labels_val = train_test_split(x_train, y_train, test_size = 0.2)\n",
        "inputs = np.concatenate((train_data, train_data_val), axis=0)\n",
        "targets = np.concatenate((train_labels, train_labels_val), axis=0)\n",
        "\n",
        "kfold = KFold(n_splits=num_folds, shuffle=True)\n",
        "\n",
        "# K-fold Cross Validation model evaluation\n",
        "fold_no = 1\n",
        "\n",
        "for train, test in kfold.split(inputs, targets):\n",
        "  model = tf.keras.models.Sequential([\n",
        "                                      tf.keras.layers.Flatten(),\n",
        "                                      tf.keras.layers.Dense(512, activation=tf.nn.relu),\n",
        "                                      tf.keras.layers.Dropout(0.5),\n",
        "                                      tf.keras.layers.Dense(10, activation=tf.nn.softmax)\n",
        "                                      ])\n",
        "  \n",
        "  model.compile(optimizer='adam',\n",
        "                loss='sparse_categorical_crossentropy',\n",
        "                metrics=['accuracy'])\n",
        "  \n",
        "  history = model.fit(inputs[train], targets[train],\n",
        "              batch_size=64,\n",
        "              epochs=5,\n",
        "              verbose=0)\n",
        "\n",
        "  # Generate generalization metrics\n",
        "  scores = model.evaluate(x_test, y_test, verbose=0)\n",
        "  print(f'Score for fold {fold_no}: {model.metrics_names[0]} of {scores[0]}; {model.metrics_names[1]} of {scores[1]*100}%')\n",
        "  acc_per_fold.append(scores[1] * 100)\n",
        "  loss_per_fold.append(scores[0])\n",
        "\n",
        "  fold_no = fold_no + 1\n",
        "\n",
        "\n",
        "# == Provide average scores ==\n",
        "print('------------------------------------------------------------------------')\n",
        "print('Score per fold')\n",
        "for i in range(0, len(acc_per_fold)):\n",
        "  print('------------------------------------------------------------------------')\n",
        "  print(f'> Fold {i+1} - Loss: {loss_per_fold[i]} - Accuracy: {acc_per_fold[i]}%')\n",
        "print('------------------------------------------------------------------------')\n",
        "print('Average scores for all folds:')\n",
        "print(f'> Accuracy: {np.mean(acc_per_fold)} (+- {np.std(acc_per_fold)})')\n",
        "print(f'> Loss: {np.mean(loss_per_fold)}')\n",
        "print('------------------------------------------------------------------------')"
      ],
      "execution_count": 16,
      "outputs": [
        {
          "output_type": "stream",
          "text": [
            "Score for fold 1: loss of 0.06793808192014694; accuracy of 97.85000085830688%\n",
            "Score for fold 2: loss of 0.07046012580394745; accuracy of 97.89000153541565%\n",
            "Score for fold 3: loss of 0.07563810795545578; accuracy of 97.7400004863739%\n",
            "Score for fold 4: loss of 0.07179751247167587; accuracy of 97.79000282287598%\n",
            "Score for fold 5: loss of 0.07158935815095901; accuracy of 97.9200005531311%\n",
            "Score for fold 6: loss of 0.06697253882884979; accuracy of 97.97999858856201%\n",
            "Score for fold 7: loss of 0.06829292327165604; accuracy of 97.83999919891357%\n",
            "Score for fold 8: loss of 0.06567429006099701; accuracy of 98.00000190734863%\n",
            "Score for fold 9: loss of 0.07027006894350052; accuracy of 97.79000282287598%\n",
            "Score for fold 10: loss of 0.0690060704946518; accuracy of 97.89999723434448%\n",
            "------------------------------------------------------------------------\n",
            "Score per fold\n",
            "------------------------------------------------------------------------\n",
            "> Fold 1 - Loss: 0.06793808192014694 - Accuracy: 97.85000085830688%\n",
            "------------------------------------------------------------------------\n",
            "> Fold 2 - Loss: 0.07046012580394745 - Accuracy: 97.89000153541565%\n",
            "------------------------------------------------------------------------\n",
            "> Fold 3 - Loss: 0.07563810795545578 - Accuracy: 97.7400004863739%\n",
            "------------------------------------------------------------------------\n",
            "> Fold 4 - Loss: 0.07179751247167587 - Accuracy: 97.79000282287598%\n",
            "------------------------------------------------------------------------\n",
            "> Fold 5 - Loss: 0.07158935815095901 - Accuracy: 97.9200005531311%\n",
            "------------------------------------------------------------------------\n",
            "> Fold 6 - Loss: 0.06697253882884979 - Accuracy: 97.97999858856201%\n",
            "------------------------------------------------------------------------\n",
            "> Fold 7 - Loss: 0.06829292327165604 - Accuracy: 97.83999919891357%\n",
            "------------------------------------------------------------------------\n",
            "> Fold 8 - Loss: 0.06567429006099701 - Accuracy: 98.00000190734863%\n",
            "------------------------------------------------------------------------\n",
            "> Fold 9 - Loss: 0.07027006894350052 - Accuracy: 97.79000282287598%\n",
            "------------------------------------------------------------------------\n",
            "> Fold 10 - Loss: 0.0690060704946518 - Accuracy: 97.89999723434448%\n",
            "------------------------------------------------------------------------\n",
            "Average scores for all folds:\n",
            "> Accuracy: 97.87000060081482 (+- 0.07987435143396195)\n",
            "> Loss: 0.06976390779018402\n",
            "------------------------------------------------------------------------\n"
          ],
          "name": "stdout"
        }
      ]
    },
    {
      "cell_type": "markdown",
      "metadata": {
        "id": "5NUlrB--TM96"
      },
      "source": [
        "# Modified Model"
      ]
    },
    {
      "cell_type": "markdown",
      "metadata": {
        "id": "DqAYGTmOqJbM"
      },
      "source": [
        "#### Add a layer"
      ]
    },
    {
      "cell_type": "code",
      "metadata": {
        "id": "4iq6E9_Q-OJ4"
      },
      "source": [
        "mnist = tf.keras.datasets.mnist\n",
        "(x_train, y_train),(x_test, y_test) = mnist.load_data()\n",
        "x_train, x_test = x_train / 255.0, x_test / 255.0"
      ],
      "execution_count": 17,
      "outputs": []
    },
    {
      "cell_type": "code",
      "metadata": {
        "colab": {
          "base_uri": "https://localhost:8080/"
        },
        "id": "JGz_RWgM-S2W",
        "outputId": "107e7b3d-5373-43fe-d632-7671847abb39"
      },
      "source": [
        "train_data, train_data_val, train_labels, train_labels_val = train_test_split(x_train, y_train, test_size = 0.2)\n",
        "\n",
        "model = tf.keras.models.Sequential([\n",
        " tf.keras.layers.Flatten(),\n",
        " tf.keras.layers.Dense(512, activation=tf.nn.relu),\n",
        " tf.keras.layers.Dropout(0.5),\n",
        " tf.keras.layers.Dense(512, activation=tf.nn.relu),\n",
        " tf.keras.layers.Dense(10, activation=tf.nn.softmax)\n",
        "])\n",
        "\n",
        "model.compile(optimizer = Adam(lr=0.001),\n",
        " loss='sparse_categorical_crossentropy',\n",
        " metrics=['accuracy'])\n",
        "\n",
        "history = model.fit(train_data, train_labels, epochs=8, batch_size=64, validation_data = (train_data_val, train_labels_val), verbose = 2)"
      ],
      "execution_count": 18,
      "outputs": [
        {
          "output_type": "stream",
          "text": [
            "Epoch 1/8\n",
            "750/750 - 2s - loss: 0.2966 - accuracy: 0.9096 - val_loss: 0.1320 - val_accuracy: 0.9595\n",
            "Epoch 2/8\n",
            "750/750 - 1s - loss: 0.1501 - accuracy: 0.9531 - val_loss: 0.1066 - val_accuracy: 0.9678\n",
            "Epoch 3/8\n",
            "750/750 - 1s - loss: 0.1184 - accuracy: 0.9629 - val_loss: 0.0905 - val_accuracy: 0.9733\n",
            "Epoch 4/8\n",
            "750/750 - 1s - loss: 0.1019 - accuracy: 0.9679 - val_loss: 0.0809 - val_accuracy: 0.9761\n",
            "Epoch 5/8\n",
            "750/750 - 1s - loss: 0.0927 - accuracy: 0.9710 - val_loss: 0.0800 - val_accuracy: 0.9766\n",
            "Epoch 6/8\n",
            "750/750 - 1s - loss: 0.0806 - accuracy: 0.9749 - val_loss: 0.0708 - val_accuracy: 0.9792\n",
            "Epoch 7/8\n",
            "750/750 - 1s - loss: 0.0744 - accuracy: 0.9767 - val_loss: 0.0703 - val_accuracy: 0.9798\n",
            "Epoch 8/8\n",
            "750/750 - 1s - loss: 0.0687 - accuracy: 0.9780 - val_loss: 0.0712 - val_accuracy: 0.9787\n"
          ],
          "name": "stdout"
        }
      ]
    },
    {
      "cell_type": "code",
      "metadata": {
        "colab": {
          "base_uri": "https://localhost:8080/"
        },
        "id": "MGTWcuQd_p6Q",
        "outputId": "04382b65-b1e3-4edc-84dd-fae405de1640"
      },
      "source": [
        "model.evaluate(x_test, y_test)"
      ],
      "execution_count": 19,
      "outputs": [
        {
          "output_type": "stream",
          "text": [
            "313/313 [==============================] - 0s 2ms/step - loss: 0.0643 - accuracy: 0.9805\n"
          ],
          "name": "stdout"
        },
        {
          "output_type": "execute_result",
          "data": {
            "text/plain": [
              "[0.06425432860851288, 0.9804999828338623]"
            ]
          },
          "metadata": {
            "tags": []
          },
          "execution_count": 19
        }
      ]
    },
    {
      "cell_type": "code",
      "metadata": {
        "colab": {
          "base_uri": "https://localhost:8080/",
          "height": 404
        },
        "id": "4q4kkwWs_uOs",
        "outputId": "98edc1c2-9cac-45be-a7cd-eacccdbb43cb"
      },
      "source": [
        "plt.figure(figsize=(8, 6))  \n",
        "plt.plot(history.history['loss'], color='b')\n",
        "plt.plot(history.history['val_loss'], color='r')\n",
        "plt.title('Loss')\n",
        "plt.xlabel('epochs')\n",
        "plt.ylabel('Error')\n",
        "plt.legend(('Training Loss', 'Validation Loss'))\n",
        "plt.show()"
      ],
      "execution_count": 20,
      "outputs": [
        {
          "output_type": "display_data",
          "data": {
            "image/png": "[encoded data removed]",
            "text/plain": [
              "<Figure size 576x432 with 1 Axes>"
            ]
          },
          "metadata": {
            "tags": [],
            "needs_background": "light"
          }
        }
      ]
    },
    {
      "cell_type": "markdown",
      "metadata": {
        "id": "zcVwlxnADbTL"
      },
      "source": [
        "#### Only one layer"
      ]
    },
    {
      "cell_type": "code",
      "metadata": {
        "id": "YvPuBPB5Dd11"
      },
      "source": [
        "mnist = tf.keras.datasets.mnist\n",
        "(x_train, y_train),(x_test, y_test) = mnist.load_data()\n",
        "x_train, x_test = x_train / 255.0, x_test / 255.0"
      ],
      "execution_count": 21,
      "outputs": []
    },
    {
      "cell_type": "code",
      "metadata": {
        "colab": {
          "base_uri": "https://localhost:8080/"
        },
        "id": "sgpPEw4FDd12",
        "outputId": "676e1efb-5c54-4c3c-9a16-a1b1ddf6ab1e"
      },
      "source": [
        "train_data, train_data_val, train_labels, train_labels_val = train_test_split(x_train, y_train, test_size = 0.2)\n",
        "\n",
        "model = tf.keras.models.Sequential([\n",
        " tf.keras.layers.Flatten(),\n",
        " tf.keras.layers.Dense(1024, activation=tf.nn.relu),\n",
        " tf.keras.layers.Dropout(0.5),\n",
        " tf.keras.layers.Dense(10, activation=tf.nn.softmax)\n",
        "])\n",
        "\n",
        "model.compile(optimizer = Adam(lr=0.001),\n",
        " loss='sparse_categorical_crossentropy',\n",
        " metrics=['accuracy'])\n",
        "\n",
        "history = model.fit(train_data, train_labels, epochs=8, batch_size=64, validation_data = (train_data_val, train_labels_val), verbose = 2)"
      ],
      "execution_count": 22,
      "outputs": [
        {
          "output_type": "stream",
          "text": [
            "Epoch 1/8\n",
            "750/750 - 1s - loss: 0.2810 - accuracy: 0.9156 - val_loss: 0.1362 - val_accuracy: 0.9605\n",
            "Epoch 2/8\n",
            "750/750 - 1s - loss: 0.1349 - accuracy: 0.9592 - val_loss: 0.1000 - val_accuracy: 0.9708\n",
            "Epoch 3/8\n",
            "750/750 - 1s - loss: 0.0986 - accuracy: 0.9696 - val_loss: 0.0881 - val_accuracy: 0.9743\n",
            "Epoch 4/8\n",
            "750/750 - 1s - loss: 0.0794 - accuracy: 0.9756 - val_loss: 0.0905 - val_accuracy: 0.9727\n",
            "Epoch 5/8\n",
            "750/750 - 1s - loss: 0.0677 - accuracy: 0.9777 - val_loss: 0.0810 - val_accuracy: 0.9771\n",
            "Epoch 6/8\n",
            "750/750 - 1s - loss: 0.0619 - accuracy: 0.9800 - val_loss: 0.0738 - val_accuracy: 0.9805\n",
            "Epoch 7/8\n",
            "750/750 - 1s - loss: 0.0534 - accuracy: 0.9825 - val_loss: 0.0771 - val_accuracy: 0.9785\n",
            "Epoch 8/8\n",
            "750/750 - 1s - loss: 0.0471 - accuracy: 0.9840 - val_loss: 0.0796 - val_accuracy: 0.9792\n"
          ],
          "name": "stdout"
        }
      ]
    },
    {
      "cell_type": "code",
      "metadata": {
        "colab": {
          "base_uri": "https://localhost:8080/"
        },
        "id": "6WvJzzrCDd13",
        "outputId": "d951f5af-74df-41ce-ea0e-9b2a1dd322a9"
      },
      "source": [
        "model.evaluate(x_test, y_test)"
      ],
      "execution_count": 23,
      "outputs": [
        {
          "output_type": "stream",
          "text": [
            "313/313 [==============================] - 0s 2ms/step - loss: 0.0654 - accuracy: 0.9814\n"
          ],
          "name": "stdout"
        },
        {
          "output_type": "execute_result",
          "data": {
            "text/plain": [
              "[0.06541715562343597, 0.9814000129699707]"
            ]
          },
          "metadata": {
            "tags": []
          },
          "execution_count": 23
        }
      ]
    },
    {
      "cell_type": "code",
      "metadata": {
        "colab": {
          "base_uri": "https://localhost:8080/",
          "height": 404
        },
        "id": "PRp6Rt3YDd13",
        "outputId": "ffeba7e8-84e9-4753-b4d5-16b12cade9fd"
      },
      "source": [
        "plt.figure(figsize=(8, 6))  \n",
        "plt.plot(history.history['loss'], color='b')\n",
        "plt.plot(history.history['val_loss'], color='r')\n",
        "plt.title('Loss')\n",
        "plt.xlabel('epochs')\n",
        "plt.ylabel('Error')\n",
        "plt.legend(('Training Loss', 'Validation Loss'))\n",
        "plt.show()"
      ],
      "execution_count": 24,
      "outputs": [
        {
          "output_type": "display_data",
          "data": {
            "image/png": "[encoded data removed]",
            "text/plain": [
              "<Figure size 576x432 with 1 Axes>"
            ]
          },
          "metadata": {
            "tags": [],
            "needs_background": "light"
          }
        }
      ]
    },
    {
      "cell_type": "code",
      "metadata": {
        "colab": {
          "base_uri": "https://localhost:8080/"
        },
        "id": "I6CDpRJfkE7S",
        "outputId": "444120fc-dae5-45e1-b564-a355886be20d"
      },
      "source": [
        "from sklearn.model_selection import KFold\n",
        "import numpy as np\n",
        "from sklearn.model_selection import train_test_split\n",
        "\n",
        "# Define per-fold score containers\n",
        "acc_per_fold = []\n",
        "loss_per_fold = []\n",
        "num_folds = 10\n",
        "\n",
        "\n",
        "train_data, train_data_val, train_labels, train_labels_val = train_test_split(x_train, y_train, test_size = 0.2)\n",
        "inputs = np.concatenate((train_data, train_data_val), axis=0)\n",
        "targets = np.concatenate((train_labels, train_labels_val), axis=0)\n",
        "\n",
        "kfold = KFold(n_splits=num_folds, shuffle=True)\n",
        "\n",
        "# K-fold Cross Validation model evaluation\n",
        "fold_no = 1\n",
        "\n",
        "for train, test in kfold.split(inputs, targets):\n",
        "  model = tf.keras.models.Sequential([\n",
        "                                      tf.keras.layers.Flatten(),\n",
        "                                      tf.keras.layers.Dense(1024, activation=tf.nn.relu),\n",
        "                                      tf.keras.layers.Dropout(0.5),\n",
        "                                      tf.keras.layers.Dense(10, activation=tf.nn.softmax)\n",
        "                                      ])\n",
        "  \n",
        "  model.compile(optimizer = Adam(lr=0.001),\n",
        "                loss='sparse_categorical_crossentropy',\n",
        "                metrics=['accuracy'])\n",
        "  \n",
        "  history = model.fit(inputs[train], targets[train],\n",
        "              batch_size=64,\n",
        "              epochs=8,\n",
        "              verbose=0)\n",
        "\n",
        "  # Generate generalization metrics\n",
        "  scores = model.evaluate(x_test, y_test, verbose=0)\n",
        "  print(f'Score for fold {fold_no}: {model.metrics_names[0]} of {scores[0]}; {model.metrics_names[1]} of {scores[1]*100}%')\n",
        "  acc_per_fold.append(scores[1] * 100)\n",
        "  loss_per_fold.append(scores[0])\n",
        "\n",
        "  fold_no = fold_no + 1\n",
        "\n",
        "\n",
        "# == Provide average scores ==\n",
        "print('------------------------------------------------------------------------')\n",
        "print('Score per fold')\n",
        "for i in range(0, len(acc_per_fold)):\n",
        "  print('------------------------------------------------------------------------')\n",
        "  print(f'> Fold {i+1} - Loss: {loss_per_fold[i]} - Accuracy: {acc_per_fold[i]}%')\n",
        "print('------------------------------------------------------------------------')\n",
        "print('Average scores for all folds:')\n",
        "print(f'> Accuracy: {np.mean(acc_per_fold)} (+- {np.std(acc_per_fold)})')\n",
        "print(f'> Loss: {np.mean(loss_per_fold)}')\n",
        "print('------------------------------------------------------------------------')"
      ],
      "execution_count": 25,
      "outputs": [
        {
          "output_type": "stream",
          "text": [
            "Score for fold 1: loss of 0.06157814338803291; accuracy of 98.18999767303467%\n",
            "Score for fold 2: loss of 0.06248781830072403; accuracy of 98.03000092506409%\n",
            "Score for fold 3: loss of 0.061479613184928894; accuracy of 98.15999865531921%\n",
            "Score for fold 4: loss of 0.06530001759529114; accuracy of 98.19999933242798%\n",
            "Score for fold 5: loss of 0.06233282387256622; accuracy of 98.17000031471252%\n",
            "Score for fold 6: loss of 0.05789928138256073; accuracy of 98.19999933242798%\n",
            "Score for fold 7: loss of 0.060313548892736435; accuracy of 98.22999835014343%\n",
            "Score for fold 8: loss of 0.0624200813472271; accuracy of 98.12999963760376%\n",
            "Score for fold 9: loss of 0.06015358120203018; accuracy of 98.21000099182129%\n",
            "Score for fold 10: loss of 0.06263736635446548; accuracy of 98.089998960495%\n",
            "------------------------------------------------------------------------\n",
            "Score per fold\n",
            "------------------------------------------------------------------------\n",
            "> Fold 1 - Loss: 0.06157814338803291 - Accuracy: 98.18999767303467%\n",
            "------------------------------------------------------------------------\n",
            "> Fold 2 - Loss: 0.06248781830072403 - Accuracy: 98.03000092506409%\n",
            "------------------------------------------------------------------------\n",
            "> Fold 3 - Loss: 0.061479613184928894 - Accuracy: 98.15999865531921%\n",
            "------------------------------------------------------------------------\n",
            "> Fold 4 - Loss: 0.06530001759529114 - Accuracy: 98.19999933242798%\n",
            "------------------------------------------------------------------------\n",
            "> Fold 5 - Loss: 0.06233282387256622 - Accuracy: 98.17000031471252%\n",
            "------------------------------------------------------------------------\n",
            "> Fold 6 - Loss: 0.05789928138256073 - Accuracy: 98.19999933242798%\n",
            "------------------------------------------------------------------------\n",
            "> Fold 7 - Loss: 0.060313548892736435 - Accuracy: 98.22999835014343%\n",
            "------------------------------------------------------------------------\n",
            "> Fold 8 - Loss: 0.0624200813472271 - Accuracy: 98.12999963760376%\n",
            "------------------------------------------------------------------------\n",
            "> Fold 9 - Loss: 0.06015358120203018 - Accuracy: 98.21000099182129%\n",
            "------------------------------------------------------------------------\n",
            "> Fold 10 - Loss: 0.06263736635446548 - Accuracy: 98.089998960495%\n",
            "------------------------------------------------------------------------\n",
            "Average scores for all folds:\n",
            "> Accuracy: 98.16099941730499 (+- 0.05855729372957785)\n",
            "> Loss: 0.061660227552056315\n",
            "------------------------------------------------------------------------\n"
          ],
          "name": "stdout"
        }
      ]
    },
    {
      "cell_type": "markdown",
      "metadata": {
        "id": "s98cqK82qMif"
      },
      "source": [
        "#### Two hidden layers"
      ]
    },
    {
      "cell_type": "code",
      "metadata": {
        "colab": {
          "base_uri": "https://localhost:8080/"
        },
        "id": "sQuHao5_GjhA",
        "outputId": "efd2630a-4a9a-4596-9f19-f60cd412f06c"
      },
      "source": [
        "mnist = tf.keras.datasets.mnist\n",
        "(x_train, y_train),(x_test, y_test) = mnist.load_data()\n",
        "x_train, x_test = x_train / 255.0, x_test / 255.0\n",
        "\n",
        "model = tf.keras.models.Sequential([\n",
        " tf.keras.layers.Flatten(),\n",
        " tf.keras.layers.Dense(512, activation=tf.nn.relu),\n",
        " tf.keras.layers.Dropout(0.5),\n",
        " tf.keras.layers.Dense(512, activation=tf.nn.relu),\n",
        "#  tf.keras.layers.Dropout(0.5),\n",
        " tf.keras.layers.Dense(10, activation=tf.nn.softmax)\n",
        "])\n",
        "\n",
        "model.compile(optimizer = Adam(lr=0.001),\n",
        " loss='sparse_categorical_crossentropy',\n",
        " metrics=['accuracy'])\n",
        "\n",
        "history = model.fit(train_data, train_labels, epochs=10, batch_size=64, validation_data = (train_data_val, train_labels_val), verbose = 2)\n",
        "\n",
        "model.evaluate(x_test, y_test)"
      ],
      "execution_count": 26,
      "outputs": [
        {
          "output_type": "stream",
          "text": [
            "Epoch 1/10\n",
            "750/750 - 2s - loss: 0.2933 - accuracy: 0.9111 - val_loss: 0.1308 - val_accuracy: 0.9600\n",
            "Epoch 2/10\n",
            "750/750 - 1s - loss: 0.1501 - accuracy: 0.9529 - val_loss: 0.1147 - val_accuracy: 0.9665\n",
            "Epoch 3/10\n",
            "750/750 - 1s - loss: 0.1197 - accuracy: 0.9627 - val_loss: 0.0956 - val_accuracy: 0.9729\n",
            "Epoch 4/10\n",
            "750/750 - 1s - loss: 0.0996 - accuracy: 0.9693 - val_loss: 0.0880 - val_accuracy: 0.9730\n",
            "Epoch 5/10\n",
            "750/750 - 1s - loss: 0.0883 - accuracy: 0.9723 - val_loss: 0.0846 - val_accuracy: 0.9743\n",
            "Epoch 6/10\n",
            "750/750 - 1s - loss: 0.0796 - accuracy: 0.9744 - val_loss: 0.0834 - val_accuracy: 0.9759\n",
            "Epoch 7/10\n",
            "750/750 - 1s - loss: 0.0734 - accuracy: 0.9769 - val_loss: 0.0829 - val_accuracy: 0.9760\n",
            "Epoch 8/10\n",
            "750/750 - 1s - loss: 0.0659 - accuracy: 0.9789 - val_loss: 0.0873 - val_accuracy: 0.9740\n",
            "Epoch 9/10\n",
            "750/750 - 1s - loss: 0.0635 - accuracy: 0.9798 - val_loss: 0.0841 - val_accuracy: 0.9764\n",
            "Epoch 10/10\n",
            "750/750 - 1s - loss: 0.0589 - accuracy: 0.9813 - val_loss: 0.0825 - val_accuracy: 0.9783\n",
            "313/313 [==============================] - 1s 2ms/step - loss: 0.0731 - accuracy: 0.9802\n"
          ],
          "name": "stdout"
        },
        {
          "output_type": "execute_result",
          "data": {
            "text/plain": [
              "[0.07313905656337738, 0.9801999926567078]"
            ]
          },
          "metadata": {
            "tags": []
          },
          "execution_count": 26
        }
      ]
    },
    {
      "cell_type": "code",
      "metadata": {
        "colab": {
          "base_uri": "https://localhost:8080/",
          "height": 404
        },
        "id": "MkJEwnyYGpG3",
        "outputId": "346737b9-d75c-4468-9d55-02112cbc42ce"
      },
      "source": [
        "plt.figure(figsize=(8, 6))  \n",
        "plt.plot(history.history['loss'], color='b')\n",
        "plt.plot(history.history['val_loss'], color='r')\n",
        "plt.title('Loss')\n",
        "plt.xlabel('epochs')\n",
        "plt.ylabel('Error')\n",
        "plt.legend(('Training Loss', 'Validation Loss'))\n",
        "plt.show()"
      ],
      "execution_count": 27,
      "outputs": [
        {
          "output_type": "display_data",
          "data": {
            "image/png": "[encoded data removed]",
            "text/plain": [
              "<Figure size 576x432 with 1 Axes>"
            ]
          },
          "metadata": {
            "tags": [],
            "needs_background": "light"
          }
        }
      ]
    },
    {
      "cell_type": "code",
      "metadata": {
        "colab": {
          "base_uri": "https://localhost:8080/"
        },
        "id": "DoxoLADjgbcg",
        "outputId": "95f0fe40-154a-41c2-ffb2-ade5516432ac"
      },
      "source": [
        "from sklearn.model_selection import KFold\n",
        "import numpy as np\n",
        "from sklearn.model_selection import train_test_split\n",
        "\n",
        "# Define per-fold score containers\n",
        "acc_per_fold = []\n",
        "loss_per_fold = []\n",
        "num_folds = 10\n",
        "\n",
        "\n",
        "train_data, train_data_val, train_labels, train_labels_val = train_test_split(x_train, y_train, test_size = 0.2)\n",
        "inputs = np.concatenate((train_data, train_data_val), axis=0)\n",
        "targets = np.concatenate((train_labels, train_labels_val), axis=0)\n",
        "\n",
        "kfold = KFold(n_splits=num_folds, shuffle=True)\n",
        "\n",
        "# K-fold Cross Validation model evaluation\n",
        "fold_no = 1\n",
        "\n",
        "for train, test in kfold.split(inputs, targets):\n",
        "  model = tf.keras.models.Sequential([\n",
        "                                      tf.keras.layers.Flatten(),\n",
        "                                      tf.keras.layers.Dense(512, activation=tf.nn.relu),\n",
        "                                      tf.keras.layers.Dropout(0.5),\n",
        "                                      tf.keras.layers.Dense(512, activation=tf.nn.relu),\n",
        "                                      tf.keras.layers.Dense(10, activation=tf.nn.softmax)\n",
        "                                      ])\n",
        "  \n",
        "  model.compile(optimizer='adam',\n",
        "                loss='sparse_categorical_crossentropy',\n",
        "                metrics=['accuracy'])\n",
        "  \n",
        "  history = model.fit(inputs[train], targets[train],\n",
        "              batch_size=64,\n",
        "              epochs=10,\n",
        "              verbose=0)\n",
        "\n",
        "  # Generate generalization metrics\n",
        "  scores = model.evaluate(x_test, y_test, verbose=0)\n",
        "  print(f'Score for fold {fold_no}: {model.metrics_names[0]} of {scores[0]}; {model.metrics_names[1]} of {scores[1]*100}%')\n",
        "  acc_per_fold.append(scores[1] * 100)\n",
        "  loss_per_fold.append(scores[0])\n",
        "\n",
        "  fold_no = fold_no + 1\n",
        "\n",
        "\n",
        "# == Provide average scores ==\n",
        "print('------------------------------------------------------------------------')\n",
        "print('Score per fold')\n",
        "for i in range(0, len(acc_per_fold)):\n",
        "  print('------------------------------------------------------------------------')\n",
        "  print(f'> Fold {i+1} - Loss: {loss_per_fold[i]} - Accuracy: {acc_per_fold[i]}%')\n",
        "print('------------------------------------------------------------------------')\n",
        "print('Average scores for all folds:')\n",
        "print(f'> Accuracy: {np.mean(acc_per_fold)} (+- {np.std(acc_per_fold)})')\n",
        "print(f'> Loss: {np.mean(loss_per_fold)}')\n",
        "print('------------------------------------------------------------------------')"
      ],
      "execution_count": 28,
      "outputs": [
        {
          "output_type": "stream",
          "text": [
            "Score for fold 1: loss of 0.06641765683889389; accuracy of 98.05999994277954%\n",
            "Score for fold 2: loss of 0.06440671533346176; accuracy of 98.07999730110168%\n",
            "Score for fold 3: loss of 0.058618493378162384; accuracy of 98.30999970436096%\n",
            "Score for fold 4: loss of 0.0624227412045002; accuracy of 98.32000136375427%\n",
            "Score for fold 5: loss of 0.06228743866086006; accuracy of 98.11999797821045%\n",
            "Score for fold 6: loss of 0.06717237085103989; accuracy of 98.0400025844574%\n",
            "Score for fold 7: loss of 0.058532074093818665; accuracy of 98.24000000953674%\n",
            "Score for fold 8: loss of 0.06199812516570091; accuracy of 98.2699990272522%\n",
            "Score for fold 9: loss of 0.06738900393247604; accuracy of 97.97000288963318%\n",
            "Score for fold 10: loss of 0.07011814415454865; accuracy of 97.87999987602234%\n",
            "------------------------------------------------------------------------\n",
            "Score per fold\n",
            "------------------------------------------------------------------------\n",
            "> Fold 1 - Loss: 0.06641765683889389 - Accuracy: 98.05999994277954%\n",
            "------------------------------------------------------------------------\n",
            "> Fold 2 - Loss: 0.06440671533346176 - Accuracy: 98.07999730110168%\n",
            "------------------------------------------------------------------------\n",
            "> Fold 3 - Loss: 0.058618493378162384 - Accuracy: 98.30999970436096%\n",
            "------------------------------------------------------------------------\n",
            "> Fold 4 - Loss: 0.0624227412045002 - Accuracy: 98.32000136375427%\n",
            "------------------------------------------------------------------------\n",
            "> Fold 5 - Loss: 0.06228743866086006 - Accuracy: 98.11999797821045%\n",
            "------------------------------------------------------------------------\n",
            "> Fold 6 - Loss: 0.06717237085103989 - Accuracy: 98.0400025844574%\n",
            "------------------------------------------------------------------------\n",
            "> Fold 7 - Loss: 0.058532074093818665 - Accuracy: 98.24000000953674%\n",
            "------------------------------------------------------------------------\n",
            "> Fold 8 - Loss: 0.06199812516570091 - Accuracy: 98.2699990272522%\n",
            "------------------------------------------------------------------------\n",
            "> Fold 9 - Loss: 0.06738900393247604 - Accuracy: 97.97000288963318%\n",
            "------------------------------------------------------------------------\n",
            "> Fold 10 - Loss: 0.07011814415454865 - Accuracy: 97.87999987602234%\n",
            "------------------------------------------------------------------------\n",
            "Average scores for all folds:\n",
            "> Accuracy: 98.12900006771088 (+- 0.14278975220551446)\n",
            "> Loss: 0.06393627636134624\n",
            "------------------------------------------------------------------------\n"
          ],
          "name": "stdout"
        }
      ]
    },
    {
      "cell_type": "code",
      "metadata": {
        "id": "UYb2gVfwpy6J"
      },
      "source": [
        ""
      ],
      "execution_count": 28,
      "outputs": []
    }
  ]
}