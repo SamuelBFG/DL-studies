{
  "nbformat": 4,
  "nbformat_minor": 0,
  "metadata": {
    "colab": {
      "name": "EF1p3_CIFAR10.ipynb",
      "provenance": [],
      "authorship_tag": "ABX9TyOJGru0oM895adiU+uaGg/6",
      "include_colab_link": true
    },
    "kernelspec": {
      "name": "python3",
      "display_name": "Python 3"
    },
    "language_info": {
      "name": "python"
    }
  },
  "cells": [
    {
      "cell_type": "markdown",
      "metadata": {
        "id": "view-in-github",
        "colab_type": "text"
      },
      "source": [
        "<a href=\"https://colab.research.google.com/github/SamuelBFG/DL-studies/blob/master/IA353/EF1p3_CIFAR10.ipynb\" target=\"_parent\"><img src=\"https://colab.research.google.com/assets/colab-badge.svg\" alt=\"Open In Colab\"/></a>"
      ]
    },
    {
      "cell_type": "markdown",
      "metadata": {
        "id": "owyXiY8qcuEo"
      },
      "source": [
        "# Base Model"
      ]
    },
    {
      "cell_type": "code",
      "metadata": {
        "id": "8bga7q8icArd"
      },
      "source": [
        "import tensorflow as tf\n",
        "import os\n",
        "import matplotlib.pyplot as plt\n",
        "from keras.optimizers import Adam"
      ],
      "execution_count": 1,
      "outputs": []
    },
    {
      "cell_type": "code",
      "metadata": {
        "colab": {
          "base_uri": "https://localhost:8080/"
        },
        "id": "2ackUko9cjh_",
        "outputId": "dd3d752d-68be-4b62-c3a7-c32ba412bc67"
      },
      "source": [
        "cifar10 = tf.keras.datasets.cifar10\n",
        "(x_train, y_train),(x_test, y_test) = cifar10.load_data()\n",
        "x_train, x_test = x_train / 255.0, x_test / 255.0"
      ],
      "execution_count": 2,
      "outputs": [
        {
          "output_type": "stream",
          "text": [
            "Downloading data from https://www.cs.toronto.edu/~kriz/cifar-10-python.tar.gz\n",
            "170500096/170498071 [==============================] - 2s 0us/step\n"
          ],
          "name": "stdout"
        }
      ]
    },
    {
      "cell_type": "code",
      "metadata": {
        "colab": {
          "base_uri": "https://localhost:8080/"
        },
        "id": "fJebBcjuckxC",
        "outputId": "93f23ffa-e1fd-4f86-c624-e03c002f278e"
      },
      "source": [
        "print('x_train shape:', x_train.shape)\n",
        "print('x_test shape:', x_test.shape)\n",
        "print('y_train shape:', y_train.shape)\n",
        "print('y_test shape:', y_test.shape)"
      ],
      "execution_count": 3,
      "outputs": [
        {
          "output_type": "stream",
          "text": [
            "x_train shape: (50000, 32, 32, 3)\n",
            "x_test shape: (10000, 32, 32, 3)\n",
            "y_train shape: (50000, 1)\n",
            "y_test shape: (10000, 1)\n"
          ],
          "name": "stdout"
        }
      ]
    },
    {
      "cell_type": "code",
      "metadata": {
        "colab": {
          "base_uri": "https://localhost:8080/"
        },
        "id": "6iuAGO3PcmGp",
        "outputId": "de992d9e-0fe0-4a2a-8082-d5fd7fb4c6cd"
      },
      "source": [
        "model = tf.keras.models.Sequential([\n",
        " tf.keras.layers.Flatten(),\n",
        " tf.keras.layers.Dense(512, activation=tf.nn.relu),\n",
        " tf.keras.layers.Dropout(0.5),\n",
        " tf.keras.layers.Dense(10, activation=tf.nn.softmax)\n",
        "])\n",
        "\n",
        "\n",
        "model.compile(optimizer='adam',\n",
        " loss='sparse_categorical_crossentropy',\n",
        " metrics=['accuracy'])\n",
        "\n",
        "history = model.fit(x_train, y_train, epochs=5)"
      ],
      "execution_count": 4,
      "outputs": [
        {
          "output_type": "stream",
          "text": [
            "Epoch 1/5\n",
            "1563/1563 [==============================] - 21s 13ms/step - loss: 2.2488 - accuracy: 0.1995\n",
            "Epoch 2/5\n",
            "1563/1563 [==============================] - 20s 13ms/step - loss: 2.0159 - accuracy: 0.2394\n",
            "Epoch 3/5\n",
            "1563/1563 [==============================] - 20s 13ms/step - loss: 1.9950 - accuracy: 0.2522\n",
            "Epoch 4/5\n",
            "1563/1563 [==============================] - 20s 13ms/step - loss: 1.9688 - accuracy: 0.2659\n",
            "Epoch 5/5\n",
            "1563/1563 [==============================] - 20s 13ms/step - loss: 1.9634 - accuracy: 0.2656\n"
          ],
          "name": "stdout"
        }
      ]
    },
    {
      "cell_type": "markdown",
      "metadata": {
        "id": "bf1eTbfFdVFK"
      },
      "source": [
        "## Test Accuracy"
      ]
    },
    {
      "cell_type": "code",
      "metadata": {
        "colab": {
          "base_uri": "https://localhost:8080/"
        },
        "id": "j5kkkwMacn2f",
        "outputId": "101ab5af-c9dc-4941-d923-0396d3e6480e"
      },
      "source": [
        "model.evaluate(x_test, y_test)"
      ],
      "execution_count": 5,
      "outputs": [
        {
          "output_type": "stream",
          "text": [
            "313/313 [==============================] - 2s 5ms/step - loss: 1.8315 - accuracy: 0.3582\n"
          ],
          "name": "stdout"
        },
        {
          "output_type": "execute_result",
          "data": {
            "text/plain": [
              "[1.8314578533172607, 0.3582000136375427]"
            ]
          },
          "metadata": {
            "tags": []
          },
          "execution_count": 5
        }
      ]
    },
    {
      "cell_type": "markdown",
      "metadata": {
        "id": "RDWpPEnactC_"
      },
      "source": [
        "## Working with multiple executions to stabilize results"
      ]
    },
    {
      "cell_type": "code",
      "metadata": {
        "colab": {
          "base_uri": "https://localhost:8080/"
        },
        "id": "Bw0zhsRVdWu9",
        "outputId": "385bf9b3-663b-4edd-abfa-cbff61e13882"
      },
      "source": [
        "executions = 5\n",
        "histories = []\n",
        "evaluations = []\n",
        "\n",
        "for i in range(executions):\n",
        "  model = tf.keras.models.Sequential([\n",
        "                                      tf.keras.layers.Flatten(),\n",
        "                                      tf.keras.layers.Dense(512, activation=tf.nn.relu),\n",
        "                                      tf.keras.layers.Dropout(0.5),\n",
        "                                      tf.keras.layers.Dense(10, activation=tf.nn.softmax)\n",
        "                                      ])\n",
        "  \n",
        "  print('## Training model number: ', i+1)\n",
        "\n",
        "  model.compile(optimizer='adam',\n",
        "                      loss='sparse_categorical_crossentropy',\n",
        "                      metrics=['accuracy'])\n",
        "  \n",
        "  histories.append(model.fit(x_train, y_train, epochs=5, verbose=0))\n",
        "\n",
        "  print('#• Test set:')\n",
        "  evaluations.append(model.evaluate(x_test, y_test))\n",
        "  print('\\n')"
      ],
      "execution_count": 6,
      "outputs": [
        {
          "output_type": "stream",
          "text": [
            "## Training model number:  1\n",
            "#• Test set:\n",
            "313/313 [==============================] - 2s 5ms/step - loss: 1.8275 - accuracy: 0.3370\n",
            "\n",
            "\n",
            "## Training model number:  2\n",
            "#• Test set:\n",
            "313/313 [==============================] - 2s 5ms/step - loss: 1.8287 - accuracy: 0.3524\n",
            "\n",
            "\n",
            "## Training model number:  3\n",
            "#• Test set:\n",
            "313/313 [==============================] - 2s 6ms/step - loss: 1.8896 - accuracy: 0.3421\n",
            "\n",
            "\n",
            "## Training model number:  4\n",
            "#• Test set:\n",
            "313/313 [==============================] - 2s 6ms/step - loss: 1.8404 - accuracy: 0.3306\n",
            "\n",
            "\n",
            "## Training model number:  5\n",
            "#• Test set:\n",
            "313/313 [==============================] - 2s 5ms/step - loss: 1.8375 - accuracy: 0.3423\n",
            "\n",
            "\n"
          ],
          "name": "stdout"
        }
      ]
    },
    {
      "cell_type": "code",
      "metadata": {
        "colab": {
          "base_uri": "https://localhost:8080/"
        },
        "id": "X_L7N0NAdZhd",
        "outputId": "f4387af6-2051-44b6-b0b7-82973cca29a7"
      },
      "source": [
        "histories[0].history.keys()"
      ],
      "execution_count": 7,
      "outputs": [
        {
          "output_type": "execute_result",
          "data": {
            "text/plain": [
              "dict_keys(['loss', 'accuracy'])"
            ]
          },
          "metadata": {
            "tags": []
          },
          "execution_count": 7
        }
      ]
    },
    {
      "cell_type": "code",
      "metadata": {
        "colab": {
          "base_uri": "https://localhost:8080/",
          "height": 404
        },
        "id": "jpGeo8BAfhgK",
        "outputId": "be762463-6f43-44ec-fa75-0c09e02014b3"
      },
      "source": [
        "plt.figure(figsize=(8, 6))  \n",
        "plt.xlabel('epochs')\n",
        "plt.ylabel('Error')\n",
        "plt.title('Training Loss')\n",
        "for i in range(executions):\n",
        "  plt.plot(histories[i].history['loss'])\n",
        "plt.show()"
      ],
      "execution_count": 8,
      "outputs": [
        {
          "output_type": "display_data",
          "data": {
            "image/png": "[encoded data removed]",
            "text/plain": [
              "<Figure size 576x432 with 1 Axes>"
            ]
          },
          "metadata": {
            "tags": [],
            "needs_background": "light"
          }
        }
      ]
    },
    {
      "cell_type": "code",
      "metadata": {
        "colab": {
          "base_uri": "https://localhost:8080/"
        },
        "id": "uqfncKzWfiJ3",
        "outputId": "a89c7dba-67b3-4d7a-a440-46b83ec26e74"
      },
      "source": [
        "histories[-1].history['accuracy'] # Last training acc log per epochs"
      ],
      "execution_count": 9,
      "outputs": [
        {
          "output_type": "execute_result",
          "data": {
            "text/plain": [
              "[0.21310000121593475,\n",
              " 0.23907999694347382,\n",
              " 0.24741999804973602,\n",
              " 0.25624001026153564,\n",
              " 0.2604599893093109]"
            ]
          },
          "metadata": {
            "tags": []
          },
          "execution_count": 9
        }
      ]
    },
    {
      "cell_type": "code",
      "metadata": {
        "colab": {
          "base_uri": "https://localhost:8080/"
        },
        "id": "pcsyAqH7fj82",
        "outputId": "16006632-0283-43c0-f5b4-aa6dbefb9d94"
      },
      "source": [
        "evaluations[0] # Loss and acc for the first model (LIST)"
      ],
      "execution_count": 10,
      "outputs": [
        {
          "output_type": "execute_result",
          "data": {
            "text/plain": [
              "[1.8274809122085571, 0.3370000123977661]"
            ]
          },
          "metadata": {
            "tags": []
          },
          "execution_count": 10
        }
      ]
    },
    {
      "cell_type": "code",
      "metadata": {
        "colab": {
          "base_uri": "https://localhost:8080/"
        },
        "id": "_AnI_EZUfkiU",
        "outputId": "84f22e0a-18e7-454f-feec-6e637df88d0d"
      },
      "source": [
        "acc_val = []\n",
        "acc_test = []\n",
        "\n",
        "for i in range(executions):\n",
        "  acc_val.append(sum(histories[i].history['accuracy']) / len(histories[i].history['accuracy']))\n",
        "  acc_test.append(evaluations[i][1])\n",
        "\n",
        "acc_val"
      ],
      "execution_count": 11,
      "outputs": [
        {
          "output_type": "execute_result",
          "data": {
            "text/plain": [
              "[0.23691999912261963,\n",
              " 0.252536004781723,\n",
              " 0.23567599654197693,\n",
              " 0.23731600046157836,\n",
              " 0.24325999915599822]"
            ]
          },
          "metadata": {
            "tags": []
          },
          "execution_count": 11
        }
      ]
    },
    {
      "cell_type": "code",
      "metadata": {
        "colab": {
          "base_uri": "https://localhost:8080/"
        },
        "id": "JHHkTugMflFN",
        "outputId": "f552d6e5-d52b-41c3-9f1f-ebdc446d00fa"
      },
      "source": [
        "acc_test"
      ],
      "execution_count": 12,
      "outputs": [
        {
          "output_type": "execute_result",
          "data": {
            "text/plain": [
              "[0.3370000123977661,\n",
              " 0.352400004863739,\n",
              " 0.34209999442100525,\n",
              " 0.33059999346733093,\n",
              " 0.3422999978065491]"
            ]
          },
          "metadata": {
            "tags": []
          },
          "execution_count": 12
        }
      ]
    },
    {
      "cell_type": "markdown",
      "metadata": {
        "id": "n8I62TcFfnEc"
      },
      "source": [
        "### Average validation accuracy (training set)"
      ]
    },
    {
      "cell_type": "code",
      "metadata": {
        "colab": {
          "base_uri": "https://localhost:8080/"
        },
        "id": "L2RyDTZOflzk",
        "outputId": "91d7115a-e135-43e8-885e-f7ccf6490b27"
      },
      "source": [
        "avg_acc_val = sum(acc_val)/len(acc_val)\n",
        "avg_acc_val"
      ],
      "execution_count": 13,
      "outputs": [
        {
          "output_type": "execute_result",
          "data": {
            "text/plain": [
              "0.24114160001277923"
            ]
          },
          "metadata": {
            "tags": []
          },
          "execution_count": 13
        }
      ]
    },
    {
      "cell_type": "markdown",
      "metadata": {
        "id": "d0GNgC__fpIh"
      },
      "source": [
        "### Average test accuracy"
      ]
    },
    {
      "cell_type": "code",
      "metadata": {
        "colab": {
          "base_uri": "https://localhost:8080/"
        },
        "id": "KBM8wlD9fn7w",
        "outputId": "95918b20-7e82-4637-cde4-63d8a94725a7"
      },
      "source": [
        "avg_acc_test = sum(acc_test)/len(acc_test)\n",
        "avg_acc_test"
      ],
      "execution_count": 14,
      "outputs": [
        {
          "output_type": "execute_result",
          "data": {
            "text/plain": [
              "0.3408800005912781"
            ]
          },
          "metadata": {
            "tags": []
          },
          "execution_count": 14
        }
      ]
    },
    {
      "cell_type": "markdown",
      "metadata": {
        "id": "GdNnjEQ6ft-9"
      },
      "source": [
        "## Kfold Cross-Validation"
      ]
    },
    {
      "cell_type": "code",
      "metadata": {
        "id": "mkWxJcCLfqGJ"
      },
      "source": [
        "cifar10 = tf.keras.datasets.cifar10\n",
        "(x_train, y_train),(x_test, y_test) = cifar10.load_data()\n",
        "x_train, x_test = x_train / 255.0, x_test / 255.0"
      ],
      "execution_count": 15,
      "outputs": []
    },
    {
      "cell_type": "code",
      "metadata": {
        "colab": {
          "base_uri": "https://localhost:8080/"
        },
        "id": "O81o3YwufwRR",
        "outputId": "8cfe14cd-0e0e-4862-d3db-885d0e49d2ae"
      },
      "source": [
        "from sklearn.model_selection import KFold\n",
        "import numpy as np\n",
        "from sklearn.model_selection import train_test_split\n",
        "\n",
        "# Define per-fold score containers\n",
        "acc_per_fold = []\n",
        "loss_per_fold = []\n",
        "num_folds = 10\n",
        "\n",
        "\n",
        "train_data, train_data_val, train_labels, train_labels_val = train_test_split(x_train, y_train, test_size = 0.2)\n",
        "inputs = np.concatenate((train_data, train_data_val), axis=0)\n",
        "targets = np.concatenate((train_labels, train_labels_val), axis=0)\n",
        "\n",
        "kfold = KFold(n_splits=num_folds, shuffle=True)\n",
        "\n",
        "# K-fold Cross Validation model evaluation\n",
        "fold_no = 1\n",
        "\n",
        "for train, test in kfold.split(inputs, targets):\n",
        "  model = tf.keras.models.Sequential([\n",
        "                                      tf.keras.layers.Flatten(),\n",
        "                                      tf.keras.layers.Dense(512, activation=tf.nn.relu),\n",
        "                                      tf.keras.layers.Dropout(0.5),\n",
        "                                      tf.keras.layers.Dense(10, activation=tf.nn.softmax)\n",
        "                                      ])\n",
        "  \n",
        "  model.compile(optimizer='adam',\n",
        "                loss='sparse_categorical_crossentropy',\n",
        "                metrics=['accuracy'])\n",
        "  \n",
        "  history = model.fit(inputs[train], targets[train],\n",
        "              batch_size=64,\n",
        "              epochs=5,\n",
        "              verbose=0)\n",
        "\n",
        "  # Generate generalization metrics\n",
        "  scores = model.evaluate(x_test, y_test, verbose=0)\n",
        "  print(f'Score for fold {fold_no}: {model.metrics_names[0]} of {scores[0]}; {model.metrics_names[1]} of {scores[1]*100}%')\n",
        "  acc_per_fold.append(scores[1] * 100)\n",
        "  loss_per_fold.append(scores[0])\n",
        "\n",
        "  fold_no = fold_no + 1\n",
        "\n",
        "\n",
        "# == Provide average scores ==\n",
        "print('------------------------------------------------------------------------')\n",
        "print('Score per fold')\n",
        "for i in range(0, len(acc_per_fold)):\n",
        "  print('------------------------------------------------------------------------')\n",
        "  print(f'> Fold {i+1} - Loss: {loss_per_fold[i]} - Accuracy: {acc_per_fold[i]}%')\n",
        "print('------------------------------------------------------------------------')\n",
        "print('Average scores for all folds:')\n",
        "print(f'> Accuracy: {np.mean(acc_per_fold)} (+- {np.std(acc_per_fold)})')\n",
        "print(f'> Loss: {np.mean(loss_per_fold)}')\n",
        "print('------------------------------------------------------------------------')"
      ],
      "execution_count": 16,
      "outputs": [
        {
          "output_type": "stream",
          "text": [
            "Score for fold 1: loss of 1.7926682233810425; accuracy of 36.21000051498413%\n",
            "Score for fold 2: loss of 1.8105227947235107; accuracy of 33.21999907493591%\n",
            "Score for fold 3: loss of 1.807654857635498; accuracy of 33.5099995136261%\n",
            "Score for fold 4: loss of 1.7633332014083862; accuracy of 36.35999858379364%\n",
            "Score for fold 5: loss of 1.8126325607299805; accuracy of 35.269999504089355%\n",
            "Score for fold 6: loss of 1.7946263551712036; accuracy of 36.4300012588501%\n",
            "Score for fold 7: loss of 1.8531603813171387; accuracy of 31.790000200271606%\n",
            "Score for fold 8: loss of 1.7788171768188477; accuracy of 35.22000014781952%\n",
            "Score for fold 9: loss of 1.8307414054870605; accuracy of 33.37999880313873%\n",
            "Score for fold 10: loss of 1.8407584428787231; accuracy of 33.21000039577484%\n",
            "------------------------------------------------------------------------\n",
            "Score per fold\n",
            "------------------------------------------------------------------------\n",
            "> Fold 1 - Loss: 1.7926682233810425 - Accuracy: 36.21000051498413%\n",
            "------------------------------------------------------------------------\n",
            "> Fold 2 - Loss: 1.8105227947235107 - Accuracy: 33.21999907493591%\n",
            "------------------------------------------------------------------------\n",
            "> Fold 3 - Loss: 1.807654857635498 - Accuracy: 33.5099995136261%\n",
            "------------------------------------------------------------------------\n",
            "> Fold 4 - Loss: 1.7633332014083862 - Accuracy: 36.35999858379364%\n",
            "------------------------------------------------------------------------\n",
            "> Fold 5 - Loss: 1.8126325607299805 - Accuracy: 35.269999504089355%\n",
            "------------------------------------------------------------------------\n",
            "> Fold 6 - Loss: 1.7946263551712036 - Accuracy: 36.4300012588501%\n",
            "------------------------------------------------------------------------\n",
            "> Fold 7 - Loss: 1.8531603813171387 - Accuracy: 31.790000200271606%\n",
            "------------------------------------------------------------------------\n",
            "> Fold 8 - Loss: 1.7788171768188477 - Accuracy: 35.22000014781952%\n",
            "------------------------------------------------------------------------\n",
            "> Fold 9 - Loss: 1.8307414054870605 - Accuracy: 33.37999880313873%\n",
            "------------------------------------------------------------------------\n",
            "> Fold 10 - Loss: 1.8407584428787231 - Accuracy: 33.21000039577484%\n",
            "------------------------------------------------------------------------\n",
            "Average scores for all folds:\n",
            "> Accuracy: 34.459999799728394 (+- 1.5519344234422003)\n",
            "> Loss: 1.8084915399551391\n",
            "------------------------------------------------------------------------\n"
          ],
          "name": "stdout"
        }
      ]
    },
    {
      "cell_type": "markdown",
      "metadata": {
        "id": "2M5pSpl1iSk4"
      },
      "source": [
        "# Modified Model"
      ]
    },
    {
      "cell_type": "code",
      "metadata": {
        "id": "iabyF_xFf1p5"
      },
      "source": [
        "cifar10 = tf.keras.datasets.cifar10\n",
        "(x_train, y_train),(x_test, y_test) = cifar10.load_data()\n",
        "x_train, x_test = x_train / 255.0, x_test / 255.0"
      ],
      "execution_count": 17,
      "outputs": []
    },
    {
      "cell_type": "markdown",
      "metadata": {
        "id": "zJoAwtjNoI-G"
      },
      "source": [
        "#### 1024 neurons"
      ]
    },
    {
      "cell_type": "code",
      "metadata": {
        "colab": {
          "base_uri": "https://localhost:8080/"
        },
        "id": "r30rhNzHiW8O",
        "outputId": "d13085eb-246f-4693-d38c-f9bb331de57f"
      },
      "source": [
        "train_data, train_data_val, train_labels, train_labels_val = train_test_split(x_train, y_train, test_size = 0.2)\n",
        "\n",
        "model = tf.keras.models.Sequential([\n",
        " tf.keras.layers.Flatten(),\n",
        " tf.keras.layers.Dense(1024, activation=tf.nn.relu),\n",
        "#  tf.keras.layers.Dropout(0.5),\n",
        "  # tf.keras.layers.Dense(256, activation=tf.nn.relu),  \n",
        "#  tf.keras.layers.Dense(512, activation=tf.nn.relu),\n",
        " tf.keras.layers.Dense(10, activation=tf.nn.softmax)\n",
        "])\n",
        "\n",
        "model.compile(optimizer = Adam(lr=0.001),\n",
        " loss='sparse_categorical_crossentropy',\n",
        " metrics=['accuracy'])\n",
        "\n",
        "history = model.fit(train_data, train_labels, epochs=5, batch_size=64, validation_data = (train_data_val, train_labels_val), verbose = 2)"
      ],
      "execution_count": 18,
      "outputs": [
        {
          "output_type": "stream",
          "text": [
            "Epoch 1/5\n",
            "625/625 - 19s - loss: 2.0076 - accuracy: 0.3148 - val_loss: 1.8109 - val_accuracy: 0.3452\n",
            "Epoch 2/5\n",
            "625/625 - 18s - loss: 1.7254 - accuracy: 0.3855 - val_loss: 1.6584 - val_accuracy: 0.4036\n",
            "Epoch 3/5\n",
            "625/625 - 21s - loss: 1.6426 - accuracy: 0.4156 - val_loss: 1.6242 - val_accuracy: 0.4240\n",
            "Epoch 4/5\n",
            "625/625 - 20s - loss: 1.5951 - accuracy: 0.4344 - val_loss: 1.5718 - val_accuracy: 0.4418\n",
            "Epoch 5/5\n",
            "625/625 - 19s - loss: 1.5521 - accuracy: 0.4515 - val_loss: 1.5564 - val_accuracy: 0.4486\n"
          ],
          "name": "stdout"
        }
      ]
    },
    {
      "cell_type": "code",
      "metadata": {
        "colab": {
          "base_uri": "https://localhost:8080/"
        },
        "id": "wElQoejGijSp",
        "outputId": "3fd7ad3c-4b77-463f-9acc-be79427d04b7"
      },
      "source": [
        "model.evaluate(x_test, y_test)"
      ],
      "execution_count": 19,
      "outputs": [
        {
          "output_type": "stream",
          "text": [
            "313/313 [==============================] - 3s 9ms/step - loss: 1.5612 - accuracy: 0.4498\n"
          ],
          "name": "stdout"
        },
        {
          "output_type": "execute_result",
          "data": {
            "text/plain": [
              "[1.5612391233444214, 0.4498000144958496]"
            ]
          },
          "metadata": {
            "tags": []
          },
          "execution_count": 19
        }
      ]
    },
    {
      "cell_type": "code",
      "metadata": {
        "colab": {
          "base_uri": "https://localhost:8080/",
          "height": 404
        },
        "id": "t7GqWUpZi_AS",
        "outputId": "d48ba69d-bb14-425c-9ac8-5c21c29aee3f"
      },
      "source": [
        "plt.figure(figsize=(8, 6))  \n",
        "plt.plot(history.history['loss'], color='b')\n",
        "plt.plot(history.history['val_loss'], color='r')\n",
        "plt.title('Loss')\n",
        "plt.xlabel('epochs')\n",
        "plt.ylabel('Error')\n",
        "plt.legend(('Training Loss', 'Validation Loss'))\n",
        "plt.show()"
      ],
      "execution_count": 20,
      "outputs": [
        {
          "output_type": "display_data",
          "data": {
            "image/png": "[encoded data removed]",
            "text/plain": [
              "<Figure size 576x432 with 1 Axes>"
            ]
          },
          "metadata": {
            "tags": [],
            "needs_background": "light"
          }
        }
      ]
    },
    {
      "cell_type": "markdown",
      "metadata": {
        "id": "u49DSwTkoRU-"
      },
      "source": [
        "#### 2 layers with 512 neurons"
      ]
    },
    {
      "cell_type": "code",
      "metadata": {
        "colab": {
          "base_uri": "https://localhost:8080/"
        },
        "id": "hV416KZfi_q3",
        "outputId": "bf54e1af-59b8-4211-a8c6-1ef596198342"
      },
      "source": [
        "train_data, train_data_val, train_labels, train_labels_val = train_test_split(x_train, y_train, test_size = 0.2)\n",
        "\n",
        "model = tf.keras.models.Sequential([\n",
        " tf.keras.layers.Flatten(),\n",
        " tf.keras.layers.Dense(512, activation=tf.nn.relu),\n",
        "#  tf.keras.layers.Dropout(0.5),\n",
        " tf.keras.layers.Dense(512, activation=tf.nn.relu),  \n",
        "#  tf.keras.layers.Dense(512, activation=tf.nn.relu),\n",
        " tf.keras.layers.Dense(10, activation=tf.nn.softmax)\n",
        "])\n",
        "\n",
        "model.compile(optimizer = Adam(lr=0.001),\n",
        " loss='sparse_categorical_crossentropy',\n",
        " metrics=['accuracy'])\n",
        "\n",
        "history = model.fit(train_data, train_labels, epochs=5, batch_size=64, validation_data = (train_data_val, train_labels_val), verbose = 2)"
      ],
      "execution_count": 21,
      "outputs": [
        {
          "output_type": "stream",
          "text": [
            "Epoch 1/5\n",
            "625/625 - 14s - loss: 1.8831 - accuracy: 0.3215 - val_loss: 1.7414 - val_accuracy: 0.3747\n",
            "Epoch 2/5\n",
            "625/625 - 12s - loss: 1.6913 - accuracy: 0.3942 - val_loss: 1.6615 - val_accuracy: 0.4072\n",
            "Epoch 3/5\n",
            "625/625 - 13s - loss: 1.6063 - accuracy: 0.4254 - val_loss: 1.5601 - val_accuracy: 0.4433\n",
            "Epoch 4/5\n",
            "625/625 - 13s - loss: 1.5521 - accuracy: 0.4435 - val_loss: 1.5660 - val_accuracy: 0.4396\n",
            "Epoch 5/5\n",
            "625/625 - 13s - loss: 1.5055 - accuracy: 0.4626 - val_loss: 1.5376 - val_accuracy: 0.4513\n"
          ],
          "name": "stdout"
        }
      ]
    },
    {
      "cell_type": "code",
      "metadata": {
        "colab": {
          "base_uri": "https://localhost:8080/"
        },
        "id": "WdPGV5QVn-PW",
        "outputId": "2eb13673-b0da-40f2-b9b9-6e741a7582ae"
      },
      "source": [
        "model.evaluate(x_test, y_test)"
      ],
      "execution_count": 22,
      "outputs": [
        {
          "output_type": "stream",
          "text": [
            "313/313 [==============================] - 2s 7ms/step - loss: 1.5228 - accuracy: 0.4623\n"
          ],
          "name": "stdout"
        },
        {
          "output_type": "execute_result",
          "data": {
            "text/plain": [
              "[1.5227692127227783, 0.46230000257492065]"
            ]
          },
          "metadata": {
            "tags": []
          },
          "execution_count": 22
        }
      ]
    },
    {
      "cell_type": "code",
      "metadata": {
        "colab": {
          "base_uri": "https://localhost:8080/",
          "height": 404
        },
        "id": "2mCcvnton-y7",
        "outputId": "7e0451c7-ac90-4c1b-bbc0-3bd443e6bba9"
      },
      "source": [
        "plt.figure(figsize=(8, 6))  \n",
        "plt.plot(history.history['loss'], color='b')\n",
        "plt.plot(history.history['val_loss'], color='r')\n",
        "plt.title('Loss')\n",
        "plt.xlabel('epochs')\n",
        "plt.ylabel('Error')\n",
        "plt.legend(('Training Loss', 'Validation Loss'))\n",
        "plt.show()"
      ],
      "execution_count": 23,
      "outputs": [
        {
          "output_type": "display_data",
          "data": {
            "image/png": "[encoded data removed]",
            "text/plain": [
              "<Figure size 576x432 with 1 Axes>"
            ]
          },
          "metadata": {
            "tags": [],
            "needs_background": "light"
          }
        }
      ]
    },
    {
      "cell_type": "markdown",
      "metadata": {
        "id": "TLd8htd6oMoK"
      },
      "source": [
        "#### 2 layers with 512 and 256 neurons "
      ]
    },
    {
      "cell_type": "code",
      "metadata": {
        "colab": {
          "base_uri": "https://localhost:8080/"
        },
        "id": "TPPHEc1nn_lU",
        "outputId": "ae45a3e9-f72c-410e-8e9a-3abf8f6cf2ed"
      },
      "source": [
        "train_data, train_data_val, train_labels, train_labels_val = train_test_split(x_train, y_train, test_size = 0.2)\n",
        "\n",
        "model = tf.keras.models.Sequential([\n",
        " tf.keras.layers.Flatten(),\n",
        " tf.keras.layers.Dense(512, activation=tf.nn.relu),\n",
        "#  tf.keras.layers.Dropout(0.5),\n",
        " tf.keras.layers.Dense(256, activation=tf.nn.relu),  \n",
        "#  tf.keras.layers.Dense(512, activation=tf.nn.relu),\n",
        " tf.keras.layers.Dense(10, activation=tf.nn.softmax)\n",
        "])\n",
        "\n",
        "model.compile(optimizer = Adam(lr=0.001),\n",
        " loss='sparse_categorical_crossentropy',\n",
        " metrics=['accuracy'])\n",
        "\n",
        "history = model.fit(train_data, train_labels, epochs=5, batch_size=64, validation_data = (train_data_val, train_labels_val), verbose = 2)"
      ],
      "execution_count": 24,
      "outputs": [
        {
          "output_type": "stream",
          "text": [
            "Epoch 1/5\n",
            "625/625 - 12s - loss: 1.8882 - accuracy: 0.3249 - val_loss: 1.7443 - val_accuracy: 0.3763\n",
            "Epoch 2/5\n",
            "625/625 - 12s - loss: 1.6936 - accuracy: 0.3959 - val_loss: 1.6488 - val_accuracy: 0.4063\n",
            "Epoch 3/5\n",
            "625/625 - 11s - loss: 1.6113 - accuracy: 0.4260 - val_loss: 1.6015 - val_accuracy: 0.4291\n",
            "Epoch 4/5\n",
            "625/625 - 11s - loss: 1.5598 - accuracy: 0.4451 - val_loss: 1.5577 - val_accuracy: 0.4448\n",
            "Epoch 5/5\n",
            "625/625 - 12s - loss: 1.5167 - accuracy: 0.4581 - val_loss: 1.5015 - val_accuracy: 0.4655\n"
          ],
          "name": "stdout"
        }
      ]
    },
    {
      "cell_type": "code",
      "metadata": {
        "colab": {
          "base_uri": "https://localhost:8080/"
        },
        "id": "RyBnt70joBz2",
        "outputId": "5798b19e-98e3-4fc8-bd93-0d44f0728a73"
      },
      "source": [
        "model.evaluate(x_test, y_test)"
      ],
      "execution_count": 25,
      "outputs": [
        {
          "output_type": "stream",
          "text": [
            "313/313 [==============================] - 2s 6ms/step - loss: 1.4934 - accuracy: 0.4682\n"
          ],
          "name": "stdout"
        },
        {
          "output_type": "execute_result",
          "data": {
            "text/plain": [
              "[1.4934422969818115, 0.4681999981403351]"
            ]
          },
          "metadata": {
            "tags": []
          },
          "execution_count": 25
        }
      ]
    },
    {
      "cell_type": "code",
      "metadata": {
        "colab": {
          "base_uri": "https://localhost:8080/",
          "height": 404
        },
        "id": "ZSDe97vAoCXD",
        "outputId": "142d38df-c0fa-4512-fb99-3b19c2e86fc9"
      },
      "source": [
        "plt.figure(figsize=(8, 6))  \n",
        "plt.plot(history.history['loss'], color='b')\n",
        "plt.plot(history.history['val_loss'], color='r')\n",
        "plt.title('Loss')\n",
        "plt.xlabel('epochs')\n",
        "plt.ylabel('Error')\n",
        "plt.legend(('Training Loss', 'Validation Loss'))\n",
        "plt.show()"
      ],
      "execution_count": 26,
      "outputs": [
        {
          "output_type": "display_data",
          "data": {
            "image/png": "[encoded data removed]",
            "text/plain": [
              "<Figure size 576x432 with 1 Axes>"
            ]
          },
          "metadata": {
            "tags": [],
            "needs_background": "light"
          }
        }
      ]
    },
    {
      "cell_type": "markdown",
      "metadata": {
        "id": "4F5InnT55HUi"
      },
      "source": [
        "## Kfold Cross-Validation on best model"
      ]
    },
    {
      "cell_type": "code",
      "metadata": {
        "colab": {
          "base_uri": "https://localhost:8080/"
        },
        "id": "xcvvClM4tkYg",
        "outputId": "3283c71c-ed6b-4c40-e646-479579f8d520"
      },
      "source": [
        "from sklearn.model_selection import KFold\n",
        "import numpy as np\n",
        "from sklearn.model_selection import train_test_split\n",
        "\n",
        "# Define per-fold score containers\n",
        "acc_per_fold = []\n",
        "loss_per_fold = []\n",
        "num_folds = 10\n",
        "\n",
        "\n",
        "train_data, train_data_val, train_labels, train_labels_val = train_test_split(x_train, y_train, test_size = 0.2)\n",
        "inputs = np.concatenate((train_data, train_data_val), axis=0)\n",
        "targets = np.concatenate((train_labels, train_labels_val), axis=0)\n",
        "\n",
        "kfold = KFold(n_splits=num_folds, shuffle=True)\n",
        "\n",
        "# K-fold Cross Validation model evaluation\n",
        "fold_no = 1\n",
        "\n",
        "for train, test in kfold.split(inputs, targets):\n",
        "  model = tf.keras.models.Sequential([\n",
        "                                      tf.keras.layers.Flatten(),\n",
        "                                      tf.keras.layers.Dense(512, activation=tf.nn.relu),\n",
        "                                      tf.keras.layers.Dense(256, activation=tf.nn.relu),  \n",
        "                                      tf.keras.layers.Dense(10, activation=tf.nn.softmax)\n",
        "                                      ])\n",
        "  \n",
        "  model.compile(optimizer = Adam(lr=0.001),\n",
        "                loss='sparse_categorical_crossentropy',\n",
        "                metrics=['accuracy'])\n",
        "  \n",
        "  history = model.fit(inputs[train], targets[train],\n",
        "              batch_size=64,\n",
        "              epochs=5,\n",
        "              verbose=0)\n",
        "\n",
        "  # Generate generalization metrics\n",
        "  scores = model.evaluate(x_test, y_test, verbose=0)\n",
        "  print(f'Score for fold {fold_no}: {model.metrics_names[0]} of {scores[0]}; {model.metrics_names[1]} of {scores[1]*100}%')\n",
        "  acc_per_fold.append(scores[1] * 100)\n",
        "  loss_per_fold.append(scores[0])\n",
        "\n",
        "  fold_no = fold_no + 1\n",
        "\n",
        "\n",
        "# == Provide average scores ==\n",
        "print('------------------------------------------------------------------------')\n",
        "print('Score per fold')\n",
        "for i in range(0, len(acc_per_fold)):\n",
        "  print('------------------------------------------------------------------------')\n",
        "  print(f'> Fold {i+1} - Loss: {loss_per_fold[i]} - Accuracy: {acc_per_fold[i]}%')\n",
        "print('------------------------------------------------------------------------')\n",
        "print('Average scores for all folds:')\n",
        "print(f'> Accuracy: {np.mean(acc_per_fold)} (+- {np.std(acc_per_fold)})')\n",
        "print(f'> Loss: {np.mean(loss_per_fold)}')\n",
        "print('------------------------------------------------------------------------')"
      ],
      "execution_count": 27,
      "outputs": [
        {
          "output_type": "stream",
          "text": [
            "Score for fold 1: loss of 1.5089539289474487; accuracy of 46.20000123977661%\n",
            "Score for fold 2: loss of 1.525278091430664; accuracy of 45.69999873638153%\n",
            "Score for fold 3: loss of 1.5753039121627808; accuracy of 43.779999017715454%\n",
            "Score for fold 4: loss of 1.5599735975265503; accuracy of 44.22999918460846%\n",
            "Score for fold 5: loss of 1.5054482221603394; accuracy of 46.32999897003174%\n",
            "Score for fold 6: loss of 1.5106581449508667; accuracy of 46.70000076293945%\n",
            "Score for fold 7: loss of 1.5215277671813965; accuracy of 45.86000144481659%\n",
            "Score for fold 8: loss of 1.5132616758346558; accuracy of 46.65000140666962%\n",
            "Score for fold 9: loss of 1.5127677917480469; accuracy of 46.05000019073486%\n",
            "Score for fold 10: loss of 1.5145714282989502; accuracy of 45.69999873638153%\n",
            "------------------------------------------------------------------------\n",
            "Score per fold\n",
            "------------------------------------------------------------------------\n",
            "> Fold 1 - Loss: 1.5089539289474487 - Accuracy: 46.20000123977661%\n",
            "------------------------------------------------------------------------\n",
            "> Fold 2 - Loss: 1.525278091430664 - Accuracy: 45.69999873638153%\n",
            "------------------------------------------------------------------------\n",
            "> Fold 3 - Loss: 1.5753039121627808 - Accuracy: 43.779999017715454%\n",
            "------------------------------------------------------------------------\n",
            "> Fold 4 - Loss: 1.5599735975265503 - Accuracy: 44.22999918460846%\n",
            "------------------------------------------------------------------------\n",
            "> Fold 5 - Loss: 1.5054482221603394 - Accuracy: 46.32999897003174%\n",
            "------------------------------------------------------------------------\n",
            "> Fold 6 - Loss: 1.5106581449508667 - Accuracy: 46.70000076293945%\n",
            "------------------------------------------------------------------------\n",
            "> Fold 7 - Loss: 1.5215277671813965 - Accuracy: 45.86000144481659%\n",
            "------------------------------------------------------------------------\n",
            "> Fold 8 - Loss: 1.5132616758346558 - Accuracy: 46.65000140666962%\n",
            "------------------------------------------------------------------------\n",
            "> Fold 9 - Loss: 1.5127677917480469 - Accuracy: 46.05000019073486%\n",
            "------------------------------------------------------------------------\n",
            "> Fold 10 - Loss: 1.5145714282989502 - Accuracy: 45.69999873638153%\n",
            "------------------------------------------------------------------------\n",
            "Average scores for all folds:\n",
            "> Accuracy: 45.719999969005585 (+- 0.9241650782223455)\n",
            "> Loss: 1.5247744560241698\n",
            "------------------------------------------------------------------------\n"
          ],
          "name": "stdout"
        }
      ]
    }
  ]
}