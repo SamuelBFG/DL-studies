{
  "nbformat": 4,
  "nbformat_minor": 0,
  "metadata": {
    "colab": {
      "name": "EF1p3_MNIST.ipynb",
      "provenance": [],
      "toc_visible": true,
      "authorship_tag": "ABX9TyPylDl+tiQqLQgXFyU65+im",
      "include_colab_link": true
    },
    "kernelspec": {
      "name": "python3",
      "display_name": "Python 3"
    },
    "language_info": {
      "name": "python"
    },
    "accelerator": "GPU"
  },
  "cells": [
    {
      "cell_type": "markdown",
      "metadata": {
        "id": "view-in-github",
        "colab_type": "text"
      },
      "source": [
        "<a href=\"https://colab.research.google.com/github/SamuelBFG/DL-studies/blob/master/IA353/EF1p3_MNIST.ipynb\" target=\"_parent\"><img src=\"https://colab.research.google.com/assets/colab-badge.svg\" alt=\"Open In Colab\"/></a>"
      ]
    },
    {
      "cell_type": "code",
      "metadata": {
        "id": "ZsiORSDLWGlw"
      },
      "source": [
        "import tensorflow as tf\n",
        "import os"
      ],
      "execution_count": 1,
      "outputs": []
    },
    {
      "cell_type": "code",
      "metadata": {
        "colab": {
          "base_uri": "https://localhost:8080/"
        },
        "id": "GENscqOmWRTp",
        "outputId": "d0c18da8-3a12-4269-d3ea-c23fc1177be3"
      },
      "source": [
        "mnist = tf.keras.datasets.mnist\n",
        "(x_train, y_train),(x_test, y_test) = mnist.load_data()\n",
        "x_train, x_test = x_train / 255.0, x_test / 255.0"
      ],
      "execution_count": 2,
      "outputs": [
        {
          "output_type": "stream",
          "text": [
            "Downloading data from https://storage.googleapis.com/tensorflow/tf-keras-datasets/mnist.npz\n",
            "11493376/11490434 [==============================] - 0s 0us/step\n"
          ],
          "name": "stdout"
        }
      ]
    },
    {
      "cell_type": "code",
      "metadata": {
        "colab": {
          "base_uri": "https://localhost:8080/"
        },
        "id": "oELXYSlxWmUJ",
        "outputId": "1a4fc794-f6dd-45f2-84cc-f8dce8d58ece"
      },
      "source": [
        "print('x_train shape:', x_train.shape)\n",
        "print('x_test shape:', x_test.shape)\n",
        "print('y_train shape:', y_train.shape)\n",
        "print('y_test shape:', y_test.shape)"
      ],
      "execution_count": 3,
      "outputs": [
        {
          "output_type": "stream",
          "text": [
            "x_train shape: (60000, 28, 28)\n",
            "x_test shape: (10000, 28, 28)\n",
            "y_train shape: (60000,)\n",
            "y_test shape: (10000,)\n"
          ],
          "name": "stdout"
        }
      ]
    },
    {
      "cell_type": "markdown",
      "metadata": {
        "id": "gj_PHdzJlF1c"
      },
      "source": [
        "# BASELINE MODEL"
      ]
    },
    {
      "cell_type": "code",
      "metadata": {
        "colab": {
          "base_uri": "https://localhost:8080/"
        },
        "id": "6jbE47ksWpeV",
        "outputId": "d477d404-9ae0-49f2-afbe-087d7a62780c"
      },
      "source": [
        "model = tf.keras.models.Sequential([\n",
        " tf.keras.layers.Flatten(),\n",
        " tf.keras.layers.Dense(512, activation=tf.nn.relu),\n",
        " tf.keras.layers.Dropout(0.5),\n",
        " tf.keras.layers.Dense(10, activation=tf.nn.softmax)\n",
        "])\n",
        "\n",
        "\n",
        "model.compile(optimizer='adam',\n",
        " loss='sparse_categorical_crossentropy',\n",
        " metrics=['accuracy'])\n",
        "\n",
        "history = model.fit(x_train, y_train, epochs=5)"
      ],
      "execution_count": 4,
      "outputs": [
        {
          "output_type": "stream",
          "text": [
            "Epoch 1/5\n",
            "1875/1875 [==============================] - 6s 2ms/step - loss: 0.4307 - accuracy: 0.8707\n",
            "Epoch 2/5\n",
            "1875/1875 [==============================] - 3s 2ms/step - loss: 0.1370 - accuracy: 0.9576\n",
            "Epoch 3/5\n",
            "1875/1875 [==============================] - 3s 2ms/step - loss: 0.1047 - accuracy: 0.9676\n",
            "Epoch 4/5\n",
            "1875/1875 [==============================] - 3s 2ms/step - loss: 0.0906 - accuracy: 0.9716\n",
            "Epoch 5/5\n",
            "1875/1875 [==============================] - 3s 2ms/step - loss: 0.0786 - accuracy: 0.9749\n"
          ],
          "name": "stdout"
        }
      ]
    },
    {
      "cell_type": "code",
      "metadata": {
        "colab": {
          "base_uri": "https://localhost:8080/"
        },
        "id": "OnQrwnKVYXnZ",
        "outputId": "328746da-3e33-4e40-bad2-972010a7696e"
      },
      "source": [
        "model.summary()"
      ],
      "execution_count": 5,
      "outputs": [
        {
          "output_type": "stream",
          "text": [
            "Model: \"sequential\"\n",
            "_________________________________________________________________\n",
            "Layer (type)                 Output Shape              Param #   \n",
            "=================================================================\n",
            "flatten (Flatten)            (32, 784)                 0         \n",
            "_________________________________________________________________\n",
            "dense (Dense)                (32, 512)                 401920    \n",
            "_________________________________________________________________\n",
            "dropout (Dropout)            (32, 512)                 0         \n",
            "_________________________________________________________________\n",
            "dense_1 (Dense)              (32, 10)                  5130      \n",
            "=================================================================\n",
            "Total params: 407,050\n",
            "Trainable params: 407,050\n",
            "Non-trainable params: 0\n",
            "_________________________________________________________________\n"
          ],
          "name": "stdout"
        }
      ]
    },
    {
      "cell_type": "markdown",
      "metadata": {
        "id": "Y3p9T_gnFARQ"
      },
      "source": [
        "#### Test Accuracy"
      ]
    },
    {
      "cell_type": "code",
      "metadata": {
        "colab": {
          "base_uri": "https://localhost:8080/"
        },
        "id": "czOvwKDEYsfk",
        "outputId": "60c5103e-1b42-4430-ebf8-1c81bfcdae5f"
      },
      "source": [
        "model.evaluate(x_test, y_test)"
      ],
      "execution_count": 6,
      "outputs": [
        {
          "output_type": "stream",
          "text": [
            "313/313 [==============================] - 1s 2ms/step - loss: 0.0639 - accuracy: 0.9797\n"
          ],
          "name": "stdout"
        },
        {
          "output_type": "execute_result",
          "data": {
            "text/plain": [
              "[0.06390675902366638, 0.9797000288963318]"
            ]
          },
          "metadata": {
            "tags": []
          },
          "execution_count": 6
        }
      ]
    },
    {
      "cell_type": "markdown",
      "metadata": {
        "id": "G0nY3V7GFS95"
      },
      "source": [
        "#### Plot"
      ]
    },
    {
      "cell_type": "code",
      "metadata": {
        "colab": {
          "base_uri": "https://localhost:8080/",
          "height": 404
        },
        "id": "xFldUXfXFU9F",
        "outputId": "d892ae87-2ade-4631-9e5e-9dd372c26a65"
      },
      "source": [
        "import matplotlib.pyplot as plt\n",
        "plt.figure(figsize=(8, 6))  \n",
        "plt.plot(history.history['loss'], color='b')\n",
        "plt.title('Training Loss')\n",
        "plt.xlabel('epochs')\n",
        "plt.ylabel('Error')\n",
        "plt.show()"
      ],
      "execution_count": 7,
      "outputs": [
        {
          "output_type": "display_data",
          "data": {
            "image/png": "[encoded data removed]",
            "text/plain": [
              "<Figure size 576x432 with 1 Axes>"
            ]
          },
          "metadata": {
            "tags": [],
            "needs_background": "light"
          }
        }
      ]
    },
    {
      "cell_type": "code",
      "metadata": {
        "colab": {
          "base_uri": "https://localhost:8080/",
          "height": 52
        },
        "id": "vfF8YNiXX334",
        "outputId": "6013f86a-7055-4659-df17-e6e24f568e0b"
      },
      "source": [
        "model_json = model.to_json()\n",
        "json_file = open(\"model_MLP.json\", \"w\")\n",
        "json_file.write(model_json)\n",
        "json_file.close()\n",
        "model.save_weights(\"model_MLP.h5\")\n",
        "print(\"Model saved to disk\")\n",
        "os.getcwd()"
      ],
      "execution_count": 8,
      "outputs": [
        {
          "output_type": "stream",
          "text": [
            "Model saved to disk\n"
          ],
          "name": "stdout"
        },
        {
          "output_type": "execute_result",
          "data": {
            "application/vnd.google.colaboratory.intrinsic+json": {
              "type": "string"
            },
            "text/plain": [
              "'/content'"
            ]
          },
          "metadata": {
            "tags": []
          },
          "execution_count": 8
        }
      ]
    },
    {
      "cell_type": "markdown",
      "metadata": {
        "id": "JIdQ23a_ZmVD"
      },
      "source": [
        "### Working with multiples executions:"
      ]
    },
    {
      "cell_type": "code",
      "metadata": {
        "colab": {
          "base_uri": "https://localhost:8080/"
        },
        "id": "RhhKOcs_YtjV",
        "outputId": "cfbf221f-4a03-4fa5-96ea-a4da94eecf37"
      },
      "source": [
        "executions = 5\n",
        "histories = []\n",
        "evaluations = []\n",
        "\n",
        "for i in range(executions):\n",
        "  model = tf.keras.models.Sequential([\n",
        "                                      tf.keras.layers.Flatten(),\n",
        "                                      tf.keras.layers.Dense(512, activation=tf.nn.relu),\n",
        "                                      tf.keras.layers.Dropout(0.5),\n",
        "                                      tf.keras.layers.Dense(10, activation=tf.nn.softmax)\n",
        "                                      ])\n",
        "  \n",
        "  print('## Training model number: ', i+1)\n",
        "\n",
        "  model.compile(optimizer='adam',\n",
        "                      loss='sparse_categorical_crossentropy',\n",
        "                      metrics=['accuracy'])\n",
        "  \n",
        "  histories.append(model.fit(x_train, y_train, epochs=5, verbose=0))\n",
        "\n",
        "  print('#• Test set:')\n",
        "  evaluations.append(model.evaluate(x_test, y_test))\n",
        "  print('\\n')"
      ],
      "execution_count": 9,
      "outputs": [
        {
          "output_type": "stream",
          "text": [
            "## Training model number:  1\n",
            "#• Test set:\n",
            "313/313 [==============================] - 1s 2ms/step - loss: 0.0651 - accuracy: 0.9793\n",
            "\n",
            "\n",
            "## Training model number:  2\n",
            "#• Test set:\n",
            "313/313 [==============================] - 1s 2ms/step - loss: 0.0705 - accuracy: 0.9794\n",
            "\n",
            "\n",
            "## Training model number:  3\n",
            "#• Test set:\n",
            "313/313 [==============================] - 1s 2ms/step - loss: 0.0639 - accuracy: 0.9806\n",
            "\n",
            "\n",
            "## Training model number:  4\n",
            "#• Test set:\n",
            "313/313 [==============================] - 1s 2ms/step - loss: 0.0708 - accuracy: 0.9781\n",
            "\n",
            "\n",
            "## Training model number:  5\n",
            "#• Test set:\n",
            "313/313 [==============================] - 1s 2ms/step - loss: 0.0685 - accuracy: 0.9778\n",
            "\n",
            "\n"
          ],
          "name": "stdout"
        }
      ]
    },
    {
      "cell_type": "code",
      "metadata": {
        "colab": {
          "base_uri": "https://localhost:8080/"
        },
        "id": "B5wcu-ZkbXLM",
        "outputId": "4192f446-6197-4e57-f337-46d9f34cedd7"
      },
      "source": [
        "histories[0].history.keys()"
      ],
      "execution_count": 10,
      "outputs": [
        {
          "output_type": "execute_result",
          "data": {
            "text/plain": [
              "dict_keys(['loss', 'accuracy'])"
            ]
          },
          "metadata": {
            "tags": []
          },
          "execution_count": 10
        }
      ]
    },
    {
      "cell_type": "code",
      "metadata": {
        "colab": {
          "base_uri": "https://localhost:8080/",
          "height": 404
        },
        "id": "lTL4NXSsJWyC",
        "outputId": "259ad521-1404-400d-a5a8-ca4122a19899"
      },
      "source": [
        "plt.figure(figsize=(8, 6))  \n",
        "plt.xlabel('epochs')\n",
        "plt.ylabel('Error')\n",
        "plt.title('Training Loss')\n",
        "for i in range(executions):\n",
        "  plt.plot(histories[i].history['loss'])\n",
        "plt.show()"
      ],
      "execution_count": 12,
      "outputs": [
        {
          "output_type": "display_data",
          "data": {
            "image/png": "[encoded data removed]",
            "text/plain": [
              "<Figure size 576x432 with 1 Axes>"
            ]
          },
          "metadata": {
            "tags": [],
            "needs_background": "light"
          }
        }
      ]
    },
    {
      "cell_type": "code",
      "metadata": {
        "colab": {
          "base_uri": "https://localhost:8080/"
        },
        "id": "Vj1rix6PcBiG",
        "outputId": "211b2718-6be7-4cf8-ca9b-84c725ca8859"
      },
      "source": [
        "histories[-1].history['accuracy'] # Last training acc log per epochs"
      ],
      "execution_count": 13,
      "outputs": [
        {
          "output_type": "execute_result",
          "data": {
            "text/plain": [
              "[0.92044997215271,\n",
              " 0.9565833210945129,\n",
              " 0.9660999774932861,\n",
              " 0.9712666869163513,\n",
              " 0.9734500050544739]"
            ]
          },
          "metadata": {
            "tags": []
          },
          "execution_count": 13
        }
      ]
    },
    {
      "cell_type": "code",
      "metadata": {
        "colab": {
          "base_uri": "https://localhost:8080/"
        },
        "id": "k9Wt_ZXBcrDJ",
        "outputId": "05ab614c-bf6f-45d1-c6b0-238eb1d79371"
      },
      "source": [
        "evaluations[0] # Loss and acc for the first model (LIST)"
      ],
      "execution_count": 14,
      "outputs": [
        {
          "output_type": "execute_result",
          "data": {
            "text/plain": [
              "[0.06509893387556076, 0.9793000221252441]"
            ]
          },
          "metadata": {
            "tags": []
          },
          "execution_count": 14
        }
      ]
    },
    {
      "cell_type": "code",
      "metadata": {
        "colab": {
          "base_uri": "https://localhost:8080/"
        },
        "id": "rOdn6XsHe3VY",
        "outputId": "d2ba2b49-cc47-4e06-f88b-86e342b1ef7f"
      },
      "source": [
        "acc_val = []\n",
        "acc_test = []\n",
        "\n",
        "for i in range(executions):\n",
        "  acc_val.append(sum(histories[i].history['accuracy']) / len(histories[i].history['accuracy']))\n",
        "  acc_test.append(evaluations[i][1])\n",
        "\n",
        "acc_val"
      ],
      "execution_count": 15,
      "outputs": [
        {
          "output_type": "execute_result",
          "data": {
            "text/plain": [
              "[0.9578366756439209,\n",
              " 0.9582333326339721,\n",
              " 0.9577299952507019,\n",
              " 0.957859992980957,\n",
              " 0.9575699925422668]"
            ]
          },
          "metadata": {
            "tags": []
          },
          "execution_count": 15
        }
      ]
    },
    {
      "cell_type": "code",
      "metadata": {
        "colab": {
          "base_uri": "https://localhost:8080/"
        },
        "id": "TgGYTgncgp-c",
        "outputId": "a169be8a-f5c4-4233-ca0c-e4a48e2fcf25"
      },
      "source": [
        "acc_test"
      ],
      "execution_count": 16,
      "outputs": [
        {
          "output_type": "execute_result",
          "data": {
            "text/plain": [
              "[0.9793000221252441,\n",
              " 0.9793999791145325,\n",
              " 0.9805999994277954,\n",
              " 0.9781000018119812,\n",
              " 0.9778000116348267]"
            ]
          },
          "metadata": {
            "tags": []
          },
          "execution_count": 16
        }
      ]
    },
    {
      "cell_type": "markdown",
      "metadata": {
        "id": "HJXLRxAHkW92"
      },
      "source": [
        "#### Average validation accuracy (training set)"
      ]
    },
    {
      "cell_type": "code",
      "metadata": {
        "colab": {
          "base_uri": "https://localhost:8080/"
        },
        "id": "cdv7mKt9kau1",
        "outputId": "ed6e5804-7d9f-47d0-a6bd-2d9fd3fccf58"
      },
      "source": [
        "avg_acc_val = sum(acc_val)/len(acc_val)\n",
        "avg_acc_val"
      ],
      "execution_count": 17,
      "outputs": [
        {
          "output_type": "execute_result",
          "data": {
            "text/plain": [
              "0.9578459978103637"
            ]
          },
          "metadata": {
            "tags": []
          },
          "execution_count": 17
        }
      ]
    },
    {
      "cell_type": "markdown",
      "metadata": {
        "id": "Q8S3NCLjhrRH"
      },
      "source": [
        "#### Average test accuracy"
      ]
    },
    {
      "cell_type": "code",
      "metadata": {
        "colab": {
          "base_uri": "https://localhost:8080/"
        },
        "id": "1jSaB0MGfpUz",
        "outputId": "17f78b74-9802-4ffc-e3f1-62c8cd3dc08f"
      },
      "source": [
        "avg_acc_test = sum(acc_test)/len(acc_test)\n",
        "avg_acc_test"
      ],
      "execution_count": 18,
      "outputs": [
        {
          "output_type": "execute_result",
          "data": {
            "text/plain": [
              "0.979040002822876"
            ]
          },
          "metadata": {
            "tags": []
          },
          "execution_count": 18
        }
      ]
    },
    {
      "cell_type": "markdown",
      "metadata": {
        "id": "iYvQcD_Al0HL"
      },
      "source": [
        "# MODIFIED MODEL\n",
        "\n",
        "• Goal: Better test accuracy results"
      ]
    },
    {
      "cell_type": "markdown",
      "metadata": {
        "id": "ztiCQXlun8ys"
      },
      "source": [
        "### Holdout"
      ]
    },
    {
      "cell_type": "code",
      "metadata": {
        "colab": {
          "base_uri": "https://localhost:8080/"
        },
        "id": "_7-wbXdzmEW4",
        "outputId": "8c9e826f-a546-4fdf-daa7-bad716a9dc6c"
      },
      "source": [
        "print('x_train shape:', x_train.shape)\n",
        "print('x_test shape:', x_test.shape)\n",
        "print('y_train shape:', y_train.shape)\n",
        "print('y_test shape:', y_test.shape)"
      ],
      "execution_count": 19,
      "outputs": [
        {
          "output_type": "stream",
          "text": [
            "x_train shape: (60000, 28, 28)\n",
            "x_test shape: (10000, 28, 28)\n",
            "y_train shape: (60000,)\n",
            "y_test shape: (10000,)\n"
          ],
          "name": "stdout"
        }
      ]
    },
    {
      "cell_type": "markdown",
      "metadata": {
        "id": "Qbjn2Z6I2gGR"
      },
      "source": [
        "One-hot encoding train and test labels:"
      ]
    },
    {
      "cell_type": "code",
      "metadata": {
        "id": "VlwNFE9L2d68"
      },
      "source": [
        "from keras.utils.np_utils import to_categorical\n",
        "\n",
        "y_train = to_categorical(y_train, num_classes = 10)\n",
        "y_test = to_categorical(y_test, num_classes = 10)"
      ],
      "execution_count": 20,
      "outputs": []
    },
    {
      "cell_type": "markdown",
      "metadata": {
        "id": "jl3_WMNppz2l"
      },
      "source": [
        "20% for validation set\n",
        "\n",
        "80% for training set"
      ]
    },
    {
      "cell_type": "code",
      "metadata": {
        "id": "dxVVgp0Fpi8i"
      },
      "source": [
        "from sklearn.model_selection import train_test_split\n",
        "train_data, train_data_val, train_labels, train_labels_val = train_test_split(x_train, y_train, test_size = 0.2, random_state=261663)"
      ],
      "execution_count": 21,
      "outputs": []
    },
    {
      "cell_type": "code",
      "metadata": {
        "colab": {
          "base_uri": "https://localhost:8080/"
        },
        "id": "fSgMm-HVpjP7",
        "outputId": "d2191241-9eb5-48cf-e8ff-be354477989a"
      },
      "source": [
        "print('train_data shape:', x_train.shape)\n",
        "print('train_data_val shape:', train_data_val.shape)\n",
        "print('train_labels shape:', y_train.shape)\n",
        "print('train_labels_val shape:', train_labels_val.shape)\n",
        "print('x_test shape:', x_test.shape)\n",
        "print('y_test shape:', y_test.shape)\n"
      ],
      "execution_count": 22,
      "outputs": [
        {
          "output_type": "stream",
          "text": [
            "train_data shape: (60000, 28, 28)\n",
            "train_data_val shape: (12000, 28, 28)\n",
            "train_labels shape: (60000, 10)\n",
            "train_labels_val shape: (12000, 10)\n",
            "x_test shape: (10000, 28, 28)\n",
            "y_test shape: (10000, 10)\n"
          ],
          "name": "stdout"
        }
      ]
    },
    {
      "cell_type": "code",
      "metadata": {
        "id": "vq9A2erHz1Ph"
      },
      "source": [
        "train_data = tf.expand_dims(train_data, axis=-1)\n",
        "train_data_val = tf.expand_dims(train_data_val, axis=-1)\n",
        "\n",
        "x_test = tf.expand_dims(x_test, axis=-1)"
      ],
      "execution_count": 23,
      "outputs": []
    },
    {
      "cell_type": "markdown",
      "metadata": {
        "id": "akHippp-qRI2"
      },
      "source": [
        "### Model\n",
        "\n",
        "Inspired by [LeNet-5, 1998](https://ieeexplore.ieee.org/document/726791), the architecture follows the structure: conv->pool->conv->pool->fc->output\n",
        "\n",
        "Modifications:\n",
        "\n",
        "• Adam with learning rate 0.001\n",
        "\n",
        "• Mini-batch size of 64"
      ]
    },
    {
      "cell_type": "code",
      "metadata": {
        "id": "Om467mg3p-gA"
      },
      "source": [
        "from keras.models import Sequential\n",
        "from keras.layers import Dense, Dropout, Flatten, Conv2D, MaxPool2D\n",
        "\n",
        "\n",
        "model = Sequential()\n",
        "\n",
        "model.add(Conv2D(filters = 16, kernel_size = (5,5), padding = 'Same', \n",
        "                 activation ='relu', input_shape = (28,28,1)))\n",
        "model.add(MaxPool2D(pool_size=(2,2)))\n",
        "model.add(Conv2D(filters = 32, kernel_size = (5,5), padding = 'Same', \n",
        "                 activation ='relu'))\n",
        "model.add(MaxPool2D(pool_size=(2,2)))\n",
        "\n",
        "model.add(Flatten())\n",
        "model.add(Dense(256, activation = \"relu\"))\n",
        "\n",
        "model.add(Dense(10, activation = \"softmax\"))"
      ],
      "execution_count": 24,
      "outputs": []
    },
    {
      "cell_type": "code",
      "metadata": {
        "colab": {
          "base_uri": "https://localhost:8080/"
        },
        "id": "FOi_kaR9xPBw",
        "outputId": "060450ee-80fe-40e9-edaa-2b030ce28048"
      },
      "source": [
        "model.summary()"
      ],
      "execution_count": 25,
      "outputs": [
        {
          "output_type": "stream",
          "text": [
            "Model: \"sequential_6\"\n",
            "_________________________________________________________________\n",
            "Layer (type)                 Output Shape              Param #   \n",
            "=================================================================\n",
            "conv2d (Conv2D)              (None, 28, 28, 16)        416       \n",
            "_________________________________________________________________\n",
            "max_pooling2d (MaxPooling2D) (None, 14, 14, 16)        0         \n",
            "_________________________________________________________________\n",
            "conv2d_1 (Conv2D)            (None, 14, 14, 32)        12832     \n",
            "_________________________________________________________________\n",
            "max_pooling2d_1 (MaxPooling2 (None, 7, 7, 32)          0         \n",
            "_________________________________________________________________\n",
            "flatten_6 (Flatten)          (None, 1568)              0         \n",
            "_________________________________________________________________\n",
            "dense_12 (Dense)             (None, 256)               401664    \n",
            "_________________________________________________________________\n",
            "dense_13 (Dense)             (None, 10)                2570      \n",
            "=================================================================\n",
            "Total params: 417,482\n",
            "Trainable params: 417,482\n",
            "Non-trainable params: 0\n",
            "_________________________________________________________________\n"
          ],
          "name": "stdout"
        }
      ]
    },
    {
      "cell_type": "code",
      "metadata": {
        "id": "64q5Wn0axb8o"
      },
      "source": [
        "from keras.optimizers import Adam\n",
        "model.compile(optimizer = Adam(lr=0.001),\n",
        "              loss = \"categorical_crossentropy\",\n",
        "              metrics=[\"accuracy\"])"
      ],
      "execution_count": 26,
      "outputs": []
    },
    {
      "cell_type": "code",
      "metadata": {
        "colab": {
          "base_uri": "https://localhost:8080/"
        },
        "id": "uRJS0PCYx_qZ",
        "outputId": "863147bd-c544-477c-870b-ea4c98c2944c"
      },
      "source": [
        "history = model.fit(train_data, train_labels,\n",
        "                    batch_size = 64, \n",
        "                    epochs = 25, \n",
        "                    validation_data = (train_data_val, train_labels_val), verbose = 2)"
      ],
      "execution_count": 27,
      "outputs": [
        {
          "output_type": "stream",
          "text": [
            "Epoch 1/25\n",
            "750/750 - 32s - loss: 0.1612 - accuracy: 0.9519 - val_loss: 0.0531 - val_accuracy: 0.9835\n",
            "Epoch 2/25\n",
            "750/750 - 2s - loss: 0.0520 - accuracy: 0.9841 - val_loss: 0.0420 - val_accuracy: 0.9882\n",
            "Epoch 3/25\n",
            "750/750 - 2s - loss: 0.0347 - accuracy: 0.9894 - val_loss: 0.0319 - val_accuracy: 0.9910\n",
            "Epoch 4/25\n",
            "750/750 - 2s - loss: 0.0260 - accuracy: 0.9921 - val_loss: 0.0328 - val_accuracy: 0.9898\n",
            "Epoch 5/25\n",
            "750/750 - 2s - loss: 0.0195 - accuracy: 0.9937 - val_loss: 0.0401 - val_accuracy: 0.9898\n",
            "Epoch 6/25\n",
            "750/750 - 2s - loss: 0.0150 - accuracy: 0.9953 - val_loss: 0.0347 - val_accuracy: 0.9894\n",
            "Epoch 7/25\n",
            "750/750 - 2s - loss: 0.0127 - accuracy: 0.9959 - val_loss: 0.0312 - val_accuracy: 0.9912\n",
            "Epoch 8/25\n",
            "750/750 - 2s - loss: 0.0111 - accuracy: 0.9963 - val_loss: 0.0272 - val_accuracy: 0.9927\n",
            "Epoch 9/25\n",
            "750/750 - 2s - loss: 0.0085 - accuracy: 0.9973 - val_loss: 0.0459 - val_accuracy: 0.9896\n",
            "Epoch 10/25\n",
            "750/750 - 2s - loss: 0.0080 - accuracy: 0.9975 - val_loss: 0.0474 - val_accuracy: 0.9886\n",
            "Epoch 11/25\n",
            "750/750 - 2s - loss: 0.0071 - accuracy: 0.9975 - val_loss: 0.0342 - val_accuracy: 0.9926\n",
            "Epoch 12/25\n",
            "750/750 - 2s - loss: 0.0048 - accuracy: 0.9986 - val_loss: 0.0436 - val_accuracy: 0.9898\n",
            "Epoch 13/25\n",
            "750/750 - 2s - loss: 0.0064 - accuracy: 0.9979 - val_loss: 0.0397 - val_accuracy: 0.9901\n",
            "Epoch 14/25\n",
            "750/750 - 2s - loss: 0.0057 - accuracy: 0.9982 - val_loss: 0.0386 - val_accuracy: 0.9914\n",
            "Epoch 15/25\n",
            "750/750 - 2s - loss: 0.0029 - accuracy: 0.9990 - val_loss: 0.0427 - val_accuracy: 0.9904\n",
            "Epoch 16/25\n",
            "750/750 - 2s - loss: 0.0064 - accuracy: 0.9980 - val_loss: 0.0507 - val_accuracy: 0.9900\n",
            "Epoch 17/25\n",
            "750/750 - 2s - loss: 0.0054 - accuracy: 0.9983 - val_loss: 0.0530 - val_accuracy: 0.9894\n",
            "Epoch 18/25\n",
            "750/750 - 2s - loss: 0.0060 - accuracy: 0.9979 - val_loss: 0.0445 - val_accuracy: 0.9910\n",
            "Epoch 19/25\n",
            "750/750 - 2s - loss: 0.0023 - accuracy: 0.9993 - val_loss: 0.0374 - val_accuracy: 0.9930\n",
            "Epoch 20/25\n",
            "750/750 - 2s - loss: 0.0042 - accuracy: 0.9987 - val_loss: 0.0565 - val_accuracy: 0.9888\n",
            "Epoch 21/25\n",
            "750/750 - 2s - loss: 0.0032 - accuracy: 0.9990 - val_loss: 0.0538 - val_accuracy: 0.9912\n",
            "Epoch 22/25\n",
            "750/750 - 2s - loss: 0.0032 - accuracy: 0.9991 - val_loss: 0.0578 - val_accuracy: 0.9904\n",
            "Epoch 23/25\n",
            "750/750 - 2s - loss: 0.0031 - accuracy: 0.9991 - val_loss: 0.0481 - val_accuracy: 0.9911\n",
            "Epoch 24/25\n",
            "750/750 - 2s - loss: 0.0035 - accuracy: 0.9989 - val_loss: 0.0502 - val_accuracy: 0.9927\n",
            "Epoch 25/25\n",
            "750/750 - 2s - loss: 0.0045 - accuracy: 0.9985 - val_loss: 0.0514 - val_accuracy: 0.9907\n"
          ],
          "name": "stdout"
        }
      ]
    },
    {
      "cell_type": "markdown",
      "metadata": {
        "id": "iEeyipHBf4Us"
      },
      "source": [
        "### Test Accuracy"
      ]
    },
    {
      "cell_type": "code",
      "metadata": {
        "colab": {
          "base_uri": "https://localhost:8080/"
        },
        "id": "nkMyGMrvyXc2",
        "outputId": "5b15b0c0-129a-4bdb-a19f-1d9e6b568577"
      },
      "source": [
        "model.evaluate(x_test, y_test)"
      ],
      "execution_count": 28,
      "outputs": [
        {
          "output_type": "stream",
          "text": [
            "313/313 [==============================] - 1s 2ms/step - loss: 0.0436 - accuracy: 0.9907\n"
          ],
          "name": "stdout"
        },
        {
          "output_type": "execute_result",
          "data": {
            "text/plain": [
              "[0.043568532913923264, 0.9907000064849854]"
            ]
          },
          "metadata": {
            "tags": []
          },
          "execution_count": 28
        }
      ]
    },
    {
      "cell_type": "markdown",
      "metadata": {
        "id": "YXMOIthRKfcz"
      },
      "source": [
        "## Plot"
      ]
    },
    {
      "cell_type": "code",
      "metadata": {
        "colab": {
          "base_uri": "https://localhost:8080/",
          "height": 404
        },
        "id": "UyqHIG-sKfLT",
        "outputId": "d349aa02-d142-4dd3-861f-1b57a1063994"
      },
      "source": [
        "plt.figure(figsize=(8, 6))  \n",
        "plt.plot(history.history['loss'], color='b')\n",
        "plt.plot(history.history['val_loss'], color='r')\n",
        "plt.title('Loss')\n",
        "plt.xlabel('epochs')\n",
        "plt.ylabel('Error')\n",
        "plt.legend(('Training Loss', 'Validation Loss'))\n",
        "plt.show()"
      ],
      "execution_count": 29,
      "outputs": [
        {
          "output_type": "display_data",
          "data": {
            "image/png": "[encoded data removed]",
            "text/plain": [
              "<Figure size 576x432 with 1 Axes>"
            ]
          },
          "metadata": {
            "tags": [],
            "needs_background": "light"
          }
        }
      ]
    },
    {
      "cell_type": "markdown",
      "metadata": {
        "id": "pRjJNMBX5wCd"
      },
      "source": [
        "### Working with multiples executions:"
      ]
    },
    {
      "cell_type": "code",
      "metadata": {
        "colab": {
          "base_uri": "https://localhost:8080/"
        },
        "id": "3HvCwsdp35q-",
        "outputId": "78b45a28-9d54-41e4-b83a-4e41d6764635"
      },
      "source": [
        "executions = 5\n",
        "histories = []\n",
        "evaluations = []\n",
        "\n",
        "for i in range(executions):\n",
        "  tf.keras.backend.clear_session()\n",
        "  model = 0\n",
        "  model = Sequential()\n",
        "  model.add(Conv2D(filters = 16, kernel_size = (5,5), padding = 'Same', \n",
        "                 activation ='relu', input_shape = (28,28,1)))\n",
        "  model.add(MaxPool2D(pool_size=(2,2)))\n",
        "  model.add(Conv2D(filters = 32, kernel_size = (5,5), padding = 'Same', \n",
        "                 activation ='relu'))\n",
        "  model.add(MaxPool2D(pool_size=(2,2)))\n",
        "  model.add(Flatten())\n",
        "  model.add(Dense(256, activation = \"relu\"))\n",
        "  model.add(Dense(10, activation = \"softmax\"))\n",
        "  \n",
        "  print('## Training model number: ', i+1)\n",
        "\n",
        "  model.compile(optimizer = Adam(lr=0.001),\n",
        "                loss = \"categorical_crossentropy\",\n",
        "                metrics=['accuracy'])\n",
        "  \n",
        "  histories.append(model.fit(train_data, train_labels,\n",
        "                             batch_size = 64, \n",
        "                             epochs = 8, \n",
        "                             validation_data = (train_data_val, train_labels_val), verbose = 0))\n",
        "\n",
        "  print('#• Test set:')\n",
        "  evaluations.append(model.evaluate(x_test, y_test))\n",
        "  print('\\n')"
      ],
      "execution_count": 30,
      "outputs": [
        {
          "output_type": "stream",
          "text": [
            "## Training model number:  1\n",
            "#• Test set:\n",
            "313/313 [==============================] - 1s 2ms/step - loss: 0.0360 - accuracy: 0.9890\n",
            "\n",
            "\n",
            "## Training model number:  2\n",
            "#• Test set:\n",
            "313/313 [==============================] - 1s 2ms/step - loss: 0.0271 - accuracy: 0.9920\n",
            "\n",
            "\n",
            "## Training model number:  3\n",
            "#• Test set:\n",
            "313/313 [==============================] - 1s 2ms/step - loss: 0.0391 - accuracy: 0.9894\n",
            "\n",
            "\n",
            "## Training model number:  4\n",
            "#• Test set:\n",
            "313/313 [==============================] - 1s 2ms/step - loss: 0.0351 - accuracy: 0.9911\n",
            "\n",
            "\n",
            "## Training model number:  5\n",
            "#• Test set:\n",
            "313/313 [==============================] - 1s 2ms/step - loss: 0.0335 - accuracy: 0.9900\n",
            "\n",
            "\n"
          ],
          "name": "stdout"
        }
      ]
    },
    {
      "cell_type": "code",
      "metadata": {
        "colab": {
          "base_uri": "https://localhost:8080/"
        },
        "id": "Akf5PdJj6Mut",
        "outputId": "fd3c160a-8b5c-4122-bdc5-bf3d2a991176"
      },
      "source": [
        "histories[0].history.keys()"
      ],
      "execution_count": 31,
      "outputs": [
        {
          "output_type": "execute_result",
          "data": {
            "text/plain": [
              "dict_keys(['loss', 'accuracy', 'val_loss', 'val_accuracy'])"
            ]
          },
          "metadata": {
            "tags": []
          },
          "execution_count": 31
        }
      ]
    },
    {
      "cell_type": "markdown",
      "metadata": {
        "id": "A9NqnQLAQfoo"
      },
      "source": [
        "#### Plot"
      ]
    },
    {
      "cell_type": "code",
      "metadata": {
        "colab": {
          "base_uri": "https://localhost:8080/",
          "height": 404
        },
        "id": "FhOWkv9RQHcC",
        "outputId": "534f7794-2926-4dfa-b533-afb9d78d1834"
      },
      "source": [
        "plt.figure(figsize=(8, 6))  \n",
        "plt.title('Training Error')\n",
        "plt.xlabel('epochs')\n",
        "plt.ylabel('Error')\n",
        "\n",
        "for i in range(executions):\n",
        "  plt.plot(histories[i].history['loss'])\n",
        "plt.show()"
      ],
      "execution_count": 32,
      "outputs": [
        {
          "output_type": "display_data",
          "data": {
            "image/png": "[encoded data removed]",
            "text/plain": [
              "<Figure size 576x432 with 1 Axes>"
            ]
          },
          "metadata": {
            "tags": [],
            "needs_background": "light"
          }
        }
      ]
    },
    {
      "cell_type": "code",
      "metadata": {
        "colab": {
          "base_uri": "https://localhost:8080/"
        },
        "id": "QoFtWrO3_n4N",
        "outputId": "eccd6af8-8c36-4ed9-c011-9fe4f8939d2c"
      },
      "source": [
        "evaluations[0]"
      ],
      "execution_count": 33,
      "outputs": [
        {
          "output_type": "execute_result",
          "data": {
            "text/plain": [
              "[0.03595028072595596, 0.9890000224113464]"
            ]
          },
          "metadata": {
            "tags": []
          },
          "execution_count": 33
        }
      ]
    },
    {
      "cell_type": "code",
      "metadata": {
        "colab": {
          "base_uri": "https://localhost:8080/"
        },
        "id": "XBMGWdp__jU8",
        "outputId": "68bd60f4-869e-4a05-de5e-edd43e6998a2"
      },
      "source": [
        "acc_val = []\n",
        "acc_test = []\n",
        "\n",
        "for i in range(executions):\n",
        "  acc_val.append(sum(histories[i].history['val_accuracy']) / len(histories[i].history['val_accuracy']))\n",
        "  acc_test.append(evaluations[i][1])\n",
        "\n",
        "acc_val"
      ],
      "execution_count": 34,
      "outputs": [
        {
          "output_type": "execute_result",
          "data": {
            "text/plain": [
              "[0.9889687523245811,\n",
              " 0.9881354197859764,\n",
              " 0.9884166717529297,\n",
              " 0.9880729168653488,\n",
              " 0.9878958389163017]"
            ]
          },
          "metadata": {
            "tags": []
          },
          "execution_count": 34
        }
      ]
    },
    {
      "cell_type": "code",
      "metadata": {
        "colab": {
          "base_uri": "https://localhost:8080/"
        },
        "id": "niTMIjuM_rVW",
        "outputId": "de62ca23-e9e3-46f5-c08c-f2a50d05f770"
      },
      "source": [
        "acc_test"
      ],
      "execution_count": 35,
      "outputs": [
        {
          "output_type": "execute_result",
          "data": {
            "text/plain": [
              "[0.9890000224113464,\n",
              " 0.9919999837875366,\n",
              " 0.9894000291824341,\n",
              " 0.991100013256073,\n",
              " 0.9900000095367432]"
            ]
          },
          "metadata": {
            "tags": []
          },
          "execution_count": 35
        }
      ]
    },
    {
      "cell_type": "markdown",
      "metadata": {
        "id": "c9O_lx4v_0IR"
      },
      "source": [
        "#### Average validation accuracy (validation set)"
      ]
    },
    {
      "cell_type": "code",
      "metadata": {
        "colab": {
          "base_uri": "https://localhost:8080/"
        },
        "id": "ZRFr5KUP_tDO",
        "outputId": "3f6bd519-f052-4393-806e-ede1e319ee8a"
      },
      "source": [
        "avg_acc_val = sum(acc_val)/len(acc_val)\n",
        "avg_acc_val"
      ],
      "execution_count": 36,
      "outputs": [
        {
          "output_type": "execute_result",
          "data": {
            "text/plain": [
              "0.9882979199290276"
            ]
          },
          "metadata": {
            "tags": []
          },
          "execution_count": 36
        }
      ]
    },
    {
      "cell_type": "markdown",
      "metadata": {
        "id": "DLpczNYP_z4n"
      },
      "source": [
        "#### Average test accuracy"
      ]
    },
    {
      "cell_type": "code",
      "metadata": {
        "colab": {
          "base_uri": "https://localhost:8080/"
        },
        "id": "d-ns176E_x_B",
        "outputId": "53afc712-c8b8-452d-d141-a4a375102146"
      },
      "source": [
        "avg_acc_test = sum(acc_test)/len(acc_test)\n",
        "avg_acc_test"
      ],
      "execution_count": 37,
      "outputs": [
        {
          "output_type": "execute_result",
          "data": {
            "text/plain": [
              "0.9903000116348266"
            ]
          },
          "metadata": {
            "tags": []
          },
          "execution_count": 37
        }
      ]
    }
  ]
}