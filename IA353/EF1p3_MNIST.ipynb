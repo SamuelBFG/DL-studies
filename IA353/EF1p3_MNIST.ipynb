{
  "nbformat": 4,
  "nbformat_minor": 0,
  "metadata": {
    "colab": {
      "name": "EF1p3_MNIST.ipynb",
      "provenance": [],
      "authorship_tag": "ABX9TyMXjvmrxIuJyDyqfryI0EH5",
      "include_colab_link": true
    },
    "kernelspec": {
      "name": "python3",
      "display_name": "Python 3"
    },
    "language_info": {
      "name": "python"
    },
    "accelerator": "GPU"
  },
  "cells": [
    {
      "cell_type": "markdown",
      "metadata": {
        "id": "view-in-github",
        "colab_type": "text"
      },
      "source": [
        "<a href=\"https://colab.research.google.com/github/SamuelBFG/DL-studies/blob/master/IA353/EF1p3_MNIST.ipynb\" target=\"_parent\"><img src=\"https://colab.research.google.com/assets/colab-badge.svg\" alt=\"Open In Colab\"/></a>"
      ]
    },
    {
      "cell_type": "code",
      "metadata": {
        "id": "ZsiORSDLWGlw"
      },
      "source": [
        "import tensorflow as tf\n",
        "import os"
      ],
      "execution_count": 1,
      "outputs": []
    },
    {
      "cell_type": "code",
      "metadata": {
        "id": "GENscqOmWRTp"
      },
      "source": [
        "mnist = tf.keras.datasets.mnist\n",
        "(x_train, y_train),(x_test, y_test) = mnist.load_data()\n",
        "x_train, x_test = x_train / 255.0, x_test / 255.0"
      ],
      "execution_count": 2,
      "outputs": []
    },
    {
      "cell_type": "code",
      "metadata": {
        "colab": {
          "base_uri": "https://localhost:8080/"
        },
        "id": "oELXYSlxWmUJ",
        "outputId": "a6502c46-6f55-4261-95fe-2027ad397e3f"
      },
      "source": [
        "print('x_train shape:', x_train.shape)\n",
        "print('x_test shape:', x_test.shape)\n",
        "print('y_train shape:', y_train.shape)\n",
        "print('y_test shape:', y_test.shape)"
      ],
      "execution_count": 3,
      "outputs": [
        {
          "output_type": "stream",
          "text": [
            "x_train shape: (60000, 28, 28)\n",
            "x_test shape: (10000, 28, 28)\n",
            "y_train shape: (60000,)\n",
            "y_test shape: (10000,)\n"
          ],
          "name": "stdout"
        }
      ]
    },
    {
      "cell_type": "markdown",
      "metadata": {
        "id": "gj_PHdzJlF1c"
      },
      "source": [
        "# BASELINE MODEL"
      ]
    },
    {
      "cell_type": "code",
      "metadata": {
        "colab": {
          "base_uri": "https://localhost:8080/"
        },
        "id": "6jbE47ksWpeV",
        "outputId": "cf704c69-0f5c-4dfc-d142-739113ef42b6"
      },
      "source": [
        "model = tf.keras.models.Sequential([\n",
        " tf.keras.layers.Flatten(),\n",
        " tf.keras.layers.Dense(512, activation=tf.nn.relu),\n",
        " tf.keras.layers.Dropout(0.5),\n",
        " tf.keras.layers.Dense(10, activation=tf.nn.softmax)\n",
        "])\n",
        "\n",
        "\n",
        "model.compile(optimizer='adam',\n",
        " loss='sparse_categorical_crossentropy',\n",
        " metrics=['accuracy'])\n",
        "\n",
        "history = model.fit(x_train, y_train, epochs=5)"
      ],
      "execution_count": 4,
      "outputs": [
        {
          "output_type": "stream",
          "text": [
            "Epoch 1/5\n",
            "1875/1875 [==============================] - 4s 2ms/step - loss: 0.4276 - accuracy: 0.8713\n",
            "Epoch 2/5\n",
            "1875/1875 [==============================] - 3s 2ms/step - loss: 0.1404 - accuracy: 0.9559\n",
            "Epoch 3/5\n",
            "1875/1875 [==============================] - 3s 2ms/step - loss: 0.1084 - accuracy: 0.9657\n",
            "Epoch 4/5\n",
            "1875/1875 [==============================] - 3s 2ms/step - loss: 0.0878 - accuracy: 0.9730\n",
            "Epoch 5/5\n",
            "1875/1875 [==============================] - 3s 2ms/step - loss: 0.0784 - accuracy: 0.9759\n"
          ],
          "name": "stdout"
        }
      ]
    },
    {
      "cell_type": "code",
      "metadata": {
        "colab": {
          "base_uri": "https://localhost:8080/"
        },
        "id": "OnQrwnKVYXnZ",
        "outputId": "895874a2-3eae-4a30-c45c-be82d0d49282"
      },
      "source": [
        "model.summary()"
      ],
      "execution_count": 5,
      "outputs": [
        {
          "output_type": "stream",
          "text": [
            "Model: \"sequential\"\n",
            "_________________________________________________________________\n",
            "Layer (type)                 Output Shape              Param #   \n",
            "=================================================================\n",
            "flatten (Flatten)            (32, 784)                 0         \n",
            "_________________________________________________________________\n",
            "dense (Dense)                (32, 512)                 401920    \n",
            "_________________________________________________________________\n",
            "dropout (Dropout)            (32, 512)                 0         \n",
            "_________________________________________________________________\n",
            "dense_1 (Dense)              (32, 10)                  5130      \n",
            "=================================================================\n",
            "Total params: 407,050\n",
            "Trainable params: 407,050\n",
            "Non-trainable params: 0\n",
            "_________________________________________________________________\n"
          ],
          "name": "stdout"
        }
      ]
    },
    {
      "cell_type": "markdown",
      "metadata": {
        "id": "Y3p9T_gnFARQ"
      },
      "source": [
        "#### Test Accuracy:"
      ]
    },
    {
      "cell_type": "code",
      "metadata": {
        "colab": {
          "base_uri": "https://localhost:8080/"
        },
        "id": "czOvwKDEYsfk",
        "outputId": "cf6330b7-a434-4274-dd0f-69ab3e3c68cb"
      },
      "source": [
        "model.evaluate(x_test, y_test)"
      ],
      "execution_count": 6,
      "outputs": [
        {
          "output_type": "stream",
          "text": [
            "313/313 [==============================] - 1s 2ms/step - loss: 0.0677 - accuracy: 0.9803\n"
          ],
          "name": "stdout"
        },
        {
          "output_type": "execute_result",
          "data": {
            "text/plain": [
              "[0.06766582280397415, 0.9803000092506409]"
            ]
          },
          "metadata": {
            "tags": []
          },
          "execution_count": 6
        }
      ]
    },
    {
      "cell_type": "markdown",
      "metadata": {
        "id": "G0nY3V7GFS95"
      },
      "source": [
        "#### Plot"
      ]
    },
    {
      "cell_type": "code",
      "metadata": {
        "colab": {
          "base_uri": "https://localhost:8080/",
          "height": 404
        },
        "id": "xFldUXfXFU9F",
        "outputId": "bf2a15e7-f692-4edd-f170-44ebaeaf9cf5"
      },
      "source": [
        "import matplotlib.pyplot as plt\n",
        "plt.figure(figsize=(8, 6))  \n",
        "plt.plot(history.history['loss'], color='b')\n",
        "plt.title('Training Loss')\n",
        "plt.xlabel('epochs')\n",
        "plt.ylabel('Error')\n",
        "plt.show()"
      ],
      "execution_count": 7,
      "outputs": [
        {
          "output_type": "display_data",
          "data": {
            "image/png": "[encoded data removed]",
            "text/plain": [
              "<Figure size 576x432 with 1 Axes>"
            ]
          },
          "metadata": {
            "tags": [],
            "needs_background": "light"
          }
        }
      ]
    },
    {
      "cell_type": "code",
      "metadata": {
        "colab": {
          "base_uri": "https://localhost:8080/",
          "height": 52
        },
        "id": "vfF8YNiXX334",
        "outputId": "51b1d736-7477-49ed-d734-fb946b3329d1"
      },
      "source": [
        "model_json = model.to_json()\n",
        "json_file = open(\"model_MLP.json\", \"w\")\n",
        "json_file.write(model_json)\n",
        "json_file.close()\n",
        "model.save_weights(\"model_MLP.h5\")\n",
        "print(\"Model saved to disk\")\n",
        "os.getcwd()"
      ],
      "execution_count": 8,
      "outputs": [
        {
          "output_type": "stream",
          "text": [
            "Model saved to disk\n"
          ],
          "name": "stdout"
        },
        {
          "output_type": "execute_result",
          "data": {
            "application/vnd.google.colaboratory.intrinsic+json": {
              "type": "string"
            },
            "text/plain": [
              "'/content'"
            ]
          },
          "metadata": {
            "tags": []
          },
          "execution_count": 8
        }
      ]
    },
    {
      "cell_type": "markdown",
      "metadata": {
        "id": "JIdQ23a_ZmVD"
      },
      "source": [
        "### Working with multiples executions:"
      ]
    },
    {
      "cell_type": "code",
      "metadata": {
        "colab": {
          "base_uri": "https://localhost:8080/"
        },
        "id": "RhhKOcs_YtjV",
        "outputId": "68ab032d-c1d5-42a0-a4b0-d0e0a96bfd91"
      },
      "source": [
        "executions = 5\n",
        "histories = []\n",
        "evaluations = []\n",
        "\n",
        "for i in range(executions):\n",
        "  model = tf.keras.models.Sequential([\n",
        "                                      tf.keras.layers.Flatten(),\n",
        "                                      tf.keras.layers.Dense(512, activation=tf.nn.relu),\n",
        "                                      tf.keras.layers.Dropout(0.5),\n",
        "                                      tf.keras.layers.Dense(10, activation=tf.nn.softmax)\n",
        "                                      ])\n",
        "  \n",
        "  print('## Training model number: ', i+1)\n",
        "\n",
        "  model.compile(optimizer='adam',\n",
        "                      loss='sparse_categorical_crossentropy',\n",
        "                      metrics=['accuracy'])\n",
        "  \n",
        "  histories.append(model.fit(x_train, y_train, epochs=5, verbose=0))\n",
        "\n",
        "  print('#• Test set:')\n",
        "  evaluations.append(model.evaluate(x_test, y_test))\n",
        "  print('\\n')"
      ],
      "execution_count": 9,
      "outputs": [
        {
          "output_type": "stream",
          "text": [
            "## Training model number:  1\n",
            "#• Test set:\n",
            "313/313 [==============================] - 1s 2ms/step - loss: 0.0608 - accuracy: 0.9818\n",
            "\n",
            "\n",
            "## Training model number:  2\n",
            "#• Test set:\n",
            "313/313 [==============================] - 1s 2ms/step - loss: 0.0703 - accuracy: 0.9791\n",
            "\n",
            "\n",
            "## Training model number:  3\n",
            "#• Test set:\n",
            "313/313 [==============================] - 1s 2ms/step - loss: 0.0739 - accuracy: 0.9801\n",
            "\n",
            "\n",
            "## Training model number:  4\n",
            "#• Test set:\n",
            "313/313 [==============================] - 1s 2ms/step - loss: 0.0637 - accuracy: 0.9792\n",
            "\n",
            "\n",
            "## Training model number:  5\n",
            "#• Test set:\n",
            "313/313 [==============================] - 1s 2ms/step - loss: 0.0716 - accuracy: 0.9777\n",
            "\n",
            "\n"
          ],
          "name": "stdout"
        }
      ]
    },
    {
      "cell_type": "code",
      "metadata": {
        "colab": {
          "base_uri": "https://localhost:8080/"
        },
        "id": "B5wcu-ZkbXLM",
        "outputId": "0f19edcd-aca8-474c-85ea-50813ceb5767"
      },
      "source": [
        "histories[0].history.keys()"
      ],
      "execution_count": 10,
      "outputs": [
        {
          "output_type": "execute_result",
          "data": {
            "text/plain": [
              "dict_keys(['loss', 'accuracy'])"
            ]
          },
          "metadata": {
            "tags": []
          },
          "execution_count": 10
        }
      ]
    },
    {
      "cell_type": "code",
      "metadata": {
        "colab": {
          "base_uri": "https://localhost:8080/",
          "height": 265
        },
        "id": "lTL4NXSsJWyC",
        "outputId": "cd7fbccb-ac58-47bf-fcb9-c37c68221ca1"
      },
      "source": [
        "plt.figure(figsize=(8, 6))  \n",
        "plt.xlabel('epochs')\n",
        "plt.ylabel('Error')\n",
        "for i in range(executions):\n",
        "  plt.plot(histories[i].history['loss'])\n",
        "plt.show()"
      ],
      "execution_count": 11,
      "outputs": [
        {
          "output_type": "display_data",
          "data": {
            "image/png": "[encoded data removed]",
            "text/plain": [
              "<Figure size 432x288 with 1 Axes>"
            ]
          },
          "metadata": {
            "tags": [],
            "needs_background": "light"
          }
        }
      ]
    },
    {
      "cell_type": "code",
      "metadata": {
        "colab": {
          "base_uri": "https://localhost:8080/"
        },
        "id": "Vj1rix6PcBiG",
        "outputId": "4b179f4f-b354-43df-849a-6434b5f89916"
      },
      "source": [
        "histories[-1].history['accuracy'] # Last training acc log per epochs"
      ],
      "execution_count": 12,
      "outputs": [
        {
          "output_type": "execute_result",
          "data": {
            "text/plain": [
              "[0.9208166599273682,\n",
              " 0.9589333534240723,\n",
              " 0.9667999744415283,\n",
              " 0.9713166952133179,\n",
              " 0.974049985408783]"
            ]
          },
          "metadata": {
            "tags": []
          },
          "execution_count": 12
        }
      ]
    },
    {
      "cell_type": "code",
      "metadata": {
        "colab": {
          "base_uri": "https://localhost:8080/"
        },
        "id": "k9Wt_ZXBcrDJ",
        "outputId": "3eb25790-6717-4274-872a-6ead2c8a6e79"
      },
      "source": [
        "evaluations[0] # Loss and acc for the first model (LIST)"
      ],
      "execution_count": 13,
      "outputs": [
        {
          "output_type": "execute_result",
          "data": {
            "text/plain": [
              "[0.0607842355966568, 0.9818000197410583]"
            ]
          },
          "metadata": {
            "tags": []
          },
          "execution_count": 13
        }
      ]
    },
    {
      "cell_type": "code",
      "metadata": {
        "colab": {
          "base_uri": "https://localhost:8080/"
        },
        "id": "rOdn6XsHe3VY",
        "outputId": "73c6bd59-8135-4fe3-bc8a-73c70a9b03e0"
      },
      "source": [
        "acc_val = []\n",
        "acc_test = []\n",
        "\n",
        "for i in range(executions):\n",
        "  acc_val.append(sum(histories[i].history['accuracy']) / len(histories[i].history['accuracy']))\n",
        "  acc_test.append(evaluations[i][1])\n",
        "\n",
        "acc_val"
      ],
      "execution_count": 14,
      "outputs": [
        {
          "output_type": "execute_result",
          "data": {
            "text/plain": [
              "[0.9581000089645386,\n",
              " 0.9576733350753784,\n",
              " 0.9577133417129516,\n",
              " 0.9579466700553894,\n",
              " 0.9583833336830139]"
            ]
          },
          "metadata": {
            "tags": []
          },
          "execution_count": 14
        }
      ]
    },
    {
      "cell_type": "code",
      "metadata": {
        "colab": {
          "base_uri": "https://localhost:8080/"
        },
        "id": "TgGYTgncgp-c",
        "outputId": "b6615f6f-32b6-466c-8ad2-fb9aad659797"
      },
      "source": [
        "acc_test"
      ],
      "execution_count": 15,
      "outputs": [
        {
          "output_type": "execute_result",
          "data": {
            "text/plain": [
              "[0.9818000197410583,\n",
              " 0.9790999889373779,\n",
              " 0.9800999760627747,\n",
              " 0.979200005531311,\n",
              " 0.9776999950408936]"
            ]
          },
          "metadata": {
            "tags": []
          },
          "execution_count": 15
        }
      ]
    },
    {
      "cell_type": "markdown",
      "metadata": {
        "id": "HJXLRxAHkW92"
      },
      "source": [
        "#### Average validation accuracy (training set)"
      ]
    },
    {
      "cell_type": "code",
      "metadata": {
        "colab": {
          "base_uri": "https://localhost:8080/"
        },
        "id": "cdv7mKt9kau1",
        "outputId": "e287382f-7780-444a-f8b2-8a14a4f67ae2"
      },
      "source": [
        "avg_acc_val = sum(acc_val)/len(acc_val)\n",
        "avg_acc_val"
      ],
      "execution_count": 16,
      "outputs": [
        {
          "output_type": "execute_result",
          "data": {
            "text/plain": [
              "0.9579633378982544"
            ]
          },
          "metadata": {
            "tags": []
          },
          "execution_count": 16
        }
      ]
    },
    {
      "cell_type": "markdown",
      "metadata": {
        "id": "Q8S3NCLjhrRH"
      },
      "source": [
        "#### Average test accuracy"
      ]
    },
    {
      "cell_type": "code",
      "metadata": {
        "colab": {
          "base_uri": "https://localhost:8080/"
        },
        "id": "1jSaB0MGfpUz",
        "outputId": "4dfce6b6-5d84-41ca-82cc-791a59e5dffb"
      },
      "source": [
        "avg_acc_test = sum(acc_test)/len(acc_test)\n",
        "avg_acc_test"
      ],
      "execution_count": 17,
      "outputs": [
        {
          "output_type": "execute_result",
          "data": {
            "text/plain": [
              "0.9795799970626831"
            ]
          },
          "metadata": {
            "tags": []
          },
          "execution_count": 17
        }
      ]
    },
    {
      "cell_type": "markdown",
      "metadata": {
        "id": "iYvQcD_Al0HL"
      },
      "source": [
        "# MODIFIED MODEL\n",
        "\n",
        "• Goal: Better test accuracy results"
      ]
    },
    {
      "cell_type": "markdown",
      "metadata": {
        "id": "ztiCQXlun8ys"
      },
      "source": [
        "### Holdout:"
      ]
    },
    {
      "cell_type": "code",
      "metadata": {
        "colab": {
          "base_uri": "https://localhost:8080/"
        },
        "id": "_7-wbXdzmEW4",
        "outputId": "01fc47c4-ba5a-422a-9569-729453ef0893"
      },
      "source": [
        "print('x_train shape:', x_train.shape)\n",
        "print('x_test shape:', x_test.shape)\n",
        "print('y_train shape:', y_train.shape)\n",
        "print('y_test shape:', y_test.shape)"
      ],
      "execution_count": 18,
      "outputs": [
        {
          "output_type": "stream",
          "text": [
            "x_train shape: (60000, 28, 28)\n",
            "x_test shape: (10000, 28, 28)\n",
            "y_train shape: (60000,)\n",
            "y_test shape: (10000,)\n"
          ],
          "name": "stdout"
        }
      ]
    },
    {
      "cell_type": "markdown",
      "metadata": {
        "id": "Qbjn2Z6I2gGR"
      },
      "source": [
        "One-hot encoding train and test labels:"
      ]
    },
    {
      "cell_type": "code",
      "metadata": {
        "id": "VlwNFE9L2d68"
      },
      "source": [
        "from keras.utils.np_utils import to_categorical\n",
        "\n",
        "y_train = to_categorical(y_train, num_classes = 10)\n",
        "y_test = to_categorical(y_test, num_classes = 10)"
      ],
      "execution_count": 19,
      "outputs": []
    },
    {
      "cell_type": "markdown",
      "metadata": {
        "id": "jl3_WMNppz2l"
      },
      "source": [
        "20% for validation set\n",
        "\n",
        "80% for training set"
      ]
    },
    {
      "cell_type": "code",
      "metadata": {
        "id": "dxVVgp0Fpi8i"
      },
      "source": [
        "from sklearn.model_selection import train_test_split\n",
        "train_data, train_data_val, train_labels, train_labels_val = train_test_split(x_train, y_train, test_size = 0.2, random_state=261663)"
      ],
      "execution_count": 20,
      "outputs": []
    },
    {
      "cell_type": "code",
      "metadata": {
        "colab": {
          "base_uri": "https://localhost:8080/"
        },
        "id": "fSgMm-HVpjP7",
        "outputId": "97edad2a-e3af-4537-eba9-163d636d1d83"
      },
      "source": [
        "print('train_data shape:', x_train.shape)\n",
        "print('train_data_val shape:', train_data_val.shape)\n",
        "print('train_labels shape:', y_train.shape)\n",
        "print('train_labels_val shape:', train_labels_val.shape)\n",
        "print('x_test shape:', x_test.shape)\n",
        "print('y_test shape:', y_test.shape)\n"
      ],
      "execution_count": 21,
      "outputs": [
        {
          "output_type": "stream",
          "text": [
            "train_data shape: (60000, 28, 28)\n",
            "train_data_val shape: (12000, 28, 28)\n",
            "train_labels shape: (60000, 10)\n",
            "train_labels_val shape: (12000, 10)\n",
            "x_test shape: (10000, 28, 28)\n",
            "y_test shape: (10000, 10)\n"
          ],
          "name": "stdout"
        }
      ]
    },
    {
      "cell_type": "code",
      "metadata": {
        "id": "vq9A2erHz1Ph"
      },
      "source": [
        "train_data = tf.expand_dims(train_data, axis=-1)\n",
        "train_data_val = tf.expand_dims(train_data_val, axis=-1)\n",
        "\n",
        "x_test = tf.expand_dims(x_test, axis=-1)"
      ],
      "execution_count": 22,
      "outputs": []
    },
    {
      "cell_type": "markdown",
      "metadata": {
        "id": "akHippp-qRI2"
      },
      "source": [
        "### Model\n",
        "\n",
        "Inspired by [LeNet-5, 1998](https://ieeexplore.ieee.org/document/726791), the architecture follows the structure: conv->pool->conv->pool->fc->output\n",
        "\n",
        "Modifications:\n",
        "• Adam with learning rate 0.001\n",
        "• Mini-batch size of 64"
      ]
    },
    {
      "cell_type": "code",
      "metadata": {
        "id": "Om467mg3p-gA"
      },
      "source": [
        "from keras.models import Sequential\n",
        "from keras.layers import Dense, Dropout, Flatten, Conv2D, MaxPool2D\n",
        "\n",
        "\n",
        "model = Sequential()\n",
        "\n",
        "model.add(Conv2D(filters = 16, kernel_size = (5,5), padding = 'Same', \n",
        "                 activation ='relu', input_shape = (28,28,1)))\n",
        "model.add(MaxPool2D(pool_size=(2,2)))\n",
        "model.add(Conv2D(filters = 32, kernel_size = (5,5), padding = 'Same', \n",
        "                 activation ='relu'))\n",
        "model.add(MaxPool2D(pool_size=(2,2)))\n",
        "\n",
        "model.add(Flatten())\n",
        "model.add(Dense(256, activation = \"relu\"))\n",
        "\n",
        "model.add(Dense(10, activation = \"softmax\"))"
      ],
      "execution_count": 23,
      "outputs": []
    },
    {
      "cell_type": "code",
      "metadata": {
        "colab": {
          "base_uri": "https://localhost:8080/"
        },
        "id": "FOi_kaR9xPBw",
        "outputId": "e0606195-427a-409d-cd6a-bb26e46e605b"
      },
      "source": [
        "model.summary()"
      ],
      "execution_count": 24,
      "outputs": [
        {
          "output_type": "stream",
          "text": [
            "Model: \"sequential_6\"\n",
            "_________________________________________________________________\n",
            "Layer (type)                 Output Shape              Param #   \n",
            "=================================================================\n",
            "conv2d (Conv2D)              (None, 28, 28, 16)        416       \n",
            "_________________________________________________________________\n",
            "max_pooling2d (MaxPooling2D) (None, 14, 14, 16)        0         \n",
            "_________________________________________________________________\n",
            "conv2d_1 (Conv2D)            (None, 14, 14, 32)        12832     \n",
            "_________________________________________________________________\n",
            "max_pooling2d_1 (MaxPooling2 (None, 7, 7, 32)          0         \n",
            "_________________________________________________________________\n",
            "flatten_6 (Flatten)          (None, 1568)              0         \n",
            "_________________________________________________________________\n",
            "dense_12 (Dense)             (None, 256)               401664    \n",
            "_________________________________________________________________\n",
            "dense_13 (Dense)             (None, 10)                2570      \n",
            "=================================================================\n",
            "Total params: 417,482\n",
            "Trainable params: 417,482\n",
            "Non-trainable params: 0\n",
            "_________________________________________________________________\n"
          ],
          "name": "stdout"
        }
      ]
    },
    {
      "cell_type": "code",
      "metadata": {
        "id": "64q5Wn0axb8o"
      },
      "source": [
        "from keras.optimizers import Adam\n",
        "model.compile(optimizer = Adam(lr=0.001),\n",
        "              loss = \"categorical_crossentropy\",\n",
        "              metrics=[\"accuracy\"])"
      ],
      "execution_count": 25,
      "outputs": []
    },
    {
      "cell_type": "code",
      "metadata": {
        "colab": {
          "base_uri": "https://localhost:8080/"
        },
        "id": "uRJS0PCYx_qZ",
        "outputId": "68c88ad4-f444-4d7a-a861-65f0b6a7516a"
      },
      "source": [
        "history = model.fit(train_data, train_labels,\n",
        "                    batch_size = 64, \n",
        "                    epochs = 25, \n",
        "                    validation_data = (train_data_val, train_labels_val), verbose = 2)"
      ],
      "execution_count": 26,
      "outputs": [
        {
          "output_type": "stream",
          "text": [
            "Epoch 1/25\n",
            "750/750 - 4s - loss: 0.1671 - accuracy: 0.9485 - val_loss: 0.0583 - val_accuracy: 0.9829\n",
            "Epoch 2/25\n",
            "750/750 - 2s - loss: 0.0508 - accuracy: 0.9846 - val_loss: 0.0431 - val_accuracy: 0.9875\n",
            "Epoch 3/25\n",
            "750/750 - 2s - loss: 0.0337 - accuracy: 0.9896 - val_loss: 0.0352 - val_accuracy: 0.9897\n",
            "Epoch 4/25\n",
            "750/750 - 2s - loss: 0.0251 - accuracy: 0.9919 - val_loss: 0.0399 - val_accuracy: 0.9886\n",
            "Epoch 5/25\n",
            "750/750 - 2s - loss: 0.0189 - accuracy: 0.9939 - val_loss: 0.0364 - val_accuracy: 0.9893\n",
            "Epoch 6/25\n",
            "750/750 - 2s - loss: 0.0156 - accuracy: 0.9951 - val_loss: 0.0291 - val_accuracy: 0.9911\n",
            "Epoch 7/25\n",
            "750/750 - 2s - loss: 0.0121 - accuracy: 0.9958 - val_loss: 0.0346 - val_accuracy: 0.9911\n",
            "Epoch 8/25\n",
            "750/750 - 2s - loss: 0.0090 - accuracy: 0.9970 - val_loss: 0.0330 - val_accuracy: 0.9903\n",
            "Epoch 9/25\n",
            "750/750 - 2s - loss: 0.0088 - accuracy: 0.9973 - val_loss: 0.0453 - val_accuracy: 0.9891\n",
            "Epoch 10/25\n",
            "750/750 - 2s - loss: 0.0061 - accuracy: 0.9980 - val_loss: 0.0392 - val_accuracy: 0.9901\n",
            "Epoch 11/25\n",
            "750/750 - 2s - loss: 0.0072 - accuracy: 0.9976 - val_loss: 0.0409 - val_accuracy: 0.9905\n",
            "Epoch 12/25\n",
            "750/750 - 2s - loss: 0.0087 - accuracy: 0.9970 - val_loss: 0.0429 - val_accuracy: 0.9901\n",
            "Epoch 13/25\n",
            "750/750 - 2s - loss: 0.0044 - accuracy: 0.9986 - val_loss: 0.0411 - val_accuracy: 0.9915\n",
            "Epoch 14/25\n",
            "750/750 - 2s - loss: 0.0044 - accuracy: 0.9987 - val_loss: 0.0363 - val_accuracy: 0.9921\n",
            "Epoch 15/25\n",
            "750/750 - 2s - loss: 0.0040 - accuracy: 0.9985 - val_loss: 0.0478 - val_accuracy: 0.9910\n",
            "Epoch 16/25\n",
            "750/750 - 2s - loss: 0.0052 - accuracy: 0.9984 - val_loss: 0.0426 - val_accuracy: 0.9922\n",
            "Epoch 17/25\n",
            "750/750 - 2s - loss: 0.0044 - accuracy: 0.9985 - val_loss: 0.0451 - val_accuracy: 0.9908\n",
            "Epoch 18/25\n",
            "750/750 - 2s - loss: 0.0043 - accuracy: 0.9988 - val_loss: 0.0417 - val_accuracy: 0.9913\n",
            "Epoch 19/25\n",
            "750/750 - 2s - loss: 0.0046 - accuracy: 0.9985 - val_loss: 0.0471 - val_accuracy: 0.9910\n",
            "Epoch 20/25\n",
            "750/750 - 2s - loss: 0.0028 - accuracy: 0.9991 - val_loss: 0.0387 - val_accuracy: 0.9929\n",
            "Epoch 21/25\n",
            "750/750 - 2s - loss: 0.0033 - accuracy: 0.9988 - val_loss: 0.0569 - val_accuracy: 0.9912\n",
            "Epoch 22/25\n",
            "750/750 - 2s - loss: 0.0053 - accuracy: 0.9984 - val_loss: 0.0520 - val_accuracy: 0.9909\n",
            "Epoch 23/25\n",
            "750/750 - 2s - loss: 0.0027 - accuracy: 0.9991 - val_loss: 0.0489 - val_accuracy: 0.9918\n",
            "Epoch 24/25\n",
            "750/750 - 2s - loss: 0.0036 - accuracy: 0.9989 - val_loss: 0.0488 - val_accuracy: 0.9922\n",
            "Epoch 25/25\n",
            "750/750 - 2s - loss: 0.0014 - accuracy: 0.9994 - val_loss: 0.0565 - val_accuracy: 0.9915\n"
          ],
          "name": "stdout"
        }
      ]
    },
    {
      "cell_type": "code",
      "metadata": {
        "colab": {
          "base_uri": "https://localhost:8080/"
        },
        "id": "nkMyGMrvyXc2",
        "outputId": "973380a0-446d-4c36-a23d-89fbe5d5eea2"
      },
      "source": [
        "model.evaluate(x_test, y_test)"
      ],
      "execution_count": 27,
      "outputs": [
        {
          "output_type": "stream",
          "text": [
            "313/313 [==============================] - 1s 3ms/step - loss: 0.0572 - accuracy: 0.9909\n"
          ],
          "name": "stdout"
        },
        {
          "output_type": "execute_result",
          "data": {
            "text/plain": [
              "[0.057193949818611145, 0.9908999800682068]"
            ]
          },
          "metadata": {
            "tags": []
          },
          "execution_count": 27
        }
      ]
    },
    {
      "cell_type": "markdown",
      "metadata": {
        "id": "YXMOIthRKfcz"
      },
      "source": [
        "## Plot"
      ]
    },
    {
      "cell_type": "code",
      "metadata": {
        "colab": {
          "base_uri": "https://localhost:8080/",
          "height": 404
        },
        "id": "UyqHIG-sKfLT",
        "outputId": "a876fd03-a536-421a-9907-b616324663f0"
      },
      "source": [
        "plt.figure(figsize=(8, 6))  \n",
        "plt.plot(history.history['loss'], color='b', label=\"Training loss\")\n",
        "plt.title('Training Error')\n",
        "plt.xlabel('epochs')\n",
        "plt.ylabel('Error')\n",
        "plt.show()"
      ],
      "execution_count": 28,
      "outputs": [
        {
          "output_type": "display_data",
          "data": {
            "image/png": "[encoded data removed]",
            "text/plain": [
              "<Figure size 576x432 with 1 Axes>"
            ]
          },
          "metadata": {
            "tags": [],
            "needs_background": "light"
          }
        }
      ]
    },
    {
      "cell_type": "markdown",
      "metadata": {
        "id": "pRjJNMBX5wCd"
      },
      "source": [
        "### Working with multiples executions:"
      ]
    },
    {
      "cell_type": "code",
      "metadata": {
        "colab": {
          "base_uri": "https://localhost:8080/"
        },
        "id": "3HvCwsdp35q-",
        "outputId": "abebb7ab-c101-4e61-d70b-9cc571b7d5c4"
      },
      "source": [
        "executions = 5\n",
        "histories = []\n",
        "evaluations = []\n",
        "\n",
        "for i in range(executions):\n",
        "  tf.keras.backend.clear_session()\n",
        "  model = 0\n",
        "  model = Sequential()\n",
        "  model.add(Conv2D(filters = 16, kernel_size = (5,5), padding = 'Same', \n",
        "                 activation ='relu', input_shape = (28,28,1)))\n",
        "  model.add(MaxPool2D(pool_size=(2,2)))\n",
        "  model.add(Conv2D(filters = 32, kernel_size = (5,5), padding = 'Same', \n",
        "                 activation ='relu'))\n",
        "  model.add(MaxPool2D(pool_size=(2,2)))\n",
        "  model.add(Flatten())\n",
        "  model.add(Dense(256, activation = \"relu\"))\n",
        "  model.add(Dense(10, activation = \"softmax\"))\n",
        "  \n",
        "  print('## Training model number: ', i+1)\n",
        "\n",
        "  model.compile(optimizer = Adam(lr=0.001),\n",
        "                loss = \"categorical_crossentropy\",\n",
        "                metrics=['accuracy'])\n",
        "  \n",
        "  histories.append(model.fit(train_data, train_labels,\n",
        "                             batch_size = 64, \n",
        "                             epochs = 10, \n",
        "                             validation_data = (train_data_val, train_labels_val), verbose = 0))\n",
        "\n",
        "  print('#• Test set:')\n",
        "  evaluations.append(model.evaluate(x_test, y_test))\n",
        "  print('\\n')"
      ],
      "execution_count": 29,
      "outputs": [
        {
          "output_type": "stream",
          "text": [
            "## Training model number:  1\n",
            "#• Test set:\n",
            "313/313 [==============================] - 1s 2ms/step - loss: 0.0456 - accuracy: 0.9882\n",
            "\n",
            "\n",
            "## Training model number:  2\n",
            "#• Test set:\n",
            "313/313 [==============================] - 1s 2ms/step - loss: 0.0425 - accuracy: 0.9889\n",
            "\n",
            "\n",
            "## Training model number:  3\n",
            "#• Test set:\n",
            "313/313 [==============================] - 1s 2ms/step - loss: 0.0323 - accuracy: 0.9907\n",
            "\n",
            "\n",
            "## Training model number:  4\n",
            "#• Test set:\n",
            "313/313 [==============================] - 1s 2ms/step - loss: 0.0385 - accuracy: 0.9909\n",
            "\n",
            "\n",
            "## Training model number:  5\n",
            "#• Test set:\n",
            "313/313 [==============================] - 1s 2ms/step - loss: 0.0325 - accuracy: 0.9912\n",
            "\n",
            "\n"
          ],
          "name": "stdout"
        }
      ]
    },
    {
      "cell_type": "code",
      "metadata": {
        "colab": {
          "base_uri": "https://localhost:8080/"
        },
        "id": "Akf5PdJj6Mut",
        "outputId": "37683740-05b0-4b87-ad4d-7a2aec37f094"
      },
      "source": [
        "histories[0].history.keys()"
      ],
      "execution_count": 30,
      "outputs": [
        {
          "output_type": "execute_result",
          "data": {
            "text/plain": [
              "dict_keys(['loss', 'accuracy', 'val_loss', 'val_accuracy'])"
            ]
          },
          "metadata": {
            "tags": []
          },
          "execution_count": 30
        }
      ]
    },
    {
      "cell_type": "markdown",
      "metadata": {
        "id": "A9NqnQLAQfoo"
      },
      "source": [
        "#### Plot"
      ]
    },
    {
      "cell_type": "code",
      "metadata": {
        "colab": {
          "base_uri": "https://localhost:8080/",
          "height": 404
        },
        "id": "FhOWkv9RQHcC",
        "outputId": "5e95efa2-59ec-4a54-b0fe-51028fd2371d"
      },
      "source": [
        "plt.figure(figsize=(8, 6))  \n",
        "plt.title('Training Error')\n",
        "plt.xlabel('epochs')\n",
        "plt.ylabel('Error')\n",
        "\n",
        "for i in range(executions):\n",
        "  plt.plot(histories[i].history['loss'])\n",
        "plt.show()"
      ],
      "execution_count": 31,
      "outputs": [
        {
          "output_type": "display_data",
          "data": {
            "image/png": "[encoded data removed]",
            "text/plain": [
              "<Figure size 576x432 with 1 Axes>"
            ]
          },
          "metadata": {
            "tags": [],
            "needs_background": "light"
          }
        }
      ]
    },
    {
      "cell_type": "code",
      "metadata": {
        "colab": {
          "base_uri": "https://localhost:8080/"
        },
        "id": "QoFtWrO3_n4N",
        "outputId": "14bf0df0-7462-481c-cc57-70ac0009faf3"
      },
      "source": [
        "evaluations[0]"
      ],
      "execution_count": 32,
      "outputs": [
        {
          "output_type": "execute_result",
          "data": {
            "text/plain": [
              "[0.04564037173986435, 0.9882000088691711]"
            ]
          },
          "metadata": {
            "tags": []
          },
          "execution_count": 32
        }
      ]
    },
    {
      "cell_type": "code",
      "metadata": {
        "colab": {
          "base_uri": "https://localhost:8080/"
        },
        "id": "XBMGWdp__jU8",
        "outputId": "aa777e0c-9f5b-4059-e619-a8cd430c65af"
      },
      "source": [
        "acc_val = []\n",
        "acc_test = []\n",
        "\n",
        "for i in range(executions):\n",
        "  acc_val.append(sum(histories[i].history['val_accuracy']) / len(histories[i].history['val_accuracy']))\n",
        "  acc_test.append(evaluations[i][1])\n",
        "\n",
        "acc_val"
      ],
      "execution_count": 33,
      "outputs": [
        {
          "output_type": "execute_result",
          "data": {
            "text/plain": [
              "[0.9885083317756653,\n",
              " 0.9882833302021027,\n",
              " 0.9886416614055633,\n",
              " 0.9887250006198883,\n",
              " 0.9880333304405212]"
            ]
          },
          "metadata": {
            "tags": []
          },
          "execution_count": 33
        }
      ]
    },
    {
      "cell_type": "code",
      "metadata": {
        "colab": {
          "base_uri": "https://localhost:8080/"
        },
        "id": "niTMIjuM_rVW",
        "outputId": "a26dfaec-214b-44bf-b80e-4d4a52734a0f"
      },
      "source": [
        "acc_test"
      ],
      "execution_count": 34,
      "outputs": [
        {
          "output_type": "execute_result",
          "data": {
            "text/plain": [
              "[0.9882000088691711,\n",
              " 0.9889000058174133,\n",
              " 0.9907000064849854,\n",
              " 0.9908999800682068,\n",
              " 0.9911999702453613]"
            ]
          },
          "metadata": {
            "tags": []
          },
          "execution_count": 34
        }
      ]
    },
    {
      "cell_type": "markdown",
      "metadata": {
        "id": "c9O_lx4v_0IR"
      },
      "source": [
        "#### Average validation accuracy (validation set)"
      ]
    },
    {
      "cell_type": "code",
      "metadata": {
        "colab": {
          "base_uri": "https://localhost:8080/"
        },
        "id": "ZRFr5KUP_tDO",
        "outputId": "8b8dd752-22ae-46bd-c51f-485753a7883e"
      },
      "source": [
        "avg_acc_val = sum(acc_val)/len(acc_val)\n",
        "avg_acc_val"
      ],
      "execution_count": 35,
      "outputs": [
        {
          "output_type": "execute_result",
          "data": {
            "text/plain": [
              "0.9884383308887482"
            ]
          },
          "metadata": {
            "tags": []
          },
          "execution_count": 35
        }
      ]
    },
    {
      "cell_type": "markdown",
      "metadata": {
        "id": "DLpczNYP_z4n"
      },
      "source": [
        "#### Average test accuracy"
      ]
    },
    {
      "cell_type": "code",
      "metadata": {
        "colab": {
          "base_uri": "https://localhost:8080/"
        },
        "id": "d-ns176E_x_B",
        "outputId": "030340aa-377e-4bc2-a60b-8186837c6d73"
      },
      "source": [
        "avg_acc_test = sum(acc_test)/len(acc_test)\n",
        "avg_acc_test"
      ],
      "execution_count": 36,
      "outputs": [
        {
          "output_type": "execute_result",
          "data": {
            "text/plain": [
              "0.9899799942970275"
            ]
          },
          "metadata": {
            "tags": []
          },
          "execution_count": 36
        }
      ]
    },
    {
      "cell_type": "code",
      "metadata": {
        "id": "V--0P3xDQysl"
      },
      "source": [
        ""
      ],
      "execution_count": null,
      "outputs": []
    }
  ]
}