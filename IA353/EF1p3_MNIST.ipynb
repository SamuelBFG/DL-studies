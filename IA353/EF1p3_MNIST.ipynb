{
  "nbformat": 4,
  "nbformat_minor": 0,
  "metadata": {
    "colab": {
      "name": "EF1p3_MNIST.ipynb",
      "provenance": [],
      "authorship_tag": "ABX9TyNGHW2tUr7EdXhPj9Vvs1ma",
      "include_colab_link": true
    },
    "kernelspec": {
      "name": "python3",
      "display_name": "Python 3"
    },
    "language_info": {
      "name": "python"
    },
    "accelerator": "GPU"
  },
  "cells": [
    {
      "cell_type": "markdown",
      "metadata": {
        "id": "view-in-github",
        "colab_type": "text"
      },
      "source": [
        "<a href=\"https://colab.research.google.com/github/SamuelBFG/DL-studies/blob/master/IA353/EF1p3_MNIST.ipynb\" target=\"_parent\"><img src=\"https://colab.research.google.com/assets/colab-badge.svg\" alt=\"Open In Colab\"/></a>"
      ]
    },
    {
      "cell_type": "code",
      "metadata": {
        "id": "ZsiORSDLWGlw"
      },
      "source": [
        "import tensorflow as tf\n",
        "import os"
      ],
      "execution_count": 1,
      "outputs": []
    },
    {
      "cell_type": "code",
      "metadata": {
        "id": "GENscqOmWRTp"
      },
      "source": [
        "mnist = tf.keras.datasets.mnist\n",
        "(x_train, y_train),(x_test, y_test) = mnist.load_data()\n",
        "x_train, x_test = x_train / 255.0, x_test / 255.0"
      ],
      "execution_count": 2,
      "outputs": []
    },
    {
      "cell_type": "code",
      "metadata": {
        "colab": {
          "base_uri": "https://localhost:8080/"
        },
        "id": "oELXYSlxWmUJ",
        "outputId": "c8ae6258-9483-4ab0-8e65-35bd4b766929"
      },
      "source": [
        "print('x_train shape:', x_train.shape)\n",
        "print('x_test shape:', x_test.shape)\n",
        "print('y_train shape:', y_train.shape)\n",
        "print('y_test shape:', y_test.shape)"
      ],
      "execution_count": 3,
      "outputs": [
        {
          "output_type": "stream",
          "text": [
            "x_train shape: (60000, 28, 28)\n",
            "x_test shape: (10000, 28, 28)\n",
            "y_train shape: (60000,)\n",
            "y_test shape: (10000,)\n"
          ],
          "name": "stdout"
        }
      ]
    },
    {
      "cell_type": "markdown",
      "metadata": {
        "id": "gj_PHdzJlF1c"
      },
      "source": [
        "# BASELINE MODEL"
      ]
    },
    {
      "cell_type": "code",
      "metadata": {
        "colab": {
          "base_uri": "https://localhost:8080/"
        },
        "id": "6jbE47ksWpeV",
        "outputId": "01f3133c-900e-48d1-85e4-58ac8112fbe0"
      },
      "source": [
        "model = tf.keras.models.Sequential([\n",
        " tf.keras.layers.Flatten(),\n",
        " tf.keras.layers.Dense(512, activation=tf.nn.relu),\n",
        " tf.keras.layers.Dropout(0.5),\n",
        " tf.keras.layers.Dense(10, activation=tf.nn.softmax)\n",
        "])\n",
        "\n",
        "\n",
        "model.compile(optimizer='adam',\n",
        " loss='sparse_categorical_crossentropy',\n",
        " metrics=['accuracy'])\n",
        "\n",
        "model.fit(x_train, y_train, epochs=5)"
      ],
      "execution_count": 4,
      "outputs": [
        {
          "output_type": "stream",
          "text": [
            "Epoch 1/5\n",
            "1875/1875 [==============================] - 4s 2ms/step - loss: 0.4276 - accuracy: 0.8704\n",
            "Epoch 2/5\n",
            "1875/1875 [==============================] - 3s 2ms/step - loss: 0.1462 - accuracy: 0.9561\n",
            "Epoch 3/5\n",
            "1875/1875 [==============================] - 3s 2ms/step - loss: 0.1078 - accuracy: 0.9666\n",
            "Epoch 4/5\n",
            "1875/1875 [==============================] - 3s 2ms/step - loss: 0.0887 - accuracy: 0.9724\n",
            "Epoch 5/5\n",
            "1875/1875 [==============================] - 3s 2ms/step - loss: 0.0837 - accuracy: 0.9734\n"
          ],
          "name": "stdout"
        },
        {
          "output_type": "execute_result",
          "data": {
            "text/plain": [
              "<tensorflow.python.keras.callbacks.History at 0x7fd2d2a676d0>"
            ]
          },
          "metadata": {
            "tags": []
          },
          "execution_count": 4
        }
      ]
    },
    {
      "cell_type": "code",
      "metadata": {
        "colab": {
          "base_uri": "https://localhost:8080/"
        },
        "id": "OnQrwnKVYXnZ",
        "outputId": "274eb10c-9aaa-44b7-b4d4-9fd8740cf2f8"
      },
      "source": [
        "model.summary()"
      ],
      "execution_count": 5,
      "outputs": [
        {
          "output_type": "stream",
          "text": [
            "Model: \"sequential\"\n",
            "_________________________________________________________________\n",
            "Layer (type)                 Output Shape              Param #   \n",
            "=================================================================\n",
            "flatten (Flatten)            (32, 784)                 0         \n",
            "_________________________________________________________________\n",
            "dense (Dense)                (32, 512)                 401920    \n",
            "_________________________________________________________________\n",
            "dropout (Dropout)            (32, 512)                 0         \n",
            "_________________________________________________________________\n",
            "dense_1 (Dense)              (32, 10)                  5130      \n",
            "=================================================================\n",
            "Total params: 407,050\n",
            "Trainable params: 407,050\n",
            "Non-trainable params: 0\n",
            "_________________________________________________________________\n"
          ],
          "name": "stdout"
        }
      ]
    },
    {
      "cell_type": "code",
      "metadata": {
        "colab": {
          "base_uri": "https://localhost:8080/"
        },
        "id": "czOvwKDEYsfk",
        "outputId": "d86373aa-f0c1-44a5-d727-dd90fdd081b0"
      },
      "source": [
        "model.evaluate(x_test, y_test)"
      ],
      "execution_count": 6,
      "outputs": [
        {
          "output_type": "stream",
          "text": [
            "313/313 [==============================] - 1s 2ms/step - loss: 0.0735 - accuracy: 0.9774\n"
          ],
          "name": "stdout"
        },
        {
          "output_type": "execute_result",
          "data": {
            "text/plain": [
              "[0.0734843909740448, 0.977400004863739]"
            ]
          },
          "metadata": {
            "tags": []
          },
          "execution_count": 6
        }
      ]
    },
    {
      "cell_type": "code",
      "metadata": {
        "colab": {
          "base_uri": "https://localhost:8080/",
          "height": 52
        },
        "id": "vfF8YNiXX334",
        "outputId": "8d0d2639-a9fe-4196-9a2d-946270571473"
      },
      "source": [
        "model_json = model.to_json()\n",
        "json_file = open(\"model_MLP.json\", \"w\")\n",
        "json_file.write(model_json)\n",
        "json_file.close()\n",
        "model.save_weights(\"model_MLP.h5\")\n",
        "print(\"Model saved to disk\")\n",
        "os.getcwd()"
      ],
      "execution_count": 7,
      "outputs": [
        {
          "output_type": "stream",
          "text": [
            "Model saved to disk\n"
          ],
          "name": "stdout"
        },
        {
          "output_type": "execute_result",
          "data": {
            "application/vnd.google.colaboratory.intrinsic+json": {
              "type": "string"
            },
            "text/plain": [
              "'/content'"
            ]
          },
          "metadata": {
            "tags": []
          },
          "execution_count": 7
        }
      ]
    },
    {
      "cell_type": "markdown",
      "metadata": {
        "id": "JIdQ23a_ZmVD"
      },
      "source": [
        "### Working with multiples executions:"
      ]
    },
    {
      "cell_type": "code",
      "metadata": {
        "colab": {
          "base_uri": "https://localhost:8080/"
        },
        "id": "RhhKOcs_YtjV",
        "outputId": "55fe4a55-c998-4736-d9d1-7e7f74fa15e1"
      },
      "source": [
        "executions = 5\n",
        "histories = []\n",
        "evaluations = []\n",
        "\n",
        "for i in range(executions):\n",
        "  model = tf.keras.models.Sequential([\n",
        "                                      tf.keras.layers.Flatten(),\n",
        "                                      tf.keras.layers.Dense(512, activation=tf.nn.relu),\n",
        "                                      tf.keras.layers.Dropout(0.5),\n",
        "                                      tf.keras.layers.Dense(10, activation=tf.nn.softmax)\n",
        "                                      ])\n",
        "  \n",
        "  print('## Training model number: ', i+1)\n",
        "\n",
        "  model.compile(optimizer='adam',\n",
        "                      loss='sparse_categorical_crossentropy',\n",
        "                      metrics=['accuracy'])\n",
        "  \n",
        "  histories.append(model.fit(x_train, y_train, epochs=5, verbose=0))\n",
        "\n",
        "  print('#• Test set:')\n",
        "  evaluations.append(model.evaluate(x_test, y_test))\n",
        "  print('\\n')\n",
        "\n"
      ],
      "execution_count": 8,
      "outputs": [
        {
          "output_type": "stream",
          "text": [
            "## Training model number:  1\n",
            "#• Test set:\n",
            "313/313 [==============================] - 1s 2ms/step - loss: 0.0643 - accuracy: 0.9802\n",
            "\n",
            "\n",
            "## Training model number:  2\n",
            "#• Test set:\n",
            "313/313 [==============================] - 1s 2ms/step - loss: 0.0695 - accuracy: 0.9791\n",
            "\n",
            "\n",
            "## Training model number:  3\n",
            "#• Test set:\n",
            "313/313 [==============================] - 1s 2ms/step - loss: 0.0776 - accuracy: 0.9771\n",
            "\n",
            "\n",
            "## Training model number:  4\n",
            "#• Test set:\n",
            "313/313 [==============================] - 1s 2ms/step - loss: 0.0694 - accuracy: 0.9794\n",
            "\n",
            "\n",
            "## Training model number:  5\n",
            "#• Test set:\n",
            "313/313 [==============================] - 1s 2ms/step - loss: 0.0670 - accuracy: 0.9795\n",
            "\n",
            "\n"
          ],
          "name": "stdout"
        }
      ]
    },
    {
      "cell_type": "code",
      "metadata": {
        "colab": {
          "base_uri": "https://localhost:8080/"
        },
        "id": "B5wcu-ZkbXLM",
        "outputId": "946a8b50-6125-4067-e3f7-8b1202e94820"
      },
      "source": [
        "histories[0].history.keys()"
      ],
      "execution_count": 9,
      "outputs": [
        {
          "output_type": "execute_result",
          "data": {
            "text/plain": [
              "dict_keys(['loss', 'accuracy'])"
            ]
          },
          "metadata": {
            "tags": []
          },
          "execution_count": 9
        }
      ]
    },
    {
      "cell_type": "code",
      "metadata": {
        "colab": {
          "base_uri": "https://localhost:8080/"
        },
        "id": "Vj1rix6PcBiG",
        "outputId": "7a8ace30-2c89-41c5-97ab-a89cf7c1dd1c"
      },
      "source": [
        "histories[-1].history['accuracy'] # Last training acc log per epochs"
      ],
      "execution_count": 10,
      "outputs": [
        {
          "output_type": "execute_result",
          "data": {
            "text/plain": [
              "[0.9218999743461609,\n",
              " 0.9593166708946228,\n",
              " 0.9659000039100647,\n",
              " 0.9710500240325928,\n",
              " 0.974133312702179]"
            ]
          },
          "metadata": {
            "tags": []
          },
          "execution_count": 10
        }
      ]
    },
    {
      "cell_type": "code",
      "metadata": {
        "colab": {
          "base_uri": "https://localhost:8080/"
        },
        "id": "k9Wt_ZXBcrDJ",
        "outputId": "73ac1e3f-e60c-421b-becd-a2baddffa96a"
      },
      "source": [
        "evaluations[0] # Loss and acc for the first model (LIST)"
      ],
      "execution_count": 11,
      "outputs": [
        {
          "output_type": "execute_result",
          "data": {
            "text/plain": [
              "[0.064346544444561, 0.9801999926567078]"
            ]
          },
          "metadata": {
            "tags": []
          },
          "execution_count": 11
        }
      ]
    },
    {
      "cell_type": "code",
      "metadata": {
        "colab": {
          "base_uri": "https://localhost:8080/"
        },
        "id": "rOdn6XsHe3VY",
        "outputId": "3c0617c0-1d19-405d-843c-0c49e33bf433"
      },
      "source": [
        "acc_val = []\n",
        "acc_test = []\n",
        "\n",
        "for i in range(executions):\n",
        "  acc_val.append(sum(histories[i].history['accuracy']) / len(histories[i].history['accuracy']))\n",
        "  acc_test.append(evaluations[i][1])\n",
        "\n",
        "acc_val"
      ],
      "execution_count": 12,
      "outputs": [
        {
          "output_type": "execute_result",
          "data": {
            "text/plain": [
              "[0.9577700138092041,\n",
              " 0.9578333258628845,\n",
              " 0.9582966685295105,\n",
              " 0.957426655292511,\n",
              " 0.958459997177124]"
            ]
          },
          "metadata": {
            "tags": []
          },
          "execution_count": 12
        }
      ]
    },
    {
      "cell_type": "code",
      "metadata": {
        "colab": {
          "base_uri": "https://localhost:8080/"
        },
        "id": "TgGYTgncgp-c",
        "outputId": "dc7e5ef7-e1e6-46e4-dd5b-665fdd6773f1"
      },
      "source": [
        "acc_test"
      ],
      "execution_count": 13,
      "outputs": [
        {
          "output_type": "execute_result",
          "data": {
            "text/plain": [
              "[0.9801999926567078,\n",
              " 0.9790999889373779,\n",
              " 0.9771000146865845,\n",
              " 0.9793999791145325,\n",
              " 0.9794999957084656]"
            ]
          },
          "metadata": {
            "tags": []
          },
          "execution_count": 13
        }
      ]
    },
    {
      "cell_type": "markdown",
      "metadata": {
        "id": "HJXLRxAHkW92"
      },
      "source": [
        "#### Average validation accuracy (training set)"
      ]
    },
    {
      "cell_type": "code",
      "metadata": {
        "colab": {
          "base_uri": "https://localhost:8080/"
        },
        "id": "cdv7mKt9kau1",
        "outputId": "cf2bd1ec-12d8-49ac-c5c4-2151a8910b73"
      },
      "source": [
        "avg_acc_val = sum(acc_val)/len(acc_val)\n",
        "avg_acc_val"
      ],
      "execution_count": 14,
      "outputs": [
        {
          "output_type": "execute_result",
          "data": {
            "text/plain": [
              "0.9579573321342469"
            ]
          },
          "metadata": {
            "tags": []
          },
          "execution_count": 14
        }
      ]
    },
    {
      "cell_type": "markdown",
      "metadata": {
        "id": "Q8S3NCLjhrRH"
      },
      "source": [
        "#### Average test accuracy"
      ]
    },
    {
      "cell_type": "code",
      "metadata": {
        "colab": {
          "base_uri": "https://localhost:8080/"
        },
        "id": "1jSaB0MGfpUz",
        "outputId": "4fb66e1a-0ebd-4e55-d14e-f10aa576f81a"
      },
      "source": [
        "avg_acc_test = sum(acc_test)/len(acc_test)\n",
        "avg_acc_test"
      ],
      "execution_count": 15,
      "outputs": [
        {
          "output_type": "execute_result",
          "data": {
            "text/plain": [
              "0.9790599942207336"
            ]
          },
          "metadata": {
            "tags": []
          },
          "execution_count": 15
        }
      ]
    },
    {
      "cell_type": "markdown",
      "metadata": {
        "id": "iYvQcD_Al0HL"
      },
      "source": [
        "# MODIFIED MODEL\n",
        "\n",
        "• Goal: Better test accuracy results"
      ]
    },
    {
      "cell_type": "markdown",
      "metadata": {
        "id": "ztiCQXlun8ys"
      },
      "source": [
        "### Holdout:"
      ]
    },
    {
      "cell_type": "code",
      "metadata": {
        "colab": {
          "base_uri": "https://localhost:8080/"
        },
        "id": "_7-wbXdzmEW4",
        "outputId": "b73f45d1-ec2f-467a-f200-d2bd39812202"
      },
      "source": [
        "print('x_train shape:', x_train.shape)\n",
        "print('x_test shape:', x_test.shape)\n",
        "print('y_train shape:', y_train.shape)\n",
        "print('y_test shape:', y_test.shape)"
      ],
      "execution_count": 16,
      "outputs": [
        {
          "output_type": "stream",
          "text": [
            "x_train shape: (60000, 28, 28)\n",
            "x_test shape: (10000, 28, 28)\n",
            "y_train shape: (60000,)\n",
            "y_test shape: (10000,)\n"
          ],
          "name": "stdout"
        }
      ]
    },
    {
      "cell_type": "markdown",
      "metadata": {
        "id": "Qbjn2Z6I2gGR"
      },
      "source": [
        "One-hot encoding train and test labels:"
      ]
    },
    {
      "cell_type": "code",
      "metadata": {
        "id": "VlwNFE9L2d68"
      },
      "source": [
        "from keras.utils.np_utils import to_categorical\n",
        "\n",
        "y_train = to_categorical(y_train, num_classes = 10)\n",
        "y_test = to_categorical(y_test, num_classes = 10)"
      ],
      "execution_count": 17,
      "outputs": []
    },
    {
      "cell_type": "markdown",
      "metadata": {
        "id": "jl3_WMNppz2l"
      },
      "source": [
        "20% for validation set\n",
        "\n",
        "80% for training set"
      ]
    },
    {
      "cell_type": "code",
      "metadata": {
        "id": "dxVVgp0Fpi8i"
      },
      "source": [
        "from sklearn.model_selection import train_test_split\n",
        "train_data, train_data_val, train_labels, train_labels_val = train_test_split(x_train, y_train, test_size = 0.2, random_state=261663)"
      ],
      "execution_count": 18,
      "outputs": []
    },
    {
      "cell_type": "code",
      "metadata": {
        "colab": {
          "base_uri": "https://localhost:8080/"
        },
        "id": "fSgMm-HVpjP7",
        "outputId": "942ee77e-089d-465e-9446-1f795434779a"
      },
      "source": [
        "print('train_data shape:', x_train.shape)\n",
        "print('train_data_val shape:', train_data_val.shape)\n",
        "print('train_labels shape:', y_train.shape)\n",
        "print('train_labels_val shape:', train_labels_val.shape)\n",
        "print('x_test shape:', x_test.shape)\n",
        "print('y_test shape:', y_test.shape)\n"
      ],
      "execution_count": 19,
      "outputs": [
        {
          "output_type": "stream",
          "text": [
            "train_data shape: (60000, 28, 28)\n",
            "train_data_val shape: (12000, 28, 28)\n",
            "train_labels shape: (60000, 10)\n",
            "train_labels_val shape: (12000, 10)\n",
            "x_test shape: (10000, 28, 28)\n",
            "y_test shape: (10000, 10)\n"
          ],
          "name": "stdout"
        }
      ]
    },
    {
      "cell_type": "code",
      "metadata": {
        "id": "vq9A2erHz1Ph"
      },
      "source": [
        "train_data = tf.expand_dims(train_data, axis=-1)\n",
        "train_data_val = tf.expand_dims(train_data_val, axis=-1)\n",
        "\n",
        "x_test = tf.expand_dims(x_test, axis=-1)"
      ],
      "execution_count": 20,
      "outputs": []
    },
    {
      "cell_type": "markdown",
      "metadata": {
        "id": "akHippp-qRI2"
      },
      "source": [
        "### Model\n",
        "\n",
        "Inspired by [LeNet-5, 1998](https://ieeexplore.ieee.org/document/726791), the architecture follows the structure: conv->pool->conv->pool->fc->output\n",
        "\n",
        "Modifications:\n",
        "• Adam with learning rate 0.001\n",
        "• Mini-batch size of 64"
      ]
    },
    {
      "cell_type": "code",
      "metadata": {
        "id": "Om467mg3p-gA"
      },
      "source": [
        "from keras.models import Sequential\n",
        "from keras.layers import Dense, Dropout, Flatten, Conv2D, MaxPool2D\n",
        "\n",
        "\n",
        "model = Sequential()\n",
        "\n",
        "model.add(Conv2D(filters = 16, kernel_size = (5,5), padding = 'Same', \n",
        "                 activation ='relu', input_shape = (28,28,1)))\n",
        "model.add(MaxPool2D(pool_size=(2,2)))\n",
        "model.add(Conv2D(filters = 32, kernel_size = (5,5), padding = 'Same', \n",
        "                 activation ='relu'))\n",
        "model.add(MaxPool2D(pool_size=(2,2)))\n",
        "\n",
        "model.add(Flatten())\n",
        "model.add(Dense(256, activation = \"relu\"))\n",
        "\n",
        "model.add(Dense(10, activation = \"softmax\"))"
      ],
      "execution_count": 21,
      "outputs": []
    },
    {
      "cell_type": "code",
      "metadata": {
        "colab": {
          "base_uri": "https://localhost:8080/"
        },
        "id": "FOi_kaR9xPBw",
        "outputId": "9a2cee40-aa61-40c4-8a34-271d9e426cd4"
      },
      "source": [
        "model.summary()"
      ],
      "execution_count": 22,
      "outputs": [
        {
          "output_type": "stream",
          "text": [
            "Model: \"sequential_6\"\n",
            "_________________________________________________________________\n",
            "Layer (type)                 Output Shape              Param #   \n",
            "=================================================================\n",
            "conv2d (Conv2D)              (None, 28, 28, 16)        416       \n",
            "_________________________________________________________________\n",
            "max_pooling2d (MaxPooling2D) (None, 14, 14, 16)        0         \n",
            "_________________________________________________________________\n",
            "conv2d_1 (Conv2D)            (None, 14, 14, 32)        12832     \n",
            "_________________________________________________________________\n",
            "max_pooling2d_1 (MaxPooling2 (None, 7, 7, 32)          0         \n",
            "_________________________________________________________________\n",
            "flatten_6 (Flatten)          (None, 1568)              0         \n",
            "_________________________________________________________________\n",
            "dense_12 (Dense)             (None, 256)               401664    \n",
            "_________________________________________________________________\n",
            "dense_13 (Dense)             (None, 10)                2570      \n",
            "=================================================================\n",
            "Total params: 417,482\n",
            "Trainable params: 417,482\n",
            "Non-trainable params: 0\n",
            "_________________________________________________________________\n"
          ],
          "name": "stdout"
        }
      ]
    },
    {
      "cell_type": "code",
      "metadata": {
        "id": "64q5Wn0axb8o"
      },
      "source": [
        "from keras.optimizers import Adam\n",
        "model.compile(optimizer = Adam(lr=0.001),\n",
        "              loss = \"categorical_crossentropy\",\n",
        "              metrics=[\"accuracy\"])"
      ],
      "execution_count": 23,
      "outputs": []
    },
    {
      "cell_type": "code",
      "metadata": {
        "colab": {
          "base_uri": "https://localhost:8080/"
        },
        "id": "uRJS0PCYx_qZ",
        "outputId": "e322b22d-a5e5-4e77-e222-da023d99a7a9"
      },
      "source": [
        "history = model.fit(train_data, train_labels,\n",
        "                    batch_size = 64, \n",
        "                    epochs = 5, \n",
        "                    validation_data = (train_data_val, train_labels_val), verbose = 2)"
      ],
      "execution_count": 24,
      "outputs": [
        {
          "output_type": "stream",
          "text": [
            "Epoch 1/5\n",
            "750/750 - 5s - loss: 0.1755 - accuracy: 0.9473 - val_loss: 0.0712 - val_accuracy: 0.9774\n",
            "Epoch 2/5\n",
            "750/750 - 2s - loss: 0.0514 - accuracy: 0.9830 - val_loss: 0.0523 - val_accuracy: 0.9832\n",
            "Epoch 3/5\n",
            "750/750 - 2s - loss: 0.0345 - accuracy: 0.9890 - val_loss: 0.0373 - val_accuracy: 0.9877\n",
            "Epoch 4/5\n",
            "750/750 - 2s - loss: 0.0250 - accuracy: 0.9921 - val_loss: 0.0317 - val_accuracy: 0.9899\n",
            "Epoch 5/5\n",
            "750/750 - 2s - loss: 0.0200 - accuracy: 0.9934 - val_loss: 0.0328 - val_accuracy: 0.9906\n"
          ],
          "name": "stdout"
        }
      ]
    },
    {
      "cell_type": "code",
      "metadata": {
        "colab": {
          "base_uri": "https://localhost:8080/"
        },
        "id": "nkMyGMrvyXc2",
        "outputId": "e4b3af14-7931-4cf1-d638-12709769b12b"
      },
      "source": [
        "model.evaluate(x_test, y_test)"
      ],
      "execution_count": 25,
      "outputs": [
        {
          "output_type": "stream",
          "text": [
            "313/313 [==============================] - 1s 2ms/step - loss: 0.0352 - accuracy: 0.9883\n"
          ],
          "name": "stdout"
        },
        {
          "output_type": "execute_result",
          "data": {
            "text/plain": [
              "[0.035248689353466034, 0.9883000254631042]"
            ]
          },
          "metadata": {
            "tags": []
          },
          "execution_count": 25
        }
      ]
    },
    {
      "cell_type": "markdown",
      "metadata": {
        "id": "pRjJNMBX5wCd"
      },
      "source": [
        "### Working with multiples executions:"
      ]
    },
    {
      "cell_type": "code",
      "metadata": {
        "colab": {
          "base_uri": "https://localhost:8080/"
        },
        "id": "3HvCwsdp35q-",
        "outputId": "2f252313-8f3d-45b7-ab29-29dd3e94bcda"
      },
      "source": [
        "executions = 5\n",
        "histories = []\n",
        "evaluations = []\n",
        "\n",
        "for i in range(executions):\n",
        "  tf.keras.backend.clear_session()\n",
        "  model = 0\n",
        "  model = Sequential()\n",
        "  model.add(Conv2D(filters = 16, kernel_size = (5,5), padding = 'Same', \n",
        "                 activation ='relu', input_shape = (28,28,1)))\n",
        "  model.add(MaxPool2D(pool_size=(2,2)))\n",
        "  model.add(Conv2D(filters = 32, kernel_size = (5,5), padding = 'Same', \n",
        "                 activation ='relu'))\n",
        "  model.add(MaxPool2D(pool_size=(2,2)))\n",
        "  model.add(Flatten())\n",
        "  model.add(Dense(256, activation = \"relu\"))\n",
        "  model.add(Dense(10, activation = \"softmax\"))\n",
        "  \n",
        "  print('## Training model number: ', i+1)\n",
        "\n",
        "  model.compile(optimizer = Adam(lr=0.001),\n",
        "                loss = \"categorical_crossentropy\",\n",
        "                metrics=['accuracy'])\n",
        "  \n",
        "  histories.append(model.fit(train_data, train_labels,\n",
        "                             batch_size = 64, \n",
        "                             epochs = 5, \n",
        "                             validation_data = (train_data_val, train_labels_val), verbose = 0))\n",
        "\n",
        "  print('#• Test set:')\n",
        "  evaluations.append(model.evaluate(x_test, y_test))\n",
        "  print('\\n')"
      ],
      "execution_count": 28,
      "outputs": [
        {
          "output_type": "stream",
          "text": [
            "## Training model number:  1\n",
            "#• Test set:\n",
            "313/313 [==============================] - 1s 2ms/step - loss: 0.0316 - accuracy: 0.9893\n",
            "\n",
            "\n",
            "## Training model number:  2\n",
            "#• Test set:\n",
            "313/313 [==============================] - 1s 2ms/step - loss: 0.0242 - accuracy: 0.9919\n",
            "\n",
            "\n",
            "## Training model number:  3\n",
            "#• Test set:\n",
            "313/313 [==============================] - 1s 2ms/step - loss: 0.0264 - accuracy: 0.9920\n",
            "\n",
            "\n",
            "## Training model number:  4\n",
            "#• Test set:\n",
            "313/313 [==============================] - 1s 2ms/step - loss: 0.0343 - accuracy: 0.9892\n",
            "\n",
            "\n",
            "## Training model number:  5\n",
            "#• Test set:\n",
            "313/313 [==============================] - 1s 2ms/step - loss: 0.0392 - accuracy: 0.9872\n",
            "\n",
            "\n"
          ],
          "name": "stdout"
        }
      ]
    },
    {
      "cell_type": "code",
      "metadata": {
        "colab": {
          "base_uri": "https://localhost:8080/"
        },
        "id": "Akf5PdJj6Mut",
        "outputId": "db5175d4-6995-41e8-dc78-f309570cb8c1"
      },
      "source": [
        "histories[0].history.keys()"
      ],
      "execution_count": 29,
      "outputs": [
        {
          "output_type": "execute_result",
          "data": {
            "text/plain": [
              "dict_keys(['loss', 'accuracy', 'val_loss', 'val_accuracy'])"
            ]
          },
          "metadata": {
            "tags": []
          },
          "execution_count": 29
        }
      ]
    },
    {
      "cell_type": "code",
      "metadata": {
        "colab": {
          "base_uri": "https://localhost:8080/"
        },
        "id": "QoFtWrO3_n4N",
        "outputId": "2ecfd9c6-9a0f-4cf5-c2aa-3e4a337d85e7"
      },
      "source": [
        "evaluations[0]"
      ],
      "execution_count": 30,
      "outputs": [
        {
          "output_type": "execute_result",
          "data": {
            "text/plain": [
              "[0.03155602887272835, 0.989300012588501]"
            ]
          },
          "metadata": {
            "tags": []
          },
          "execution_count": 30
        }
      ]
    },
    {
      "cell_type": "code",
      "metadata": {
        "colab": {
          "base_uri": "https://localhost:8080/"
        },
        "id": "XBMGWdp__jU8",
        "outputId": "bf78c659-a58f-43ee-e8e8-4a759d5dad2a"
      },
      "source": [
        "acc_val = []\n",
        "acc_test = []\n",
        "\n",
        "for i in range(executions):\n",
        "  acc_val.append(sum(histories[i].history['val_accuracy']) / len(histories[i].history['val_accuracy']))\n",
        "  acc_test.append(evaluations[i][1])\n",
        "\n",
        "acc_val"
      ],
      "execution_count": 31,
      "outputs": [
        {
          "output_type": "execute_result",
          "data": {
            "text/plain": [
              "[0.986733329296112,\n",
              " 0.9881166577339172,\n",
              " 0.9878166675567627,\n",
              " 0.9879333257675171,\n",
              " 0.9877333402633667]"
            ]
          },
          "metadata": {
            "tags": []
          },
          "execution_count": 31
        }
      ]
    },
    {
      "cell_type": "code",
      "metadata": {
        "colab": {
          "base_uri": "https://localhost:8080/"
        },
        "id": "niTMIjuM_rVW",
        "outputId": "17a1816d-0dd5-4e8f-ed09-e1e9317e351f"
      },
      "source": [
        "acc_test"
      ],
      "execution_count": 32,
      "outputs": [
        {
          "output_type": "execute_result",
          "data": {
            "text/plain": [
              "[0.989300012588501,\n",
              " 0.9919000267982483,\n",
              " 0.9919999837875366,\n",
              " 0.9891999959945679,\n",
              " 0.9872000217437744]"
            ]
          },
          "metadata": {
            "tags": []
          },
          "execution_count": 32
        }
      ]
    },
    {
      "cell_type": "markdown",
      "metadata": {
        "id": "c9O_lx4v_0IR"
      },
      "source": [
        "#### Average validation accuracy (validation set)"
      ]
    },
    {
      "cell_type": "code",
      "metadata": {
        "colab": {
          "base_uri": "https://localhost:8080/"
        },
        "id": "ZRFr5KUP_tDO",
        "outputId": "56af78b5-8713-40e0-997e-f616d47557b5"
      },
      "source": [
        "avg_acc_val = sum(acc_val)/len(acc_val)\n",
        "avg_acc_val"
      ],
      "execution_count": 33,
      "outputs": [
        {
          "output_type": "execute_result",
          "data": {
            "text/plain": [
              "0.9876666641235351"
            ]
          },
          "metadata": {
            "tags": []
          },
          "execution_count": 33
        }
      ]
    },
    {
      "cell_type": "markdown",
      "metadata": {
        "id": "DLpczNYP_z4n"
      },
      "source": [
        "#### Average test accuracy"
      ]
    },
    {
      "cell_type": "code",
      "metadata": {
        "colab": {
          "base_uri": "https://localhost:8080/"
        },
        "id": "d-ns176E_x_B",
        "outputId": "ea8033a2-d6de-49bc-a924-1a431adff682"
      },
      "source": [
        "avg_acc_test = sum(acc_test)/len(acc_test)\n",
        "avg_acc_test"
      ],
      "execution_count": 34,
      "outputs": [
        {
          "output_type": "execute_result",
          "data": {
            "text/plain": [
              "0.9899200081825257"
            ]
          },
          "metadata": {
            "tags": []
          },
          "execution_count": 34
        }
      ]
    }
  ]
}