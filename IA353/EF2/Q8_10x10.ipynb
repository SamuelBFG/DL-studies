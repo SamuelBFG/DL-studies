{
  "nbformat": 4,
  "nbformat_minor": 0,
  "metadata": {
    "colab": {
      "name": "Q8_10x10.ipynb",
      "provenance": [],
      "collapsed_sections": [],
      "toc_visible": true,
      "include_colab_link": true
    },
    "kernelspec": {
      "display_name": "Python 3",
      "language": "python",
      "name": "python3"
    },
    "language_info": {
      "codemirror_mode": {
        "name": "ipython",
        "version": 3
      },
      "file_extension": ".py",
      "mimetype": "text/x-python",
      "name": "python",
      "nbconvert_exporter": "python",
      "pygments_lexer": "ipython3",
      "version": "3.7.7"
    }
  },
  "cells": [
    {
      "cell_type": "markdown",
      "metadata": {
        "id": "view-in-github",
        "colab_type": "text"
      },
      "source": [
        "<a href=\"https://colab.research.google.com/github/SamuelBFG/DL-studies/blob/master/Q8_10x10.ipynb\" target=\"_parent\"><img src=\"https://colab.research.google.com/assets/colab-badge.svg\" alt=\"Open In Colab\"/></a>"
      ]
    },
    {
      "cell_type": "markdown",
      "metadata": {
        "id": "hFi1P1DT4FgS"
      },
      "source": [
        "# Solving a Maze with Deep Reinforcement Learning\n",
        "# Samuel Borges Ferreira Gomes\n",
        "# Prof. Fernando J. Von Zuben\n",
        "# FEEC/Unicamp - June/2020\n",
        "\n",
        "# Goal: Use Reinforcement Learning to solve a Qmaze\n",
        "# Based on https://www.samyzaf.com/ML/rl/qmaze.html"
      ]
    },
    {
      "cell_type": "markdown",
      "metadata": {
        "id": "rjhi5kdG4FgT"
      },
      "source": [
        "## Imports"
      ]
    },
    {
      "cell_type": "code",
      "metadata": {
        "id": "-aDpGQDz4Fg0"
      },
      "source": [
        "from __future__ import print_function\n",
        "from time import sleep\n",
        "from IPython import display\n",
        "import pylab as pl\n",
        "import os, sys, time, datetime, json, random\n",
        "import numpy as np\n",
        "from keras.models import Sequential\n",
        "from keras.layers.core import Dense, Activation\n",
        "from keras.optimizers import SGD , Adam, RMSprop\n",
        "from keras.layers.advanced_activations import PReLU\n",
        "import matplotlib.pyplot as plt\n",
        "%matplotlib inline"
      ],
      "execution_count": null,
      "outputs": []
    },
    {
      "cell_type": "markdown",
      "metadata": {
        "id": "TWZxAq3XcJVo"
      },
      "source": [
        "## Environment Description"
      ]
    },
    {
      "cell_type": "code",
      "metadata": {
        "id": "JQs4V1wY_jJS"
      },
      "source": [
        "visited_mark = 0.8  # Cells visited by the rat will be painted by gray 0.8\n",
        "rat_mark = 0.5      # The current rat cell will be painted by gray 0.5\n",
        "LEFT = 0\n",
        "UP = 1\n",
        "RIGHT = 2\n",
        "DOWN = 3\n",
        "\n",
        "# Actions dictionary\n",
        "actions_dict = {\n",
        "    LEFT: 'left',\n",
        "    UP: 'up',\n",
        "    RIGHT: 'right',\n",
        "    DOWN: 'down',\n",
        "}\n",
        "\n",
        "num_actions = len(actions_dict)\n",
        "\n",
        "# Exploration factor\n",
        "epsilon = 0.1"
      ],
      "execution_count": null,
      "outputs": []
    },
    {
      "cell_type": "code",
      "metadata": {
        "id": "d1gPgFfQAMu_"
      },
      "source": [
        "# maze is a 2d Numpy array of floats between 0.0 to 1.0\n",
        "# 1.0 corresponds to a free cell, and 0.0 an occupied cell\n",
        "# rat = (row, col) initial rat position (defaults to (0,0))\n",
        "\n",
        "class Qmaze(object):\n",
        "    def __init__(self, maze, rat=(0,0)):\n",
        "        self._maze = np.array(maze)\n",
        "        nrows, ncols = self._maze.shape\n",
        "        self.target = (nrows-1, ncols-1)   # target cell where the \"cheese\" is\n",
        "        self.free_cells = [(r,c) for r in range(nrows) for c in range(ncols) if self._maze[r,c] == 1.0]\n",
        "        self.free_cells.remove(self.target)\n",
        "        if self._maze[self.target] == 0.0:\n",
        "            raise Exception(\"Invalid maze: target cell cannot be blocked!\")\n",
        "        if not rat in self.free_cells:\n",
        "            raise Exception(\"Invalid Rat Location: must sit on a free cell\")\n",
        "        self.reset(rat)\n",
        "\n",
        "    def reset(self, rat):\n",
        "        self.rat = rat\n",
        "        self.maze = np.copy(self._maze)\n",
        "        nrows, ncols = self.maze.shape\n",
        "        row, col = rat\n",
        "        self.maze[row, col] = rat_mark\n",
        "        self.state = (row, col, 'start')\n",
        "        self.min_reward = -0.5 * self.maze.size\n",
        "        self.total_reward = 0\n",
        "        self.visited = set()\n",
        "\n",
        "    def update_state(self, action):\n",
        "        nrows, ncols = self.maze.shape\n",
        "        nrow, ncol, nmode = rat_row, rat_col, mode = self.state\n",
        "\n",
        "        if self.maze[rat_row, rat_col] > 0.0:\n",
        "            self.visited.add((rat_row, rat_col))  # mark visited cell\n",
        "\n",
        "        valid_actions = self.valid_actions()\n",
        "                \n",
        "        if not valid_actions:\n",
        "            nmode = 'blocked'\n",
        "        elif action in valid_actions:\n",
        "            nmode = 'valid'\n",
        "            if action == LEFT:\n",
        "                ncol -= 1\n",
        "            elif action == UP:\n",
        "                nrow -= 1\n",
        "            if action == RIGHT:\n",
        "                ncol += 1\n",
        "            elif action == DOWN:\n",
        "                nrow += 1\n",
        "        else:                  # invalid action, no change in rat position\n",
        "            mode = 'invalid'\n",
        "\n",
        "        # new state\n",
        "        self.state = (nrow, ncol, nmode)\n",
        "\n",
        "    def get_reward(self):\n",
        "        rat_row, rat_col, mode = self.state\n",
        "        nrows, ncols = self.maze.shape\n",
        "        if rat_row == nrows-1 and rat_col == ncols-1:\n",
        "            return 1.0\n",
        "        if mode == 'blocked':\n",
        "            return self.min_reward - 1\n",
        "        if (rat_row, rat_col) in self.visited:\n",
        "            return -0.25\n",
        "        if mode == 'invalid':\n",
        "            return -0.75\n",
        "        if mode == 'valid':\n",
        "            return -0.04\n",
        "\n",
        "    def act(self, action):\n",
        "        self.update_state(action)\n",
        "        reward = self.get_reward()\n",
        "        self.total_reward += reward\n",
        "        status = self.game_status()\n",
        "        envstate = self.observe()\n",
        "        return envstate, reward, status\n",
        "\n",
        "    def observe(self):\n",
        "        canvas = self.draw_env()\n",
        "        envstate = canvas.reshape((1, -1))\n",
        "        return envstate\n",
        "\n",
        "    def draw_env(self):\n",
        "        canvas = np.copy(self.maze)\n",
        "        nrows, ncols = self.maze.shape\n",
        "        # clear all visual marks\n",
        "        for r in range(nrows):\n",
        "            for c in range(ncols):\n",
        "                if canvas[r,c] > 0.0:\n",
        "                    canvas[r,c] = 1.0\n",
        "        # draw the rat\n",
        "        row, col, valid = self.state\n",
        "        canvas[row, col] = rat_mark\n",
        "        return canvas\n",
        "\n",
        "    def game_status(self):\n",
        "        if self.total_reward < self.min_reward:\n",
        "            return 'lose'\n",
        "        rat_row, rat_col, mode = self.state\n",
        "        nrows, ncols = self.maze.shape\n",
        "        if rat_row == nrows-1 and rat_col == ncols-1:\n",
        "            return 'win'\n",
        "\n",
        "        return 'not_over'\n",
        "\n",
        "    def valid_actions(self, cell=None):\n",
        "        if cell is None:\n",
        "            row, col, mode = self.state\n",
        "        else:\n",
        "            row, col = cell\n",
        "        actions = [0, 1, 2, 3]\n",
        "        nrows, ncols = self.maze.shape\n",
        "        if row == 0:\n",
        "            actions.remove(1)\n",
        "        elif row == nrows-1:\n",
        "            actions.remove(3)\n",
        "\n",
        "        if col == 0:\n",
        "            actions.remove(0)\n",
        "        elif col == ncols-1:\n",
        "            actions.remove(2)\n",
        "\n",
        "        if row>0 and self.maze[row-1,col] == 0.0:\n",
        "            actions.remove(1)\n",
        "        if row<nrows-1 and self.maze[row+1,col] == 0.0:\n",
        "            actions.remove(3)\n",
        "\n",
        "        if col>0 and self.maze[row,col-1] == 0.0:\n",
        "            actions.remove(0)\n",
        "        if col<ncols-1 and self.maze[row,col+1] == 0.0:\n",
        "            actions.remove(2)\n",
        "\n",
        "        return actions"
      ],
      "execution_count": null,
      "outputs": []
    },
    {
      "cell_type": "code",
      "metadata": {
        "id": "ZEgvv0QHAcqO"
      },
      "source": [
        "def show(qmaze):\n",
        "    plt.grid('on')\n",
        "    nrows, ncols = qmaze.maze.shape\n",
        "    ax = plt.gca()\n",
        "    ax.set_xticks(np.arange(0.5, nrows, 1))\n",
        "    ax.set_yticks(np.arange(0.5, ncols, 1))\n",
        "    ax.set_xticklabels([])\n",
        "    ax.set_yticklabels([])\n",
        "    canvas = np.copy(qmaze.maze)\n",
        "    for row,col in qmaze.visited:\n",
        "        canvas[row,col] = 0.6\n",
        "    rat_row, rat_col, _ = qmaze.state\n",
        "    canvas[rat_row, rat_col] = 0.3   # rat cell\n",
        "    canvas[nrows-1, ncols-1] = 0.9 # cheese cell\n",
        "    img = plt.imshow(canvas, interpolation='none', cmap='gray')\n",
        "    return img"
      ],
      "execution_count": null,
      "outputs": []
    },
    {
      "cell_type": "markdown",
      "metadata": {
        "id": "uGIyaow4cQMK"
      },
      "source": [
        "## Example of 10x10 maze"
      ]
    },
    {
      "cell_type": "code",
      "metadata": {
        "id": "nXYrCEK_EZ-U"
      },
      "source": [
        "maze = np.array([\n",
        "    [ 1.,  0.,  1.,  1.,  1.,  1.,  1.,  1.,  1.,  1.],\n",
        "    [ 1.,  1.,  1.,  1.,  1.,  0.,  1.,  1.,  1.,  1.],\n",
        "    [ 1.,  1.,  1.,  1.,  1.,  0.,  1.,  1.,  1.,  1.],\n",
        "    [ 0.,  0.,  1.,  0.,  0.,  1.,  0.,  1.,  1.,  1.],\n",
        "    [ 1.,  1.,  0.,  1.,  0.,  1.,  0.,  0.,  0.,  1.],\n",
        "    [ 1.,  1.,  0.,  1.,  0.,  1.,  1.,  1.,  1.,  1.],\n",
        "    [ 1.,  1.,  1.,  1.,  1.,  1.,  1.,  1.,  1.,  1.],\n",
        "    [ 1.,  1.,  1.,  1.,  1.,  1.,  0.,  0.,  0.,  0.],\n",
        "    [ 1.,  0.,  0.,  0.,  0.,  0.,  1.,  1.,  1.,  1.],\n",
        "    [ 1.,  1.,  1.,  1.,  1.,  1.,  1.,  0.,  1.,  1.]\n",
        "])"
      ],
      "execution_count": null,
      "outputs": []
    },
    {
      "cell_type": "code",
      "metadata": {
        "colab": {
          "base_uri": "https://localhost:8080/",
          "height": 286
        },
        "id": "HTO46kedArMF",
        "outputId": "be1c998b-5e97-48ee-88c1-e4566bfc024d"
      },
      "source": [
        "qmaze = Qmaze(maze)\n",
        "canvas, reward, game_over = qmaze.act(DOWN)\n",
        "print(\"reward=\", reward)\n",
        "show(qmaze)"
      ],
      "execution_count": null,
      "outputs": [
        {
          "output_type": "stream",
          "text": [
            "reward= -0.04\n"
          ],
          "name": "stdout"
        },
        {
          "output_type": "execute_result",
          "data": {
            "text/plain": [
              "<matplotlib.image.AxesImage at 0x1ef1564dcc8>"
            ]
          },
          "metadata": {
            "tags": []
          },
          "execution_count": 6
        },
        {
          "output_type": "display_data",
          "data": {
            "image/png": "[encoded data removed]",
            "text/plain": [
              "<Figure size 432x288 with 1 Axes>"
            ]
          },
          "metadata": {
            "tags": [],
            "needs_background": "light"
          }
        }
      ]
    },
    {
      "cell_type": "code",
      "metadata": {
        "colab": {
          "base_uri": "https://localhost:8080/",
          "height": 269
        },
        "id": "5QOkRblSA3IH",
        "outputId": "0743d1cf-dfbf-4aa1-a18f-bd9d1842f115"
      },
      "source": [
        "qmaze.act(DOWN)  # move down\n",
        "qmaze.act(RIGHT)  # move right\n",
        "qmaze.act(RIGHT)  # move right\n",
        "qmaze.act(RIGHT)  # move right\n",
        "qmaze.act(UP)  # move up\n",
        "show(qmaze)"
      ],
      "execution_count": null,
      "outputs": [
        {
          "output_type": "execute_result",
          "data": {
            "text/plain": [
              "<matplotlib.image.AxesImage at 0x1ef1563dbc8>"
            ]
          },
          "metadata": {
            "tags": []
          },
          "execution_count": 7
        },
        {
          "output_type": "display_data",
          "data": {
            "image/png": "[encoded data removed]",
            "text/plain": [
              "<Figure size 432x288 with 1 Axes>"
            ]
          },
          "metadata": {
            "tags": [],
            "needs_background": "light"
          }
        }
      ]
    },
    {
      "cell_type": "code",
      "metadata": {
        "id": "5Qj1TKfnA9qu"
      },
      "source": [
        "def play_game(model, qmaze, rat_cell):\n",
        "    qmaze.reset(rat_cell)\n",
        "    envstate = qmaze.observe()\n",
        "    while True:\n",
        "        prev_envstate = envstate\n",
        "        # get next action\n",
        "        q = model.predict(prev_envstate)\n",
        "        action = np.argmax(q[0])\n",
        "\n",
        "        # apply action, get rewards and new state\n",
        "        envstate, reward, game_status = qmaze.act(action)\n",
        "        if game_status == 'win':\n",
        "            return True\n",
        "        elif game_status == 'lose':\n",
        "            return False"
      ],
      "execution_count": null,
      "outputs": []
    },
    {
      "cell_type": "code",
      "metadata": {
        "id": "zw53DdHQBKF0"
      },
      "source": [
        "def completion_check(model, qmaze):\n",
        "    for cell in qmaze.free_cells:\n",
        "        if not qmaze.valid_actions(cell):\n",
        "            return False\n",
        "        if not play_game(model, qmaze, cell):\n",
        "            return False\n",
        "    return True"
      ],
      "execution_count": null,
      "outputs": []
    },
    {
      "cell_type": "markdown",
      "metadata": {
        "id": "Lw-KCLD9HnbR"
      },
      "source": [
        "## Experience Replay"
      ]
    },
    {
      "cell_type": "markdown",
      "metadata": {
        "id": "x_M0KSnsHkc6"
      },
      "source": [
        "Experience replay is a technique where the agent's experience at each time step $e_{t}=(s_{t},a_{t},r_{t},s_{t+1})$ is stored in a data set $\\mathcal{D}=e_{1},e_{2},\\ldots,e_{N}$ into a replay memory. Instead of train from consecutives samples which leads to a inefficient learning due to their correlation, we then sample the memory randomly for a minibatch of experience. This tecnique is used to improve the optimization.\n",
        "\n",
        "The cell below implement Experience, the class in which we collect our game episodes (or game experiences) within a memory list.\n"
      ]
    },
    {
      "cell_type": "code",
      "metadata": {
        "id": "Bm9WstgwBgjg"
      },
      "source": [
        "class Experience(object):\n",
        "    def __init__(self, model, max_memory=100, discount=0.95):\n",
        "        self.model = model\n",
        "        self.max_memory = max_memory\n",
        "        self.discount = discount\n",
        "        self.memory = list()\n",
        "        self.num_actions = model.output_shape[-1]\n",
        "\n",
        "    def remember(self, episode):\n",
        "        # episode = [envstate, action, reward, envstate_next, game_over]\n",
        "        # memory[i] = episode\n",
        "        # envstate == flattened 1d maze cells info, including rat cell (see method: observe)\n",
        "        self.memory.append(episode)\n",
        "        if len(self.memory) > self.max_memory:\n",
        "            del self.memory[0]\n",
        "\n",
        "    def predict(self, envstate):\n",
        "        return self.model.predict(envstate)[0]\n",
        "\n",
        "    def get_data(self, data_size=10):\n",
        "        env_size = self.memory[0][0].shape[1]   # envstate 1d size (1st element of episode)\n",
        "        mem_size = len(self.memory)\n",
        "        data_size = min(mem_size, data_size)\n",
        "        inputs = np.zeros((data_size, env_size))\n",
        "        targets = np.zeros((data_size, self.num_actions))\n",
        "        for i, j in enumerate(np.random.choice(range(mem_size), data_size, replace=False)):\n",
        "            envstate, action, reward, envstate_next, game_over = self.memory[j]\n",
        "            inputs[i] = envstate\n",
        "            # There should be no target values for actions not taken.\n",
        "            targets[i] = self.predict(envstate)\n",
        "            # Q_sa = derived policy = max quality env/action = max_a' Q(s', a')\n",
        "            Q_sa = np.max(self.predict(envstate_next))\n",
        "            if game_over:\n",
        "                targets[i, action] = reward\n",
        "            else:\n",
        "                # reward + gamma * max_a' Q(s', a')\n",
        "                targets[i, action] = reward + self.discount * Q_sa\n",
        "        return inputs, targets"
      ],
      "execution_count": null,
      "outputs": []
    },
    {
      "cell_type": "markdown",
      "metadata": {
        "id": "7ajvNXYbcVP4"
      },
      "source": [
        "## The Q-Training Algorithm for Qmaze"
      ]
    },
    {
      "cell_type": "markdown",
      "metadata": {
        "id": "MzizregkIVus"
      },
      "source": [
        "Parameters:\n",
        "$$s_{t}\\in\\mathcal{S}\\rightarrow\\textrm{State}$$\n",
        "$$a_{t}\\in\\mathcal{A}\\rightarrow\\textrm{Action}$$\n",
        "$$\\pi_{i}\\rightarrow\\textrm{Policy}$$\n",
        "$$\\gamma\\rightarrow\\textrm{Discount Factor}$$\n",
        "$$\\textrm{Q-value } Q(s,a)\\rightarrow\\textrm{Distribution of reward given (state, action) pair}$$\n"
      ]
    },
    {
      "cell_type": "markdown",
      "metadata": {
        "id": "Hw-1HBjjIF6z"
      },
      "source": [
        "Optimal Q-value:\n",
        "\n",
        "$$Q^{*}(s,a)=\\max_{\\pi}\\mathbb{E}\\left[\\sum_{t \\geq0}\\gamma^{t}r_{t}|s_{0}=s,a_{0}=a,\\pi\\right] $$"
      ]
    },
    {
      "cell_type": "markdown",
      "metadata": {
        "id": "jETRoicMIIV_"
      },
      "source": [
        "This satisfies the **Bellman** equation leading to the recursion\n",
        "\n",
        "$$Q^{*}(s,a)=\\mathbb{E}_{s'\\sim\\mathcal{E}}\\left[r+\\gamma\\max_{a'}Q^{*}(s',a')|(s,a)\\right] $$\n"
      ]
    },
    {
      "cell_type": "markdown",
      "metadata": {
        "id": "702X8ShA80Fx"
      },
      "source": [
        "The Neural Network is used to approximate the action-value function\n",
        "\n",
        "$$Q(s,a;\\theta)\\approx Q^{*}(s,a) $$"
      ]
    },
    {
      "cell_type": "markdown",
      "metadata": {
        "id": "Pr7e9OCp9OhN"
      },
      "source": [
        "The Loss Function used is the MSE following\n",
        "\n",
        "$$\\mathcal{L}_{i}(\\theta_{i})=\\mathbb{E}_{s,a\\sim p(\\cdot)}[(y_{i}-Q(s,a;\\theta_{i}))^{2}]$$\n",
        "\n",
        "where $$y_{i}=\\mathbb{E}_{s'\\sim\\mathcal{E}}\\left[r+\\gamma\\max_{a'}Q^{*}(s',a';\\theta_{i-1})|(s,a)\\right]$$"
      ]
    },
    {
      "cell_type": "markdown",
      "metadata": {
        "id": "DhOJYWGC-Buq"
      },
      "source": [
        "The loss function is iteratively trying to make the Bellman's equation $Q^{*}(s,a)$ close to the target value $y_{i}$. If this happens, the Q-function corresponds to the optimal $Q^*$ function leading to the optimal policy $\\pi^*$. Thus, the agent is suppose to take the best action in any state."
      ]
    },
    {
      "cell_type": "markdown",
      "metadata": {
        "id": "3e3lKfZ9_H9q"
      },
      "source": [
        "Gradient Update:\n",
        "\n",
        "$$\\nabla_{\\theta_{i}}\\mathcal{L}_{i}(\\theta_{i})=\\mathbb{E}_{s,a\\sim p(\\cdot);s'\\sim \\mathbb{E}}\\left[r+\\gamma\\max_{a'}Q(s',a';\\theta_{i-1})-Q(s,a;\\theta_{i})\\nabla_{\\theta}Q(s,a;\\theta_{i})\\right]$$"
      ]
    },
    {
      "cell_type": "code",
      "metadata": {
        "id": "-QvK92JaBiL7"
      },
      "source": [
        "def qtrain(model, maze, **opt):\n",
        "    global epsilon\n",
        "    n_epoch = opt.get('n_epoch', 15000)\n",
        "    max_memory = opt.get('max_memory', 1000)\n",
        "    data_size = opt.get('data_size', 50)\n",
        "    weights_file = opt.get('weights_file', \"\")\n",
        "    name = opt.get('name', 'model')\n",
        "    start_time = datetime.datetime.now()\n",
        "\n",
        "    # If you want to continue training from a previous model,\n",
        "    # just supply the h5 file name to weights_file option\n",
        "    if weights_file:\n",
        "        print(\"loading weights from file: %s\" % (weights_file,))\n",
        "        model.load_weights(weights_file)\n",
        "\n",
        "    # Construct environment/game from numpy array: maze (see above)\n",
        "    qmaze = Qmaze(maze)\n",
        "\n",
        "    # Initialize experience replay object\n",
        "    experience = Experience(model, max_memory=max_memory)\n",
        "\n",
        "    win_history = []   # history of win/lose game\n",
        "    n_free_cells = len(qmaze.free_cells)\n",
        "    hsize = qmaze.maze.size//2   # history window size\n",
        "    win_rate = 0.0\n",
        "    imctr = 1\n",
        "\n",
        "    for epoch in range(n_epoch):\n",
        "        loss = 0.0\n",
        "        rat_cell = random.choice(qmaze.free_cells)\n",
        "        qmaze.reset(rat_cell)\n",
        "        game_over = False\n",
        "\n",
        "        # get initial envstate (1d flattened canvas)\n",
        "        envstate = qmaze.observe()\n",
        "\n",
        "        n_episodes = 0\n",
        "        while not game_over:\n",
        "            valid_actions = qmaze.valid_actions()\n",
        "            if not valid_actions: break\n",
        "            prev_envstate = envstate\n",
        "            # Get next action\n",
        "            if np.random.rand() < epsilon:\n",
        "                action = random.choice(valid_actions)\n",
        "            else:\n",
        "                action = np.argmax(experience.predict(prev_envstate))\n",
        "\n",
        "            # Apply action, get reward and new envstate\n",
        "            envstate, reward, game_status = qmaze.act(action)\n",
        "            if game_status == 'win':\n",
        "                win_history.append(1)\n",
        "                game_over = True\n",
        "            elif game_status == 'lose':\n",
        "                win_history.append(0)\n",
        "                game_over = True\n",
        "            else:\n",
        "                game_over = False\n",
        "\n",
        "            # Store episode (experience)\n",
        "            episode = [prev_envstate, action, reward, envstate, game_over]\n",
        "            experience.remember(episode)\n",
        "            n_episodes += 1\n",
        "\n",
        "            # Train neural network model\n",
        "            inputs, targets = experience.get_data(data_size=data_size)\n",
        "            h = model.fit(\n",
        "                inputs,\n",
        "                targets,\n",
        "                epochs=8,\n",
        "                batch_size=16,\n",
        "                verbose=0,\n",
        "            )\n",
        "            loss = model.evaluate(inputs, targets, verbose=0)\n",
        "\n",
        "        if len(win_history) > hsize:\n",
        "            win_rate = sum(win_history[-hsize:]) / hsize\n",
        "    \n",
        "        dt = datetime.datetime.now() - start_time\n",
        "        t = format_time(dt.total_seconds())\n",
        "        template = \"Epoch: {:03d}/{:d} | Loss: {:.4f} | Episodes: {:d} | Win count: {:d} | Win rate: {:.3f} | time: {}\"\n",
        "        print(template.format(epoch, n_epoch-1, loss, n_episodes, sum(win_history), win_rate, t))\n",
        "        # we simply check if training has exhausted all free cells and if in all\n",
        "        # cases the agent won\n",
        "        if win_rate > 0.9 : epsilon = 0.05\n",
        "        if sum(win_history[-hsize:]) == hsize and completion_check(model, qmaze):\n",
        "            print(\"Reached 100%% win rate at epoch: %d\" % (epoch,))\n",
        "            break\n",
        "\n",
        "    # Save trained model weights and architecture, this will be used by the visualization code\n",
        "    h5file = name + \".h5\"\n",
        "    json_file = name + \".json\"\n",
        "    model.save_weights(h5file, overwrite=True)\n",
        "    with open(json_file, \"w\") as outfile:\n",
        "        json.dump(model.to_json(), outfile)\n",
        "    end_time = datetime.datetime.now()\n",
        "    dt = datetime.datetime.now() - start_time\n",
        "    seconds = dt.total_seconds()\n",
        "    t = format_time(seconds)\n",
        "    print('files: %s, %s' % (h5file, json_file))\n",
        "    print(\"n_epoch: %d, max_mem: %d, data: %d, time: %s\" % (epoch, max_memory, data_size, t))\n",
        "    return seconds\n",
        "\n",
        "# This is a small utility for printing readable time strings:\n",
        "def format_time(seconds):\n",
        "    if seconds < 400:\n",
        "        s = float(seconds)\n",
        "        return \"%.1f seconds\" % (s,)\n",
        "    elif seconds < 4000:\n",
        "        m = seconds / 60.0\n",
        "        return \"%.2f minutes\" % (m,)\n",
        "    else:\n",
        "        h = seconds / 3600.0\n",
        "        return \"%.2f hours\" % (h,)"
      ],
      "execution_count": null,
      "outputs": []
    },
    {
      "cell_type": "markdown",
      "metadata": {
        "id": "veXuVY7KcX46"
      },
      "source": [
        "## Neural Network"
      ]
    },
    {
      "cell_type": "code",
      "metadata": {
        "id": "7W6tHgyyBzrr"
      },
      "source": [
        "def build_model(maze, lr=0.001):\n",
        "    model = Sequential()\n",
        "    model.add(Dense(maze.size, input_shape=(maze.size,)))\n",
        "    model.add(PReLU())\n",
        "    model.add(Dense(maze.size))\n",
        "    model.add(PReLU())\n",
        "    model.add(Dense(num_actions))\n",
        "    model.compile(optimizer='adam', loss='mse')\n",
        "    return model"
      ],
      "execution_count": null,
      "outputs": []
    },
    {
      "cell_type": "markdown",
      "metadata": {
        "id": "Ivi_pdkFcZkv"
      },
      "source": [
        "# 10x10 Maze"
      ]
    },
    {
      "cell_type": "code",
      "metadata": {
        "colab": {
          "base_uri": "https://localhost:8080/",
          "height": 269
        },
        "id": "sXIvaUxDE2tE",
        "outputId": "833c0442-2488-4545-e88c-7ebfc2a3f8a5"
      },
      "source": [
        "maze = np.array([\n",
        "    [ 1.,  0.,  1.,  1.,  1.,  1.,  1.,  1.,  1.,  1.],\n",
        "    [ 1.,  1.,  1.,  1.,  1.,  0.,  1.,  1.,  1.,  1.],\n",
        "    [ 1.,  1.,  1.,  1.,  1.,  0.,  1.,  1.,  1.,  1.],\n",
        "    [ 0.,  0.,  1.,  0.,  0.,  1.,  0.,  1.,  1.,  1.],\n",
        "    [ 1.,  1.,  0.,  1.,  0.,  1.,  0.,  0.,  0.,  1.],\n",
        "    [ 1.,  1.,  0.,  1.,  0.,  1.,  1.,  1.,  1.,  1.],\n",
        "    [ 1.,  1.,  1.,  1.,  1.,  1.,  1.,  1.,  1.,  1.],\n",
        "    [ 1.,  1.,  1.,  1.,  1.,  1.,  0.,  0.,  0.,  0.],\n",
        "    [ 1.,  0.,  0.,  0.,  0.,  0.,  1.,  1.,  1.,  1.],\n",
        "    [ 1.,  1.,  1.,  1.,  1.,  1.,  1.,  0.,  1.,  1.]\n",
        "])\n",
        "qmaze = Qmaze(maze)\n",
        "show(qmaze)"
      ],
      "execution_count": null,
      "outputs": [
        {
          "output_type": "execute_result",
          "data": {
            "text/plain": [
              "<matplotlib.image.AxesImage at 0x1ef16766d08>"
            ]
          },
          "metadata": {
            "tags": []
          },
          "execution_count": 13
        },
        {
          "output_type": "display_data",
          "data": {
            "image/png": "[encoded data removed]",
            "text/plain": [
              "<Figure size 432x288 with 1 Axes>"
            ]
          },
          "metadata": {
            "tags": [],
            "needs_background": "light"
          }
        }
      ]
    },
    {
      "cell_type": "code",
      "metadata": {
        "colab": {
          "base_uri": "https://localhost:8080/"
        },
        "id": "wK9lCeTACAcy",
        "scrolled": false,
        "outputId": "b4e83525-1ed1-4dc2-edd7-cba557e30d63"
      },
      "source": [
        "model = build_model(maze)\n",
        "qtrain(model, maze, epochs=1000, max_memory=8*maze.size, data_size=32)"
      ],
      "execution_count": null,
      "outputs": [
        {
          "output_type": "stream",
          "text": [
            "Epoch: 000/14999 | Loss: 0.0013 | Episodes: 227 | Win count: 0 | Win rate: 0.000 | time: 7.20 minutes\n",
            "Epoch: 001/14999 | Loss: 0.0022 | Episodes: 214 | Win count: 0 | Win rate: 0.000 | time: 14.23 minutes\n",
            "Epoch: 002/14999 | Loss: 0.0019 | Episodes: 211 | Win count: 0 | Win rate: 0.000 | time: 21.80 minutes\n",
            "Epoch: 003/14999 | Loss: 0.0039 | Episodes: 211 | Win count: 0 | Win rate: 0.000 | time: 29.82 minutes\n",
            "Epoch: 004/14999 | Loss: 0.0012 | Episodes: 237 | Win count: 0 | Win rate: 0.000 | time: 39.14 minutes\n",
            "Epoch: 005/14999 | Loss: 0.0007 | Episodes: 216 | Win count: 0 | Win rate: 0.000 | time: 47.64 minutes\n",
            "Epoch: 006/14999 | Loss: 0.0030 | Episodes: 199 | Win count: 1 | Win rate: 0.000 | time: 55.47 minutes\n",
            "Epoch: 007/14999 | Loss: 0.0010 | Episodes: 236 | Win count: 1 | Win rate: 0.000 | time: 64.73 minutes\n",
            "Epoch: 008/14999 | Loss: 0.0034 | Episodes: 86 | Win count: 2 | Win rate: 0.000 | time: 1.14 hours\n",
            "Epoch: 009/14999 | Loss: 0.0097 | Episodes: 224 | Win count: 2 | Win rate: 0.000 | time: 1.28 hours\n",
            "Epoch: 010/14999 | Loss: 0.0504 | Episodes: 224 | Win count: 2 | Win rate: 0.000 | time: 1.43 hours\n",
            "Epoch: 011/14999 | Loss: 0.0029 | Episodes: 228 | Win count: 2 | Win rate: 0.000 | time: 1.58 hours\n",
            "Epoch: 012/14999 | Loss: 0.0017 | Episodes: 223 | Win count: 2 | Win rate: 0.000 | time: 1.72 hours\n",
            "Epoch: 013/14999 | Loss: 0.0011 | Episodes: 227 | Win count: 2 | Win rate: 0.000 | time: 1.85 hours\n",
            "Epoch: 014/14999 | Loss: 0.0012 | Episodes: 212 | Win count: 2 | Win rate: 0.000 | time: 1.99 hours\n",
            "Epoch: 015/14999 | Loss: 0.1322 | Episodes: 104 | Win count: 3 | Win rate: 0.000 | time: 2.06 hours\n",
            "Epoch: 016/14999 | Loss: 0.0452 | Episodes: 212 | Win count: 3 | Win rate: 0.000 | time: 2.20 hours\n",
            "Epoch: 017/14999 | Loss: 0.0060 | Episodes: 87 | Win count: 4 | Win rate: 0.000 | time: 2.25 hours\n",
            "Epoch: 018/14999 | Loss: 0.0069 | Episodes: 48 | Win count: 5 | Win rate: 0.000 | time: 2.28 hours\n",
            "Epoch: 019/14999 | Loss: 0.0405 | Episodes: 217 | Win count: 5 | Win rate: 0.000 | time: 2.43 hours\n",
            "Epoch: 020/14999 | Loss: 0.0021 | Episodes: 12 | Win count: 6 | Win rate: 0.000 | time: 2.44 hours\n",
            "Epoch: 021/14999 | Loss: 0.0058 | Episodes: 135 | Win count: 7 | Win rate: 0.000 | time: 2.52 hours\n",
            "Epoch: 022/14999 | Loss: 0.0389 | Episodes: 179 | Win count: 8 | Win rate: 0.000 | time: 2.64 hours\n",
            "Epoch: 023/14999 | Loss: 0.0228 | Episodes: 19 | Win count: 9 | Win rate: 0.000 | time: 2.65 hours\n",
            "Epoch: 024/14999 | Loss: 0.0054 | Episodes: 40 | Win count: 10 | Win rate: 0.000 | time: 2.68 hours\n",
            "Epoch: 025/14999 | Loss: 0.0040 | Episodes: 63 | Win count: 11 | Win rate: 0.000 | time: 2.72 hours\n",
            "Epoch: 026/14999 | Loss: 0.0049 | Episodes: 6 | Win count: 12 | Win rate: 0.000 | time: 2.72 hours\n",
            "Epoch: 027/14999 | Loss: 0.0035 | Episodes: 209 | Win count: 12 | Win rate: 0.000 | time: 2.86 hours\n",
            "Epoch: 028/14999 | Loss: 0.0040 | Episodes: 166 | Win count: 13 | Win rate: 0.000 | time: 2.96 hours\n",
            "Epoch: 029/14999 | Loss: 0.0048 | Episodes: 1 | Win count: 14 | Win rate: 0.000 | time: 2.96 hours\n",
            "Epoch: 030/14999 | Loss: 0.0019 | Episodes: 183 | Win count: 15 | Win rate: 0.000 | time: 3.06 hours\n",
            "Epoch: 031/14999 | Loss: 0.0072 | Episodes: 67 | Win count: 16 | Win rate: 0.000 | time: 3.10 hours\n",
            "Epoch: 032/14999 | Loss: 0.0038 | Episodes: 29 | Win count: 17 | Win rate: 0.000 | time: 3.11 hours\n",
            "Epoch: 033/14999 | Loss: 0.0090 | Episodes: 51 | Win count: 18 | Win rate: 0.000 | time: 3.14 hours\n",
            "Epoch: 034/14999 | Loss: 0.0043 | Episodes: 204 | Win count: 19 | Win rate: 0.000 | time: 3.26 hours\n",
            "Epoch: 035/14999 | Loss: 0.0042 | Episodes: 101 | Win count: 20 | Win rate: 0.000 | time: 3.31 hours\n",
            "Epoch: 036/14999 | Loss: 0.0049 | Episodes: 68 | Win count: 21 | Win rate: 0.000 | time: 3.35 hours\n",
            "Epoch: 037/14999 | Loss: 0.0072 | Episodes: 16 | Win count: 22 | Win rate: 0.000 | time: 3.36 hours\n",
            "Epoch: 038/14999 | Loss: 0.0119 | Episodes: 42 | Win count: 23 | Win rate: 0.000 | time: 3.38 hours\n",
            "Epoch: 039/14999 | Loss: 0.0043 | Episodes: 8 | Win count: 24 | Win rate: 0.000 | time: 3.39 hours\n",
            "Epoch: 040/14999 | Loss: 0.0150 | Episodes: 30 | Win count: 25 | Win rate: 0.000 | time: 3.40 hours\n",
            "Epoch: 041/14999 | Loss: 0.0026 | Episodes: 28 | Win count: 26 | Win rate: 0.000 | time: 3.42 hours\n",
            "Epoch: 042/14999 | Loss: 0.0040 | Episodes: 73 | Win count: 27 | Win rate: 0.000 | time: 3.46 hours\n",
            "Epoch: 043/14999 | Loss: 0.0024 | Episodes: 31 | Win count: 28 | Win rate: 0.000 | time: 3.47 hours\n",
            "Epoch: 044/14999 | Loss: 0.0023 | Episodes: 16 | Win count: 29 | Win rate: 0.000 | time: 3.48 hours\n",
            "Epoch: 045/14999 | Loss: 0.0044 | Episodes: 15 | Win count: 30 | Win rate: 0.000 | time: 3.49 hours\n",
            "Epoch: 046/14999 | Loss: 0.0037 | Episodes: 61 | Win count: 31 | Win rate: 0.000 | time: 3.52 hours\n",
            "Epoch: 047/14999 | Loss: 0.0056 | Episodes: 36 | Win count: 32 | Win rate: 0.000 | time: 3.54 hours\n",
            "Epoch: 048/14999 | Loss: 0.0056 | Episodes: 8 | Win count: 33 | Win rate: 0.000 | time: 3.55 hours\n",
            "Epoch: 049/14999 | Loss: 0.0026 | Episodes: 18 | Win count: 34 | Win rate: 0.000 | time: 3.56 hours\n",
            "Epoch: 050/14999 | Loss: 0.0012 | Episodes: 46 | Win count: 35 | Win rate: 0.700 | time: 3.58 hours\n",
            "Epoch: 051/14999 | Loss: 0.0035 | Episodes: 24 | Win count: 36 | Win rate: 0.720 | time: 3.60 hours\n",
            "Epoch: 052/14999 | Loss: 0.0019 | Episodes: 23 | Win count: 37 | Win rate: 0.740 | time: 3.61 hours\n",
            "Epoch: 053/14999 | Loss: 0.0012 | Episodes: 34 | Win count: 38 | Win rate: 0.760 | time: 3.63 hours\n",
            "Epoch: 054/14999 | Loss: 0.0026 | Episodes: 102 | Win count: 39 | Win rate: 0.780 | time: 3.68 hours\n",
            "Epoch: 055/14999 | Loss: 0.0033 | Episodes: 44 | Win count: 40 | Win rate: 0.800 | time: 3.71 hours\n",
            "Epoch: 056/14999 | Loss: 0.0036 | Episodes: 9 | Win count: 41 | Win rate: 0.800 | time: 3.71 hours\n",
            "Epoch: 057/14999 | Loss: 0.0075 | Episodes: 32 | Win count: 42 | Win rate: 0.820 | time: 3.73 hours\n",
            "Epoch: 058/14999 | Loss: 0.0018 | Episodes: 18 | Win count: 43 | Win rate: 0.820 | time: 3.74 hours\n",
            "Epoch: 059/14999 | Loss: 0.0077 | Episodes: 7 | Win count: 44 | Win rate: 0.840 | time: 3.74 hours\n",
            "Epoch: 060/14999 | Loss: 0.0024 | Episodes: 36 | Win count: 45 | Win rate: 0.860 | time: 3.76 hours\n",
            "Epoch: 061/14999 | Loss: 0.0018 | Episodes: 30 | Win count: 46 | Win rate: 0.880 | time: 3.78 hours\n",
            "Epoch: 062/14999 | Loss: 0.0018 | Episodes: 30 | Win count: 47 | Win rate: 0.900 | time: 3.79 hours\n",
            "Epoch: 063/14999 | Loss: 0.0004 | Episodes: 17 | Win count: 48 | Win rate: 0.920 | time: 3.80 hours\n",
            "Epoch: 064/14999 | Loss: 0.0021 | Episodes: 55 | Win count: 49 | Win rate: 0.940 | time: 3.83 hours\n",
            "Epoch: 065/14999 | Loss: 0.0054 | Episodes: 21 | Win count: 50 | Win rate: 0.940 | time: 3.84 hours\n",
            "Epoch: 066/14999 | Loss: 0.0021 | Episodes: 45 | Win count: 51 | Win rate: 0.960 | time: 3.87 hours\n",
            "Epoch: 067/14999 | Loss: 0.0010 | Episodes: 20 | Win count: 52 | Win rate: 0.960 | time: 3.88 hours\n",
            "Epoch: 068/14999 | Loss: 0.0018 | Episodes: 37 | Win count: 53 | Win rate: 0.960 | time: 3.90 hours\n",
            "Epoch: 069/14999 | Loss: 0.0010 | Episodes: 23 | Win count: 54 | Win rate: 0.980 | time: 3.91 hours\n",
            "Epoch: 070/14999 | Loss: 0.0011 | Episodes: 47 | Win count: 55 | Win rate: 0.980 | time: 3.93 hours\n",
            "Epoch: 071/14999 | Loss: 0.0018 | Episodes: 18 | Win count: 56 | Win rate: 0.980 | time: 3.94 hours\n",
            "Epoch: 072/14999 | Loss: 0.0008 | Episodes: 18 | Win count: 57 | Win rate: 0.980 | time: 3.95 hours\n",
            "Epoch: 073/14999 | Loss: 0.0009 | Episodes: 27 | Win count: 58 | Win rate: 0.980 | time: 3.97 hours\n",
            "Epoch: 074/14999 | Loss: 0.0004 | Episodes: 22 | Win count: 59 | Win rate: 0.980 | time: 3.98 hours\n",
            "Epoch: 075/14999 | Loss: 0.0014 | Episodes: 40 | Win count: 60 | Win rate: 0.980 | time: 4.01 hours\n",
            "Epoch: 076/14999 | Loss: 0.0004 | Episodes: 17 | Win count: 61 | Win rate: 0.980 | time: 4.02 hours\n",
            "Epoch: 077/14999 | Loss: 0.0019 | Episodes: 29 | Win count: 62 | Win rate: 1.000 | time: 4.04 hours\n",
            "Epoch: 078/14999 | Loss: 0.0015 | Episodes: 41 | Win count: 63 | Win rate: 1.000 | time: 4.06 hours\n",
            "Epoch: 079/14999 | Loss: 0.0007 | Episodes: 39 | Win count: 64 | Win rate: 1.000 | time: 4.09 hours\n",
            "Epoch: 080/14999 | Loss: 0.0018 | Episodes: 26 | Win count: 65 | Win rate: 1.000 | time: 4.10 hours\n",
            "Epoch: 081/14999 | Loss: 0.0002 | Episodes: 57 | Win count: 66 | Win rate: 1.000 | time: 4.14 hours\n",
            "Epoch: 082/14999 | Loss: 0.0161 | Episodes: 26 | Win count: 67 | Win rate: 1.000 | time: 4.15 hours\n",
            "Epoch: 083/14999 | Loss: 0.0016 | Episodes: 54 | Win count: 68 | Win rate: 1.000 | time: 4.19 hours\n",
            "Epoch: 084/14999 | Loss: 0.0016 | Episodes: 8 | Win count: 69 | Win rate: 1.000 | time: 4.19 hours\n",
            "Epoch: 085/14999 | Loss: 0.0156 | Episodes: 7 | Win count: 70 | Win rate: 1.000 | time: 4.20 hours\n",
            "Epoch: 086/14999 | Loss: 0.0003 | Episodes: 70 | Win count: 71 | Win rate: 1.000 | time: 4.25 hours\n",
            "Epoch: 087/14999 | Loss: 0.0007 | Episodes: 21 | Win count: 72 | Win rate: 1.000 | time: 4.26 hours\n",
            "Epoch: 088/14999 | Loss: 0.0010 | Episodes: 22 | Win count: 73 | Win rate: 1.000 | time: 4.28 hours\n",
            "Epoch: 089/14999 | Loss: 0.0007 | Episodes: 37 | Win count: 74 | Win rate: 1.000 | time: 4.30 hours\n",
            "Epoch: 090/14999 | Loss: 0.0003 | Episodes: 32 | Win count: 75 | Win rate: 1.000 | time: 4.32 hours\n",
            "Epoch: 091/14999 | Loss: 0.0005 | Episodes: 23 | Win count: 76 | Win rate: 1.000 | time: 4.34 hours\n",
            "Epoch: 092/14999 | Loss: 0.0056 | Episodes: 36 | Win count: 77 | Win rate: 1.000 | time: 4.36 hours\n",
            "Epoch: 093/14999 | Loss: 0.0005 | Episodes: 17 | Win count: 78 | Win rate: 1.000 | time: 4.37 hours\n",
            "Epoch: 094/14999 | Loss: 0.0009 | Episodes: 66 | Win count: 79 | Win rate: 1.000 | time: 4.41 hours\n",
            "Epoch: 095/14999 | Loss: 0.0003 | Episodes: 42 | Win count: 80 | Win rate: 1.000 | time: 4.43 hours\n",
            "Epoch: 096/14999 | Loss: 0.0008 | Episodes: 42 | Win count: 81 | Win rate: 1.000 | time: 4.46 hours\n",
            "Epoch: 097/14999 | Loss: 0.0014 | Episodes: 21 | Win count: 82 | Win rate: 1.000 | time: 4.47 hours\n",
            "Epoch: 098/14999 | Loss: 0.0006 | Episodes: 17 | Win count: 83 | Win rate: 1.000 | time: 4.48 hours\n",
            "Epoch: 099/14999 | Loss: 0.0008 | Episodes: 50 | Win count: 84 | Win rate: 1.000 | time: 4.51 hours\n",
            "Epoch: 100/14999 | Loss: 0.0007 | Episodes: 19 | Win count: 85 | Win rate: 1.000 | time: 4.53 hours\n",
            "Epoch: 101/14999 | Loss: 0.0008 | Episodes: 4 | Win count: 86 | Win rate: 1.000 | time: 4.53 hours\n",
            "Epoch: 102/14999 | Loss: 0.0032 | Episodes: 12 | Win count: 87 | Win rate: 1.000 | time: 4.54 hours\n",
            "Epoch: 103/14999 | Loss: 0.0011 | Episodes: 27 | Win count: 88 | Win rate: 1.000 | time: 4.56 hours\n",
            "Epoch: 104/14999 | Loss: 0.0007 | Episodes: 18 | Win count: 89 | Win rate: 1.000 | time: 4.57 hours\n",
            "Epoch: 105/14999 | Loss: 0.0004 | Episodes: 42 | Win count: 90 | Win rate: 1.000 | time: 4.60 hours\n",
            "Epoch: 106/14999 | Loss: 0.0010 | Episodes: 18 | Win count: 91 | Win rate: 1.000 | time: 4.61 hours\n",
            "Epoch: 107/14999 | Loss: 0.0009 | Episodes: 22 | Win count: 92 | Win rate: 1.000 | time: 4.62 hours\n",
            "Epoch: 108/14999 | Loss: 0.0683 | Episodes: 43 | Win count: 93 | Win rate: 1.000 | time: 4.65 hours\n",
            "Epoch: 109/14999 | Loss: 0.0032 | Episodes: 14 | Win count: 94 | Win rate: 1.000 | time: 4.66 hours\n",
            "Epoch: 110/14999 | Loss: 0.0028 | Episodes: 19 | Win count: 95 | Win rate: 1.000 | time: 4.67 hours\n",
            "Epoch: 111/14999 | Loss: 0.0007 | Episodes: 13 | Win count: 96 | Win rate: 1.000 | time: 4.68 hours\n",
            "Epoch: 112/14999 | Loss: 0.0058 | Episodes: 7 | Win count: 97 | Win rate: 1.000 | time: 4.69 hours\n",
            "Epoch: 113/14999 | Loss: 0.0041 | Episodes: 31 | Win count: 98 | Win rate: 1.000 | time: 4.70 hours\n",
            "Epoch: 114/14999 | Loss: 0.0001 | Episodes: 27 | Win count: 99 | Win rate: 1.000 | time: 4.72 hours\n",
            "Epoch: 115/14999 | Loss: 0.0009 | Episodes: 29 | Win count: 100 | Win rate: 1.000 | time: 4.74 hours\n",
            "Reached 100% win rate at epoch: 115\n",
            "files: model.h5, model.json\n",
            "n_epoch: 115, max_mem: 800, data: 32, time: 4.75 hours\n"
          ],
          "name": "stdout"
        },
        {
          "output_type": "execute_result",
          "data": {
            "text/plain": [
              "17110.523532"
            ]
          },
          "metadata": {
            "tags": []
          },
          "execution_count": 14
        }
      ]
    },
    {
      "cell_type": "markdown",
      "metadata": {
        "id": "J7W5qV2XcfEl"
      },
      "source": [
        "## Visualization\n"
      ]
    },
    {
      "cell_type": "markdown",
      "metadata": {
        "id": "OTfGTQvpYlcc"
      },
      "source": [
        "### Rat starting next to the cheese"
      ]
    },
    {
      "cell_type": "code",
      "metadata": {
        "id": "oj3EC2GBDkYu",
        "outputId": "df1e59cb-a9cb-4799-f6f8-315057f437d2"
      },
      "source": [
        "rat_cell = random.choice(qmaze.free_cells)\n",
        "qmaze.reset(rat_cell)\n",
        "envstate = qmaze.observe()\n",
        "game_status = 'lose'\n",
        "q_list = []\n",
        "while(game_status != 'win'):\n",
        "  q = model.predict(envstate)\n",
        "  q_list.append(q)\n",
        "  action = np.argmax(q[0])\n",
        "  # action = np.argmax(model.predict(envstate))\n",
        "  envstate, reward, game_status = qmaze.act(action)\n",
        "  show(qmaze)\n",
        "  display.clear_output(wait=True)\n",
        "  display.display(pl.gcf())\n",
        "  # plt.gca()\n",
        "  sleep(0.2)"
      ],
      "execution_count": null,
      "outputs": [
        {
          "output_type": "display_data",
          "data": {
            "image/png": "[encoded data removed]",
            "text/plain": [
              "<Figure size 432x288 with 1 Axes>"
            ]
          },
          "metadata": {
            "tags": []
          }
        },
        {
          "output_type": "display_data",
          "data": {
            "image/png": "[encoded data removed]",
            "text/plain": [
              "<Figure size 432x288 with 1 Axes>"
            ]
          },
          "metadata": {
            "tags": [],
            "needs_background": "light"
          }
        }
      ]
    },
    {
      "cell_type": "markdown",
      "metadata": {
        "id": "F5wgcMuDYlce"
      },
      "source": [
        "#### Q-value for each state"
      ]
    },
    {
      "cell_type": "code",
      "metadata": {
        "id": "M_UZEcO0Ylcf",
        "outputId": "30825e89-524b-44f7-dd73-897f950f10c7"
      },
      "source": [
        "c=0\n",
        "for i in range(len(q_list)):\n",
        "    print(c+1,'.', q_list[i])\n",
        "    c+=1"
      ],
      "execution_count": null,
      "outputs": [
        {
          "output_type": "stream",
          "text": [
            "1 . [[ 0.1902236  -0.2822705  -0.05437887 -0.38067022]]\n",
            "2 . [[-0.46522897 -0.3890491  -0.12863117  0.1732192 ]]\n",
            "3 . [[-0.44560176 -0.42439014 -0.06271631  0.22578967]]\n",
            "4 . [[ 0.07093236 -0.43117464  0.31317198 -0.22236171]]\n",
            "5 . [[-0.07377851 -0.52431005  0.36330712 -0.4088875 ]]\n",
            "6 . [[ 0.02980563 -0.6030817   0.4322099  -0.37945715]]\n",
            "7 . [[ 0.26150063 -0.7149097   0.5077642  -0.29151106]]\n",
            "8 . [[ 0.16350192 -0.5488035   0.5681446  -0.25255626]]\n",
            "9 . [[ 0.192566   -0.6603451   0.6511773  -0.14238727]]\n",
            "10 . [[ 0.30959666  0.67920756 -0.29996154 -0.7952963 ]]\n",
            "11 . [[ 0.11975607 -0.74362636  0.7663347  -0.0123827 ]]\n",
            "12 . [[ 0.18090117 -0.5314097   0.8278674   0.04662952]]\n",
            "13 . [[-0.00789465 -0.68649095  0.9094883   0.26572573]]\n",
            "14 . [[ 0.2070961  -0.9659368   0.07943685  0.9989394 ]]\n"
          ],
          "name": "stdout"
        }
      ]
    },
    {
      "cell_type": "markdown",
      "metadata": {
        "id": "UZlviP7SYlcf"
      },
      "source": [
        "The structure of this vector given as follows: \\[LEFT UP RIGHT DOWN\\]\n",
        "\n",
        "We can see that the mouse move 14 times towards the objective (cheese).\n",
        "\n",
        "\n",
        "The first move indicated by the first vector above should be maximum at its first position. Thus, the agent should move LEFT.\n",
        "\n",
        "The second and third moves indicated by the second and third vectors above should be maximum at its 4th position. Thus, the agent should move DOWN.\n",
        "\n",
        "The fourth to nineth move indicated by the fourth to nineth vectors above should be maximum at its 3th position. Thus, the agent should move to the RIGHT.\n",
        "\n",
        "The tenth move indicated by the tenth vector above should be maximum at its 2th position. Thus, the agent should move UP.\n",
        "\n",
        "The eleventh to thirteenth moves indicated by the eleventh to thirteenth vectors above should be maximum at its 3th position. Thus, the agent should move to the RIGHT.\n",
        "\n",
        "The last move indicated by the last vector above should be maximum at its 4th position. Thus, the agent should move DOWN.\n",
        "\n",
        "Indeed, we can see that the optimal policy leads to these movements."
      ]
    },
    {
      "cell_type": "code",
      "metadata": {
        "id": "TOCQQzC9Ylch",
        "outputId": "40da86a1-f2bb-4b97-8eb5-908d40158921"
      },
      "source": [
        "len(q_list)"
      ],
      "execution_count": null,
      "outputs": [
        {
          "output_type": "execute_result",
          "data": {
            "text/plain": [
              "14"
            ]
          },
          "metadata": {
            "tags": []
          },
          "execution_count": 37
        }
      ]
    },
    {
      "cell_type": "markdown",
      "metadata": {
        "id": "2W77ezQdYlch"
      },
      "source": [
        "### Rat starting far from the cheese"
      ]
    },
    {
      "cell_type": "code",
      "metadata": {
        "id": "ESoWFD7JYlch",
        "outputId": "06dc5e61-890e-44d9-93d1-2a817515eb1a"
      },
      "source": [
        "rat_cell = random.choice(qmaze.free_cells)\n",
        "qmaze.reset(rat_cell)\n",
        "envstate = qmaze.observe()\n",
        "game_status = 'lose'\n",
        "q_list = []\n",
        "while(game_status != 'win'):\n",
        "  q = model.predict(envstate)\n",
        "  q_list.append(q)\n",
        "  action = np.argmax(q[0])\n",
        "  # action = np.argmax(model.predict(envstate))\n",
        "  envstate, reward, game_status = qmaze.act(action)\n",
        "  show(qmaze)\n",
        "  display.clear_output(wait=True)\n",
        "  display.display(pl.gcf())\n",
        "  # plt.gca()\n",
        "  sleep(0.2)"
      ],
      "execution_count": null,
      "outputs": [
        {
          "output_type": "display_data",
          "data": {
            "image/png": "[encoded data removed]",
            "text/plain": [
              "<Figure size 432x288 with 1 Axes>"
            ]
          },
          "metadata": {
            "tags": []
          }
        },
        {
          "output_type": "display_data",
          "data": {
            "image/png": "[encoded data removed]",
            "text/plain": [
              "<Figure size 432x288 with 1 Axes>"
            ]
          },
          "metadata": {
            "tags": [],
            "needs_background": "light"
          }
        }
      ]
    },
    {
      "cell_type": "markdown",
      "metadata": {
        "id": "fOiImQgYYlcj"
      },
      "source": [
        "#### Q-value for three chosen states\n",
        "\n",
        "The states chosen is located at (5,7), (5,5), (8,1) at the maze grid."
      ]
    },
    {
      "cell_type": "code",
      "metadata": {
        "id": "qR4LwktVYlcp",
        "outputId": "79e118f5-d7a8-4d17-ff14-5e8190a332be"
      },
      "source": [
        "print('1',q_list[10])\n",
        "print('2',q_list[12])\n",
        "print('3',q_list[19])"
      ],
      "execution_count": null,
      "outputs": [
        {
          "output_type": "stream",
          "text": [
            "1 [[-0.11250725 -0.57658035 -0.1764097  -0.310006  ]]\n",
            "2 [[-0.31579486 -0.4182831  -0.18435208 -0.07944834]]\n",
            "3 [[-0.44560176 -0.42439014 -0.06271631  0.22578967]]\n"
          ],
          "name": "stdout"
        }
      ]
    },
    {
      "cell_type": "markdown",
      "metadata": {
        "id": "AoaFTQvCYlcq"
      },
      "source": [
        "The structure of this vector given as follows: \\[LEFT UP RIGHT DOWN\\]\n",
        "\n",
        "The Q-value at (5,7) grid state indicated by the first vector above should be maximum at its first position. Thus, the agent should move LEFT.\n",
        "\n",
        "The Q-value at (5,5) grid state indicated by the second vector above should be maximum at its 4th position. Thus, the agent should move DOWN.\n",
        "\n",
        "The Q-value at (8,1) grid state indicated by the third vector above should be maximum at its 4th position. Thus, the agent should move DOWN.\n",
        "\n",
        "Indeed, we can see that the optimal policy leads to these results."
      ]
    }
  ]
}