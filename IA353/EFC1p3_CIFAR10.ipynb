{
  "nbformat": 4,
  "nbformat_minor": 0,
  "metadata": {
    "colab": {
      "name": "EFC1p3_CIFAR10.ipynb",
      "provenance": [],
      "toc_visible": true,
      "authorship_tag": "ABX9TyPTlX5epLdRaRE16f4gjtNz",
      "include_colab_link": true
    },
    "kernelspec": {
      "name": "python3",
      "display_name": "Python 3"
    },
    "language_info": {
      "name": "python"
    },
    "accelerator": "GPU"
  },
  "cells": [
    {
      "cell_type": "markdown",
      "metadata": {
        "id": "view-in-github",
        "colab_type": "text"
      },
      "source": [
        "<a href=\"https://colab.research.google.com/github/SamuelBFG/DL-studies/blob/master/IA353/EFC1p3_CIFAR10.ipynb\" target=\"_parent\"><img src=\"https://colab.research.google.com/assets/colab-badge.svg\" alt=\"Open In Colab\"/></a>"
      ]
    },
    {
      "cell_type": "code",
      "metadata": {
        "id": "4Dm6Su_pEiOz"
      },
      "source": [
        "import tensorflow as tf\n",
        "import os"
      ],
      "execution_count": 1,
      "outputs": []
    },
    {
      "cell_type": "code",
      "metadata": {
        "id": "xWWFUdDwRL6D"
      },
      "source": [
        "cifar10 = tf.keras.datasets.cifar10\n",
        "(x_train, y_train),(x_test, y_test) = cifar10.load_data()\n",
        "x_train, x_test = x_train / 255.0, x_test / 255.0"
      ],
      "execution_count": 2,
      "outputs": []
    },
    {
      "cell_type": "code",
      "metadata": {
        "colab": {
          "base_uri": "https://localhost:8080/"
        },
        "id": "JyvjDv0ARbkA",
        "outputId": "a95e9a94-3b2e-4025-9abf-a83b8aa4558e"
      },
      "source": [
        "print('x_train shape:', x_train.shape)\n",
        "print('x_test shape:', x_test.shape)\n",
        "print('y_train shape:', y_train.shape)\n",
        "print('y_test shape:', y_test.shape)"
      ],
      "execution_count": 3,
      "outputs": [
        {
          "output_type": "stream",
          "text": [
            "x_train shape: (50000, 32, 32, 3)\n",
            "x_test shape: (10000, 32, 32, 3)\n",
            "y_train shape: (50000, 1)\n",
            "y_test shape: (10000, 1)\n"
          ],
          "name": "stdout"
        }
      ]
    },
    {
      "cell_type": "markdown",
      "metadata": {
        "id": "pGq-12C9Rj1U"
      },
      "source": [
        "# BASELINE MODEL"
      ]
    },
    {
      "cell_type": "code",
      "metadata": {
        "colab": {
          "base_uri": "https://localhost:8080/"
        },
        "id": "0SSTKrktRgcO",
        "outputId": "b9ceb399-7a80-4a99-e24e-20a941230a2d"
      },
      "source": [
        "model = tf.keras.models.Sequential([\n",
        " tf.keras.layers.Flatten(),\n",
        " tf.keras.layers.Dense(512, activation=tf.nn.relu),\n",
        " tf.keras.layers.Dropout(0.5),\n",
        " tf.keras.layers.Dense(10, activation=tf.nn.softmax)\n",
        "])\n",
        "\n",
        "\n",
        "model.compile(optimizer='adam',\n",
        " loss='sparse_categorical_crossentropy',\n",
        " metrics=['accuracy'])\n",
        "\n",
        "history = model.fit(x_train, y_train, epochs=5)"
      ],
      "execution_count": 4,
      "outputs": [
        {
          "output_type": "stream",
          "text": [
            "Epoch 1/5\n",
            "1563/1563 [==============================] - 4s 2ms/step - loss: 2.2231 - accuracy: 0.1860\n",
            "Epoch 2/5\n",
            "1563/1563 [==============================] - 4s 2ms/step - loss: 2.0095 - accuracy: 0.2427\n",
            "Epoch 3/5\n",
            "1563/1563 [==============================] - 3s 2ms/step - loss: 1.9853 - accuracy: 0.2599\n",
            "Epoch 4/5\n",
            "1563/1563 [==============================] - 3s 2ms/step - loss: 1.9798 - accuracy: 0.2613\n",
            "Epoch 5/5\n",
            "1563/1563 [==============================] - 3s 2ms/step - loss: 1.9718 - accuracy: 0.2646\n"
          ],
          "name": "stdout"
        }
      ]
    },
    {
      "cell_type": "code",
      "metadata": {
        "colab": {
          "base_uri": "https://localhost:8080/"
        },
        "id": "vmhm8BOXRkrr",
        "outputId": "f5ae8089-e28c-4662-f278-8e370cc71173"
      },
      "source": [
        "model.summary()"
      ],
      "execution_count": 5,
      "outputs": [
        {
          "output_type": "stream",
          "text": [
            "Model: \"sequential\"\n",
            "_________________________________________________________________\n",
            "Layer (type)                 Output Shape              Param #   \n",
            "=================================================================\n",
            "flatten (Flatten)            (None, 3072)              0         \n",
            "_________________________________________________________________\n",
            "dense (Dense)                (None, 512)               1573376   \n",
            "_________________________________________________________________\n",
            "dropout (Dropout)            (None, 512)               0         \n",
            "_________________________________________________________________\n",
            "dense_1 (Dense)              (None, 10)                5130      \n",
            "=================================================================\n",
            "Total params: 1,578,506\n",
            "Trainable params: 1,578,506\n",
            "Non-trainable params: 0\n",
            "_________________________________________________________________\n"
          ],
          "name": "stdout"
        }
      ]
    },
    {
      "cell_type": "code",
      "metadata": {
        "colab": {
          "base_uri": "https://localhost:8080/"
        },
        "id": "MZXa501OSDBM",
        "outputId": "92149905-10cc-42f8-df84-15326a632a6a"
      },
      "source": [
        "model.evaluate(x_test, y_test)"
      ],
      "execution_count": 6,
      "outputs": [
        {
          "output_type": "stream",
          "text": [
            "313/313 [==============================] - 1s 2ms/step - loss: 1.8458 - accuracy: 0.3358\n"
          ],
          "name": "stdout"
        },
        {
          "output_type": "execute_result",
          "data": {
            "text/plain": [
              "[1.8458298444747925, 0.3357999920845032]"
            ]
          },
          "metadata": {
            "tags": []
          },
          "execution_count": 6
        }
      ]
    },
    {
      "cell_type": "markdown",
      "metadata": {
        "id": "UebswX3ASOKX"
      },
      "source": [
        "#### Plot"
      ]
    },
    {
      "cell_type": "code",
      "metadata": {
        "colab": {
          "base_uri": "https://localhost:8080/",
          "height": 404
        },
        "id": "r5r6We1WSFGy",
        "outputId": "8deb865a-b18d-4581-9718-8c533d28c7d2"
      },
      "source": [
        "import matplotlib.pyplot as plt\n",
        "plt.figure(figsize=(8, 6))  \n",
        "plt.plot(history.history['loss'], color='b')\n",
        "plt.title('Training Loss')\n",
        "plt.xlabel('epochs')\n",
        "plt.ylabel('Error')\n",
        "plt.show()"
      ],
      "execution_count": 7,
      "outputs": [
        {
          "output_type": "display_data",
          "data": {
            "image/png": "[encoded data removed]",
            "text/plain": [
              "<Figure size 576x432 with 1 Axes>"
            ]
          },
          "metadata": {
            "tags": [],
            "needs_background": "light"
          }
        }
      ]
    },
    {
      "cell_type": "markdown",
      "metadata": {
        "id": "uuNEmFAESR5j"
      },
      "source": [
        "### Working with multiples executions:"
      ]
    },
    {
      "cell_type": "code",
      "metadata": {
        "colab": {
          "base_uri": "https://localhost:8080/"
        },
        "id": "1BISxK4FSL15",
        "outputId": "e56127f3-606e-4050-8c3b-db65d68938e3"
      },
      "source": [
        "executions = 5\n",
        "histories = []\n",
        "evaluations = []\n",
        "\n",
        "for i in range(executions):\n",
        "  model = tf.keras.models.Sequential([\n",
        "                                      tf.keras.layers.Flatten(),\n",
        "                                      tf.keras.layers.Dense(512, activation=tf.nn.relu),\n",
        "                                      tf.keras.layers.Dropout(0.5),\n",
        "                                      tf.keras.layers.Dense(10, activation=tf.nn.softmax)\n",
        "                                      ])\n",
        "  \n",
        "  print('## Training model number: ', i+1)\n",
        "\n",
        "  model.compile(optimizer='adam',\n",
        "                      loss='sparse_categorical_crossentropy',\n",
        "                      metrics=['accuracy'])\n",
        "  \n",
        "  histories.append(model.fit(x_train, y_train, epochs=5, verbose=0))\n",
        "\n",
        "  print('#• Test set:')\n",
        "  evaluations.append(model.evaluate(x_test, y_test))\n",
        "  print('\\n')"
      ],
      "execution_count": 8,
      "outputs": [
        {
          "output_type": "stream",
          "text": [
            "## Training model number:  1\n",
            "#• Test set:\n",
            "313/313 [==============================] - 1s 2ms/step - loss: 1.8195 - accuracy: 0.3470\n",
            "\n",
            "\n",
            "## Training model number:  2\n",
            "#• Test set:\n",
            "313/313 [==============================] - 1s 2ms/step - loss: 1.8762 - accuracy: 0.3264\n",
            "\n",
            "\n",
            "## Training model number:  3\n",
            "#• Test set:\n",
            "313/313 [==============================] - 1s 2ms/step - loss: 1.9506 - accuracy: 0.2882\n",
            "\n",
            "\n",
            "## Training model number:  4\n",
            "#• Test set:\n",
            "313/313 [==============================] - 1s 2ms/step - loss: 1.8850 - accuracy: 0.3136\n",
            "\n",
            "\n",
            "## Training model number:  5\n",
            "#• Test set:\n",
            "313/313 [==============================] - 1s 2ms/step - loss: 1.9029 - accuracy: 0.3100\n",
            "\n",
            "\n"
          ],
          "name": "stdout"
        }
      ]
    },
    {
      "cell_type": "code",
      "metadata": {
        "colab": {
          "base_uri": "https://localhost:8080/"
        },
        "id": "WvtAbVcRST2t",
        "outputId": "8d95e34d-141e-4a21-96d5-ed13e10e546b"
      },
      "source": [
        "histories[0].history.keys()"
      ],
      "execution_count": 9,
      "outputs": [
        {
          "output_type": "execute_result",
          "data": {
            "text/plain": [
              "dict_keys(['loss', 'accuracy'])"
            ]
          },
          "metadata": {
            "tags": []
          },
          "execution_count": 9
        }
      ]
    },
    {
      "cell_type": "code",
      "metadata": {
        "colab": {
          "base_uri": "https://localhost:8080/",
          "height": 388
        },
        "id": "q-ORcAdFSmfk",
        "outputId": "a06e8615-71d1-4694-c459-20b53919bde7"
      },
      "source": [
        "plt.figure(figsize=(8, 6))  \n",
        "plt.xlabel('epochs')\n",
        "plt.ylabel('Error')\n",
        "for i in range(executions):\n",
        "  plt.plot(histories[i].history['loss'])\n",
        "plt.show()"
      ],
      "execution_count": 10,
      "outputs": [
        {
          "output_type": "display_data",
          "data": {
            "image/png": "[encoded data removed]",
            "text/plain": [
              "<Figure size 576x432 with 1 Axes>"
            ]
          },
          "metadata": {
            "tags": [],
            "needs_background": "light"
          }
        }
      ]
    },
    {
      "cell_type": "code",
      "metadata": {
        "colab": {
          "base_uri": "https://localhost:8080/"
        },
        "id": "n7s1wWSzUZcs",
        "outputId": "17a243db-9b66-4c44-d1f1-bf1c354411df"
      },
      "source": [
        "histories[-1].history['accuracy'] # Last training acc log per epochs"
      ],
      "execution_count": 11,
      "outputs": [
        {
          "output_type": "execute_result",
          "data": {
            "text/plain": [
              "[0.1950799971818924,\n",
              " 0.21877999603748322,\n",
              " 0.2261199951171875,\n",
              " 0.23263999819755554,\n",
              " 0.23287999629974365]"
            ]
          },
          "metadata": {
            "tags": []
          },
          "execution_count": 11
        }
      ]
    },
    {
      "cell_type": "code",
      "metadata": {
        "colab": {
          "base_uri": "https://localhost:8080/"
        },
        "id": "S5qsAR31WJqw",
        "outputId": "fe06a443-d9e6-4ab3-df6f-edf6d5ed04a7"
      },
      "source": [
        "evaluations[0] # Loss and acc for the first model (LIST)"
      ],
      "execution_count": 12,
      "outputs": [
        {
          "output_type": "execute_result",
          "data": {
            "text/plain": [
              "[1.8195173740386963, 0.34700000286102295]"
            ]
          },
          "metadata": {
            "tags": []
          },
          "execution_count": 12
        }
      ]
    },
    {
      "cell_type": "code",
      "metadata": {
        "colab": {
          "base_uri": "https://localhost:8080/"
        },
        "id": "B4uS3pMWWKrl",
        "outputId": "98296b5e-f013-463c-f9af-30e8378977d7"
      },
      "source": [
        "acc_val = []\n",
        "acc_test = []\n",
        "\n",
        "for i in range(executions):\n",
        "  acc_val.append(sum(histories[i].history['accuracy']) / len(histories[i].history['accuracy']))\n",
        "  acc_test.append(evaluations[i][1])\n",
        "\n",
        "acc_val"
      ],
      "execution_count": 13,
      "outputs": [
        {
          "output_type": "execute_result",
          "data": {
            "text/plain": [
              "[0.24992000162601472,\n",
              " 0.23153600096702576,\n",
              " 0.22798400223255158,\n",
              " 0.22813200056552888,\n",
              " 0.22109999656677246]"
            ]
          },
          "metadata": {
            "tags": []
          },
          "execution_count": 13
        }
      ]
    },
    {
      "cell_type": "code",
      "metadata": {
        "colab": {
          "base_uri": "https://localhost:8080/"
        },
        "id": "eNVUKn3uWMLy",
        "outputId": "64aec40b-ec51-4381-a4d6-8bb536ab0bc5"
      },
      "source": [
        "acc_test"
      ],
      "execution_count": 14,
      "outputs": [
        {
          "output_type": "execute_result",
          "data": {
            "text/plain": [
              "[0.34700000286102295,\n",
              " 0.3264000117778778,\n",
              " 0.2881999909877777,\n",
              " 0.31360000371932983,\n",
              " 0.3100000023841858]"
            ]
          },
          "metadata": {
            "tags": []
          },
          "execution_count": 14
        }
      ]
    },
    {
      "cell_type": "markdown",
      "metadata": {
        "id": "nz38a-MHYXX8"
      },
      "source": [
        "#### Average validation accuracy (training set)"
      ]
    },
    {
      "cell_type": "code",
      "metadata": {
        "colab": {
          "base_uri": "https://localhost:8080/"
        },
        "id": "T_EJSHq6WN0u",
        "outputId": "a01ebab1-dc2c-4e32-ed9b-5540a7d22518"
      },
      "source": [
        "avg_acc_val = sum(acc_val)/len(acc_val)\n",
        "avg_acc_val"
      ],
      "execution_count": 15,
      "outputs": [
        {
          "output_type": "execute_result",
          "data": {
            "text/plain": [
              "0.23173440039157867"
            ]
          },
          "metadata": {
            "tags": []
          },
          "execution_count": 15
        }
      ]
    },
    {
      "cell_type": "markdown",
      "metadata": {
        "id": "kA33qrXlYaBB"
      },
      "source": [
        "#### Average test accuracy"
      ]
    },
    {
      "cell_type": "code",
      "metadata": {
        "colab": {
          "base_uri": "https://localhost:8080/"
        },
        "id": "RxinbeUxYYE4",
        "outputId": "e45a4a18-5c13-4dee-a0f9-ab3a674af1cb"
      },
      "source": [
        "avg_acc_test = sum(acc_test)/len(acc_test)\n",
        "avg_acc_test"
      ],
      "execution_count": 16,
      "outputs": [
        {
          "output_type": "execute_result",
          "data": {
            "text/plain": [
              "0.3170400023460388"
            ]
          },
          "metadata": {
            "tags": []
          },
          "execution_count": 16
        }
      ]
    },
    {
      "cell_type": "markdown",
      "metadata": {
        "id": "bcJ8u5M_YdB0"
      },
      "source": [
        "# MODIFIED MODEL\n",
        "\n",
        "• Goal: Better test accuracy results"
      ]
    },
    {
      "cell_type": "markdown",
      "metadata": {
        "id": "DeZ5a490YfoX"
      },
      "source": [
        "### Holdout:"
      ]
    },
    {
      "cell_type": "code",
      "metadata": {
        "colab": {
          "base_uri": "https://localhost:8080/"
        },
        "id": "bDNSvvSRYa-a",
        "outputId": "568d5373-1687-4578-8a9f-59d5f09043aa"
      },
      "source": [
        "print('x_train shape:', x_train.shape)\n",
        "print('x_test shape:', x_test.shape)\n",
        "print('y_train shape:', y_train.shape)\n",
        "print('y_test shape:', y_test.shape)"
      ],
      "execution_count": 17,
      "outputs": [
        {
          "output_type": "stream",
          "text": [
            "x_train shape: (50000, 32, 32, 3)\n",
            "x_test shape: (10000, 32, 32, 3)\n",
            "y_train shape: (50000, 1)\n",
            "y_test shape: (10000, 1)\n"
          ],
          "name": "stdout"
        }
      ]
    },
    {
      "cell_type": "markdown",
      "metadata": {
        "id": "jO2eaqHoZYEh"
      },
      "source": [
        "One-hot encoding train and test labels:"
      ]
    },
    {
      "cell_type": "code",
      "metadata": {
        "id": "MH2xa0PMZXnZ"
      },
      "source": [
        "from keras.utils.np_utils import to_categorical\n",
        "\n",
        "y_train = to_categorical(y_train, num_classes = 10)\n",
        "y_test = to_categorical(y_test, num_classes = 10)"
      ],
      "execution_count": 18,
      "outputs": []
    },
    {
      "cell_type": "markdown",
      "metadata": {
        "id": "1BYlfhEGZbCU"
      },
      "source": [
        "20% for validation set\n",
        "\n",
        "80% for training set"
      ]
    },
    {
      "cell_type": "code",
      "metadata": {
        "id": "zZaiJIOnZd7a"
      },
      "source": [
        "from sklearn.model_selection import train_test_split\n",
        "train_data, train_data_val, train_labels, train_labels_val = train_test_split(x_train, y_train, test_size = 0.2, random_state=261663)"
      ],
      "execution_count": 19,
      "outputs": []
    },
    {
      "cell_type": "code",
      "metadata": {
        "id": "083DfSB1au9T"
      },
      "source": [
        "print('train_data shape:', x_train.shape)\n",
        "print('train_data_val shape:', train_data_val.shape)\n",
        "print('train_labels shape:', y_train.shape)\n",
        "print('train_labels_val shape:', train_labels_val.shape)\n",
        "print('x_test shape:', x_test.shape)\n",
        "print('y_test shape:', y_test.shape)"
      ],
      "execution_count": null,
      "outputs": []
    },
    {
      "cell_type": "markdown",
      "metadata": {
        "id": "Cl2wfuWHYzRc"
      },
      "source": [
        "### Model\n",
        "\n",
        "Inspired by [LeNet-5, 1998](https://ieeexplore.ieee.org/document/726791), the architecture follows the structure: conv->pool->conv->pool->fc->output\n",
        "\n",
        "Modifications:\n",
        "\n",
        "• Adam with learning rate 0.001\n",
        "\n",
        "• Mini-batch size of 64"
      ]
    },
    {
      "cell_type": "code",
      "metadata": {
        "id": "Plo7CdH3Ygra"
      },
      "source": [
        "from keras.models import Sequential\n",
        "from keras.layers import Dense, Dropout, Flatten, Conv2D, MaxPool2D\n",
        "\n",
        "\n",
        "model = Sequential()\n",
        "\n",
        "model.add(Conv2D(filters = 16, kernel_size = (5,5), padding = 'Same', \n",
        "                 activation ='relu', input_shape = (32,32,3)))\n",
        "model.add(MaxPool2D(pool_size=(2,2)))\n",
        "model.add(Conv2D(filters = 32, kernel_size = (5,5), padding = 'Same', \n",
        "                 activation ='relu'))\n",
        "model.add(MaxPool2D(pool_size=(2,2)))\n",
        "\n",
        "model.add(Flatten())\n",
        "model.add(Dense(256, activation = \"relu\"))\n",
        "\n",
        "model.add(Dense(10, activation = \"softmax\"))"
      ],
      "execution_count": 24,
      "outputs": []
    },
    {
      "cell_type": "code",
      "metadata": {
        "colab": {
          "base_uri": "https://localhost:8080/"
        },
        "id": "VgR31p28Y0l-",
        "outputId": "d98268a4-62c8-4fc8-bd79-debf81153a50"
      },
      "source": [
        "model.summary()"
      ],
      "execution_count": 25,
      "outputs": [
        {
          "output_type": "stream",
          "text": [
            "Model: \"sequential_7\"\n",
            "_________________________________________________________________\n",
            "Layer (type)                 Output Shape              Param #   \n",
            "=================================================================\n",
            "conv2d_2 (Conv2D)            (None, 32, 32, 16)        1216      \n",
            "_________________________________________________________________\n",
            "max_pooling2d_2 (MaxPooling2 (None, 16, 16, 16)        0         \n",
            "_________________________________________________________________\n",
            "conv2d_3 (Conv2D)            (None, 16, 16, 32)        12832     \n",
            "_________________________________________________________________\n",
            "max_pooling2d_3 (MaxPooling2 (None, 8, 8, 32)          0         \n",
            "_________________________________________________________________\n",
            "flatten_7 (Flatten)          (None, 2048)              0         \n",
            "_________________________________________________________________\n",
            "dense_14 (Dense)             (None, 256)               524544    \n",
            "_________________________________________________________________\n",
            "dense_15 (Dense)             (None, 10)                2570      \n",
            "=================================================================\n",
            "Total params: 541,162\n",
            "Trainable params: 541,162\n",
            "Non-trainable params: 0\n",
            "_________________________________________________________________\n"
          ],
          "name": "stdout"
        }
      ]
    },
    {
      "cell_type": "code",
      "metadata": {
        "id": "I2k_LbjLY1U9"
      },
      "source": [
        "from keras.optimizers import Adam\n",
        "model.compile(optimizer = Adam(lr=0.001),\n",
        "              loss = \"categorical_crossentropy\",\n",
        "              metrics=[\"accuracy\"])"
      ],
      "execution_count": 26,
      "outputs": []
    },
    {
      "cell_type": "code",
      "metadata": {
        "colab": {
          "base_uri": "https://localhost:8080/"
        },
        "id": "bXg4sM_wY2Yn",
        "outputId": "3b103684-ed0b-48de-b54c-09afc2097194"
      },
      "source": [
        "history = model.fit(train_data, train_labels,\n",
        "                    batch_size = 64, \n",
        "                    epochs = 25, \n",
        "                    validation_data = (train_data_val, train_labels_val), verbose = 2)"
      ],
      "execution_count": 27,
      "outputs": [
        {
          "output_type": "stream",
          "text": [
            "Epoch 1/25\n",
            "625/625 - 32s - loss: 1.5242 - accuracy: 0.4498 - val_loss: 1.2589 - val_accuracy: 0.5517\n",
            "Epoch 2/25\n",
            "625/625 - 2s - loss: 1.1647 - accuracy: 0.5873 - val_loss: 1.1071 - val_accuracy: 0.6109\n",
            "Epoch 3/25\n",
            "625/625 - 2s - loss: 1.0034 - accuracy: 0.6474 - val_loss: 1.0944 - val_accuracy: 0.6123\n",
            "Epoch 4/25\n",
            "625/625 - 2s - loss: 0.8797 - accuracy: 0.6928 - val_loss: 0.9832 - val_accuracy: 0.6534\n",
            "Epoch 5/25\n",
            "625/625 - 2s - loss: 0.7803 - accuracy: 0.7283 - val_loss: 0.9433 - val_accuracy: 0.6749\n",
            "Epoch 6/25\n",
            "625/625 - 2s - loss: 0.6763 - accuracy: 0.7637 - val_loss: 0.9524 - val_accuracy: 0.6799\n",
            "Epoch 7/25\n",
            "625/625 - 2s - loss: 0.5734 - accuracy: 0.7990 - val_loss: 0.9932 - val_accuracy: 0.6803\n",
            "Epoch 8/25\n",
            "625/625 - 2s - loss: 0.4805 - accuracy: 0.8323 - val_loss: 1.0246 - val_accuracy: 0.6806\n",
            "Epoch 9/25\n",
            "625/625 - 2s - loss: 0.3854 - accuracy: 0.8679 - val_loss: 1.1130 - val_accuracy: 0.6775\n",
            "Epoch 10/25\n",
            "625/625 - 2s - loss: 0.3077 - accuracy: 0.8937 - val_loss: 1.2232 - val_accuracy: 0.6761\n",
            "Epoch 11/25\n",
            "625/625 - 2s - loss: 0.2356 - accuracy: 0.9192 - val_loss: 1.3239 - val_accuracy: 0.6704\n",
            "Epoch 12/25\n",
            "625/625 - 2s - loss: 0.1850 - accuracy: 0.9376 - val_loss: 1.5173 - val_accuracy: 0.6559\n",
            "Epoch 13/25\n",
            "625/625 - 2s - loss: 0.1411 - accuracy: 0.9528 - val_loss: 1.6527 - val_accuracy: 0.6621\n",
            "Epoch 14/25\n",
            "625/625 - 2s - loss: 0.1304 - accuracy: 0.9567 - val_loss: 1.7464 - val_accuracy: 0.6627\n",
            "Epoch 15/25\n",
            "625/625 - 2s - loss: 0.1101 - accuracy: 0.9627 - val_loss: 1.8208 - val_accuracy: 0.6737\n",
            "Epoch 16/25\n",
            "625/625 - 2s - loss: 0.0890 - accuracy: 0.9702 - val_loss: 1.9899 - val_accuracy: 0.6618\n",
            "Epoch 17/25\n",
            "625/625 - 2s - loss: 0.0792 - accuracy: 0.9728 - val_loss: 2.1318 - val_accuracy: 0.6628\n",
            "Epoch 18/25\n",
            "625/625 - 2s - loss: 0.0807 - accuracy: 0.9728 - val_loss: 2.2548 - val_accuracy: 0.6576\n",
            "Epoch 19/25\n",
            "625/625 - 2s - loss: 0.0834 - accuracy: 0.9719 - val_loss: 2.2747 - val_accuracy: 0.6530\n",
            "Epoch 20/25\n",
            "625/625 - 2s - loss: 0.0665 - accuracy: 0.9770 - val_loss: 2.4768 - val_accuracy: 0.6569\n",
            "Epoch 21/25\n",
            "625/625 - 2s - loss: 0.0671 - accuracy: 0.9767 - val_loss: 2.5095 - val_accuracy: 0.6482\n",
            "Epoch 22/25\n",
            "625/625 - 2s - loss: 0.0667 - accuracy: 0.9773 - val_loss: 2.6181 - val_accuracy: 0.6447\n",
            "Epoch 23/25\n",
            "625/625 - 2s - loss: 0.0550 - accuracy: 0.9811 - val_loss: 2.6902 - val_accuracy: 0.6509\n",
            "Epoch 24/25\n",
            "625/625 - 2s - loss: 0.0743 - accuracy: 0.9750 - val_loss: 2.5960 - val_accuracy: 0.6560\n",
            "Epoch 25/25\n",
            "625/625 - 2s - loss: 0.0600 - accuracy: 0.9798 - val_loss: 2.8494 - val_accuracy: 0.6450\n"
          ],
          "name": "stdout"
        }
      ]
    },
    {
      "cell_type": "code",
      "metadata": {
        "colab": {
          "base_uri": "https://localhost:8080/"
        },
        "id": "o-eGrG27ZRuC",
        "outputId": "ab6b23af-e94e-4bb1-ab53-0dabce07c8d3"
      },
      "source": [
        "model.evaluate(x_test, y_test)"
      ],
      "execution_count": 28,
      "outputs": [
        {
          "output_type": "stream",
          "text": [
            "313/313 [==============================] - 1s 3ms/step - loss: 2.8984 - accuracy: 0.6381\n"
          ],
          "name": "stdout"
        },
        {
          "output_type": "execute_result",
          "data": {
            "text/plain": [
              "[2.8984344005584717, 0.6381000280380249]"
            ]
          },
          "metadata": {
            "tags": []
          },
          "execution_count": 28
        }
      ]
    },
    {
      "cell_type": "markdown",
      "metadata": {
        "id": "TJ7oZL_8b24K"
      },
      "source": [
        "## Plot"
      ]
    },
    {
      "cell_type": "code",
      "metadata": {
        "colab": {
          "base_uri": "https://localhost:8080/",
          "height": 404
        },
        "id": "dUgMaGOHb161",
        "outputId": "8fef9cc7-626e-4eb3-a15e-bc33127c132c"
      },
      "source": [
        "plt.figure(figsize=(8, 6))  \n",
        "plt.plot(history.history['loss'], color='b', label=\"Training loss\")\n",
        "plt.plot(history.history['val_loss'], color='r', label=\"Validation loss\")\n",
        "plt.title('Training Error')\n",
        "plt.xlabel('epochs')\n",
        "plt.ylabel('Error')\n",
        "plt.legend(('Training Loss', 'Validation Loss'))\n",
        "plt.show()"
      ],
      "execution_count": 31,
      "outputs": [
        {
          "output_type": "display_data",
          "data": {
            "image/png": "[encoded data removed]",
            "text/plain": [
              "<Figure size 576x432 with 1 Axes>"
            ]
          },
          "metadata": {
            "tags": [],
            "needs_background": "light"
          }
        }
      ]
    },
    {
      "cell_type": "code",
      "metadata": {
        "id": "u_CnzefBb3zv"
      },
      "source": [
        ""
      ],
      "execution_count": null,
      "outputs": []
    }
  ]
}