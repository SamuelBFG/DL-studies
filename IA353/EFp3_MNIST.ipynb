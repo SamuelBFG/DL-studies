{
  "nbformat": 4,
  "nbformat_minor": 0,
  "metadata": {
    "colab": {
      "name": "EFp3_MNIST.ipynb",
      "provenance": [],
      "collapsed_sections": [],
      "toc_visible": true,
      "authorship_tag": "ABX9TyN+Xz62Jk3MJV7cBOxsA4Zc",
      "include_colab_link": true
    },
    "kernelspec": {
      "display_name": "Python 3",
      "name": "python3"
    },
    "language_info": {
      "name": "python"
    },
    "accelerator": "GPU"
  },
  "cells": [
    {
      "cell_type": "markdown",
      "metadata": {
        "id": "view-in-github",
        "colab_type": "text"
      },
      "source": [
        "<a href=\"https://colab.research.google.com/github/SamuelBFG/DL-studies/blob/master/IA353/EFp3_MNIST.ipynb\" target=\"_parent\"><img src=\"https://colab.research.google.com/assets/colab-badge.svg\" alt=\"Open In Colab\"/></a>"
      ]
    },
    {
      "cell_type": "markdown",
      "metadata": {
        "id": "-Bp77V0rAyek"
      },
      "source": [
        "# Baseline"
      ]
    },
    {
      "cell_type": "code",
      "metadata": {
        "id": "dcUIquLq_deb"
      },
      "source": [
        "import tensorflow as tf\n",
        "import os\n",
        "import matplotlib.pyplot as plt\n",
        "from keras.optimizers import Adam"
      ],
      "execution_count": 1,
      "outputs": []
    },
    {
      "cell_type": "code",
      "metadata": {
        "id": "d2lbE3oX_jIX"
      },
      "source": [
        "mnist = tf.keras.datasets.mnist\n",
        "(x_train, y_train),(x_test, y_test) = mnist.load_data()\n",
        "x_train, x_test = x_train / 255.0, x_test / 255.0"
      ],
      "execution_count": 2,
      "outputs": []
    },
    {
      "cell_type": "code",
      "metadata": {
        "id": "sdHZwO_RAwk5"
      },
      "source": [
        "model = tf.keras.models.Sequential([\n",
        " tf.keras.layers.Flatten(),\n",
        " tf.keras.layers.Dense(512, activation=tf.nn.relu),\n",
        " tf.keras.layers.Dropout(0.5),\n",
        " tf.keras.layers.Dense(10, activation=tf.nn.softmax)\n",
        "])\n",
        "\n",
        "model.compile(optimizer='adam',\n",
        " loss='sparse_categorical_crossentropy',\n",
        " metrics=['accuracy'])"
      ],
      "execution_count": 3,
      "outputs": []
    },
    {
      "cell_type": "code",
      "metadata": {
        "colab": {
          "base_uri": "https://localhost:8080/"
        },
        "id": "5K6GfIgGGDTz",
        "outputId": "286b66a9-44ef-481e-9af7-9b6a8eede43c"
      },
      "source": [
        "model.fit(x_train, y_train, epochs=5)"
      ],
      "execution_count": 4,
      "outputs": [
        {
          "output_type": "stream",
          "text": [
            "Epoch 1/5\n",
            "1875/1875 [==============================] - 3s 2ms/step - loss: 0.4335 - accuracy: 0.8684\n",
            "Epoch 2/5\n",
            "1875/1875 [==============================] - 3s 2ms/step - loss: 0.1426 - accuracy: 0.9570\n",
            "Epoch 3/5\n",
            "1875/1875 [==============================] - 3s 1ms/step - loss: 0.1106 - accuracy: 0.9666\n",
            "Epoch 4/5\n",
            "1875/1875 [==============================] - 3s 1ms/step - loss: 0.0877 - accuracy: 0.9723\n",
            "Epoch 5/5\n",
            "1875/1875 [==============================] - 3s 1ms/step - loss: 0.0787 - accuracy: 0.9754\n"
          ],
          "name": "stdout"
        },
        {
          "output_type": "execute_result",
          "data": {
            "text/plain": [
              "<tensorflow.python.keras.callbacks.History at 0x7fe6bd064710>"
            ]
          },
          "metadata": {
            "tags": []
          },
          "execution_count": 4
        }
      ]
    },
    {
      "cell_type": "markdown",
      "metadata": {
        "id": "nGBI5vJjG7pK"
      },
      "source": [
        "## Test Accuracy"
      ]
    },
    {
      "cell_type": "code",
      "metadata": {
        "colab": {
          "base_uri": "https://localhost:8080/"
        },
        "id": "THGj-ttHGDo5",
        "outputId": "dc86c166-b231-4858-8be7-14b6b2eb8209"
      },
      "source": [
        "model.evaluate(x_test, y_test)"
      ],
      "execution_count": 5,
      "outputs": [
        {
          "output_type": "stream",
          "text": [
            "313/313 [==============================] - 1s 1ms/step - loss: 0.0643 - accuracy: 0.9797\n"
          ],
          "name": "stdout"
        },
        {
          "output_type": "execute_result",
          "data": {
            "text/plain": [
              "[0.06432517617940903, 0.9797000288963318]"
            ]
          },
          "metadata": {
            "tags": []
          },
          "execution_count": 5
        }
      ]
    },
    {
      "cell_type": "markdown",
      "metadata": {
        "id": "xyqN_JotRWSS"
      },
      "source": [
        "## Working with multiple executions to stabilize results"
      ]
    },
    {
      "cell_type": "code",
      "metadata": {
        "colab": {
          "base_uri": "https://localhost:8080/"
        },
        "id": "4DL0e5mWGGwV",
        "outputId": "3081a7ed-74b3-48a9-a07c-d147b574e1d4"
      },
      "source": [
        "executions = 5\n",
        "histories = []\n",
        "evaluations = []\n",
        "\n",
        "for i in range(executions):\n",
        "  model = tf.keras.models.Sequential([\n",
        "                                      tf.keras.layers.Flatten(),\n",
        "                                      tf.keras.layers.Dense(512, activation=tf.nn.relu),\n",
        "                                      tf.keras.layers.Dropout(0.5),\n",
        "                                      tf.keras.layers.Dense(10, activation=tf.nn.softmax)\n",
        "                                      ])\n",
        "  \n",
        "  print('## Training model number: ', i+1)\n",
        "\n",
        "  model.compile(optimizer='adam',\n",
        "                      loss='sparse_categorical_crossentropy',\n",
        "                      metrics=['accuracy'])\n",
        "  \n",
        "  histories.append(model.fit(x_train, y_train, epochs=5, verbose=0))\n",
        "\n",
        "  print('#• Test set:')\n",
        "  evaluations.append(model.evaluate(x_test, y_test))\n",
        "  print('\\n')"
      ],
      "execution_count": 6,
      "outputs": [
        {
          "output_type": "stream",
          "text": [
            "## Training model number:  1\n",
            "#• Test set:\n",
            "313/313 [==============================] - 1s 1ms/step - loss: 0.0682 - accuracy: 0.9784\n",
            "\n",
            "\n",
            "## Training model number:  2\n",
            "#• Test set:\n",
            "313/313 [==============================] - 1s 1ms/step - loss: 0.0709 - accuracy: 0.9786\n",
            "\n",
            "\n",
            "## Training model number:  3\n",
            "#• Test set:\n",
            "313/313 [==============================] - 1s 1ms/step - loss: 0.0613 - accuracy: 0.9825\n",
            "\n",
            "\n",
            "## Training model number:  4\n",
            "#• Test set:\n",
            "313/313 [==============================] - 1s 1ms/step - loss: 0.0638 - accuracy: 0.9808\n",
            "\n",
            "\n",
            "## Training model number:  5\n",
            "#• Test set:\n",
            "313/313 [==============================] - 1s 1ms/step - loss: 0.0658 - accuracy: 0.9799\n",
            "\n",
            "\n"
          ],
          "name": "stdout"
        }
      ]
    },
    {
      "cell_type": "code",
      "metadata": {
        "colab": {
          "base_uri": "https://localhost:8080/"
        },
        "id": "AnZ8feo5R5yL",
        "outputId": "52954062-b051-408a-ae87-b156af98fc3c"
      },
      "source": [
        "histories[0].history.keys()"
      ],
      "execution_count": 7,
      "outputs": [
        {
          "output_type": "execute_result",
          "data": {
            "text/plain": [
              "dict_keys(['loss', 'accuracy'])"
            ]
          },
          "metadata": {
            "tags": []
          },
          "execution_count": 7
        }
      ]
    },
    {
      "cell_type": "code",
      "metadata": {
        "colab": {
          "base_uri": "https://localhost:8080/",
          "height": 404
        },
        "id": "enTh77-JR8uX",
        "outputId": "668b2309-8a74-43c5-b095-91a637d53f8f"
      },
      "source": [
        "plt.figure(figsize=(8, 6))  \n",
        "plt.xlabel('epochs')\n",
        "plt.ylabel('Error')\n",
        "plt.title('Training Loss')\n",
        "for i in range(executions):\n",
        "  plt.plot(histories[i].history['loss'])\n",
        "plt.show()"
      ],
      "execution_count": 8,
      "outputs": [
        {
          "output_type": "display_data",
          "data": {
            "image/png": "[encoded data removed]",
            "text/plain": [
              "<Figure size 576x432 with 1 Axes>"
            ]
          },
          "metadata": {
            "tags": [],
            "needs_background": "light"
          }
        }
      ]
    },
    {
      "cell_type": "code",
      "metadata": {
        "colab": {
          "base_uri": "https://localhost:8080/"
        },
        "id": "ZN1D5CmGSKA2",
        "outputId": "8ed04bca-fa9f-4beb-b0de-cd5706030af6"
      },
      "source": [
        "histories[-1].history['accuracy'] # Last training acc log per epochs"
      ],
      "execution_count": 9,
      "outputs": [
        {
          "output_type": "execute_result",
          "data": {
            "text/plain": [
              "[0.9184166789054871,\n",
              " 0.958133339881897,\n",
              " 0.9668333530426025,\n",
              " 0.9705333113670349,\n",
              " 0.9751166701316833]"
            ]
          },
          "metadata": {
            "tags": []
          },
          "execution_count": 9
        }
      ]
    },
    {
      "cell_type": "code",
      "metadata": {
        "colab": {
          "base_uri": "https://localhost:8080/"
        },
        "id": "QA2IxweESLeM",
        "outputId": "fddfc8ab-b844-47e4-e445-cdab9ade4cea"
      },
      "source": [
        "evaluations[0] # Loss and acc for the first model (LIST)"
      ],
      "execution_count": 10,
      "outputs": [
        {
          "output_type": "execute_result",
          "data": {
            "text/plain": [
              "[0.06819215416908264, 0.9783999919891357]"
            ]
          },
          "metadata": {
            "tags": []
          },
          "execution_count": 10
        }
      ]
    },
    {
      "cell_type": "code",
      "metadata": {
        "colab": {
          "base_uri": "https://localhost:8080/"
        },
        "id": "RQIo-1UsSM1G",
        "outputId": "9e61063b-7327-4132-ab8f-b4173a046f64"
      },
      "source": [
        "acc_val = []\n",
        "acc_test = []\n",
        "\n",
        "for i in range(executions):\n",
        "  acc_val.append(sum(histories[i].history['accuracy']) / len(histories[i].history['accuracy']))\n",
        "  acc_test.append(evaluations[i][1])\n",
        "\n",
        "acc_val"
      ],
      "execution_count": 11,
      "outputs": [
        {
          "output_type": "execute_result",
          "data": {
            "text/plain": [
              "[0.9578199982643127,\n",
              " 0.9575566649436951,\n",
              " 0.9579233288764953,\n",
              " 0.9577200055122376,\n",
              " 0.957806670665741]"
            ]
          },
          "metadata": {
            "tags": []
          },
          "execution_count": 11
        }
      ]
    },
    {
      "cell_type": "code",
      "metadata": {
        "colab": {
          "base_uri": "https://localhost:8080/"
        },
        "id": "oo2CnEknSOYH",
        "outputId": "f605961a-34a1-44cd-89fa-bdce2542ffa3"
      },
      "source": [
        "acc_test"
      ],
      "execution_count": 12,
      "outputs": [
        {
          "output_type": "execute_result",
          "data": {
            "text/plain": [
              "[0.9783999919891357,\n",
              " 0.978600025177002,\n",
              " 0.9825000166893005,\n",
              " 0.9807999730110168,\n",
              " 0.9799000024795532]"
            ]
          },
          "metadata": {
            "tags": []
          },
          "execution_count": 12
        }
      ]
    },
    {
      "cell_type": "markdown",
      "metadata": {
        "id": "nJO22ix6SYKQ"
      },
      "source": [
        "### Average validation accuracy (training set)"
      ]
    },
    {
      "cell_type": "code",
      "metadata": {
        "colab": {
          "base_uri": "https://localhost:8080/"
        },
        "id": "qkV-5z9GSP4A",
        "outputId": "6510a3c3-40e9-4b07-d0a8-319645a0266c"
      },
      "source": [
        "avg_acc_val = sum(acc_val)/len(acc_val)\n",
        "avg_acc_val"
      ],
      "execution_count": 13,
      "outputs": [
        {
          "output_type": "execute_result",
          "data": {
            "text/plain": [
              "0.9577653336524964"
            ]
          },
          "metadata": {
            "tags": []
          },
          "execution_count": 13
        }
      ]
    },
    {
      "cell_type": "markdown",
      "metadata": {
        "id": "hZreH7pnSTZD"
      },
      "source": [
        "### Average test accuracy"
      ]
    },
    {
      "cell_type": "code",
      "metadata": {
        "colab": {
          "base_uri": "https://localhost:8080/"
        },
        "id": "CzNJjdEzSR3B",
        "outputId": "f90c697b-388d-4dc0-d3df-cba2371d80ea"
      },
      "source": [
        "avg_acc_test = sum(acc_test)/len(acc_test)\n",
        "avg_acc_test"
      ],
      "execution_count": 14,
      "outputs": [
        {
          "output_type": "execute_result",
          "data": {
            "text/plain": [
              "0.9800400018692017"
            ]
          },
          "metadata": {
            "tags": []
          },
          "execution_count": 14
        }
      ]
    },
    {
      "cell_type": "markdown",
      "metadata": {
        "id": "aSoQFOZvbeEl"
      },
      "source": [
        "## Kfold Cross-Validation"
      ]
    },
    {
      "cell_type": "code",
      "metadata": {
        "id": "8A6h9U9obdxm"
      },
      "source": [
        "mnist = tf.keras.datasets.mnist\n",
        "(x_train, y_train),(x_test, y_test) = mnist.load_data()\n",
        "x_train, x_test = x_train / 255.0, x_test / 255.0"
      ],
      "execution_count": 15,
      "outputs": []
    },
    {
      "cell_type": "code",
      "metadata": {
        "colab": {
          "base_uri": "https://localhost:8080/"
        },
        "id": "O3Jbbxb-brNQ",
        "outputId": "3faf3d6b-8ecd-4c64-ba56-8a595fa53bd2"
      },
      "source": [
        "from sklearn.model_selection import KFold\n",
        "import numpy as np\n",
        "from sklearn.model_selection import train_test_split\n",
        "\n",
        "# Define per-fold score containers\n",
        "acc_per_fold = []\n",
        "loss_per_fold = []\n",
        "num_folds = 10\n",
        "\n",
        "\n",
        "train_data, train_data_val, train_labels, train_labels_val = train_test_split(x_train, y_train, test_size = 0.2)\n",
        "inputs = np.concatenate((train_data, train_data_val), axis=0)\n",
        "targets = np.concatenate((train_labels, train_labels_val), axis=0)\n",
        "\n",
        "kfold = KFold(n_splits=num_folds, shuffle=True)\n",
        "\n",
        "# K-fold Cross Validation model evaluation\n",
        "fold_no = 1\n",
        "\n",
        "for train, test in kfold.split(inputs, targets):\n",
        "  model = tf.keras.models.Sequential([\n",
        "                                      tf.keras.layers.Flatten(),\n",
        "                                      tf.keras.layers.Dense(512, activation=tf.nn.relu),\n",
        "                                      tf.keras.layers.Dropout(0.5),\n",
        "                                      tf.keras.layers.Dense(10, activation=tf.nn.softmax)\n",
        "                                      ])\n",
        "  \n",
        "  model.compile(optimizer='adam',\n",
        "                loss='sparse_categorical_crossentropy',\n",
        "                metrics=['accuracy'])\n",
        "  \n",
        "  history = model.fit(inputs[train], targets[train],\n",
        "              batch_size=64,\n",
        "              epochs=5,\n",
        "              verbose=0)\n",
        "\n",
        "  # Generate generalization metrics\n",
        "  scores = model.evaluate(x_test, y_test, verbose=0)\n",
        "  print(f'Score for fold {fold_no}: {model.metrics_names[0]} of {scores[0]}; {model.metrics_names[1]} of {scores[1]*100}%')\n",
        "  acc_per_fold.append(scores[1] * 100)\n",
        "  loss_per_fold.append(scores[0])\n",
        "\n",
        "  fold_no = fold_no + 1\n",
        "\n",
        "\n",
        "# == Provide average scores ==\n",
        "print('------------------------------------------------------------------------')\n",
        "print('Score per fold')\n",
        "for i in range(0, len(acc_per_fold)):\n",
        "  print('------------------------------------------------------------------------')\n",
        "  print(f'> Fold {i+1} - Loss: {loss_per_fold[i]} - Accuracy: {acc_per_fold[i]}%')\n",
        "print('------------------------------------------------------------------------')\n",
        "print('Average scores for all folds:')\n",
        "print(f'> Accuracy: {np.mean(acc_per_fold)} (+- {np.std(acc_per_fold)})')\n",
        "print(f'> Loss: {np.mean(loss_per_fold)}')\n",
        "print('------------------------------------------------------------------------')"
      ],
      "execution_count": 16,
      "outputs": [
        {
          "output_type": "stream",
          "text": [
            "Score for fold 1: loss of 0.07056238502264023; accuracy of 97.78000116348267%\n",
            "Score for fold 2: loss of 0.06608690321445465; accuracy of 97.9099988937378%\n",
            "Score for fold 3: loss of 0.07162344455718994; accuracy of 97.68999814987183%\n",
            "Score for fold 4: loss of 0.07014460116624832; accuracy of 97.85000085830688%\n",
            "Score for fold 5: loss of 0.06928664445877075; accuracy of 97.82000184059143%\n",
            "Score for fold 6: loss of 0.06553146988153458; accuracy of 97.94999957084656%\n",
            "Score for fold 7: loss of 0.06464860588312149; accuracy of 98.00000190734863%\n",
            "Score for fold 8: loss of 0.06958143413066864; accuracy of 97.8600025177002%\n",
            "Score for fold 9: loss of 0.07374051213264465; accuracy of 97.64000177383423%\n",
            "Score for fold 10: loss of 0.07335947453975677; accuracy of 97.85000085830688%\n",
            "------------------------------------------------------------------------\n",
            "Score per fold\n",
            "------------------------------------------------------------------------\n",
            "> Fold 1 - Loss: 0.07056238502264023 - Accuracy: 97.78000116348267%\n",
            "------------------------------------------------------------------------\n",
            "> Fold 2 - Loss: 0.06608690321445465 - Accuracy: 97.9099988937378%\n",
            "------------------------------------------------------------------------\n",
            "> Fold 3 - Loss: 0.07162344455718994 - Accuracy: 97.68999814987183%\n",
            "------------------------------------------------------------------------\n",
            "> Fold 4 - Loss: 0.07014460116624832 - Accuracy: 97.85000085830688%\n",
            "------------------------------------------------------------------------\n",
            "> Fold 5 - Loss: 0.06928664445877075 - Accuracy: 97.82000184059143%\n",
            "------------------------------------------------------------------------\n",
            "> Fold 6 - Loss: 0.06553146988153458 - Accuracy: 97.94999957084656%\n",
            "------------------------------------------------------------------------\n",
            "> Fold 7 - Loss: 0.06464860588312149 - Accuracy: 98.00000190734863%\n",
            "------------------------------------------------------------------------\n",
            "> Fold 8 - Loss: 0.06958143413066864 - Accuracy: 97.8600025177002%\n",
            "------------------------------------------------------------------------\n",
            "> Fold 9 - Loss: 0.07374051213264465 - Accuracy: 97.64000177383423%\n",
            "------------------------------------------------------------------------\n",
            "> Fold 10 - Loss: 0.07335947453975677 - Accuracy: 97.85000085830688%\n",
            "------------------------------------------------------------------------\n",
            "Average scores for all folds:\n",
            "> Accuracy: 97.83500075340271 (+- 0.10461845139521371)\n",
            "> Loss: 0.069456547498703\n",
            "------------------------------------------------------------------------\n"
          ],
          "name": "stdout"
        }
      ]
    },
    {
      "cell_type": "markdown",
      "metadata": {
        "id": "5NUlrB--TM96"
      },
      "source": [
        "# Modified Model"
      ]
    },
    {
      "cell_type": "markdown",
      "metadata": {
        "id": "DqAYGTmOqJbM"
      },
      "source": [
        "#### Add a layer"
      ]
    },
    {
      "cell_type": "code",
      "metadata": {
        "id": "4iq6E9_Q-OJ4"
      },
      "source": [
        "mnist = tf.keras.datasets.mnist\n",
        "(x_train, y_train),(x_test, y_test) = mnist.load_data()\n",
        "x_train, x_test = x_train / 255.0, x_test / 255.0"
      ],
      "execution_count": 17,
      "outputs": []
    },
    {
      "cell_type": "code",
      "metadata": {
        "colab": {
          "base_uri": "https://localhost:8080/"
        },
        "id": "JGz_RWgM-S2W",
        "outputId": "6ef76c72-7dfa-4960-c56e-4d7e7d5b7eba"
      },
      "source": [
        "train_data, train_data_val, train_labels, train_labels_val = train_test_split(x_train, y_train, test_size = 0.2)\n",
        "\n",
        "model = tf.keras.models.Sequential([\n",
        " tf.keras.layers.Flatten(),\n",
        " tf.keras.layers.Dense(512, activation=tf.nn.relu),\n",
        " tf.keras.layers.Dropout(0.5),\n",
        " tf.keras.layers.Dense(512, activation=tf.nn.relu),\n",
        " tf.keras.layers.Dense(10, activation=tf.nn.softmax)\n",
        "])\n",
        "\n",
        "model.compile(optimizer = Adam(lr=0.001),\n",
        " loss='sparse_categorical_crossentropy',\n",
        " metrics=['accuracy'])\n",
        "\n",
        "history = model.fit(train_data, train_labels, epochs=8, batch_size=64, validation_data = (train_data_val, train_labels_val), verbose = 2)"
      ],
      "execution_count": 18,
      "outputs": [
        {
          "output_type": "stream",
          "text": [
            "Epoch 1/8\n",
            "750/750 - 2s - loss: 0.2958 - accuracy: 0.9095 - val_loss: 0.1338 - val_accuracy: 0.9579\n",
            "Epoch 2/8\n",
            "750/750 - 1s - loss: 0.1511 - accuracy: 0.9525 - val_loss: 0.1063 - val_accuracy: 0.9666\n",
            "Epoch 3/8\n",
            "750/750 - 1s - loss: 0.1189 - accuracy: 0.9629 - val_loss: 0.0826 - val_accuracy: 0.9744\n",
            "Epoch 4/8\n",
            "750/750 - 1s - loss: 0.1006 - accuracy: 0.9683 - val_loss: 0.0811 - val_accuracy: 0.9753\n",
            "Epoch 5/8\n",
            "750/750 - 1s - loss: 0.0890 - accuracy: 0.9715 - val_loss: 0.0762 - val_accuracy: 0.9791\n",
            "Epoch 6/8\n",
            "750/750 - 1s - loss: 0.0797 - accuracy: 0.9751 - val_loss: 0.0807 - val_accuracy: 0.9777\n",
            "Epoch 7/8\n",
            "750/750 - 1s - loss: 0.0734 - accuracy: 0.9765 - val_loss: 0.0742 - val_accuracy: 0.9793\n",
            "Epoch 8/8\n",
            "750/750 - 1s - loss: 0.0662 - accuracy: 0.9787 - val_loss: 0.0725 - val_accuracy: 0.9792\n"
          ],
          "name": "stdout"
        }
      ]
    },
    {
      "cell_type": "code",
      "metadata": {
        "colab": {
          "base_uri": "https://localhost:8080/"
        },
        "id": "MGTWcuQd_p6Q",
        "outputId": "133490dc-b612-4b3c-bd40-ac59dad01fd5"
      },
      "source": [
        "model.evaluate(x_test, y_test)"
      ],
      "execution_count": 19,
      "outputs": [
        {
          "output_type": "stream",
          "text": [
            "313/313 [==============================] - 0s 2ms/step - loss: 0.0711 - accuracy: 0.9789\n"
          ],
          "name": "stdout"
        },
        {
          "output_type": "execute_result",
          "data": {
            "text/plain": [
              "[0.07112521678209305, 0.9789000153541565]"
            ]
          },
          "metadata": {
            "tags": []
          },
          "execution_count": 19
        }
      ]
    },
    {
      "cell_type": "code",
      "metadata": {
        "colab": {
          "base_uri": "https://localhost:8080/",
          "height": 404
        },
        "id": "4q4kkwWs_uOs",
        "outputId": "227db3cf-b017-4e01-dfa6-8ae435840140"
      },
      "source": [
        "plt.figure(figsize=(8, 6))  \n",
        "plt.plot(history.history['loss'], color='b')\n",
        "plt.plot(history.history['val_loss'], color='r')\n",
        "plt.title('Loss')\n",
        "plt.xlabel('epochs')\n",
        "plt.ylabel('Error')\n",
        "plt.legend(('Training Loss', 'Validation Loss'))\n",
        "plt.show()"
      ],
      "execution_count": 20,
      "outputs": [
        {
          "output_type": "display_data",
          "data": {
            "image/png": "[encoded data removed]",
            "text/plain": [
              "<Figure size 576x432 with 1 Axes>"
            ]
          },
          "metadata": {
            "tags": [],
            "needs_background": "light"
          }
        }
      ]
    },
    {
      "cell_type": "markdown",
      "metadata": {
        "id": "zcVwlxnADbTL"
      },
      "source": [
        "#### Only one layer"
      ]
    },
    {
      "cell_type": "code",
      "metadata": {
        "id": "YvPuBPB5Dd11"
      },
      "source": [
        "mnist = tf.keras.datasets.mnist\n",
        "(x_train, y_train),(x_test, y_test) = mnist.load_data()\n",
        "x_train, x_test = x_train / 255.0, x_test / 255.0"
      ],
      "execution_count": 21,
      "outputs": []
    },
    {
      "cell_type": "code",
      "metadata": {
        "colab": {
          "base_uri": "https://localhost:8080/"
        },
        "id": "sgpPEw4FDd12",
        "outputId": "de751e1f-0a08-4e5d-c043-7e65e379ef9d"
      },
      "source": [
        "train_data, train_data_val, train_labels, train_labels_val = train_test_split(x_train, y_train, test_size = 0.2)\n",
        "\n",
        "model = tf.keras.models.Sequential([\n",
        " tf.keras.layers.Flatten(),\n",
        " tf.keras.layers.Dense(1024, activation=tf.nn.relu),\n",
        " tf.keras.layers.Dropout(0.5),\n",
        " tf.keras.layers.Dense(10, activation=tf.nn.softmax)\n",
        "])\n",
        "\n",
        "model.compile(optimizer = Adam(lr=0.001),\n",
        " loss='sparse_categorical_crossentropy',\n",
        " metrics=['accuracy'])\n",
        "\n",
        "history = model.fit(train_data, train_labels, epochs=8, batch_size=64, validation_data = (train_data_val, train_labels_val), verbose = 2)"
      ],
      "execution_count": 22,
      "outputs": [
        {
          "output_type": "stream",
          "text": [
            "Epoch 1/8\n",
            "750/750 - 2s - loss: 0.2795 - accuracy: 0.9174 - val_loss: 0.1410 - val_accuracy: 0.9582\n",
            "Epoch 2/8\n",
            "750/750 - 1s - loss: 0.1336 - accuracy: 0.9596 - val_loss: 0.1090 - val_accuracy: 0.9668\n",
            "Epoch 3/8\n",
            "750/750 - 1s - loss: 0.0998 - accuracy: 0.9689 - val_loss: 0.0922 - val_accuracy: 0.9738\n",
            "Epoch 4/8\n",
            "750/750 - 1s - loss: 0.0816 - accuracy: 0.9741 - val_loss: 0.0850 - val_accuracy: 0.9746\n",
            "Epoch 5/8\n",
            "750/750 - 1s - loss: 0.0680 - accuracy: 0.9774 - val_loss: 0.0817 - val_accuracy: 0.9763\n",
            "Epoch 6/8\n",
            "750/750 - 1s - loss: 0.0611 - accuracy: 0.9808 - val_loss: 0.0829 - val_accuracy: 0.9767\n",
            "Epoch 7/8\n",
            "750/750 - 1s - loss: 0.0526 - accuracy: 0.9831 - val_loss: 0.0778 - val_accuracy: 0.9788\n",
            "Epoch 8/8\n",
            "750/750 - 1s - loss: 0.0481 - accuracy: 0.9843 - val_loss: 0.0761 - val_accuracy: 0.9796\n"
          ],
          "name": "stdout"
        }
      ]
    },
    {
      "cell_type": "code",
      "metadata": {
        "colab": {
          "base_uri": "https://localhost:8080/"
        },
        "id": "6WvJzzrCDd13",
        "outputId": "b5a4677f-1e38-42e2-d832-1f19668e3c9e"
      },
      "source": [
        "model.evaluate(x_test, y_test)"
      ],
      "execution_count": 23,
      "outputs": [
        {
          "output_type": "stream",
          "text": [
            "313/313 [==============================] - 0s 2ms/step - loss: 0.0685 - accuracy: 0.9794\n"
          ],
          "name": "stdout"
        },
        {
          "output_type": "execute_result",
          "data": {
            "text/plain": [
              "[0.06846427172422409, 0.9793999791145325]"
            ]
          },
          "metadata": {
            "tags": []
          },
          "execution_count": 23
        }
      ]
    },
    {
      "cell_type": "code",
      "metadata": {
        "colab": {
          "base_uri": "https://localhost:8080/",
          "height": 404
        },
        "id": "PRp6Rt3YDd13",
        "outputId": "5e8a3543-6aa1-42ed-b1b0-b068ed10b554"
      },
      "source": [
        "plt.figure(figsize=(8, 6))  \n",
        "plt.plot(history.history['loss'], color='b')\n",
        "plt.plot(history.history['val_loss'], color='r')\n",
        "plt.title('Loss')\n",
        "plt.xlabel('epochs')\n",
        "plt.ylabel('Error')\n",
        "plt.legend(('Training Loss', 'Validation Loss'))\n",
        "plt.show()"
      ],
      "execution_count": 24,
      "outputs": [
        {
          "output_type": "display_data",
          "data": {
            "image/png": "[encoded data removed]",
            "text/plain": [
              "<Figure size 576x432 with 1 Axes>"
            ]
          },
          "metadata": {
            "tags": [],
            "needs_background": "light"
          }
        }
      ]
    },
    {
      "cell_type": "code",
      "metadata": {
        "colab": {
          "base_uri": "https://localhost:8080/"
        },
        "id": "I6CDpRJfkE7S",
        "outputId": "d319ac70-e7b5-4562-cffa-05c820e55dc4"
      },
      "source": [
        "from sklearn.model_selection import KFold\n",
        "import numpy as np\n",
        "from sklearn.model_selection import train_test_split\n",
        "\n",
        "# Define per-fold score containers\n",
        "acc_per_fold = []\n",
        "loss_per_fold = []\n",
        "num_folds = 10\n",
        "\n",
        "\n",
        "train_data, train_data_val, train_labels, train_labels_val = train_test_split(x_train, y_train, test_size = 0.2)\n",
        "inputs = np.concatenate((train_data, train_data_val), axis=0)\n",
        "targets = np.concatenate((train_labels, train_labels_val), axis=0)\n",
        "\n",
        "kfold = KFold(n_splits=num_folds, shuffle=True)\n",
        "\n",
        "# K-fold Cross Validation model evaluation\n",
        "fold_no = 1\n",
        "\n",
        "for train, test in kfold.split(inputs, targets):\n",
        "  model = tf.keras.models.Sequential([\n",
        "                                      tf.keras.layers.Flatten(),\n",
        "                                      tf.keras.layers.Dense(1024, activation=tf.nn.relu),\n",
        "                                      tf.keras.layers.Dropout(0.5),\n",
        "                                      tf.keras.layers.Dense(10, activation=tf.nn.softmax)\n",
        "                                      ])\n",
        "  \n",
        "  model.compile(optimizer = Adam(lr=0.001),\n",
        "                loss='sparse_categorical_crossentropy',\n",
        "                metrics=['accuracy'])\n",
        "  \n",
        "  history = model.fit(inputs[train], targets[train],\n",
        "              batch_size=64,\n",
        "              epochs=8,\n",
        "              verbose=0)\n",
        "\n",
        "  # Generate generalization metrics\n",
        "  scores = model.evaluate(x_test, y_test, verbose=0)\n",
        "  print(f'Score for fold {fold_no}: {model.metrics_names[0]} of {scores[0]}; {model.metrics_names[1]} of {scores[1]*100}%')\n",
        "  acc_per_fold.append(scores[1] * 100)\n",
        "  loss_per_fold.append(scores[0])\n",
        "\n",
        "  fold_no = fold_no + 1\n",
        "\n",
        "\n",
        "# == Provide average scores ==\n",
        "print('------------------------------------------------------------------------')\n",
        "print('Score per fold')\n",
        "for i in range(0, len(acc_per_fold)):\n",
        "  print('------------------------------------------------------------------------')\n",
        "  print(f'> Fold {i+1} - Loss: {loss_per_fold[i]} - Accuracy: {acc_per_fold[i]}%')\n",
        "print('------------------------------------------------------------------------')\n",
        "print('Average scores for all folds:')\n",
        "print(f'> Accuracy: {np.mean(acc_per_fold)} (+- {np.std(acc_per_fold)})')\n",
        "print(f'> Loss: {np.mean(loss_per_fold)}')\n",
        "print('------------------------------------------------------------------------')"
      ],
      "execution_count": 25,
      "outputs": [
        {
          "output_type": "stream",
          "text": [
            "Score for fold 1: loss of 0.06080665439367294; accuracy of 98.18999767303467%\n",
            "Score for fold 2: loss of 0.06614413857460022; accuracy of 97.96000123023987%\n",
            "Score for fold 3: loss of 0.06456096470355988; accuracy of 98.24000000953674%\n",
            "Score for fold 4: loss of 0.06441190093755722; accuracy of 98.089998960495%\n",
            "Score for fold 5: loss of 0.05997316911816597; accuracy of 98.12999963760376%\n",
            "Score for fold 6: loss of 0.06512270867824554; accuracy of 97.99000024795532%\n",
            "Score for fold 7: loss of 0.05687772110104561; accuracy of 98.2699990272522%\n",
            "Score for fold 8: loss of 0.06154685094952583; accuracy of 98.2699990272522%\n",
            "Score for fold 9: loss of 0.06333107501268387; accuracy of 98.0400025844574%\n",
            "Score for fold 10: loss of 0.059123694896698; accuracy of 98.18999767303467%\n",
            "------------------------------------------------------------------------\n",
            "Score per fold\n",
            "------------------------------------------------------------------------\n",
            "> Fold 1 - Loss: 0.06080665439367294 - Accuracy: 98.18999767303467%\n",
            "------------------------------------------------------------------------\n",
            "> Fold 2 - Loss: 0.06614413857460022 - Accuracy: 97.96000123023987%\n",
            "------------------------------------------------------------------------\n",
            "> Fold 3 - Loss: 0.06456096470355988 - Accuracy: 98.24000000953674%\n",
            "------------------------------------------------------------------------\n",
            "> Fold 4 - Loss: 0.06441190093755722 - Accuracy: 98.089998960495%\n",
            "------------------------------------------------------------------------\n",
            "> Fold 5 - Loss: 0.05997316911816597 - Accuracy: 98.12999963760376%\n",
            "------------------------------------------------------------------------\n",
            "> Fold 6 - Loss: 0.06512270867824554 - Accuracy: 97.99000024795532%\n",
            "------------------------------------------------------------------------\n",
            "> Fold 7 - Loss: 0.05687772110104561 - Accuracy: 98.2699990272522%\n",
            "------------------------------------------------------------------------\n",
            "> Fold 8 - Loss: 0.06154685094952583 - Accuracy: 98.2699990272522%\n",
            "------------------------------------------------------------------------\n",
            "> Fold 9 - Loss: 0.06333107501268387 - Accuracy: 98.0400025844574%\n",
            "------------------------------------------------------------------------\n",
            "> Fold 10 - Loss: 0.059123694896698 - Accuracy: 98.18999767303467%\n",
            "------------------------------------------------------------------------\n",
            "Average scores for all folds:\n",
            "> Accuracy: 98.13699960708618 (+- 0.10779985350882294)\n",
            "> Loss: 0.06218988783657551\n",
            "------------------------------------------------------------------------\n"
          ],
          "name": "stdout"
        }
      ]
    },
    {
      "cell_type": "markdown",
      "metadata": {
        "id": "s98cqK82qMif"
      },
      "source": [
        "#### Two hidden layers"
      ]
    },
    {
      "cell_type": "code",
      "metadata": {
        "colab": {
          "base_uri": "https://localhost:8080/"
        },
        "id": "sQuHao5_GjhA",
        "outputId": "bf7179fe-7add-4d79-8963-6ff986ff9f80"
      },
      "source": [
        "mnist = tf.keras.datasets.mnist\n",
        "(x_train, y_train),(x_test, y_test) = mnist.load_data()\n",
        "x_train, x_test = x_train / 255.0, x_test / 255.0\n",
        "\n",
        "model = tf.keras.models.Sequential([\n",
        " tf.keras.layers.Flatten(),\n",
        " tf.keras.layers.Dense(512, activation=tf.nn.relu),\n",
        " tf.keras.layers.Dropout(0.5),\n",
        " tf.keras.layers.Dense(512, activation=tf.nn.relu),\n",
        " tf.keras.layers.Dropout(0.5),\n",
        " tf.keras.layers.Dense(10, activation=tf.nn.softmax)\n",
        "])\n",
        "\n",
        "model.compile(optimizer = Adam(lr=0.001),\n",
        " loss='sparse_categorical_crossentropy',\n",
        " metrics=['accuracy'])\n",
        "\n",
        "history = model.fit(train_data, train_labels, epochs=10, batch_size=64, validation_data = (train_data_val, train_labels_val), verbose = 2)\n",
        "\n",
        "model.evaluate(x_test, y_test)"
      ],
      "execution_count": 26,
      "outputs": [
        {
          "output_type": "stream",
          "text": [
            "Epoch 1/10\n",
            "750/750 - 2s - loss: 0.3447 - accuracy: 0.8931 - val_loss: 0.1541 - val_accuracy: 0.9528\n",
            "Epoch 2/10\n",
            "750/750 - 1s - loss: 0.1738 - accuracy: 0.9483 - val_loss: 0.1108 - val_accuracy: 0.9650\n",
            "Epoch 3/10\n",
            "750/750 - 1s - loss: 0.1402 - accuracy: 0.9565 - val_loss: 0.1055 - val_accuracy: 0.9674\n",
            "Epoch 4/10\n",
            "750/750 - 1s - loss: 0.1199 - accuracy: 0.9625 - val_loss: 0.0829 - val_accuracy: 0.9749\n",
            "Epoch 5/10\n",
            "750/750 - 1s - loss: 0.1032 - accuracy: 0.9686 - val_loss: 0.0880 - val_accuracy: 0.9733\n",
            "Epoch 6/10\n",
            "750/750 - 1s - loss: 0.1008 - accuracy: 0.9693 - val_loss: 0.0803 - val_accuracy: 0.9759\n",
            "Epoch 7/10\n",
            "750/750 - 1s - loss: 0.0891 - accuracy: 0.9722 - val_loss: 0.0894 - val_accuracy: 0.9752\n",
            "Epoch 8/10\n",
            "750/750 - 1s - loss: 0.0843 - accuracy: 0.9731 - val_loss: 0.0765 - val_accuracy: 0.9785\n",
            "Epoch 9/10\n",
            "750/750 - 1s - loss: 0.0833 - accuracy: 0.9739 - val_loss: 0.0745 - val_accuracy: 0.9783\n",
            "Epoch 10/10\n",
            "750/750 - 1s - loss: 0.0768 - accuracy: 0.9759 - val_loss: 0.0718 - val_accuracy: 0.9785\n",
            "313/313 [==============================] - 1s 2ms/step - loss: 0.0658 - accuracy: 0.9817\n"
          ],
          "name": "stdout"
        },
        {
          "output_type": "execute_result",
          "data": {
            "text/plain": [
              "[0.06580030173063278, 0.9817000031471252]"
            ]
          },
          "metadata": {
            "tags": []
          },
          "execution_count": 26
        }
      ]
    },
    {
      "cell_type": "code",
      "metadata": {
        "colab": {
          "base_uri": "https://localhost:8080/",
          "height": 404
        },
        "id": "MkJEwnyYGpG3",
        "outputId": "45b533bf-6b62-4e01-f6e7-1e7e1c003269"
      },
      "source": [
        "plt.figure(figsize=(8, 6))  \n",
        "plt.plot(history.history['loss'], color='b')\n",
        "plt.plot(history.history['val_loss'], color='r')\n",
        "plt.title('Loss')\n",
        "plt.xlabel('epochs')\n",
        "plt.ylabel('Error')\n",
        "plt.legend(('Training Loss', 'Validation Loss'))\n",
        "plt.show()"
      ],
      "execution_count": 27,
      "outputs": [
        {
          "output_type": "display_data",
          "data": {
            "image/png": "[encoded data removed]",
            "text/plain": [
              "<Figure size 576x432 with 1 Axes>"
            ]
          },
          "metadata": {
            "tags": [],
            "needs_background": "light"
          }
        }
      ]
    },
    {
      "cell_type": "code",
      "metadata": {
        "colab": {
          "base_uri": "https://localhost:8080/"
        },
        "id": "DoxoLADjgbcg",
        "outputId": "23c44e97-d588-422d-c74e-48fc53233f1f"
      },
      "source": [
        "from sklearn.model_selection import KFold\n",
        "import numpy as np\n",
        "from sklearn.model_selection import train_test_split\n",
        "\n",
        "# Define per-fold score containers\n",
        "acc_per_fold = []\n",
        "loss_per_fold = []\n",
        "num_folds = 10\n",
        "\n",
        "\n",
        "train_data, train_data_val, train_labels, train_labels_val = train_test_split(x_train, y_train, test_size = 0.2)\n",
        "inputs = np.concatenate((train_data, train_data_val), axis=0)\n",
        "targets = np.concatenate((train_labels, train_labels_val), axis=0)\n",
        "\n",
        "kfold = KFold(n_splits=num_folds, shuffle=True)\n",
        "\n",
        "# K-fold Cross Validation model evaluation\n",
        "fold_no = 1\n",
        "\n",
        "for train, test in kfold.split(inputs, targets):\n",
        "  model = tf.keras.models.Sequential([\n",
        "                                      tf.keras.layers.Flatten(),\n",
        "                                      tf.keras.layers.Dense(512, activation=tf.nn.relu),\n",
        "                                      tf.keras.layers.Dropout(0.5),\n",
        "                                      tf.keras.layers.Dense(512, activation=tf.nn.relu),\n",
        "                                      tf.keras.layers.Dense(10, activation=tf.nn.softmax)\n",
        "                                      ])\n",
        "  \n",
        "  model.compile(optimizer='adam',\n",
        "                loss='sparse_categorical_crossentropy',\n",
        "                metrics=['accuracy'])\n",
        "  \n",
        "  history = model.fit(inputs[train], targets[train],\n",
        "              batch_size=64,\n",
        "              epochs=10,\n",
        "              verbose=0)\n",
        "\n",
        "  # Generate generalization metrics\n",
        "  scores = model.evaluate(x_test, y_test, verbose=0)\n",
        "  print(f'Score for fold {fold_no}: {model.metrics_names[0]} of {scores[0]}; {model.metrics_names[1]} of {scores[1]*100}%')\n",
        "  acc_per_fold.append(scores[1] * 100)\n",
        "  loss_per_fold.append(scores[0])\n",
        "\n",
        "  fold_no = fold_no + 1\n",
        "\n",
        "\n",
        "# == Provide average scores ==\n",
        "print('------------------------------------------------------------------------')\n",
        "print('Score per fold')\n",
        "for i in range(0, len(acc_per_fold)):\n",
        "  print('------------------------------------------------------------------------')\n",
        "  print(f'> Fold {i+1} - Loss: {loss_per_fold[i]} - Accuracy: {acc_per_fold[i]}%')\n",
        "print('------------------------------------------------------------------------')\n",
        "print('Average scores for all folds:')\n",
        "print(f'> Accuracy: {np.mean(acc_per_fold)} (+- {np.std(acc_per_fold)})')\n",
        "print(f'> Loss: {np.mean(loss_per_fold)}')\n",
        "print('------------------------------------------------------------------------')"
      ],
      "execution_count": 28,
      "outputs": [
        {
          "output_type": "stream",
          "text": [
            "Score for fold 1: loss of 0.06412605941295624; accuracy of 98.25999736785889%\n",
            "Score for fold 2: loss of 0.06436967849731445; accuracy of 98.25000166893005%\n",
            "Score for fold 3: loss of 0.06638244539499283; accuracy of 97.9200005531311%\n",
            "Score for fold 4: loss of 0.06585560739040375; accuracy of 98.2200026512146%\n",
            "Score for fold 5: loss of 0.05926486849784851; accuracy of 98.12999963760376%\n",
            "Score for fold 6: loss of 0.06743963807821274; accuracy of 98.1000006198883%\n",
            "Score for fold 7: loss of 0.06512104719877243; accuracy of 98.15000295639038%\n",
            "Score for fold 8: loss of 0.06398852914571762; accuracy of 98.15999865531921%\n",
            "Score for fold 9: loss of 0.07172266393899918; accuracy of 97.8600025177002%\n",
            "Score for fold 10: loss of 0.0605875663459301; accuracy of 98.21000099182129%\n",
            "------------------------------------------------------------------------\n",
            "Score per fold\n",
            "------------------------------------------------------------------------\n",
            "> Fold 1 - Loss: 0.06412605941295624 - Accuracy: 98.25999736785889%\n",
            "------------------------------------------------------------------------\n",
            "> Fold 2 - Loss: 0.06436967849731445 - Accuracy: 98.25000166893005%\n",
            "------------------------------------------------------------------------\n",
            "> Fold 3 - Loss: 0.06638244539499283 - Accuracy: 97.9200005531311%\n",
            "------------------------------------------------------------------------\n",
            "> Fold 4 - Loss: 0.06585560739040375 - Accuracy: 98.2200026512146%\n",
            "------------------------------------------------------------------------\n",
            "> Fold 5 - Loss: 0.05926486849784851 - Accuracy: 98.12999963760376%\n",
            "------------------------------------------------------------------------\n",
            "> Fold 6 - Loss: 0.06743963807821274 - Accuracy: 98.1000006198883%\n",
            "------------------------------------------------------------------------\n",
            "> Fold 7 - Loss: 0.06512104719877243 - Accuracy: 98.15000295639038%\n",
            "------------------------------------------------------------------------\n",
            "> Fold 8 - Loss: 0.06398852914571762 - Accuracy: 98.15999865531921%\n",
            "------------------------------------------------------------------------\n",
            "> Fold 9 - Loss: 0.07172266393899918 - Accuracy: 97.8600025177002%\n",
            "------------------------------------------------------------------------\n",
            "> Fold 10 - Loss: 0.0605875663459301 - Accuracy: 98.21000099182129%\n",
            "------------------------------------------------------------------------\n",
            "Average scores for all folds:\n",
            "> Accuracy: 98.12600076198578 (+- 0.1283895718480864)\n",
            "> Loss: 0.06488581039011479\n",
            "------------------------------------------------------------------------\n"
          ],
          "name": "stdout"
        }
      ]
    },
    {
      "cell_type": "code",
      "metadata": {
        "id": "UYb2gVfwpy6J"
      },
      "source": [
        ""
      ],
      "execution_count": 28,
      "outputs": []
    }
  ]
}