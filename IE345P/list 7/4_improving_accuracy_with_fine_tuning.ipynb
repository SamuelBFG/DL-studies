{
  "nbformat": 4,
  "nbformat_minor": 0,
  "metadata": {
    "colab": {
      "name": "4_improving_accuracy_with_fine_tuning.ipynb",
      "provenance": [],
      "collapsed_sections": [],
      "toc_visible": true,
      "include_colab_link": true
    },
    "kernelspec": {
      "display_name": "Python 3",
      "language": "python",
      "name": "python3"
    },
    "language_info": {
      "codemirror_mode": {
        "name": "ipython",
        "version": 3
      },
      "file_extension": ".py",
      "mimetype": "text/x-python",
      "name": "python",
      "nbconvert_exporter": "python",
      "pygments_lexer": "ipython3",
      "version": "3.7.4"
    },
    "toc": {
      "base_numbering": 1,
      "nav_menu": {},
      "number_sections": true,
      "sideBar": true,
      "skip_h1_title": false,
      "title_cell": "Table of Contents",
      "title_sidebar": "Contents",
      "toc_cell": false,
      "toc_position": {},
      "toc_section_display": true,
      "toc_window_display": false
    },
    "widgets": {
      "application/vnd.jupyter.widget-state+json": {
        "a2fa5926775c45209ab2a07561c7e95c": {
          "model_module": "@jupyter-widgets/controls",
          "model_name": "HBoxModel",
          "state": {
            "_view_name": "HBoxView",
            "_dom_classes": [],
            "_model_name": "HBoxModel",
            "_view_module": "@jupyter-widgets/controls",
            "_model_module_version": "1.5.0",
            "_view_count": null,
            "_view_module_version": "1.5.0",
            "box_style": "",
            "layout": "IPY_MODEL_0e7e4831ffb84e4481fe1a0208323a9f",
            "_model_module": "@jupyter-widgets/controls",
            "children": [
              "IPY_MODEL_b01a52ae62354fb8948f8d16f508ef61",
              "IPY_MODEL_512026e1e0f14ce987db8af0ebfe81d4"
            ]
          }
        },
        "0e7e4831ffb84e4481fe1a0208323a9f": {
          "model_module": "@jupyter-widgets/base",
          "model_name": "LayoutModel",
          "state": {
            "_view_name": "LayoutView",
            "grid_template_rows": null,
            "right": null,
            "justify_content": null,
            "_view_module": "@jupyter-widgets/base",
            "overflow": null,
            "_model_module_version": "1.2.0",
            "_view_count": null,
            "flex_flow": null,
            "width": null,
            "min_width": null,
            "border": null,
            "align_items": null,
            "bottom": null,
            "_model_module": "@jupyter-widgets/base",
            "top": null,
            "grid_column": null,
            "overflow_y": null,
            "overflow_x": null,
            "grid_auto_flow": null,
            "grid_area": null,
            "grid_template_columns": null,
            "flex": null,
            "_model_name": "LayoutModel",
            "justify_items": null,
            "grid_row": null,
            "max_height": null,
            "align_content": null,
            "visibility": null,
            "align_self": null,
            "height": null,
            "min_height": null,
            "padding": null,
            "grid_auto_rows": null,
            "grid_gap": null,
            "max_width": null,
            "order": null,
            "_view_module_version": "1.2.0",
            "grid_template_areas": null,
            "object_position": null,
            "object_fit": null,
            "grid_auto_columns": null,
            "margin": null,
            "display": null,
            "left": null
          }
        },
        "b01a52ae62354fb8948f8d16f508ef61": {
          "model_module": "@jupyter-widgets/controls",
          "model_name": "FloatProgressModel",
          "state": {
            "_view_name": "ProgressView",
            "style": "IPY_MODEL_b72f3e0fff7b4ff8af4d6531ce400ed6",
            "_dom_classes": [],
            "description": "100%",
            "_model_name": "FloatProgressModel",
            "bar_style": "success",
            "max": 8677,
            "_view_module": "@jupyter-widgets/controls",
            "_model_module_version": "1.5.0",
            "value": 8677,
            "_view_count": null,
            "_view_module_version": "1.5.0",
            "orientation": "horizontal",
            "min": 0,
            "description_tooltip": null,
            "_model_module": "@jupyter-widgets/controls",
            "layout": "IPY_MODEL_e0402becbc824974b52b2ba80d60d6b9"
          }
        },
        "512026e1e0f14ce987db8af0ebfe81d4": {
          "model_module": "@jupyter-widgets/controls",
          "model_name": "HTMLModel",
          "state": {
            "_view_name": "HTMLView",
            "style": "IPY_MODEL_70f7548af99c4d7a8c5610e623474edf",
            "_dom_classes": [],
            "description": "",
            "_model_name": "HTMLModel",
            "placeholder": "​",
            "_view_module": "@jupyter-widgets/controls",
            "_model_module_version": "1.5.0",
            "value": " 8677/8677 [00:58&lt;00:00, 148.79it/s]",
            "_view_count": null,
            "_view_module_version": "1.5.0",
            "description_tooltip": null,
            "_model_module": "@jupyter-widgets/controls",
            "layout": "IPY_MODEL_e2d75edca39f4e8e9dfe9fdf89453aba"
          }
        },
        "b72f3e0fff7b4ff8af4d6531ce400ed6": {
          "model_module": "@jupyter-widgets/controls",
          "model_name": "ProgressStyleModel",
          "state": {
            "_view_name": "StyleView",
            "_model_name": "ProgressStyleModel",
            "description_width": "initial",
            "_view_module": "@jupyter-widgets/base",
            "_model_module_version": "1.5.0",
            "_view_count": null,
            "_view_module_version": "1.2.0",
            "bar_color": null,
            "_model_module": "@jupyter-widgets/controls"
          }
        },
        "e0402becbc824974b52b2ba80d60d6b9": {
          "model_module": "@jupyter-widgets/base",
          "model_name": "LayoutModel",
          "state": {
            "_view_name": "LayoutView",
            "grid_template_rows": null,
            "right": null,
            "justify_content": null,
            "_view_module": "@jupyter-widgets/base",
            "overflow": null,
            "_model_module_version": "1.2.0",
            "_view_count": null,
            "flex_flow": null,
            "width": null,
            "min_width": null,
            "border": null,
            "align_items": null,
            "bottom": null,
            "_model_module": "@jupyter-widgets/base",
            "top": null,
            "grid_column": null,
            "overflow_y": null,
            "overflow_x": null,
            "grid_auto_flow": null,
            "grid_area": null,
            "grid_template_columns": null,
            "flex": null,
            "_model_name": "LayoutModel",
            "justify_items": null,
            "grid_row": null,
            "max_height": null,
            "align_content": null,
            "visibility": null,
            "align_self": null,
            "height": null,
            "min_height": null,
            "padding": null,
            "grid_auto_rows": null,
            "grid_gap": null,
            "max_width": null,
            "order": null,
            "_view_module_version": "1.2.0",
            "grid_template_areas": null,
            "object_position": null,
            "object_fit": null,
            "grid_auto_columns": null,
            "margin": null,
            "display": null,
            "left": null
          }
        },
        "70f7548af99c4d7a8c5610e623474edf": {
          "model_module": "@jupyter-widgets/controls",
          "model_name": "DescriptionStyleModel",
          "state": {
            "_view_name": "StyleView",
            "_model_name": "DescriptionStyleModel",
            "description_width": "",
            "_view_module": "@jupyter-widgets/base",
            "_model_module_version": "1.5.0",
            "_view_count": null,
            "_view_module_version": "1.2.0",
            "_model_module": "@jupyter-widgets/controls"
          }
        },
        "e2d75edca39f4e8e9dfe9fdf89453aba": {
          "model_module": "@jupyter-widgets/base",
          "model_name": "LayoutModel",
          "state": {
            "_view_name": "LayoutView",
            "grid_template_rows": null,
            "right": null,
            "justify_content": null,
            "_view_module": "@jupyter-widgets/base",
            "overflow": null,
            "_model_module_version": "1.2.0",
            "_view_count": null,
            "flex_flow": null,
            "width": null,
            "min_width": null,
            "border": null,
            "align_items": null,
            "bottom": null,
            "_model_module": "@jupyter-widgets/base",
            "top": null,
            "grid_column": null,
            "overflow_y": null,
            "overflow_x": null,
            "grid_auto_flow": null,
            "grid_area": null,
            "grid_template_columns": null,
            "flex": null,
            "_model_name": "LayoutModel",
            "justify_items": null,
            "grid_row": null,
            "max_height": null,
            "align_content": null,
            "visibility": null,
            "align_self": null,
            "height": null,
            "min_height": null,
            "padding": null,
            "grid_auto_rows": null,
            "grid_gap": null,
            "max_width": null,
            "order": null,
            "_view_module_version": "1.2.0",
            "grid_template_areas": null,
            "object_position": null,
            "object_fit": null,
            "grid_auto_columns": null,
            "margin": null,
            "display": null,
            "left": null
          }
        }
      }
    }
  },
  "cells": [
    {
      "cell_type": "markdown",
      "metadata": {
        "id": "view-in-github",
        "colab_type": "text"
      },
      "source": [
        "<a href=\"https://colab.research.google.com/github/SamuelBFG/DL-studies/blob/master/4_improving_accuracy_with_fine_tuning.ipynb\" target=\"_parent\"><img src=\"https://colab.research.google.com/assets/colab-badge.svg\" alt=\"Open In Colab\"/></a>"
      ]
    },
    {
      "cell_type": "markdown",
      "metadata": {
        "id": "lbewWZN1FwFs"
      },
      "source": [
        "Before we start you need to add the Caltech 101 dataset to your Google Colab enviroment. Here is the [link](https://www.kaggle.com/ceciliala/caltech-101)."
      ]
    },
    {
      "cell_type": "code",
      "metadata": {
        "id": "GEqIb0RBFzP1",
        "outputId": "c30a7897-e2e7-4a25-dd91-30d4ce6b6e6a",
        "colab": {
          "resources": {
            "http://localhost:8080/nbextensions/google.colab/files.js": {
              "data": "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",
              "ok": true,
              "headers": [
                [
                  "content-type",
                  "application/javascript"
                ]
              ],
              "status": 200,
              "status_text": ""
            }
          },
          "base_uri": "https://localhost:8080/",
          "height": 90
        }
      },
      "source": [
        "# Kaggle dependencies will already be installed so there is no need for \"!pip install kaggle\"\n",
        "# You'll need to upload your kaggle.json file though\n",
        "\n",
        "from google.colab import files\n",
        "files.upload()"
      ],
      "execution_count": null,
      "outputs": [
        {
          "output_type": "display_data",
          "data": {
            "text/html": [
              "\n",
              "     <input type=\"file\" id=\"files-ccf653dc-d83e-4c3f-b973-90234c5a5890\" name=\"files[]\" multiple disabled\n",
              "        style=\"border:none\" />\n",
              "     <output id=\"result-ccf653dc-d83e-4c3f-b973-90234c5a5890\">\n",
              "      Upload widget is only available when the cell has been executed in the\n",
              "      current browser session. Please rerun this cell to enable.\n",
              "      </output>\n",
              "      <script src=\"/nbextensions/google.colab/files.js\"></script> "
            ],
            "text/plain": [
              "<IPython.core.display.HTML object>"
            ]
          },
          "metadata": {
            "tags": []
          }
        },
        {
          "output_type": "stream",
          "text": [
            "Saving kaggle.json to kaggle.json\n"
          ],
          "name": "stdout"
        },
        {
          "output_type": "execute_result",
          "data": {
            "text/plain": [
              "{'kaggle.json': b'{\"username\":\"samuelbfg\",\"key\":\"0720c91e1f13c46c81f9cf850f621e4e\"}'}"
            ]
          },
          "metadata": {
            "tags": []
          },
          "execution_count": 1
        }
      ]
    },
    {
      "cell_type": "code",
      "metadata": {
        "id": "mUBepBZFF0nA"
      },
      "source": [
        "!mkdir -p ~/.kaggle\n",
        "!cp kaggle.json ~/.kaggle/\n",
        "\n",
        "# Change the permission\n",
        "!chmod 600 ~/.kaggle/kaggle.json"
      ],
      "execution_count": null,
      "outputs": []
    },
    {
      "cell_type": "code",
      "metadata": {
        "id": "8TUjb17lF179",
        "outputId": "66918715-8467-4eda-c18f-3459b7e0a23e",
        "colab": {
          "base_uri": "https://localhost:8080/",
          "height": 67
        }
      },
      "source": [
        "# Adding dataset\n",
        "!kaggle datasets download -d ceciliala/caltech-101"
      ],
      "execution_count": null,
      "outputs": [
        {
          "output_type": "stream",
          "text": [
            "Downloading caltech-101.zip to /content\n",
            " 98% 113M/115M [00:02<00:00, 35.4MB/s] \n",
            "100% 115M/115M [00:02<00:00, 58.4MB/s]\n"
          ],
          "name": "stdout"
        }
      ]
    },
    {
      "cell_type": "code",
      "metadata": {
        "id": "mKDticUsF3RK",
        "outputId": "deb3d988-f0a2-41fd-aabe-feea1d281b33",
        "colab": {
          "base_uri": "https://localhost:8080/",
          "height": 34
        }
      },
      "source": [
        "from zipfile import ZipFile\n",
        "file_name = \"caltech-101.zip\"\n",
        "\n",
        "with ZipFile(file_name,'r') as zip:\n",
        "  zip.extractall()\n",
        "  print('Done')"
      ],
      "execution_count": null,
      "outputs": [
        {
          "output_type": "stream",
          "text": [
            "Done\n"
          ],
          "name": "stdout"
        }
      ]
    },
    {
      "cell_type": "markdown",
      "metadata": {
        "id": "r4HJboIxF5Pt"
      },
      "source": [
        "Here we are going to use the files in the ***data*** folder we obtained from the previous notebook ***1-feature-extraction***\n",
        "\n",
        "The files that we are going to need are:\n",
        "\n",
        "```\n",
        "   class_ids-caltech101.pickle\n",
        "   features-caltech101-resnet.pickle\n",
        "   features-caltech101-resnet-finetuned.pickle\n",
        "   filenames-caltech101.pickle\n",
        "```"
      ]
    },
    {
      "cell_type": "code",
      "metadata": {
        "id": "13TElhlqF6n2",
        "outputId": "5fdccbf2-420a-47f4-f75c-852a5fbc09cb",
        "colab": {
          "base_uri": "https://localhost:8080/",
          "height": 34
        }
      },
      "source": [
        "from zipfile import ZipFile\n",
        "file_name = \"data.zip\"\n",
        "\n",
        "with ZipFile(file_name,'r') as zip:\n",
        "  zip.extractall()\n",
        "  print('Done')"
      ],
      "execution_count": 7,
      "outputs": [
        {
          "output_type": "stream",
          "text": [
            "Done\n"
          ],
          "name": "stdout"
        }
      ]
    },
    {
      "cell_type": "markdown",
      "metadata": {
        "id": "_iwUMobhB76Q"
      },
      "source": [
        "# Improving accuracy with Fine-Tuning\n",
        "\n",
        "\n",
        "Many of the pre-trained models were trained on the ImageNet dataset. Therefore, they provide an incredible starting point for similarity computations in most situations. That said, if you tune these models to adapt to your specific problem, they would perform even more accurately for finding similar images. \n",
        "\n",
        "In this portion of the chapter, we will find the least accurate (worst) performing categories, visualize them with t-SNE, fine-tune and then see how their t-SNE graph changes."
      ]
    },
    {
      "cell_type": "code",
      "metadata": {
        "id": "FtLiIyikB76R"
      },
      "source": [
        "import numpy as np\n",
        "import pickle\n",
        "from tqdm import tqdm, tqdm_notebook\n",
        "import random\n",
        "import time\n",
        "from sklearn.manifold import TSNE\n",
        "from sklearn.decomposition import PCA\n",
        "import PIL\n",
        "from PIL import Image\n",
        "from sklearn.neighbors import NearestNeighbors\n",
        "import random\n",
        "from textwrap import wrap\n",
        "\n",
        "import glob\n",
        "import matplotlib\n",
        "import matplotlib.pyplot as plt\n",
        "import matplotlib.image as mpimg\n"
      ],
      "execution_count": 8,
      "outputs": []
    },
    {
      "cell_type": "markdown",
      "metadata": {
        "id": "yCBgJPhvB76T"
      },
      "source": [
        "We utilize the helper functions we used before in previous notebooks here as well"
      ]
    },
    {
      "cell_type": "code",
      "metadata": {
        "id": "tMsrLEIEB76U"
      },
      "source": [
        "# Helper function to get the classname\n",
        "def classname(str):\n",
        "    return str.split('/')[-2]"
      ],
      "execution_count": 9,
      "outputs": []
    },
    {
      "cell_type": "markdown",
      "metadata": {
        "id": "wyteL4TkB76W"
      },
      "source": [
        "Helper function to display accuracy stats and plot similar images"
      ]
    },
    {
      "cell_type": "code",
      "metadata": {
        "id": "Et26E_irB76X"
      },
      "source": [
        "def display(dic, per_class, neighbors, message):\n",
        "    for key in dic:\n",
        "        print(key, \"\\tAccuracy: \", per_class[key])\n",
        "    for each_class in dic:\n",
        "        indices_of_class = [\n",
        "            i for i, j in enumerate(filenames) if classname(j) == each_class\n",
        "        ]\n",
        "        random_image_index = random.choice(indices_of_class)\n",
        "        distances, indices = neighbors.kneighbors(\n",
        "            [feature_list[random_image_index]])\n",
        "        similar_image_paths = [filenames[random_image_index]] + \\\n",
        "            [filenames[indices[0][i]] for i in range(1, 4)]\n",
        "        plot_images(similar_image_paths, distances[0], message)"
      ],
      "execution_count": 10,
      "outputs": []
    },
    {
      "cell_type": "markdown",
      "metadata": {
        "id": "ufbKdKImB76Z"
      },
      "source": [
        "Helper function that calculates accuracy using the Nearest Neighbours Brute force algorithm and returns the classes that the model performed least accurately on"
      ]
    },
    {
      "cell_type": "code",
      "metadata": {
        "id": "Ur5nG0J0B76Z"
      },
      "source": [
        "def get_least_accurate_classes(feature_list):\n",
        "    per_class_acc = {}\n",
        "    num_nearest_neighbors = 5\n",
        "    num_correct_predictions = 0\n",
        "    num_incorrect_predictions = 0\n",
        "    neighbors = NearestNeighbors(n_neighbors=num_nearest_neighbors,\n",
        "                                 algorithm='brute',\n",
        "                                 metric='euclidean').fit(feature_list)\n",
        "    for i in tqdm_notebook(range(len(feature_list))):\n",
        "        distances, indices = neighbors.kneighbors([feature_list[i]])\n",
        "        for j in range(1, num_nearest_neighbors):\n",
        "            predicted_class = classname(filenames[indices[0][j]])\n",
        "            ground_truth = classname(filenames[i])\n",
        "            if (predicted_class not in per_class_acc):\n",
        "                per_class_acc[predicted_class] = [0, 0, 0]\n",
        "            if ground_truth == predicted_class:\n",
        "                num_correct_predictions += 1\n",
        "                per_class_acc[predicted_class][0] += 1\n",
        "                per_class_acc[predicted_class][2] += 1\n",
        "            else:\n",
        "                num_incorrect_predictions += 1\n",
        "                per_class_acc[predicted_class][1] += 1\n",
        "                per_class_acc[predicted_class][2] += 1\n",
        "    print(\n",
        "        \"Accuracy is \",\n",
        "        round(\n",
        "            100.0 * num_correct_predictions /\n",
        "            (1.0 * num_correct_predictions + num_incorrect_predictions), 2))\n",
        "    for key, value in per_class_acc.items():\n",
        "        per_class_acc[key] = round(100.0 * value[0] / (1.0 * value[2]), 2)\n",
        "    dic = sorted(per_class_acc, key=per_class_acc.get)\n",
        "\n",
        "    # least_accurate classes\n",
        "    print(\"\\n\\nTop 10 incorrect classifications\\n\")\n",
        "    for key in dic[:10]:\n",
        "        print(key, \"\\tAccuracy: \", per_class_acc[key])\n",
        "    return dic[:6], per_class_acc"
      ],
      "execution_count": 11,
      "outputs": []
    },
    {
      "cell_type": "markdown",
      "metadata": {
        "id": "wtMTq6d0B76b"
      },
      "source": [
        "Load the features of the Caltech256 dataset to run our experiments on"
      ]
    },
    {
      "cell_type": "code",
      "metadata": {
        "id": "LFp7WghlB76b"
      },
      "source": [
        "# Load dataset features\n",
        "filenames = pickle.load(open('/content/content/data/filenames-caltech101.pickle', 'rb'))\n",
        "feature_list = pickle.load(open('/content/content/data/features-caltech101-resnet.pickle', 'rb'))\n",
        "class_ids = pickle.load(open('/content/content/data/class_ids-caltech101.pickle', 'rb'))"
      ],
      "execution_count": 14,
      "outputs": []
    },
    {
      "cell_type": "markdown",
      "metadata": {
        "id": "iPV4fySUB76d"
      },
      "source": [
        "Train the PCA model on the loaded features."
      ]
    },
    {
      "cell_type": "code",
      "metadata": {
        "id": "qRgRdyruB76e"
      },
      "source": [
        "# Perform PCA over the features\n",
        "# set the number of features intended\n",
        "num_feature_dimensions = 100\n",
        "pca = PCA(n_components=num_feature_dimensions)\n",
        "pca.fit(feature_list)\n",
        "feature_list = pca.transform(feature_list)"
      ],
      "execution_count": 15,
      "outputs": []
    },
    {
      "cell_type": "markdown",
      "metadata": {
        "id": "k3wIpLMcB76l"
      },
      "source": [
        "\n",
        "Note: We are using the classes with the least accuracy because the effect of finetuning is expected be most pronounced on these categories. "
      ]
    },
    {
      "cell_type": "code",
      "metadata": {
        "id": "pbxCFnMHB76m",
        "outputId": "f5d0482f-c11c-4a9b-f1d4-d7fdb3212941",
        "colab": {
          "base_uri": "https://localhost:8080/",
          "height": 368,
          "referenced_widgets": [
            "a2fa5926775c45209ab2a07561c7e95c",
            "0e7e4831ffb84e4481fe1a0208323a9f",
            "b01a52ae62354fb8948f8d16f508ef61",
            "512026e1e0f14ce987db8af0ebfe81d4",
            "b72f3e0fff7b4ff8af4d6531ce400ed6",
            "e0402becbc824974b52b2ba80d60d6b9",
            "70f7548af99c4d7a8c5610e623474edf",
            "e2d75edca39f4e8e9dfe9fdf89453aba"
          ]
        }
      },
      "source": [
        "names_of_least_accurate_classes_before_finetuning, accuracy_per_class_before_finetuning = get_least_accurate_classes(\n",
        "    feature_list[:])"
      ],
      "execution_count": 16,
      "outputs": [
        {
          "output_type": "stream",
          "text": [
            "/usr/local/lib/python3.6/dist-packages/ipykernel_launcher.py:9: TqdmDeprecationWarning: This function will be removed in tqdm==5.0.0\n",
            "Please use `tqdm.notebook.tqdm` instead of `tqdm.tqdm_notebook`\n",
            "  if __name__ == '__main__':\n"
          ],
          "name": "stderr"
        },
        {
          "output_type": "display_data",
          "data": {
            "application/vnd.jupyter.widget-view+json": {
              "model_id": "a2fa5926775c45209ab2a07561c7e95c",
              "version_minor": 0,
              "version_major": 2
            },
            "text/plain": [
              "HBox(children=(FloatProgress(value=0.0, max=8677.0), HTML(value='')))"
            ]
          },
          "metadata": {
            "tags": []
          }
        },
        {
          "output_type": "stream",
          "text": [
            "\n",
            "Accuracy is  88.49\n",
            "\n",
            "\n",
            "Top 10 incorrect classifications\n",
            "\n",
            "lobster \tAccuracy:  48.09\n",
            "crocodile \tAccuracy:  49.07\n",
            "water_lilly \tAccuracy:  49.43\n",
            "anchor \tAccuracy:  52.05\n",
            "bass \tAccuracy:  56.11\n",
            "crocodile_head \tAccuracy:  59.13\n",
            "schooner \tAccuracy:  59.52\n",
            "octopus \tAccuracy:  60.0\n",
            "crayfish \tAccuracy:  61.05\n",
            "ant \tAccuracy:  62.42\n"
          ],
          "name": "stdout"
        }
      ]
    },
    {
      "cell_type": "markdown",
      "metadata": {
        "id": "kUNuFj--B76p"
      },
      "source": [
        "Print names of the least accurate classes before fine-tuning"
      ]
    },
    {
      "cell_type": "code",
      "metadata": {
        "id": "bVdSttoxB76q",
        "outputId": "7406b393-28d5-492d-d543-aa356d701c85",
        "colab": {
          "base_uri": "https://localhost:8080/",
          "height": 34
        }
      },
      "source": [
        "names_of_least_accurate_classes_before_finetuning"
      ],
      "execution_count": 17,
      "outputs": [
        {
          "output_type": "execute_result",
          "data": {
            "text/plain": [
              "['lobster', 'crocodile', 'water_lilly', 'anchor', 'bass', 'crocodile_head']"
            ]
          },
          "metadata": {
            "tags": []
          },
          "execution_count": 17
        }
      ]
    },
    {
      "cell_type": "markdown",
      "metadata": {
        "id": "hazjbrvkB76t"
      },
      "source": [
        "Combine the features from the 6 least accurate classes into a list so that we can use this list for further experiments and visualization. "
      ]
    },
    {
      "cell_type": "code",
      "metadata": {
        "id": "ar_PXVI5B76t"
      },
      "source": [
        "least_accurate_feature_list = []\n",
        "least_accurate_filenames = []\n",
        "least_accurate_count = {}\n",
        "for index, filename in enumerate(filenames):\n",
        "    if classname(filename) not in least_accurate_count:\n",
        "        least_accurate_count[classname(filename)] = 0\n",
        "    if classname(\n",
        "            filename\n",
        "    ) in names_of_least_accurate_classes_before_finetuning and least_accurate_count[\n",
        "            classname(filename)] <= 50:\n",
        "        least_accurate_feature_list.append(feature_list[index])\n",
        "        least_accurate_count[classname(filename)] += 1\n",
        "        least_accurate_filenames.append(class_ids[index])"
      ],
      "execution_count": 18,
      "outputs": []
    },
    {
      "cell_type": "markdown",
      "metadata": {
        "id": "TURKTEWnB76w"
      },
      "source": [
        "Train t-SNE only on the 6 least accurate classes."
      ]
    },
    {
      "cell_type": "code",
      "metadata": {
        "id": "t0vLQKDuB76w",
        "outputId": "bcd38582-b489-4083-bde2-d8e016d0f3da",
        "colab": {
          "base_uri": "https://localhost:8080/",
          "height": 151
        }
      },
      "source": [
        "from sklearn.manifold import TSNE\n",
        "selected_features = least_accurate_feature_list\n",
        "selected_class_ids = least_accurate_filenames\n",
        "selected_filenames = least_accurate_filenames\n",
        "time_start = time.time()\n",
        "tsne_results = TSNE(n_components=2, verbose=1,\n",
        "                    metric='euclidean').fit_transform(selected_features)\n",
        "# tsne = TSNE(n_components=2, verbose=1, perplexity=40, n_iter=250, metric=’euclidean’)\n",
        "print('t-SNE done! Time elapsed: {} seconds'.format(time.time() - time_start))"
      ],
      "execution_count": 19,
      "outputs": [
        {
          "output_type": "stream",
          "text": [
            "[t-SNE] Computing 91 nearest neighbors...\n",
            "[t-SNE] Indexed 272 samples in 0.005s...\n",
            "[t-SNE] Computed neighbors for 272 samples in 0.033s...\n",
            "[t-SNE] Computed conditional probabilities for sample 272 / 272\n",
            "[t-SNE] Mean sigma: 0.198013\n",
            "[t-SNE] KL divergence after 250 iterations with early exaggeration: 62.844398\n",
            "[t-SNE] KL divergence after 1000 iterations: 0.604565\n",
            "t-SNE done! Time elapsed: 1.5543887615203857 seconds\n"
          ],
          "name": "stdout"
        }
      ]
    },
    {
      "cell_type": "markdown",
      "metadata": {
        "id": "sn-AbAz_B761"
      },
      "source": [
        "### t-SNE visualization of feature vectors of least accurate classes before finetuning"
      ]
    },
    {
      "cell_type": "code",
      "metadata": {
        "id": "Z-S7h4xUB761",
        "scrolled": false,
        "outputId": "9241cc1e-c5aa-4ec9-ea55-73516257ece3",
        "colab": {
          "base_uri": "https://localhost:8080/",
          "height": 296
        }
      },
      "source": [
        "plt.title(\"\\n\".join(\n",
        "    wrap(\n",
        "        \"t-SNE visualization of feature vectors of least accurate classes before finetuning\",\n",
        "        60)))\n",
        "set_classes = list(set(selected_class_ids))\n",
        "# set different markers for all the classes we are going to show\n",
        "markers = [\"^\", \".\", \"s\", \"o\", \"x\", \"P\"]\n",
        "# set different colors for all the classes we are going to show\n",
        "colors = ['red', 'blue', 'fuchsia', 'green', 'purple', 'orange']\n",
        "class_to_marker = {}\n",
        "class_to_color = {}\n",
        "for index in range(len(tsne_results)):\n",
        "    # assign color and marker to each type of class\n",
        "    if selected_class_ids[index] not in class_to_marker:\n",
        "        class_to_marker[selected_class_ids[index]] = markers.pop()\n",
        "    if selected_class_ids[index] not in class_to_color:\n",
        "        class_to_color[selected_class_ids[index]] = colors.pop()\n",
        "    plt.scatter(tsne_results[index, 0],\n",
        "                tsne_results[index, 1],\n",
        "                c=class_to_color[selected_class_ids[index]],\n",
        "                marker=class_to_marker[selected_class_ids[index]],\n",
        "                edgecolor='white',\n",
        "                linewidth='.6',\n",
        "                s=90)\n",
        "plt.show()"
      ],
      "execution_count": 20,
      "outputs": [
        {
          "output_type": "display_data",
          "data": {
            "image/png": "[encoded data removed]",
            "text/plain": [
              "<Figure size 432x288 with 1 Axes>"
            ]
          },
          "metadata": {
            "tags": [],
            "needs_background": "light"
          }
        }
      ]
    },
    {
      "cell_type": "markdown",
      "metadata": {
        "id": "xCltOKrQB763"
      },
      "source": [
        "These feature vectors are all over the place! Using these feature vectors in other applications such as classification might not be a good idea as it would be difficult to find a plane of separation between them. \n",
        "\n",
        "\n",
        "Read the finetuned features from the Caltech-256 dataset "
      ]
    },
    {
      "cell_type": "code",
      "metadata": {
        "id": "8G-u5f61B764"
      },
      "source": [
        "filenames = pickle.load(open('/content/content/data/filenames-caltech101.pickle', 'rb'))\n",
        "feature_list = pickle.load(\n",
        "    open('/content/content/data/features-caltech101-resnet-finetuned.pickle', 'rb'))\n",
        "class_ids = pickle.load(open('/content/content/data/class_ids-caltech101.pickle', 'rb'))"
      ],
      "execution_count": 22,
      "outputs": []
    },
    {
      "cell_type": "code",
      "metadata": {
        "id": "HrAMByOPB766"
      },
      "source": [
        "# Perform PCA over the features\n",
        "# set the number of features intended\n",
        "num_feature_dimensions = 100\n",
        "pca = PCA(n_components=num_feature_dimensions)\n",
        "pca.fit(feature_list)\n",
        "feature_list = pca.transform(feature_list)"
      ],
      "execution_count": 23,
      "outputs": []
    },
    {
      "cell_type": "markdown",
      "metadata": {
        "id": "6l5puHWSB768"
      },
      "source": [
        "Combine the features from the 6 least accurate classes into a list so that we can use this list for further experiments and visualization. Note that we are using the same categories (`names_of_least_accurate_classes_before_finetuning`) as before to enable an apples-to-apples comparison."
      ]
    },
    {
      "cell_type": "code",
      "metadata": {
        "id": "1vyjvetPB768"
      },
      "source": [
        "least_accurate_feature_list = []\n",
        "least_accurate_filenames = []\n",
        "least_accurate_count = {}\n",
        "for index, filename in enumerate(filenames):\n",
        "    if classname(filename) not in least_accurate_count:\n",
        "        least_accurate_count[classname(filename)] = 0\n",
        "    if classname(\n",
        "            filename\n",
        "    ) in names_of_least_accurate_classes_before_finetuning and least_accurate_count[\n",
        "            classname(filename)] <= 50:\n",
        "        least_accurate_feature_list.append(feature_list[index])\n",
        "        least_accurate_count[classname(filename)] += 1\n",
        "        least_accurate_filenames.append(class_ids[index])"
      ],
      "execution_count": 24,
      "outputs": []
    },
    {
      "cell_type": "markdown",
      "metadata": {
        "id": "XH_h8S1sB76_"
      },
      "source": [
        "Train a t-SNE model using the "
      ]
    },
    {
      "cell_type": "code",
      "metadata": {
        "id": "HP7CiAB_B76_",
        "outputId": "4d99e62a-1427-42c1-fc1e-9d7f2bf75193",
        "colab": {
          "base_uri": "https://localhost:8080/",
          "height": 151
        }
      },
      "source": [
        "from sklearn.manifold import TSNE\n",
        "selected_features = least_accurate_feature_list\n",
        "selected_class_ids = least_accurate_filenames\n",
        "selected_filenames = least_accurate_filenames\n",
        "time_start = time.time()\n",
        "tsne_results = TSNE(n_components=2, verbose=1,\n",
        "                    metric='euclidean').fit_transform(selected_features)\n",
        "# tsne = TSNE(n_components=2, verbose=1, perplexity=40, n_iter=250, metric=’euclidean’)\n",
        "print('t-SNE done! Time elapsed: {} seconds'.format(time.time() - time_start))"
      ],
      "execution_count": 25,
      "outputs": [
        {
          "output_type": "stream",
          "text": [
            "[t-SNE] Computing 91 nearest neighbors...\n",
            "[t-SNE] Indexed 272 samples in 0.002s...\n",
            "[t-SNE] Computed neighbors for 272 samples in 0.026s...\n",
            "[t-SNE] Computed conditional probabilities for sample 272 / 272\n",
            "[t-SNE] Mean sigma: 0.135990\n",
            "[t-SNE] KL divergence after 250 iterations with early exaggeration: 49.453072\n",
            "[t-SNE] KL divergence after 1000 iterations: 0.145322\n",
            "t-SNE done! Time elapsed: 1.4043707847595215 seconds\n"
          ],
          "name": "stdout"
        }
      ]
    },
    {
      "cell_type": "markdown",
      "metadata": {
        "id": "5Fy4xbmZB77E"
      },
      "source": [
        "### t-SNE visualization of feature vectors of least accurate classes after finetuning"
      ]
    },
    {
      "cell_type": "code",
      "metadata": {
        "id": "5qKYfuZEB77E",
        "scrolled": true,
        "outputId": "01edef60-bb7e-4353-f1a2-4e886a8519d3",
        "colab": {
          "base_uri": "https://localhost:8080/",
          "height": 297
        }
      },
      "source": [
        "plt.title(\"\\n\".join(\n",
        "    wrap(\n",
        "        \"t-SNE visualization of feature vectors of least accurate classes after finetuning\",\n",
        "        60)))\n",
        "plt.tight_layout()\n",
        "set_classes = list(set(selected_class_ids))\n",
        "markers = [\"^\", \".\", \"s\", \"o\", \"x\", \"P\"]\n",
        "colors = ['red', 'blue', 'fuchsia', 'green', 'purple', 'orange']\n",
        "class_to_marker = {}\n",
        "class_to_color = {}\n",
        "for index in range(len(tsne_results)):\n",
        "    # get only those tsne_results which belong to each_class\n",
        "    if selected_class_ids[index] not in class_to_marker:\n",
        "        class_to_marker[selected_class_ids[index]] = markers.pop()\n",
        "    if selected_class_ids[index] not in class_to_color:\n",
        "        class_to_color[selected_class_ids[index]] = colors.pop()\n",
        "    scatterPlot = plt.scatter(\n",
        "        tsne_results[index, 0],\n",
        "        tsne_results[index, 1],\n",
        "        c=class_to_color[selected_class_ids[index]],\n",
        "        marker=class_to_marker[selected_class_ids[index]],\n",
        "        edgecolor='white',\n",
        "        linewidth='.6',\n",
        "        s=80)\n",
        "plt.show()"
      ],
      "execution_count": 26,
      "outputs": [
        {
          "output_type": "display_data",
          "data": {
            "image/png": "[encoded data removed]",
            "text/plain": [
              "<Figure size 432x288 with 1 Axes>"
            ]
          },
          "metadata": {
            "tags": [],
            "needs_background": "light"
          }
        }
      ]
    },
    {
      "cell_type": "markdown",
      "metadata": {
        "id": "QgZ3uw8lB77G"
      },
      "source": [
        "This is so much cleaner. With just a little bit of fine tuning as shown in chapter 2, the embeddings start to group together. Compare the noisy/scattered embeddings of the pre-trained models against those of the fine-tuned model. A machine learning classifier would be able to find a plane of separation between these classes with much more ease, hence giving better classification accuracy as well as more similar images when not using a classifier. And, remember, these were the classes with the highest misclassifications, imagine how nicely the classes with originally higher accuracy would be after fine-tuning.\n"
      ]
    }
  ]
}