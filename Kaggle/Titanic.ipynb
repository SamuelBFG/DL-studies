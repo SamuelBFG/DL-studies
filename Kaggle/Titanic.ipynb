{
  "nbformat": 4,
  "nbformat_minor": 0,
  "metadata": {
    "colab": {
      "name": "Titanic.ipynb",
      "provenance": [],
      "collapsed_sections": [],
      "toc_visible": true,
      "include_colab_link": true
    },
    "kernelspec": {
      "name": "python3",
      "display_name": "Python 3"
    }
  },
  "cells": [
    {
      "cell_type": "markdown",
      "metadata": {
        "id": "view-in-github",
        "colab_type": "text"
      },
      "source": [
        "<a href=\"https://colab.research.google.com/github/SamuelBFG/DL-studies/blob/master/Kaggle/Titanic.ipynb\" target=\"_parent\"><img src=\"https://colab.research.google.com/assets/colab-badge.svg\" alt=\"Open In Colab\"/></a>"
      ]
    },
    {
      "cell_type": "code",
      "metadata": {
        "id": "Lvtm6kdnqVz8"
      },
      "source": [
        "%%capture\r\n",
        "! pip install -q kaggle"
      ],
      "execution_count": 1,
      "outputs": []
    },
    {
      "cell_type": "code",
      "metadata": {
        "colab": {
          "resources": {
            "http://localhost:8080/nbextensions/google.colab/files.js": {
              "data": "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",
              "ok": true,
              "headers": [
                [
                  "content-type",
                  "application/javascript"
                ]
              ],
              "status": 200,
              "status_text": ""
            }
          },
          "base_uri": "https://localhost:8080/",
          "height": 72
        },
        "id": "e0-1xFc3qWS8",
        "outputId": "ba0e9e3e-d8c8-4863-d49f-27bdbdadf0dd"
      },
      "source": [
        "from google.colab import files\r\n",
        "\r\n",
        "files.upload();"
      ],
      "execution_count": 2,
      "outputs": [
        {
          "output_type": "display_data",
          "data": {
            "text/html": [
              "\n",
              "     <input type=\"file\" id=\"files-d55c8f70-d7bc-4093-91b8-e16ad95e7546\" name=\"files[]\" multiple disabled\n",
              "        style=\"border:none\" />\n",
              "     <output id=\"result-d55c8f70-d7bc-4093-91b8-e16ad95e7546\">\n",
              "      Upload widget is only available when the cell has been executed in the\n",
              "      current browser session. Please rerun this cell to enable.\n",
              "      </output>\n",
              "      <script src=\"/nbextensions/google.colab/files.js\"></script> "
            ],
            "text/plain": [
              "<IPython.core.display.HTML object>"
            ]
          },
          "metadata": {
            "tags": []
          }
        },
        {
          "output_type": "stream",
          "text": [
            "Saving kaggle.json to kaggle.json\n"
          ],
          "name": "stdout"
        }
      ]
    },
    {
      "cell_type": "code",
      "metadata": {
        "id": "vcUx1sCuqa9a"
      },
      "source": [
        "%%capture\r\n",
        "! mkdir ~/.kaggle\r\n",
        "! cp kaggle.json ~/.kaggle/\r\n",
        "! chmod 600 ~/.kaggle/kaggle.json"
      ],
      "execution_count": 3,
      "outputs": []
    },
    {
      "cell_type": "code",
      "metadata": {
        "id": "Dv1eikL-qiiP",
        "outputId": "852926be-8004-45e6-ffe8-697e8548d693",
        "colab": {
          "base_uri": "https://localhost:8080/"
        }
      },
      "source": [
        "! kaggle datasets list"
      ],
      "execution_count": 4,
      "outputs": [
        {
          "output_type": "stream",
          "text": [
            "Warning: Looks like you're using an outdated API Version, please consider updating (server 1.5.10 / client 1.5.4)\n",
            "ref                                                         title                                              size  lastUpdated          downloadCount  \n",
            "----------------------------------------------------------  ------------------------------------------------  -----  -------------------  -------------  \n",
            "gpreda/reddit-vaccine-myths                                 Reddit Vaccine Myths                              215KB  2021-03-16 09:19:48            442  \n",
            "dhruvildave/wikibooks-dataset                               Wikibooks Dataset                                   1GB  2021-02-18 10:08:27            436  \n",
            "crowww/a-large-scale-fish-dataset                           A Large Scale Fish Dataset                          3GB  2021-02-17 16:10:44            374  \n",
            "imsparsh/musicnet-dataset                                   MusicNet Dataset                                   22GB  2021-02-18 14:12:19            168  \n",
            "fatiimaezzahra/famous-iconic-women                          Famous Iconic Women                               838MB  2021-02-28 14:56:00            115  \n",
            "nickuzmenkov/nih-chest-xrays-tfrecords                      NIH Chest X-rays TFRecords                         11GB  2021-03-09 04:49:23             72  \n",
            "nickuzmenkov/ranzcr-clip-kfold-tfrecords                    RANZCR CLiP KFold TFRecords                         2GB  2021-02-21 13:29:51             26  \n",
            "mathurinache/the-lj-speech-dataset                          The LJ Speech Dataset                               3GB  2021-02-15 09:19:54             31  \n",
            "imsparsh/accentdb-core-extended                             AccentDB - Core & Extended                          6GB  2021-02-17 14:22:54             17  \n",
            "coloradokb/dandelionimages                                  DandelionImages                                     4GB  2021-02-19 20:03:47             30  \n",
            "stuartjames/lights                                          LightS: Light Specularity Dataset                  18GB  2021-02-18 14:32:26             15  \n",
            "landrykezebou/lvzhdr-tone-mapping-benchmark-dataset-tmonet  LVZ-HDR Tone Mapping Benchmark Dataset (TMO-Net)   24GB  2021-03-01 05:03:40             18  \n",
            "shivamb/netflix-shows                                       Netflix Movies and TV Shows                         1MB  2021-01-18 16:20:26         112149  \n",
            "arashnic/hr-analytics-job-change-of-data-scientists         HR Analytics: Job Change of Data Scientists       295KB  2020-12-07 00:25:10          14049  \n",
            "gpreda/covid-world-vaccination-progress                     COVID-19 World Vaccination Progress               143KB  2021-03-16 09:20:29          28494  \n",
            "michau96/restaurant-business-rankings-2020                  Restaurant Business Rankings 2020                  16KB  2021-01-30 14:20:45           8002  \n",
            "jsphyg/weather-dataset-rattle-package                       Rain in Australia                                   4MB  2020-12-11 10:26:12          38217  \n",
            "datasnaek/youtube-new                                       Trending YouTube Video Statistics                 201MB  2019-06-03 00:56:47         131040  \n",
            "google/tinyquickdraw                                        QuickDraw Sketches                                 11GB  2018-04-18 19:38:04           2904  \n",
            "zynicide/wine-reviews                                       Wine Reviews                                       51MB  2017-11-27 17:08:04         130595  \n"
          ],
          "name": "stdout"
        }
      ]
    },
    {
      "cell_type": "code",
      "metadata": {
        "id": "Is2EE72nqniW"
      },
      "source": [
        "%%capture\r\n",
        "! kaggle competitions download -c 'Titanic'"
      ],
      "execution_count": 5,
      "outputs": []
    },
    {
      "cell_type": "code",
      "metadata": {
        "id": "2qaoxSqjq0J8"
      },
      "source": [
        "import numpy as np # linear algebra\r\n",
        "import pandas as pd # data processing, CSV file I/O (e.g. pd.read_csv)\r\n",
        "import matplotlib.pyplot as plt\r\n",
        "import seaborn as sns\r\n",
        "# Algorithms\r\n",
        "from sklearn.linear_model import LogisticRegression, Perceptron, SGDClassifier\r\n",
        "from sklearn.ensemble import RandomForestClassifier\r\n",
        "from sklearn.tree import DecisionTreeClassifier\r\n",
        "from sklearn.svm import SVC, LinearSVC\r\n",
        "from sklearn.neighbors import KNeighborsClassifier\r\n",
        "from sklearn.naive_bayes import GaussianNB"
      ],
      "execution_count": 6,
      "outputs": []
    },
    {
      "cell_type": "markdown",
      "metadata": {
        "id": "yYaNhI9W5h5Y"
      },
      "source": [
        "# Data:\r\n",
        "\r\n",
        "---\r\n",
        "\r\n"
      ]
    },
    {
      "cell_type": "code",
      "metadata": {
        "colab": {
          "base_uri": "https://localhost:8080/",
          "height": 255
        },
        "id": "LEsOc1Y7rqHM",
        "outputId": "30374a40-f15b-4be1-c0a7-a49e513ddb3d"
      },
      "source": [
        "train_data = pd.read_csv(\"/content/train.csv\")\r\n",
        "test_data = pd.read_csv(\"/content/test.csv\")\r\n",
        "train_data.head()"
      ],
      "execution_count": 7,
      "outputs": [
        {
          "output_type": "execute_result",
          "data": {
            "text/html": [
              "<div>\n",
              "<style scoped>\n",
              "    .dataframe tbody tr th:only-of-type {\n",
              "        vertical-align: middle;\n",
              "    }\n",
              "\n",
              "    .dataframe tbody tr th {\n",
              "        vertical-align: top;\n",
              "    }\n",
              "\n",
              "    .dataframe thead th {\n",
              "        text-align: right;\n",
              "    }\n",
              "</style>\n",
              "<table border=\"1\" class=\"dataframe\">\n",
              "  <thead>\n",
              "    <tr style=\"text-align: right;\">\n",
              "      <th></th>\n",
              "      <th>PassengerId</th>\n",
              "      <th>Survived</th>\n",
              "      <th>Pclass</th>\n",
              "      <th>Name</th>\n",
              "      <th>Sex</th>\n",
              "      <th>Age</th>\n",
              "      <th>SibSp</th>\n",
              "      <th>Parch</th>\n",
              "      <th>Ticket</th>\n",
              "      <th>Fare</th>\n",
              "      <th>Cabin</th>\n",
              "      <th>Embarked</th>\n",
              "    </tr>\n",
              "  </thead>\n",
              "  <tbody>\n",
              "    <tr>\n",
              "      <th>0</th>\n",
              "      <td>1</td>\n",
              "      <td>0</td>\n",
              "      <td>3</td>\n",
              "      <td>Braund, Mr. Owen Harris</td>\n",
              "      <td>male</td>\n",
              "      <td>22.0</td>\n",
              "      <td>1</td>\n",
              "      <td>0</td>\n",
              "      <td>A/5 21171</td>\n",
              "      <td>7.2500</td>\n",
              "      <td>NaN</td>\n",
              "      <td>S</td>\n",
              "    </tr>\n",
              "    <tr>\n",
              "      <th>1</th>\n",
              "      <td>2</td>\n",
              "      <td>1</td>\n",
              "      <td>1</td>\n",
              "      <td>Cumings, Mrs. John Bradley (Florence Briggs Th...</td>\n",
              "      <td>female</td>\n",
              "      <td>38.0</td>\n",
              "      <td>1</td>\n",
              "      <td>0</td>\n",
              "      <td>PC 17599</td>\n",
              "      <td>71.2833</td>\n",
              "      <td>C85</td>\n",
              "      <td>C</td>\n",
              "    </tr>\n",
              "    <tr>\n",
              "      <th>2</th>\n",
              "      <td>3</td>\n",
              "      <td>1</td>\n",
              "      <td>3</td>\n",
              "      <td>Heikkinen, Miss. Laina</td>\n",
              "      <td>female</td>\n",
              "      <td>26.0</td>\n",
              "      <td>0</td>\n",
              "      <td>0</td>\n",
              "      <td>STON/O2. 3101282</td>\n",
              "      <td>7.9250</td>\n",
              "      <td>NaN</td>\n",
              "      <td>S</td>\n",
              "    </tr>\n",
              "    <tr>\n",
              "      <th>3</th>\n",
              "      <td>4</td>\n",
              "      <td>1</td>\n",
              "      <td>1</td>\n",
              "      <td>Futrelle, Mrs. Jacques Heath (Lily May Peel)</td>\n",
              "      <td>female</td>\n",
              "      <td>35.0</td>\n",
              "      <td>1</td>\n",
              "      <td>0</td>\n",
              "      <td>113803</td>\n",
              "      <td>53.1000</td>\n",
              "      <td>C123</td>\n",
              "      <td>S</td>\n",
              "    </tr>\n",
              "    <tr>\n",
              "      <th>4</th>\n",
              "      <td>5</td>\n",
              "      <td>0</td>\n",
              "      <td>3</td>\n",
              "      <td>Allen, Mr. William Henry</td>\n",
              "      <td>male</td>\n",
              "      <td>35.0</td>\n",
              "      <td>0</td>\n",
              "      <td>0</td>\n",
              "      <td>373450</td>\n",
              "      <td>8.0500</td>\n",
              "      <td>NaN</td>\n",
              "      <td>S</td>\n",
              "    </tr>\n",
              "  </tbody>\n",
              "</table>\n",
              "</div>"
            ],
            "text/plain": [
              "   PassengerId  Survived  Pclass  ...     Fare Cabin  Embarked\n",
              "0            1         0       3  ...   7.2500   NaN         S\n",
              "1            2         1       1  ...  71.2833   C85         C\n",
              "2            3         1       3  ...   7.9250   NaN         S\n",
              "3            4         1       1  ...  53.1000  C123         S\n",
              "4            5         0       3  ...   8.0500   NaN         S\n",
              "\n",
              "[5 rows x 12 columns]"
            ]
          },
          "metadata": {
            "tags": []
          },
          "execution_count": 7
        }
      ]
    },
    {
      "cell_type": "code",
      "metadata": {
        "colab": {
          "base_uri": "https://localhost:8080/"
        },
        "id": "Gg9QJf_Y4ISb",
        "outputId": "7844fba5-94fe-46a6-e4cb-fcdb0c9a9843"
      },
      "source": [
        "train_data.info()"
      ],
      "execution_count": 8,
      "outputs": [
        {
          "output_type": "stream",
          "text": [
            "<class 'pandas.core.frame.DataFrame'>\n",
            "RangeIndex: 891 entries, 0 to 890\n",
            "Data columns (total 12 columns):\n",
            " #   Column       Non-Null Count  Dtype  \n",
            "---  ------       --------------  -----  \n",
            " 0   PassengerId  891 non-null    int64  \n",
            " 1   Survived     891 non-null    int64  \n",
            " 2   Pclass       891 non-null    int64  \n",
            " 3   Name         891 non-null    object \n",
            " 4   Sex          891 non-null    object \n",
            " 5   Age          714 non-null    float64\n",
            " 6   SibSp        891 non-null    int64  \n",
            " 7   Parch        891 non-null    int64  \n",
            " 8   Ticket       891 non-null    object \n",
            " 9   Fare         891 non-null    float64\n",
            " 10  Cabin        204 non-null    object \n",
            " 11  Embarked     889 non-null    object \n",
            "dtypes: float64(2), int64(5), object(5)\n",
            "memory usage: 83.7+ KB\n"
          ],
          "name": "stdout"
        }
      ]
    },
    {
      "cell_type": "markdown",
      "metadata": {
        "id": "MvLwzH9v7VZy"
      },
      "source": [
        "Comments:\r\n",
        "1.   891 training examples;\r\n",
        "2.   11 features + target (12 total);\r\n",
        "\r\n",
        "Data description:\r\n",
        "1. **survival**:    If survived or not (1 or 0, respectively) \r\n",
        "2. **PassengerId**: Passengers Unique Id. \r\n",
        "3. **pclass**:    Ticket class     \r\n",
        "4. **sex**:    Sex \r\n",
        "5. **Age**:    Age in years     \r\n",
        "6. **sibsp**:    # of siblings / spouses aboard the Titanic     \r\n",
        "7. **parch**:    # of parents / children aboard the Titanic     \r\n",
        "8. **ticket**:    Ticket number     \r\n",
        "9. **fare**:    Passenger fare     \r\n",
        "10. **cabin**:    Cabin number     \r\n",
        "11. **embarked**:    Port of Embarkation\r\n"
      ]
    },
    {
      "cell_type": "code",
      "metadata": {
        "colab": {
          "base_uri": "https://localhost:8080/",
          "height": 444
        },
        "id": "Grbu_jW65-OY",
        "outputId": "96457e61-36da-4a7e-f2c7-8d6f7af7eb25"
      },
      "source": [
        "train_data.describe(include='all')"
      ],
      "execution_count": 9,
      "outputs": [
        {
          "output_type": "execute_result",
          "data": {
            "text/html": [
              "<div>\n",
              "<style scoped>\n",
              "    .dataframe tbody tr th:only-of-type {\n",
              "        vertical-align: middle;\n",
              "    }\n",
              "\n",
              "    .dataframe tbody tr th {\n",
              "        vertical-align: top;\n",
              "    }\n",
              "\n",
              "    .dataframe thead th {\n",
              "        text-align: right;\n",
              "    }\n",
              "</style>\n",
              "<table border=\"1\" class=\"dataframe\">\n",
              "  <thead>\n",
              "    <tr style=\"text-align: right;\">\n",
              "      <th></th>\n",
              "      <th>PassengerId</th>\n",
              "      <th>Survived</th>\n",
              "      <th>Pclass</th>\n",
              "      <th>Name</th>\n",
              "      <th>Sex</th>\n",
              "      <th>Age</th>\n",
              "      <th>SibSp</th>\n",
              "      <th>Parch</th>\n",
              "      <th>Ticket</th>\n",
              "      <th>Fare</th>\n",
              "      <th>Cabin</th>\n",
              "      <th>Embarked</th>\n",
              "    </tr>\n",
              "  </thead>\n",
              "  <tbody>\n",
              "    <tr>\n",
              "      <th>count</th>\n",
              "      <td>891.000000</td>\n",
              "      <td>891.000000</td>\n",
              "      <td>891.000000</td>\n",
              "      <td>891</td>\n",
              "      <td>891</td>\n",
              "      <td>714.000000</td>\n",
              "      <td>891.000000</td>\n",
              "      <td>891.000000</td>\n",
              "      <td>891</td>\n",
              "      <td>891.000000</td>\n",
              "      <td>204</td>\n",
              "      <td>889</td>\n",
              "    </tr>\n",
              "    <tr>\n",
              "      <th>unique</th>\n",
              "      <td>NaN</td>\n",
              "      <td>NaN</td>\n",
              "      <td>NaN</td>\n",
              "      <td>891</td>\n",
              "      <td>2</td>\n",
              "      <td>NaN</td>\n",
              "      <td>NaN</td>\n",
              "      <td>NaN</td>\n",
              "      <td>681</td>\n",
              "      <td>NaN</td>\n",
              "      <td>147</td>\n",
              "      <td>3</td>\n",
              "    </tr>\n",
              "    <tr>\n",
              "      <th>top</th>\n",
              "      <td>NaN</td>\n",
              "      <td>NaN</td>\n",
              "      <td>NaN</td>\n",
              "      <td>Rice, Master. Arthur</td>\n",
              "      <td>male</td>\n",
              "      <td>NaN</td>\n",
              "      <td>NaN</td>\n",
              "      <td>NaN</td>\n",
              "      <td>1601</td>\n",
              "      <td>NaN</td>\n",
              "      <td>G6</td>\n",
              "      <td>S</td>\n",
              "    </tr>\n",
              "    <tr>\n",
              "      <th>freq</th>\n",
              "      <td>NaN</td>\n",
              "      <td>NaN</td>\n",
              "      <td>NaN</td>\n",
              "      <td>1</td>\n",
              "      <td>577</td>\n",
              "      <td>NaN</td>\n",
              "      <td>NaN</td>\n",
              "      <td>NaN</td>\n",
              "      <td>7</td>\n",
              "      <td>NaN</td>\n",
              "      <td>4</td>\n",
              "      <td>644</td>\n",
              "    </tr>\n",
              "    <tr>\n",
              "      <th>mean</th>\n",
              "      <td>446.000000</td>\n",
              "      <td>0.383838</td>\n",
              "      <td>2.308642</td>\n",
              "      <td>NaN</td>\n",
              "      <td>NaN</td>\n",
              "      <td>29.699118</td>\n",
              "      <td>0.523008</td>\n",
              "      <td>0.381594</td>\n",
              "      <td>NaN</td>\n",
              "      <td>32.204208</td>\n",
              "      <td>NaN</td>\n",
              "      <td>NaN</td>\n",
              "    </tr>\n",
              "    <tr>\n",
              "      <th>std</th>\n",
              "      <td>257.353842</td>\n",
              "      <td>0.486592</td>\n",
              "      <td>0.836071</td>\n",
              "      <td>NaN</td>\n",
              "      <td>NaN</td>\n",
              "      <td>14.526497</td>\n",
              "      <td>1.102743</td>\n",
              "      <td>0.806057</td>\n",
              "      <td>NaN</td>\n",
              "      <td>49.693429</td>\n",
              "      <td>NaN</td>\n",
              "      <td>NaN</td>\n",
              "    </tr>\n",
              "    <tr>\n",
              "      <th>min</th>\n",
              "      <td>1.000000</td>\n",
              "      <td>0.000000</td>\n",
              "      <td>1.000000</td>\n",
              "      <td>NaN</td>\n",
              "      <td>NaN</td>\n",
              "      <td>0.420000</td>\n",
              "      <td>0.000000</td>\n",
              "      <td>0.000000</td>\n",
              "      <td>NaN</td>\n",
              "      <td>0.000000</td>\n",
              "      <td>NaN</td>\n",
              "      <td>NaN</td>\n",
              "    </tr>\n",
              "    <tr>\n",
              "      <th>25%</th>\n",
              "      <td>223.500000</td>\n",
              "      <td>0.000000</td>\n",
              "      <td>2.000000</td>\n",
              "      <td>NaN</td>\n",
              "      <td>NaN</td>\n",
              "      <td>20.125000</td>\n",
              "      <td>0.000000</td>\n",
              "      <td>0.000000</td>\n",
              "      <td>NaN</td>\n",
              "      <td>7.910400</td>\n",
              "      <td>NaN</td>\n",
              "      <td>NaN</td>\n",
              "    </tr>\n",
              "    <tr>\n",
              "      <th>50%</th>\n",
              "      <td>446.000000</td>\n",
              "      <td>0.000000</td>\n",
              "      <td>3.000000</td>\n",
              "      <td>NaN</td>\n",
              "      <td>NaN</td>\n",
              "      <td>28.000000</td>\n",
              "      <td>0.000000</td>\n",
              "      <td>0.000000</td>\n",
              "      <td>NaN</td>\n",
              "      <td>14.454200</td>\n",
              "      <td>NaN</td>\n",
              "      <td>NaN</td>\n",
              "    </tr>\n",
              "    <tr>\n",
              "      <th>75%</th>\n",
              "      <td>668.500000</td>\n",
              "      <td>1.000000</td>\n",
              "      <td>3.000000</td>\n",
              "      <td>NaN</td>\n",
              "      <td>NaN</td>\n",
              "      <td>38.000000</td>\n",
              "      <td>1.000000</td>\n",
              "      <td>0.000000</td>\n",
              "      <td>NaN</td>\n",
              "      <td>31.000000</td>\n",
              "      <td>NaN</td>\n",
              "      <td>NaN</td>\n",
              "    </tr>\n",
              "    <tr>\n",
              "      <th>max</th>\n",
              "      <td>891.000000</td>\n",
              "      <td>1.000000</td>\n",
              "      <td>3.000000</td>\n",
              "      <td>NaN</td>\n",
              "      <td>NaN</td>\n",
              "      <td>80.000000</td>\n",
              "      <td>8.000000</td>\n",
              "      <td>6.000000</td>\n",
              "      <td>NaN</td>\n",
              "      <td>512.329200</td>\n",
              "      <td>NaN</td>\n",
              "      <td>NaN</td>\n",
              "    </tr>\n",
              "  </tbody>\n",
              "</table>\n",
              "</div>"
            ],
            "text/plain": [
              "        PassengerId    Survived      Pclass  ...        Fare Cabin  Embarked\n",
              "count    891.000000  891.000000  891.000000  ...  891.000000   204       889\n",
              "unique          NaN         NaN         NaN  ...         NaN   147         3\n",
              "top             NaN         NaN         NaN  ...         NaN    G6         S\n",
              "freq            NaN         NaN         NaN  ...         NaN     4       644\n",
              "mean     446.000000    0.383838    2.308642  ...   32.204208   NaN       NaN\n",
              "std      257.353842    0.486592    0.836071  ...   49.693429   NaN       NaN\n",
              "min        1.000000    0.000000    1.000000  ...    0.000000   NaN       NaN\n",
              "25%      223.500000    0.000000    2.000000  ...    7.910400   NaN       NaN\n",
              "50%      446.000000    0.000000    3.000000  ...   14.454200   NaN       NaN\n",
              "75%      668.500000    1.000000    3.000000  ...   31.000000   NaN       NaN\n",
              "max      891.000000    1.000000    3.000000  ...  512.329200   NaN       NaN\n",
              "\n",
              "[11 rows x 12 columns]"
            ]
          },
          "metadata": {
            "tags": []
          },
          "execution_count": 9
        }
      ]
    },
    {
      "cell_type": "markdown",
      "metadata": {
        "id": "VqBjdv109Bz0"
      },
      "source": [
        "Comments:\r\n",
        "1. **Age**, **Cabin** and **Embarked** have some missing values;\r\n",
        "2. Only 38% of the training set survived Titanic;\r\n",
        "3. Passenger ages varies between 0.4 and 80 years;"
      ]
    },
    {
      "cell_type": "code",
      "metadata": {
        "colab": {
          "base_uri": "https://localhost:8080/",
          "height": 221
        },
        "id": "6CAvkbNP-s4a",
        "outputId": "936c2ea0-63d9-42bd-8218-7929d9e180dc"
      },
      "source": [
        "total = train_data.isnull().sum().sort_values(ascending=False) # Total NaN values\r\n",
        "percent = round((train_data.isnull().sum()/train_data.isnull().count()*100), 1) # % NaN values feature/total\r\n",
        "missing_data = pd.concat([total, percent], axis=1, keys=['Total', '%'])\r\n",
        "print('Missing values (Age)')\r\n",
        "missing_data.head(5)"
      ],
      "execution_count": 10,
      "outputs": [
        {
          "output_type": "stream",
          "text": [
            "Missing values (Age)\n"
          ],
          "name": "stdout"
        },
        {
          "output_type": "execute_result",
          "data": {
            "text/html": [
              "<div>\n",
              "<style scoped>\n",
              "    .dataframe tbody tr th:only-of-type {\n",
              "        vertical-align: middle;\n",
              "    }\n",
              "\n",
              "    .dataframe tbody tr th {\n",
              "        vertical-align: top;\n",
              "    }\n",
              "\n",
              "    .dataframe thead th {\n",
              "        text-align: right;\n",
              "    }\n",
              "</style>\n",
              "<table border=\"1\" class=\"dataframe\">\n",
              "  <thead>\n",
              "    <tr style=\"text-align: right;\">\n",
              "      <th></th>\n",
              "      <th>Total</th>\n",
              "      <th>%</th>\n",
              "    </tr>\n",
              "  </thead>\n",
              "  <tbody>\n",
              "    <tr>\n",
              "      <th>Cabin</th>\n",
              "      <td>687</td>\n",
              "      <td>77.1</td>\n",
              "    </tr>\n",
              "    <tr>\n",
              "      <th>Age</th>\n",
              "      <td>177</td>\n",
              "      <td>19.9</td>\n",
              "    </tr>\n",
              "    <tr>\n",
              "      <th>Embarked</th>\n",
              "      <td>2</td>\n",
              "      <td>0.2</td>\n",
              "    </tr>\n",
              "    <tr>\n",
              "      <th>Fare</th>\n",
              "      <td>0</td>\n",
              "      <td>0.0</td>\n",
              "    </tr>\n",
              "    <tr>\n",
              "      <th>Ticket</th>\n",
              "      <td>0</td>\n",
              "      <td>0.0</td>\n",
              "    </tr>\n",
              "  </tbody>\n",
              "</table>\n",
              "</div>"
            ],
            "text/plain": [
              "          Total     %\n",
              "Cabin       687  77.1\n",
              "Age         177  19.9\n",
              "Embarked      2   0.2\n",
              "Fare          0   0.0\n",
              "Ticket        0   0.0"
            ]
          },
          "metadata": {
            "tags": []
          },
          "execution_count": 10
        }
      ]
    },
    {
      "cell_type": "markdown",
      "metadata": {
        "id": "vzfxS267EB2e"
      },
      "source": [
        "Comments:\r\n",
        "1. 77% of Cabin feature is missing, we might desconsider it;"
      ]
    },
    {
      "cell_type": "markdown",
      "metadata": {
        "id": "1blQ9vucdlrf"
      },
      "source": [
        "# Q: Which features contribute to survival rate?"
      ]
    },
    {
      "cell_type": "code",
      "metadata": {
        "colab": {
          "base_uri": "https://localhost:8080/"
        },
        "id": "h8qzy8dgEQli",
        "outputId": "4a7b273a-19d2-4614-a218-093baa75e76d"
      },
      "source": [
        "train_data.columns.values"
      ],
      "execution_count": 11,
      "outputs": [
        {
          "output_type": "execute_result",
          "data": {
            "text/plain": [
              "array(['PassengerId', 'Survived', 'Pclass', 'Name', 'Sex', 'Age', 'SibSp',\n",
              "       'Parch', 'Ticket', 'Fare', 'Cabin', 'Embarked'], dtype=object)"
            ]
          },
          "metadata": {
            "tags": []
          },
          "execution_count": 11
        }
      ]
    },
    {
      "cell_type": "markdown",
      "metadata": {
        "id": "7mA0bvnkdxTA"
      },
      "source": [
        "# Relationship between features:\r\n",
        "\r\n",
        "---\r\n",
        "\r\n",
        "\r\n",
        "\r\n",
        "## 1. **Age** and **Sex**"
      ]
    },
    {
      "cell_type": "code",
      "metadata": {
        "colab": {
          "base_uri": "https://localhost:8080/",
          "height": 295
        },
        "id": "Eis4f7m7r2Fd",
        "outputId": "e3b55efd-210d-4a0c-8d35-621efad16689"
      },
      "source": [
        "import warnings\r\n",
        "warnings.simplefilter(action='ignore', category=FutureWarning)\r\n",
        "survived = 'survived'\r\n",
        "not_survived = 'not survived'\r\n",
        "fig, axes = plt.subplots(nrows=1, ncols=2,figsize=(10, 4))\r\n",
        "women = train_data[train_data['Sex']=='female']\r\n",
        "men = train_data[train_data['Sex']=='male']\r\n",
        "ax = sns.distplot(women[women['Survived']==1].Age.dropna(), bins=18, label = survived, ax = axes[0], kde =False)\r\n",
        "ax = sns.distplot(women[women['Survived']==0].Age.dropna(), bins=40, label = not_survived, ax = axes[0], kde =False)\r\n",
        "ax.legend()\r\n",
        "ax.set_title('Female')\r\n",
        "ax = sns.distplot(men[men['Survived']==1].Age.dropna(), bins=18, label = survived, ax = axes[1], kde = False)\r\n",
        "ax = sns.distplot(men[men['Survived']==0].Age.dropna(), bins=40, label = not_survived, ax = axes[1], kde = False)\r\n",
        "ax.legend()\r\n",
        "_ = ax.set_title('Male')"
      ],
      "execution_count": 12,
      "outputs": [
        {
          "output_type": "display_data",
          "data": {
            "image/png": "[encoded data removed]",
            "text/plain": [
              "<Figure size 720x288 with 2 Axes>"
            ]
          },
          "metadata": {
            "tags": [],
            "needs_background": "light"
          }
        }
      ]
    },
    {
      "cell_type": "markdown",
      "metadata": {
        "id": "5ROVSIKJfMWm"
      },
      "source": [
        "Comments:\r\n",
        "1. Chance of survival is higher for male between age 30-35;\r\n",
        "2. Chance of surival is higher for female between age 20-40; \r\n",
        "3. Prob. of survival very low for male between age 5-18;\r\n",
        "4. In general, Female and infantes with high probability of survival\r\n",
        "\r\n",
        "### Since there seem to be certain **ages**, which have increased odds of survival, turn it in groups would be interesting!!"
      ]
    },
    {
      "cell_type": "markdown",
      "metadata": {
        "id": "YybHkznkhCN_"
      },
      "source": [
        "## 2. Embarked, Pclass and Sex:"
      ]
    },
    {
      "cell_type": "code",
      "metadata": {
        "colab": {
          "base_uri": "https://localhost:8080/",
          "height": 998
        },
        "id": "xq4E1LxFffrC",
        "outputId": "19004a93-5197-4472-a694-69a7be16eebc"
      },
      "source": [
        "FacetGrid = sns.FacetGrid(train_data, row='Embarked', height=4.5, aspect=1.6)\r\n",
        "FacetGrid.map(sns.pointplot, 'Pclass', 'Survived', 'Sex', palette=None,  order=None, hue_order=None )\r\n",
        "FacetGrid.add_legend()"
      ],
      "execution_count": 13,
      "outputs": [
        {
          "output_type": "execute_result",
          "data": {
            "text/plain": [
              "<seaborn.axisgrid.FacetGrid at 0x7f6fcaa1d290>"
            ]
          },
          "metadata": {
            "tags": []
          },
          "execution_count": 13
        },
        {
          "output_type": "display_data",
          "data": {
            "image/png": "[encoded data removed]",
            "text/plain": [
              "<Figure size 588.9x972 with 3 Axes>"
            ]
          },
          "metadata": {
            "tags": [],
            "needs_background": "light"
          }
        }
      ]
    },
    {
      "cell_type": "markdown",
      "metadata": {
        "id": "9gsUNv7SjRAT"
      },
      "source": [
        "Comments:\r\n",
        "1. Women on port Q and S have higher chance of survival;\r\n",
        "2. Male on port C have higher chance of survival;"
      ]
    },
    {
      "cell_type": "markdown",
      "metadata": {
        "id": "tpntDlGDjjJr"
      },
      "source": [
        "## 3. Pclass"
      ]
    },
    {
      "cell_type": "code",
      "metadata": {
        "colab": {
          "base_uri": "https://localhost:8080/",
          "height": 296
        },
        "id": "NFWYRTLeffpY",
        "outputId": "d4cd1a4b-0782-48ce-941b-c9b1287f6ce7"
      },
      "source": [
        "sns.barplot(x='Pclass', y='Survived', data=train_data)"
      ],
      "execution_count": 14,
      "outputs": [
        {
          "output_type": "execute_result",
          "data": {
            "text/plain": [
              "<matplotlib.axes._subplots.AxesSubplot at 0x7f6fcaa1d490>"
            ]
          },
          "metadata": {
            "tags": []
          },
          "execution_count": 14
        },
        {
          "output_type": "display_data",
          "data": {
            "image/png": "[encoded data removed]",
            "text/plain": [
              "<Figure size 432x288 with 1 Axes>"
            ]
          },
          "metadata": {
            "tags": [],
            "needs_background": "light"
          }
        }
      ]
    },
    {
      "cell_type": "markdown",
      "metadata": {
        "id": "irNaWDK0juCp"
      },
      "source": [
        "Comments:\r\n",
        "\r\n",
        "Clearly Pclass is contributing to a persons chance of survival!"
      ]
    },
    {
      "cell_type": "code",
      "metadata": {
        "colab": {
          "base_uri": "https://localhost:8080/",
          "height": 485
        },
        "id": "xlbU7oYWj7u_",
        "outputId": "75fec85e-811c-4f67-81b5-fcd0e46ff038"
      },
      "source": [
        "grid = sns.FacetGrid(train_data, col='Survived', row='Pclass', height=2.2, aspect=1.6)\r\n",
        "grid.map(plt.hist, 'Age', alpha=.5, bins=20)\r\n",
        "grid.add_legend();"
      ],
      "execution_count": 15,
      "outputs": [
        {
          "output_type": "display_data",
          "data": {
            "image/png": "[encoded data removed]",
            "text/plain": [
              "<Figure size 514.88x475.2 with 6 Axes>"
            ]
          },
          "metadata": {
            "tags": [],
            "needs_background": "light"
          }
        }
      ]
    },
    {
      "cell_type": "markdown",
      "metadata": {
        "id": "cl89PLhMkM3c"
      },
      "source": [
        "## 4. SibSp and Parch:\r\n",
        "\r\n",
        "Makes more sense as a combined feature, total number of relatives"
      ]
    },
    {
      "cell_type": "code",
      "metadata": {
        "colab": {
          "base_uri": "https://localhost:8080/"
        },
        "id": "dLY7wMoP4Hgp",
        "outputId": "98280456-651a-4a1a-daf4-19f9c65561c0"
      },
      "source": [
        "data = [train_data, test_data]\r\n",
        "for dataset in data:\r\n",
        "    dataset['relatives'] = dataset['SibSp'] + dataset['Parch']\r\n",
        "    dataset.loc[dataset['relatives'] > 0, 'not_alone'] = 0\r\n",
        "    dataset.loc[dataset['relatives'] == 0, 'not_alone'] = 1\r\n",
        "    dataset['not_alone'] = dataset['not_alone'].astype(int)\r\n",
        "train_data['not_alone'].value_counts()"
      ],
      "execution_count": 16,
      "outputs": [
        {
          "output_type": "execute_result",
          "data": {
            "text/plain": [
              "1    537\n",
              "0    354\n",
              "Name: not_alone, dtype: int64"
            ]
          },
          "metadata": {
            "tags": []
          },
          "execution_count": 16
        }
      ]
    },
    {
      "cell_type": "code",
      "metadata": {
        "colab": {
          "base_uri": "https://localhost:8080/",
          "height": 437
        },
        "id": "R_9kwfqnsVJ6",
        "outputId": "54edbcdb-2f6b-4f17-bb7b-1f329735c557"
      },
      "source": [
        "axes = sns.factorplot('relatives','Survived', \r\n",
        "                      data=train_data, aspect = 2.5)"
      ],
      "execution_count": 17,
      "outputs": [
        {
          "output_type": "stream",
          "text": [
            "/usr/local/lib/python3.7/dist-packages/seaborn/categorical.py:3714: UserWarning: The `factorplot` function has been renamed to `catplot`. The original name will be removed in a future release. Please update your code. Note that the default `kind` in `factorplot` (`'point'`) has changed `'strip'` in `catplot`.\n",
            "  warnings.warn(msg)\n"
          ],
          "name": "stderr"
        },
        {
          "output_type": "display_data",
          "data": {
            "image/png": "[encoded data removed]",
            "text/plain": [
              "<Figure size 900x360 with 1 Axes>"
            ]
          },
          "metadata": {
            "tags": [],
            "needs_background": "light"
          }
        }
      ]
    },
    {
      "cell_type": "markdown",
      "metadata": {
        "id": "4TuV59cck6Nk"
      },
      "source": [
        "Comments:\r\n",
        "1. Higher chance of survival with 1 to 3 relatives."
      ]
    },
    {
      "cell_type": "markdown",
      "metadata": {
        "id": "Cq1LBb-MlQnD"
      },
      "source": [
        "# Data preprocessing:\r\n",
        "\r\n",
        "---\r\n",
        "\r\n",
        "\r\n",
        "## 1. Drop 'PassengerId' and 'Cabin'\r\n",
        "Doesn't contribute to survival!"
      ]
    },
    {
      "cell_type": "code",
      "metadata": {
        "id": "y9TswX9ZlgcS"
      },
      "source": [
        "train_data = train_data.drop(['PassengerId'], axis=1)\r\n",
        "train_data = train_data.drop(['Cabin'], axis=1)\r\n",
        "test_data = test_data.drop(['Cabin'], axis=1)"
      ],
      "execution_count": 18,
      "outputs": []
    },
    {
      "cell_type": "markdown",
      "metadata": {
        "id": "KjeWxYR49T9p"
      },
      "source": [
        "## 2. Missing data:\r\n",
        "\r\n",
        "• Age:"
      ]
    },
    {
      "cell_type": "code",
      "metadata": {
        "id": "p7s-THy_9Xf6"
      },
      "source": [
        "data = [train_data, test_data]\r\n",
        "\r\n",
        "for dataset in data:\r\n",
        "    mean = train_data[\"Age\"].mean()\r\n",
        "    std = test_data[\"Age\"].std()\r\n",
        "    is_null = dataset[\"Age\"].isnull().sum()\r\n",
        "    # compute random numbers between the mean, std and is_null\r\n",
        "    rand_age = np.random.randint(mean - std, mean + std, size = is_null)\r\n",
        "    # fill NaN values in Age column with random values generated\r\n",
        "    age_slice = dataset[\"Age\"].copy()\r\n",
        "    age_slice[np.isnan(age_slice)] = rand_age\r\n",
        "    dataset[\"Age\"] = age_slice\r\n",
        "    dataset[\"Age\"] = train_data[\"Age\"].astype(int)"
      ],
      "execution_count": 19,
      "outputs": []
    },
    {
      "cell_type": "markdown",
      "metadata": {
        "id": "fqiEmwTT95Bh"
      },
      "source": [
        "• Embarked:"
      ]
    },
    {
      "cell_type": "code",
      "metadata": {
        "colab": {
          "base_uri": "https://localhost:8080/"
        },
        "id": "3B2WJ15r98VZ",
        "outputId": "de72cf4a-7c4f-4dbe-cd7e-ddae18252791"
      },
      "source": [
        "train_data['Embarked'].describe()"
      ],
      "execution_count": 20,
      "outputs": [
        {
          "output_type": "execute_result",
          "data": {
            "text/plain": [
              "count     889\n",
              "unique      3\n",
              "top         S\n",
              "freq      644\n",
              "Name: Embarked, dtype: object"
            ]
          },
          "metadata": {
            "tags": []
          },
          "execution_count": 20
        }
      ]
    },
    {
      "cell_type": "code",
      "metadata": {
        "id": "bypjRbRU-AEg"
      },
      "source": [
        "common_value = 'S'\r\n",
        "data = [train_data, test_data]\r\n",
        "\r\n",
        "for dataset in data:\r\n",
        "    dataset['Embarked'] = dataset['Embarked'].fillna(common_value)"
      ],
      "execution_count": 21,
      "outputs": []
    },
    {
      "cell_type": "code",
      "metadata": {
        "colab": {
          "base_uri": "https://localhost:8080/"
        },
        "id": "mbXsfl6A-F2s",
        "outputId": "214a41eb-e22f-42e7-896d-11cc973e7c01"
      },
      "source": [
        "train_data.info()"
      ],
      "execution_count": 22,
      "outputs": [
        {
          "output_type": "stream",
          "text": [
            "<class 'pandas.core.frame.DataFrame'>\n",
            "RangeIndex: 891 entries, 0 to 890\n",
            "Data columns (total 12 columns):\n",
            " #   Column     Non-Null Count  Dtype  \n",
            "---  ------     --------------  -----  \n",
            " 0   Survived   891 non-null    int64  \n",
            " 1   Pclass     891 non-null    int64  \n",
            " 2   Name       891 non-null    object \n",
            " 3   Sex        891 non-null    object \n",
            " 4   Age        891 non-null    int64  \n",
            " 5   SibSp      891 non-null    int64  \n",
            " 6   Parch      891 non-null    int64  \n",
            " 7   Ticket     891 non-null    object \n",
            " 8   Fare       891 non-null    float64\n",
            " 9   Embarked   891 non-null    object \n",
            " 10  relatives  891 non-null    int64  \n",
            " 11  not_alone  891 non-null    int64  \n",
            "dtypes: float64(1), int64(7), object(4)\n",
            "memory usage: 83.7+ KB\n"
          ],
          "name": "stdout"
        }
      ]
    },
    {
      "cell_type": "markdown",
      "metadata": {
        "id": "Haa02LOc-Lv3"
      },
      "source": [
        "Comments:\r\n",
        "1. All features with same dimension;\r\n",
        "2. **Fare** is float;\r\n",
        "3. 4 categorical features: **Name**, **Sex**, **Ticket**, **Embarked**"
      ]
    },
    {
      "cell_type": "markdown",
      "metadata": {
        "id": "vmn3j2n9-csw"
      },
      "source": [
        "## 3. Treating categorical features\r\n",
        "\r\n",
        "• **Fare**:"
      ]
    },
    {
      "cell_type": "code",
      "metadata": {
        "id": "0uauLcn6-ip5"
      },
      "source": [
        "data = [train_data, test_data]\r\n",
        "\r\n",
        "for dataset in data:\r\n",
        "    dataset['Fare'] = dataset['Fare'].fillna(0)\r\n",
        "    dataset['Fare'] = dataset['Fare'].astype(int)"
      ],
      "execution_count": 23,
      "outputs": []
    },
    {
      "cell_type": "markdown",
      "metadata": {
        "id": "HItwGHG9-rpM"
      },
      "source": [
        "• **Name**:\r\n",
        "\r\n",
        "We will use the Name feature to extract the Titles from the **Name**, so that we can build a new feature out of that."
      ]
    },
    {
      "cell_type": "code",
      "metadata": {
        "id": "zIYstoRi-3pt"
      },
      "source": [
        "data = [train_data, test_data]\r\n",
        "titles = {\"Mr\": 1, \"Miss\": 2, \"Mrs\": 3, \"Master\": 4, \"Rare\": 5}\r\n",
        "\r\n",
        "for dataset in data:\r\n",
        "    # extract titles\r\n",
        "    dataset['Title'] = dataset.Name.str.extract(' ([A-Za-z]+)\\.', expand=False)\r\n",
        "    # replace titles with a more common title or as Rare\r\n",
        "    dataset['Title'] = dataset['Title'].replace(['Lady', 'Countess','Capt', 'Col','Don', 'Dr',\\\r\n",
        "                                            'Major', 'Rev', 'Sir', 'Jonkheer', 'Dona'], 'Rare')\r\n",
        "    dataset['Title'] = dataset['Title'].replace('Mlle', 'Miss')\r\n",
        "    dataset['Title'] = dataset['Title'].replace('Ms', 'Miss')\r\n",
        "    dataset['Title'] = dataset['Title'].replace('Mme', 'Mrs')\r\n",
        "    # convert titles into numbers\r\n",
        "    dataset['Title'] = dataset['Title'].map(titles)\r\n",
        "    # filling NaN with 0, to get safe\r\n",
        "    dataset['Title'] = dataset['Title'].fillna(0)\r\n",
        "train_data = train_data.drop(['Name'], axis=1)\r\n",
        "test_data = test_data.drop(['Name'], axis=1)"
      ],
      "execution_count": 24,
      "outputs": []
    },
    {
      "cell_type": "markdown",
      "metadata": {
        "id": "mYeWw-zZ_PEN"
      },
      "source": [
        "• **Sex**:\r\n",
        "\r\n",
        "Convert feature into numeric:"
      ]
    },
    {
      "cell_type": "code",
      "metadata": {
        "id": "kAg-mDnO_W0B"
      },
      "source": [
        "genders = {\"male\": 0, \"female\": 1}\r\n",
        "data = [train_data, test_data]\r\n",
        "\r\n",
        "for dataset in data:\r\n",
        "    dataset['Sex'] = dataset['Sex'].map(genders)"
      ],
      "execution_count": 25,
      "outputs": []
    },
    {
      "cell_type": "markdown",
      "metadata": {
        "id": "QT3STgDH_dV-"
      },
      "source": [
        "• **Ticket**:"
      ]
    },
    {
      "cell_type": "code",
      "metadata": {
        "colab": {
          "base_uri": "https://localhost:8080/"
        },
        "id": "PPJUjwao_e0i",
        "outputId": "9b277fe5-c855-4abe-8b61-15764dc2cd61"
      },
      "source": [
        "train_data['Ticket'].describe()"
      ],
      "execution_count": 26,
      "outputs": [
        {
          "output_type": "execute_result",
          "data": {
            "text/plain": [
              "count      891\n",
              "unique     681\n",
              "top       1601\n",
              "freq         7\n",
              "Name: Ticket, dtype: object"
            ]
          },
          "metadata": {
            "tags": []
          },
          "execution_count": 26
        }
      ]
    },
    {
      "cell_type": "markdown",
      "metadata": {
        "id": "ZlPTpkQ_AH7P"
      },
      "source": [
        "Dropping **Ticket**:"
      ]
    },
    {
      "cell_type": "code",
      "metadata": {
        "id": "XJfu1KqG_91y"
      },
      "source": [
        "train_data = train_data.drop(['Ticket'], axis=1)\r\n",
        "test_data = test_data.drop(['Ticket'], axis=1)"
      ],
      "execution_count": 27,
      "outputs": []
    },
    {
      "cell_type": "markdown",
      "metadata": {
        "id": "skGjDivWAd1w"
      },
      "source": [
        "• **Embarked**:"
      ]
    },
    {
      "cell_type": "code",
      "metadata": {
        "id": "N-gQ39pRAhTQ"
      },
      "source": [
        "ports = {\"S\": 0, \"C\": 1, \"Q\": 2}\r\n",
        "data = [train_data, test_data]\r\n",
        "\r\n",
        "for dataset in data:\r\n",
        "    dataset['Embarked'] = dataset['Embarked'].map(ports)"
      ],
      "execution_count": 28,
      "outputs": []
    },
    {
      "cell_type": "markdown",
      "metadata": {
        "id": "4fV-DwyzNh9d"
      },
      "source": [
        "## 4. Creating new features\r\n",
        "\r\n",
        "• **Age** times **class**:"
      ]
    },
    {
      "cell_type": "code",
      "metadata": {
        "id": "A8zzO1mONsd1"
      },
      "source": [
        "data = [train_data, test_data]\r\n",
        "for dataset in data:\r\n",
        "    dataset['Age_Class'] = dataset['Age'] * dataset['Pclass']"
      ],
      "execution_count": 29,
      "outputs": []
    },
    {
      "cell_type": "markdown",
      "metadata": {
        "id": "giQ3ceoQNxdA"
      },
      "source": [
        "• **Fare** per **Person**"
      ]
    },
    {
      "cell_type": "code",
      "metadata": {
        "id": "Ru33iTL6N7SE",
        "colab": {
          "base_uri": "https://localhost:8080/",
          "height": 359
        },
        "outputId": "faefc732-f3b6-4ef8-ffc6-d30aa79dcda2"
      },
      "source": [
        "for dataset in data:\r\n",
        "    dataset['Fare_Per_Person'] = dataset['Fare']/(dataset['relatives']+1)\r\n",
        "    dataset['Fare_Per_Person'] = dataset['Fare_Per_Person'].astype(int)\r\n",
        "# Let's take a last look at the training set, before we start training the models.\r\n",
        "train_data.head(10)"
      ],
      "execution_count": 30,
      "outputs": [
        {
          "output_type": "execute_result",
          "data": {
            "text/html": [
              "<div>\n",
              "<style scoped>\n",
              "    .dataframe tbody tr th:only-of-type {\n",
              "        vertical-align: middle;\n",
              "    }\n",
              "\n",
              "    .dataframe tbody tr th {\n",
              "        vertical-align: top;\n",
              "    }\n",
              "\n",
              "    .dataframe thead th {\n",
              "        text-align: right;\n",
              "    }\n",
              "</style>\n",
              "<table border=\"1\" class=\"dataframe\">\n",
              "  <thead>\n",
              "    <tr style=\"text-align: right;\">\n",
              "      <th></th>\n",
              "      <th>Survived</th>\n",
              "      <th>Pclass</th>\n",
              "      <th>Sex</th>\n",
              "      <th>Age</th>\n",
              "      <th>SibSp</th>\n",
              "      <th>Parch</th>\n",
              "      <th>Fare</th>\n",
              "      <th>Embarked</th>\n",
              "      <th>relatives</th>\n",
              "      <th>not_alone</th>\n",
              "      <th>Title</th>\n",
              "      <th>Age_Class</th>\n",
              "      <th>Fare_Per_Person</th>\n",
              "    </tr>\n",
              "  </thead>\n",
              "  <tbody>\n",
              "    <tr>\n",
              "      <th>0</th>\n",
              "      <td>0</td>\n",
              "      <td>3</td>\n",
              "      <td>0</td>\n",
              "      <td>22</td>\n",
              "      <td>1</td>\n",
              "      <td>0</td>\n",
              "      <td>7</td>\n",
              "      <td>0</td>\n",
              "      <td>1</td>\n",
              "      <td>0</td>\n",
              "      <td>1</td>\n",
              "      <td>66</td>\n",
              "      <td>3</td>\n",
              "    </tr>\n",
              "    <tr>\n",
              "      <th>1</th>\n",
              "      <td>1</td>\n",
              "      <td>1</td>\n",
              "      <td>1</td>\n",
              "      <td>38</td>\n",
              "      <td>1</td>\n",
              "      <td>0</td>\n",
              "      <td>71</td>\n",
              "      <td>1</td>\n",
              "      <td>1</td>\n",
              "      <td>0</td>\n",
              "      <td>3</td>\n",
              "      <td>38</td>\n",
              "      <td>35</td>\n",
              "    </tr>\n",
              "    <tr>\n",
              "      <th>2</th>\n",
              "      <td>1</td>\n",
              "      <td>3</td>\n",
              "      <td>1</td>\n",
              "      <td>26</td>\n",
              "      <td>0</td>\n",
              "      <td>0</td>\n",
              "      <td>7</td>\n",
              "      <td>0</td>\n",
              "      <td>0</td>\n",
              "      <td>1</td>\n",
              "      <td>2</td>\n",
              "      <td>78</td>\n",
              "      <td>7</td>\n",
              "    </tr>\n",
              "    <tr>\n",
              "      <th>3</th>\n",
              "      <td>1</td>\n",
              "      <td>1</td>\n",
              "      <td>1</td>\n",
              "      <td>35</td>\n",
              "      <td>1</td>\n",
              "      <td>0</td>\n",
              "      <td>53</td>\n",
              "      <td>0</td>\n",
              "      <td>1</td>\n",
              "      <td>0</td>\n",
              "      <td>3</td>\n",
              "      <td>35</td>\n",
              "      <td>26</td>\n",
              "    </tr>\n",
              "    <tr>\n",
              "      <th>4</th>\n",
              "      <td>0</td>\n",
              "      <td>3</td>\n",
              "      <td>0</td>\n",
              "      <td>35</td>\n",
              "      <td>0</td>\n",
              "      <td>0</td>\n",
              "      <td>8</td>\n",
              "      <td>0</td>\n",
              "      <td>0</td>\n",
              "      <td>1</td>\n",
              "      <td>1</td>\n",
              "      <td>105</td>\n",
              "      <td>8</td>\n",
              "    </tr>\n",
              "    <tr>\n",
              "      <th>5</th>\n",
              "      <td>0</td>\n",
              "      <td>3</td>\n",
              "      <td>0</td>\n",
              "      <td>22</td>\n",
              "      <td>0</td>\n",
              "      <td>0</td>\n",
              "      <td>8</td>\n",
              "      <td>2</td>\n",
              "      <td>0</td>\n",
              "      <td>1</td>\n",
              "      <td>1</td>\n",
              "      <td>66</td>\n",
              "      <td>8</td>\n",
              "    </tr>\n",
              "    <tr>\n",
              "      <th>6</th>\n",
              "      <td>0</td>\n",
              "      <td>1</td>\n",
              "      <td>0</td>\n",
              "      <td>54</td>\n",
              "      <td>0</td>\n",
              "      <td>0</td>\n",
              "      <td>51</td>\n",
              "      <td>0</td>\n",
              "      <td>0</td>\n",
              "      <td>1</td>\n",
              "      <td>1</td>\n",
              "      <td>54</td>\n",
              "      <td>51</td>\n",
              "    </tr>\n",
              "    <tr>\n",
              "      <th>7</th>\n",
              "      <td>0</td>\n",
              "      <td>3</td>\n",
              "      <td>0</td>\n",
              "      <td>2</td>\n",
              "      <td>3</td>\n",
              "      <td>1</td>\n",
              "      <td>21</td>\n",
              "      <td>0</td>\n",
              "      <td>4</td>\n",
              "      <td>0</td>\n",
              "      <td>4</td>\n",
              "      <td>6</td>\n",
              "      <td>4</td>\n",
              "    </tr>\n",
              "    <tr>\n",
              "      <th>8</th>\n",
              "      <td>1</td>\n",
              "      <td>3</td>\n",
              "      <td>1</td>\n",
              "      <td>27</td>\n",
              "      <td>0</td>\n",
              "      <td>2</td>\n",
              "      <td>11</td>\n",
              "      <td>0</td>\n",
              "      <td>2</td>\n",
              "      <td>0</td>\n",
              "      <td>3</td>\n",
              "      <td>81</td>\n",
              "      <td>3</td>\n",
              "    </tr>\n",
              "    <tr>\n",
              "      <th>9</th>\n",
              "      <td>1</td>\n",
              "      <td>2</td>\n",
              "      <td>1</td>\n",
              "      <td>14</td>\n",
              "      <td>1</td>\n",
              "      <td>0</td>\n",
              "      <td>30</td>\n",
              "      <td>1</td>\n",
              "      <td>1</td>\n",
              "      <td>0</td>\n",
              "      <td>3</td>\n",
              "      <td>28</td>\n",
              "      <td>15</td>\n",
              "    </tr>\n",
              "  </tbody>\n",
              "</table>\n",
              "</div>"
            ],
            "text/plain": [
              "   Survived  Pclass  Sex  Age  ...  not_alone  Title  Age_Class  Fare_Per_Person\n",
              "0         0       3    0   22  ...          0      1         66                3\n",
              "1         1       1    1   38  ...          0      3         38               35\n",
              "2         1       3    1   26  ...          1      2         78                7\n",
              "3         1       1    1   35  ...          0      3         35               26\n",
              "4         0       3    0   35  ...          1      1        105                8\n",
              "5         0       3    0   22  ...          1      1         66                8\n",
              "6         0       1    0   54  ...          1      1         54               51\n",
              "7         0       3    0    2  ...          0      4          6                4\n",
              "8         1       3    1   27  ...          0      3         81                3\n",
              "9         1       2    1   14  ...          0      3         28               15\n",
              "\n",
              "[10 rows x 13 columns]"
            ]
          },
          "metadata": {
            "tags": []
          },
          "execution_count": 30
        }
      ]
    },
    {
      "cell_type": "code",
      "metadata": {
        "id": "fWHp1TzYOCTV",
        "colab": {
          "base_uri": "https://localhost:8080/"
        },
        "outputId": "318dbe7a-4630-4899-c1d0-591d8906cf5c"
      },
      "source": [
        "train_data.info()"
      ],
      "execution_count": 31,
      "outputs": [
        {
          "output_type": "stream",
          "text": [
            "<class 'pandas.core.frame.DataFrame'>\n",
            "RangeIndex: 891 entries, 0 to 890\n",
            "Data columns (total 13 columns):\n",
            " #   Column           Non-Null Count  Dtype\n",
            "---  ------           --------------  -----\n",
            " 0   Survived         891 non-null    int64\n",
            " 1   Pclass           891 non-null    int64\n",
            " 2   Sex              891 non-null    int64\n",
            " 3   Age              891 non-null    int64\n",
            " 4   SibSp            891 non-null    int64\n",
            " 5   Parch            891 non-null    int64\n",
            " 6   Fare             891 non-null    int64\n",
            " 7   Embarked         891 non-null    int64\n",
            " 8   relatives        891 non-null    int64\n",
            " 9   not_alone        891 non-null    int64\n",
            " 10  Title            891 non-null    int64\n",
            " 11  Age_Class        891 non-null    int64\n",
            " 12  Fare_Per_Person  891 non-null    int64\n",
            "dtypes: int64(13)\n",
            "memory usage: 90.6 KB\n"
          ],
          "name": "stdout"
        }
      ]
    },
    {
      "cell_type": "markdown",
      "metadata": {
        "id": "qV7H1qwjONfV"
      },
      "source": [
        "Comments:\r\n",
        "\r\n",
        "1. Features with same dimension and type"
      ]
    },
    {
      "cell_type": "markdown",
      "metadata": {
        "id": "yYy7u9sJObyd"
      },
      "source": [
        "# Machine Learning models:\r\n",
        "\r\n",
        "---"
      ]
    },
    {
      "cell_type": "markdown",
      "metadata": {
        "id": "RwN95DUyOwS0"
      },
      "source": [
        "## 1. Slicing the data to k-fold validation:"
      ]
    },
    {
      "cell_type": "code",
      "metadata": {
        "id": "0aUwqEieO2mn"
      },
      "source": [
        "X_train = train_data.drop(\"Survived\", axis=1)\r\n",
        "Y_train = train_data[\"Survived\"]\r\n",
        "X_test  = test_data.drop(\"PassengerId\", axis=1).copy()"
      ],
      "execution_count": 32,
      "outputs": []
    },
    {
      "cell_type": "markdown",
      "metadata": {
        "id": "0WCS79BBO6eh"
      },
      "source": [
        "## 2. Algorithms:\r\n",
        "\r\n",
        "• Stochastic Gradient Descent (SGD)"
      ]
    },
    {
      "cell_type": "code",
      "metadata": {
        "id": "UX8qGUe2sdOK"
      },
      "source": [
        "## Stochastic Gradient Descent (SGD):\r\n",
        "sgd = SGDClassifier(max_iter=10, tol=None)\r\n",
        "sgd.fit(X_train, Y_train)\r\n",
        "Y_pred = sgd.predict(X_test)\r\n",
        "\r\n",
        "sgd.score(X_train, Y_train)\r\n",
        "\r\n",
        "acc_sgd = round(sgd.score(X_train, Y_train) * 100, 2)"
      ],
      "execution_count": 33,
      "outputs": []
    },
    {
      "cell_type": "markdown",
      "metadata": {
        "id": "-oWEDKkcPkxx"
      },
      "source": [
        "• Random Forest:"
      ]
    },
    {
      "cell_type": "code",
      "metadata": {
        "id": "lNC2yAqd7RO2"
      },
      "source": [
        "# Random Forest\r\n",
        "random_forest = RandomForestClassifier(n_estimators=100)\r\n",
        "random_forest.fit(X_train, Y_train)\r\n",
        "\r\n",
        "Y_prediction = random_forest.predict(X_test)\r\n",
        "\r\n",
        "random_forest.score(X_train, Y_train)\r\n",
        "acc_random_forest = round(random_forest.score(X_train, Y_train) * 100, 2)"
      ],
      "execution_count": 34,
      "outputs": []
    },
    {
      "cell_type": "markdown",
      "metadata": {
        "id": "vPbsNe7wPqMm"
      },
      "source": [
        "• Logistic Regression:"
      ]
    },
    {
      "cell_type": "code",
      "metadata": {
        "id": "u-eAwgS6EOl3"
      },
      "source": [
        "# Logistic Regression\r\n",
        "logreg = LogisticRegression(max_iter=1000)\r\n",
        "logreg.fit(X_train, Y_train)\r\n",
        "\r\n",
        "Y_pred = logreg.predict(X_test)\r\n",
        "\r\n",
        "acc_log = round(logreg.score(X_train, Y_train) * 100, 2)"
      ],
      "execution_count": 38,
      "outputs": []
    },
    {
      "cell_type": "markdown",
      "metadata": {
        "id": "Rdv1pjIrP08E"
      },
      "source": [
        "• K-Nearest Neighbor:"
      ]
    },
    {
      "cell_type": "code",
      "metadata": {
        "id": "bpZMHASgPzDy"
      },
      "source": [
        "# KNN \r\n",
        "knn = KNeighborsClassifier(n_neighbors = 3) \r\n",
        "knn.fit(X_train, Y_train)  \r\n",
        "\r\n",
        "Y_pred = knn.predict(X_test)  \r\n",
        "\r\n",
        "acc_knn = round(knn.score(X_train, Y_train) * 100, 2)"
      ],
      "execution_count": 39,
      "outputs": []
    },
    {
      "cell_type": "markdown",
      "metadata": {
        "id": "BK39BYthQDOz"
      },
      "source": [
        "• Gaussian Naive Bayes:"
      ]
    },
    {
      "cell_type": "code",
      "metadata": {
        "id": "fZC9pth-QEu7"
      },
      "source": [
        "# Gaussian Naive Bayes\r\n",
        "gaussian = GaussianNB() \r\n",
        "gaussian.fit(X_train, Y_train)  \r\n",
        "\r\n",
        "Y_pred = gaussian.predict(X_test)  \r\n",
        "\r\n",
        "acc_gaussian = round(gaussian.score(X_train, Y_train) * 100, 2)"
      ],
      "execution_count": 40,
      "outputs": []
    },
    {
      "cell_type": "markdown",
      "metadata": {
        "id": "Bmx-W3ZMQKEy"
      },
      "source": [
        "• Perceptron: "
      ]
    },
    {
      "cell_type": "code",
      "metadata": {
        "id": "iakRgYh4QJUP"
      },
      "source": [
        "# Perceptron\r\n",
        "perceptron = Perceptron(max_iter=100)\r\n",
        "perceptron.fit(X_train, Y_train)\r\n",
        "\r\n",
        "Y_pred = perceptron.predict(X_test)\r\n",
        "\r\n",
        "acc_perceptron = round(perceptron.score(X_train, Y_train) * 100, 2)"
      ],
      "execution_count": 42,
      "outputs": []
    },
    {
      "cell_type": "markdown",
      "metadata": {
        "id": "Y5fStA4EQSE8"
      },
      "source": [
        "• Linear Support Vector Machine:"
      ]
    },
    {
      "cell_type": "code",
      "metadata": {
        "id": "VJ5iN0fBQIW0",
        "colab": {
          "base_uri": "https://localhost:8080/"
        },
        "outputId": "b0089454-76e1-4546-9ea0-2723b99fd191"
      },
      "source": [
        "# SVM\r\n",
        "linear_svc = LinearSVC(max_iter=10000)\r\n",
        "linear_svc.fit(X_train, Y_train)\r\n",
        "\r\n",
        "Y_pred = linear_svc.predict(X_test)\r\n",
        "\r\n",
        "acc_linear_svc = round(linear_svc.score(X_train, Y_train) * 100, 2)"
      ],
      "execution_count": 43,
      "outputs": [
        {
          "output_type": "stream",
          "text": [
            "/usr/local/lib/python3.7/dist-packages/sklearn/svm/_base.py:947: ConvergenceWarning: Liblinear failed to converge, increase the number of iterations.\n",
            "  \"the number of iterations.\", ConvergenceWarning)\n"
          ],
          "name": "stderr"
        }
      ]
    },
    {
      "cell_type": "markdown",
      "metadata": {
        "id": "GhuOxUioQuNA"
      },
      "source": [
        "• Decision Tree:"
      ]
    },
    {
      "cell_type": "code",
      "metadata": {
        "id": "GmFlOsRPQav1"
      },
      "source": [
        "# Decision Tree\r\n",
        "decision_tree = DecisionTreeClassifier() \r\n",
        "decision_tree.fit(X_train, Y_train)  \r\n",
        "\r\n",
        "Y_pred = decision_tree.predict(X_test)  \r\n",
        "\r\n",
        "acc_decision_tree = round(decision_tree.score(X_train, Y_train) * 100, 2)"
      ],
      "execution_count": 44,
      "outputs": []
    },
    {
      "cell_type": "markdown",
      "metadata": {
        "id": "E0f6SnmSQ2eE"
      },
      "source": [
        "## 3. Looking for the best ML model:"
      ]
    },
    {
      "cell_type": "code",
      "metadata": {
        "id": "obUMWtfXQ5Aw",
        "colab": {
          "base_uri": "https://localhost:8080/",
          "height": 328
        },
        "outputId": "eb5a4ff1-bdf1-4b5b-9eec-f22405d0d278"
      },
      "source": [
        "results = pd.DataFrame({\r\n",
        "    'Model': ['Support Vector Machines', 'KNN', 'Logistic Regression', \r\n",
        "              'Random Forest', 'Naive Bayes', 'Perceptron', \r\n",
        "              'Stochastic Gradient Decent', \r\n",
        "              'Decision Tree'],\r\n",
        "    'Score': [acc_linear_svc, acc_knn, acc_log, \r\n",
        "              acc_random_forest, acc_gaussian, acc_perceptron, \r\n",
        "              acc_sgd, acc_decision_tree]})\r\n",
        "result_df = results.sort_values(by='Score', ascending=False)\r\n",
        "result_df = result_df.set_index('Score')\r\n",
        "result_df.head(9)"
      ],
      "execution_count": 45,
      "outputs": [
        {
          "output_type": "execute_result",
          "data": {
            "text/html": [
              "<div>\n",
              "<style scoped>\n",
              "    .dataframe tbody tr th:only-of-type {\n",
              "        vertical-align: middle;\n",
              "    }\n",
              "\n",
              "    .dataframe tbody tr th {\n",
              "        vertical-align: top;\n",
              "    }\n",
              "\n",
              "    .dataframe thead th {\n",
              "        text-align: right;\n",
              "    }\n",
              "</style>\n",
              "<table border=\"1\" class=\"dataframe\">\n",
              "  <thead>\n",
              "    <tr style=\"text-align: right;\">\n",
              "      <th></th>\n",
              "      <th>Model</th>\n",
              "    </tr>\n",
              "    <tr>\n",
              "      <th>Score</th>\n",
              "      <th></th>\n",
              "    </tr>\n",
              "  </thead>\n",
              "  <tbody>\n",
              "    <tr>\n",
              "      <th>96.86</th>\n",
              "      <td>Random Forest</td>\n",
              "    </tr>\n",
              "    <tr>\n",
              "      <th>96.86</th>\n",
              "      <td>Decision Tree</td>\n",
              "    </tr>\n",
              "    <tr>\n",
              "      <th>84.74</th>\n",
              "      <td>KNN</td>\n",
              "    </tr>\n",
              "    <tr>\n",
              "      <th>81.71</th>\n",
              "      <td>Support Vector Machines</td>\n",
              "    </tr>\n",
              "    <tr>\n",
              "      <th>81.26</th>\n",
              "      <td>Logistic Regression</td>\n",
              "    </tr>\n",
              "    <tr>\n",
              "      <th>80.81</th>\n",
              "      <td>Naive Bayes</td>\n",
              "    </tr>\n",
              "    <tr>\n",
              "      <th>76.21</th>\n",
              "      <td>Perceptron</td>\n",
              "    </tr>\n",
              "    <tr>\n",
              "      <th>71.38</th>\n",
              "      <td>Stochastic Gradient Decent</td>\n",
              "    </tr>\n",
              "  </tbody>\n",
              "</table>\n",
              "</div>"
            ],
            "text/plain": [
              "                            Model\n",
              "Score                            \n",
              "96.86               Random Forest\n",
              "96.86               Decision Tree\n",
              "84.74                         KNN\n",
              "81.71     Support Vector Machines\n",
              "81.26         Logistic Regression\n",
              "80.81                 Naive Bayes\n",
              "76.21                  Perceptron\n",
              "71.38  Stochastic Gradient Decent"
            ]
          },
          "metadata": {
            "tags": []
          },
          "execution_count": 45
        }
      ]
    },
    {
      "cell_type": "markdown",
      "metadata": {
        "id": "QXrPRHTIREAv"
      },
      "source": [
        "# Applying K-fold Cross Validation on the best model:\r\n",
        "\r\n",
        "---\r\n",
        "\r\n",
        "\r\n",
        "• K = 10"
      ]
    },
    {
      "cell_type": "code",
      "metadata": {
        "id": "LtRK08nrQ-CF",
        "colab": {
          "base_uri": "https://localhost:8080/"
        },
        "outputId": "65470364-b58f-4966-fc18-1d544f5c1648"
      },
      "source": [
        "from sklearn.model_selection import cross_val_score\r\n",
        "rf = RandomForestClassifier(n_estimators=100)\r\n",
        "scores = cross_val_score(rf, X_train, Y_train, cv=10, scoring = \"accuracy\")\r\n",
        "print(\"Scores:\", scores)\r\n",
        "print(\"Mean:\", scores.mean())\r\n",
        "print(\"Standard Deviation:\", scores.std())"
      ],
      "execution_count": null,
      "outputs": [
        {
          "output_type": "stream",
          "text": [
            "Scores: [0.73333333 0.85393258 0.75280899 0.80898876 0.83146067 0.84269663\n",
            " 0.84269663 0.78651685 0.82022472 0.79775281]\n",
            "Mean: 0.8070411985018726\n",
            "Standard Deviation: 0.03794316198790456\n"
          ],
          "name": "stdout"
        }
      ]
    },
    {
      "cell_type": "markdown",
      "metadata": {
        "id": "aeVAhfjbReXC"
      },
      "source": [
        "Comments:\r\n",
        "\r\n",
        "1. RandomForest has a average of accuracy of 80%, with standard deviation of 3.7%;\r\n",
        "2. Model accuracy can differ +- 3.7%"
      ]
    },
    {
      "cell_type": "markdown",
      "metadata": {
        "id": "ItZedqSsNoVx"
      },
      "source": [
        "# Using Deep Learning\r\n",
        "\r\n",
        "---"
      ]
    },
    {
      "cell_type": "code",
      "metadata": {
        "id": "r9xqOPVfNNiZ",
        "outputId": "ddcf951b-56a2-48a9-80d3-0346ba716149",
        "colab": {
          "base_uri": "https://localhost:8080/"
        }
      },
      "source": [
        "print(\"shape of X_train\",X_train.shape)\r\n",
        "print(\"Shape of Y_train\",Y_train.shape)\r\n",
        "print(\"Shape of x_test\",X_test.shape)"
      ],
      "execution_count": 46,
      "outputs": [
        {
          "output_type": "stream",
          "text": [
            "shape of X_train (891, 12)\n",
            "Shape of Y_train (891,)\n",
            "Shape of x_test (418, 12)\n"
          ],
          "name": "stdout"
        }
      ]
    },
    {
      "cell_type": "code",
      "metadata": {
        "id": "t-xjv6jYNXJg"
      },
      "source": [
        "import tensorflow as tf\r\n",
        "import keras \r\n",
        "from keras.layers import Dense, Dropout, Input\r\n",
        "from keras.models import Sequential"
      ],
      "execution_count": 48,
      "outputs": []
    },
    {
      "cell_type": "code",
      "metadata": {
        "id": "U6mY59hKNahD",
        "outputId": "5b8b6676-903d-475b-87c5-0074eb4ae367",
        "colab": {
          "base_uri": "https://localhost:8080/"
        }
      },
      "source": [
        "model = Sequential()\r\n",
        "model.add(Dense(units = 32, input_shape = (12,), activation = 'relu'))\r\n",
        "model.add(Dense(units = 64, activation = 'relu', kernel_initializer = 'he_normal', use_bias = False))\r\n",
        "\r\n",
        "# model.add(Dense(units = 128, activation = 'relu',kernel_initializer = 'he_normal', use_bias = False))\r\n",
        "# model.add(Dropout(0.1))\r\n",
        "# model.add(Dense(units = 64, activation = 'relu',kernel_initializer = 'he_normal', use_bias = False))\r\n",
        "# model.add(Dropout(0.1))\r\n",
        "model.add(Dense(units = 32, activation = 'relu'))\r\n",
        "# model.add(Dropout(0.15))\r\n",
        "# model.add(Dense(units = 16, activation = 'relu'))\r\n",
        "model.add(Dense(units = 8, activation = 'relu',kernel_initializer = 'he_normal', use_bias = False))\r\n",
        "model.add(Dense(units =1 , activation = 'sigmoid'))\r\n",
        "\r\n",
        "\r\n",
        "model.summary()"
      ],
      "execution_count": 102,
      "outputs": [
        {
          "output_type": "stream",
          "text": [
            "Model: \"sequential_6\"\n",
            "_________________________________________________________________\n",
            "Layer (type)                 Output Shape              Param #   \n",
            "=================================================================\n",
            "dense_44 (Dense)             (None, 32)                416       \n",
            "_________________________________________________________________\n",
            "dense_45 (Dense)             (None, 64)                2048      \n",
            "_________________________________________________________________\n",
            "dense_46 (Dense)             (None, 32)                2080      \n",
            "_________________________________________________________________\n",
            "dense_47 (Dense)             (None, 8)                 256       \n",
            "_________________________________________________________________\n",
            "dense_48 (Dense)             (None, 1)                 9         \n",
            "=================================================================\n",
            "Total params: 4,809\n",
            "Trainable params: 4,809\n",
            "Non-trainable params: 0\n",
            "_________________________________________________________________\n"
          ],
          "name": "stdout"
        }
      ]
    },
    {
      "cell_type": "code",
      "metadata": {
        "id": "b371KdI8O3BW",
        "outputId": "8c3e4b7e-d426-430b-e6a5-3e6a98a3acf4",
        "colab": {
          "base_uri": "https://localhost:8080/"
        }
      },
      "source": [
        "model.compile(loss = tf.keras.losses.binary_crossentropy,\r\n",
        "              optimizer = tf.keras.optimizers.Adam(),\r\n",
        "              metrics = ['acc'])\r\n",
        "\r\n",
        "history = model.fit(X_train, Y_train, batch_size = 32, verbose = 2, epochs = 50)"
      ],
      "execution_count": 112,
      "outputs": [
        {
          "output_type": "stream",
          "text": [
            "Epoch 1/50\n",
            "28/28 - 0s - loss: 0.3706 - acc: 0.8339\n",
            "Epoch 2/50\n",
            "28/28 - 0s - loss: 0.3565 - acc: 0.8429\n",
            "Epoch 3/50\n",
            "28/28 - 0s - loss: 0.3489 - acc: 0.8418\n",
            "Epoch 4/50\n",
            "28/28 - 0s - loss: 0.3402 - acc: 0.8485\n",
            "Epoch 5/50\n",
            "28/28 - 0s - loss: 0.3404 - acc: 0.8496\n",
            "Epoch 6/50\n",
            "28/28 - 0s - loss: 0.3424 - acc: 0.8530\n",
            "Epoch 7/50\n",
            "28/28 - 0s - loss: 0.3525 - acc: 0.8361\n",
            "Epoch 8/50\n",
            "28/28 - 0s - loss: 0.3428 - acc: 0.8406\n",
            "Epoch 9/50\n",
            "28/28 - 0s - loss: 0.3460 - acc: 0.8406\n",
            "Epoch 10/50\n",
            "28/28 - 0s - loss: 0.3526 - acc: 0.8451\n",
            "Epoch 11/50\n",
            "28/28 - 0s - loss: 0.3405 - acc: 0.8496\n",
            "Epoch 12/50\n",
            "28/28 - 0s - loss: 0.3417 - acc: 0.8429\n",
            "Epoch 13/50\n",
            "28/28 - 0s - loss: 0.3478 - acc: 0.8395\n",
            "Epoch 14/50\n",
            "28/28 - 0s - loss: 0.3363 - acc: 0.8485\n",
            "Epoch 15/50\n",
            "28/28 - 0s - loss: 0.3369 - acc: 0.8496\n",
            "Epoch 16/50\n",
            "28/28 - 0s - loss: 0.3418 - acc: 0.8418\n",
            "Epoch 17/50\n",
            "28/28 - 0s - loss: 0.3351 - acc: 0.8507\n",
            "Epoch 18/50\n",
            "28/28 - 0s - loss: 0.3390 - acc: 0.8519\n",
            "Epoch 19/50\n",
            "28/28 - 0s - loss: 0.3352 - acc: 0.8451\n",
            "Epoch 20/50\n",
            "28/28 - 0s - loss: 0.3656 - acc: 0.8395\n",
            "Epoch 21/50\n",
            "28/28 - 0s - loss: 0.3454 - acc: 0.8462\n",
            "Epoch 22/50\n",
            "28/28 - 0s - loss: 0.3493 - acc: 0.8429\n",
            "Epoch 23/50\n",
            "28/28 - 0s - loss: 0.3336 - acc: 0.8474\n",
            "Epoch 24/50\n",
            "28/28 - 0s - loss: 0.3380 - acc: 0.8462\n",
            "Epoch 25/50\n",
            "28/28 - 0s - loss: 0.3343 - acc: 0.8507\n",
            "Epoch 26/50\n",
            "28/28 - 0s - loss: 0.3411 - acc: 0.8507\n",
            "Epoch 27/50\n",
            "28/28 - 0s - loss: 0.3384 - acc: 0.8496\n",
            "Epoch 28/50\n",
            "28/28 - 0s - loss: 0.3357 - acc: 0.8485\n",
            "Epoch 29/50\n",
            "28/28 - 0s - loss: 0.3375 - acc: 0.8530\n",
            "Epoch 30/50\n",
            "28/28 - 0s - loss: 0.3371 - acc: 0.8541\n",
            "Epoch 31/50\n",
            "28/28 - 0s - loss: 0.3342 - acc: 0.8496\n",
            "Epoch 32/50\n",
            "28/28 - 0s - loss: 0.3376 - acc: 0.8451\n",
            "Epoch 33/50\n",
            "28/28 - 0s - loss: 0.3479 - acc: 0.8395\n",
            "Epoch 34/50\n",
            "28/28 - 0s - loss: 0.3389 - acc: 0.8496\n",
            "Epoch 35/50\n",
            "28/28 - 0s - loss: 0.3313 - acc: 0.8597\n",
            "Epoch 36/50\n",
            "28/28 - 0s - loss: 0.3614 - acc: 0.8328\n",
            "Epoch 37/50\n",
            "28/28 - 0s - loss: 0.3395 - acc: 0.8384\n",
            "Epoch 38/50\n",
            "28/28 - 0s - loss: 0.3373 - acc: 0.8530\n",
            "Epoch 39/50\n",
            "28/28 - 0s - loss: 0.3342 - acc: 0.8552\n",
            "Epoch 40/50\n",
            "28/28 - 0s - loss: 0.3321 - acc: 0.8485\n",
            "Epoch 41/50\n",
            "28/28 - 0s - loss: 0.3312 - acc: 0.8608\n",
            "Epoch 42/50\n",
            "28/28 - 0s - loss: 0.3337 - acc: 0.8496\n",
            "Epoch 43/50\n",
            "28/28 - 0s - loss: 0.3391 - acc: 0.8451\n",
            "Epoch 44/50\n",
            "28/28 - 0s - loss: 0.3407 - acc: 0.8474\n",
            "Epoch 45/50\n",
            "28/28 - 0s - loss: 0.3421 - acc: 0.8563\n",
            "Epoch 46/50\n",
            "28/28 - 0s - loss: 0.3391 - acc: 0.8361\n",
            "Epoch 47/50\n",
            "28/28 - 0s - loss: 0.3330 - acc: 0.8552\n",
            "Epoch 48/50\n",
            "28/28 - 0s - loss: 0.3343 - acc: 0.8440\n",
            "Epoch 49/50\n",
            "28/28 - 0s - loss: 0.3352 - acc: 0.8474\n",
            "Epoch 50/50\n",
            "28/28 - 0s - loss: 0.3290 - acc: 0.8530\n"
          ],
          "name": "stdout"
        }
      ]
    },
    {
      "cell_type": "code",
      "metadata": {
        "id": "rS7RanYvQ8pS",
        "outputId": "32015ef3-8bae-4e3f-d2cc-8a552fd2f52e",
        "colab": {
          "base_uri": "https://localhost:8080/",
          "height": 295
        }
      },
      "source": [
        "plt.plot(history.history['loss'], label='MSE (training data)')\r\n",
        "# plt.plot(history.history['val_acc'], label='MSE (validation data)')\r\n",
        "plt.title('MSE')\r\n",
        "plt.ylabel('MSE value')\r\n",
        "plt.xlabel('No. epoch')\r\n",
        "plt.legend(loc=\"upper left\")\r\n",
        "plt.show()"
      ],
      "execution_count": 113,
      "outputs": [
        {
          "output_type": "display_data",
          "data": {
            "image/png": "[encoded data removed]",
            "text/plain": [
              "<Figure size 432x288 with 1 Axes>"
            ]
          },
          "metadata": {
            "tags": [],
            "needs_background": "light"
          }
        }
      ]
    },
    {
      "cell_type": "code",
      "metadata": {
        "id": "JUuLB6qhPSqh",
        "outputId": "e017f943-7a0c-4511-aaa6-ac020680de2a",
        "colab": {
          "base_uri": "https://localhost:8080/"
        }
      },
      "source": [
        "predict = model.predict(X_test)\r\n",
        "#since we have use sigmoid activation function in output layer\r\n",
        "predict = (predict > 0.5).astype(int).ravel()\r\n",
        "print(predict)"
      ],
      "execution_count": 53,
      "outputs": [
        {
          "output_type": "stream",
          "text": [
            "[0 0 0 0 0 0 0 0 1 0 0 0 1 0 1 1 1 0 0 1 0 0 1 0 1 0 1 0 1 0 0 0 1 0 0 0 0\n",
            " 0 0 0 0 1 0 1 1 0 1 0 1 1 1 0 1 1 0 1 0 0 0 1 0 0 0 1 1 1 1 0 1 1 1 0 1 1\n",
            " 1 1 0 1 0 1 1 1 1 0 0 0 1 0 1 1 1 0 1 0 0 0 1 0 0 0 1 0 0 0 1 0 0 0 0 0 0\n",
            " 1 1 1 1 0 0 1 0 1 1 0 1 0 0 0 0 1 0 0 0 0 0 0 0 0 0 0 0 0 0 1 1 0 1 0 0 0\n",
            " 1 0 1 0 0 0 0 0 1 0 0 1 0 0 1 0 1 1 0 0 1 0 0 0 0 0 0 1 1 0 1 1 0 0 1 1 1\n",
            " 0 1 0 0 0 0 1 1 1 1 0 1 0 0 1 1 0 1 1 0 0 1 0 1 0 0 0 0 1 1 0 1 1 1 0 1 0\n",
            " 1 0 1 1 0 1 0 0 1 1 0 0 0 0 0 0 1 1 1 1 1 0 0 0 1 0 1 0 1 0 0 0 0 0 0 0 1\n",
            " 0 0 0 1 0 0 0 0 0 0 0 0 0 1 1 0 1 0 0 0 0 0 1 1 1 0 0 0 0 0 0 1 1 0 1 0 0\n",
            " 1 0 0 0 0 0 0 0 1 1 0 1 0 1 0 0 0 1 1 1 1 0 0 0 0 0 0 1 1 0 1 0 0 0 1 0 0\n",
            " 1 0 1 0 0 0 0 0 0 0 1 0 0 0 1 0 1 1 0 0 0 0 1 1 0 0 1 0 1 1 0 1 0 0 1 1 0\n",
            " 0 1 0 0 1 1 1 0 0 0 0 1 1 1 0 1 0 0 0 0 1 1 1 0 0 1 0 1 0 0 1 0 1 0 0 0 0\n",
            " 1 1 0 1 1 0 0 1 0 0 1]\n"
          ],
          "name": "stdout"
        }
      ]
    },
    {
      "cell_type": "code",
      "metadata": {
        "id": "8L-PqUNLQEna",
        "outputId": "cc393d34-5479-4ae8-8659-4e20cacb9829",
        "colab": {
          "base_uri": "https://localhost:8080/"
        }
      },
      "source": [
        "model.metrics_names"
      ],
      "execution_count": 54,
      "outputs": [
        {
          "output_type": "execute_result",
          "data": {
            "text/plain": [
              "['loss', 'acc']"
            ]
          },
          "metadata": {
            "tags": []
          },
          "execution_count": 54
        }
      ]
    },
    {
      "cell_type": "code",
      "metadata": {
        "id": "SqW-GGMoQLGc",
        "outputId": "185329ee-dfe7-45c2-f787-8af3399bb1ba",
        "colab": {
          "base_uri": "https://localhost:8080/",
          "height": 180
        }
      },
      "source": [
        "import matplotlib.pyplot as plt\r\n",
        "plt.plot(model['acc'])"
      ],
      "execution_count": 57,
      "outputs": [
        {
          "output_type": "error",
          "ename": "TypeError",
          "evalue": "ignored",
          "traceback": [
            "\u001b[0;31m---------------------------------------------------------------------------\u001b[0m",
            "\u001b[0;31mTypeError\u001b[0m                                 Traceback (most recent call last)",
            "\u001b[0;32m<ipython-input-57-81e817c394fb>\u001b[0m in \u001b[0;36m<module>\u001b[0;34m()\u001b[0m\n\u001b[1;32m      1\u001b[0m \u001b[0;32mimport\u001b[0m \u001b[0mmatplotlib\u001b[0m\u001b[0;34m.\u001b[0m\u001b[0mpyplot\u001b[0m \u001b[0;32mas\u001b[0m \u001b[0mplt\u001b[0m\u001b[0;34m\u001b[0m\u001b[0;34m\u001b[0m\u001b[0m\n\u001b[0;32m----> 2\u001b[0;31m \u001b[0mplt\u001b[0m\u001b[0;34m.\u001b[0m\u001b[0mplot\u001b[0m\u001b[0;34m(\u001b[0m\u001b[0mmodel\u001b[0m\u001b[0;34m[\u001b[0m\u001b[0;34m'acc'\u001b[0m\u001b[0;34m]\u001b[0m\u001b[0;34m)\u001b[0m\u001b[0;34m\u001b[0m\u001b[0;34m\u001b[0m\u001b[0m\n\u001b[0m",
            "\u001b[0;31mTypeError\u001b[0m: 'Sequential' object is not subscriptable"
          ]
        }
      ]
    },
    {
      "cell_type": "code",
      "metadata": {
        "id": "FDPf5wy-QTjU"
      },
      "source": [
        ""
      ],
      "execution_count": null,
      "outputs": []
    }
  ]
}