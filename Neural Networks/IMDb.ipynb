{
  "nbformat": 4,
  "nbformat_minor": 0,
  "metadata": {
    "colab": {
      "name": "IMDb.ipynb",
      "provenance": []
    },
    "kernelspec": {
      "name": "python3",
      "display_name": "Python 3"
    },
    "language_info": {
      "name": "python"
    },
    "accelerator": "GPU"
  },
  "cells": [
    {
      "cell_type": "code",
      "metadata": {
        "id": "tu2ap8TAlys5"
      },
      "source": [
        "import keras\n",
        "\n",
        "from keras.datasets import imdb"
      ],
      "execution_count": 1,
      "outputs": []
    },
    {
      "cell_type": "markdown",
      "metadata": {
        "id": "Gg-_aUepbl8T"
      },
      "source": [
        "Restricts the data to the 10,000 most frequently occurring words found in the data:"
      ]
    },
    {
      "cell_type": "code",
      "metadata": {
        "colab": {
          "base_uri": "https://localhost:8080/"
        },
        "id": "y-l2X_rW8YYH",
        "outputId": "b5c1e1a4-2215-4d84-d841-ef078115ed55"
      },
      "source": [
        "(train_data, train_labels), (test_data, test_labels) = imdb.load_data(num_words=10000)"
      ],
      "execution_count": 2,
      "outputs": [
        {
          "output_type": "stream",
          "text": [
            "Downloading data from https://storage.googleapis.com/tensorflow/tf-keras-datasets/imdb.npz\n",
            "17465344/17464789 [==============================] - 0s 0us/step\n"
          ],
          "name": "stdout"
        },
        {
          "output_type": "stream",
          "text": [
            "<string>:6: VisibleDeprecationWarning: Creating an ndarray from ragged nested sequences (which is a list-or-tuple of lists-or-tuples-or ndarrays with different lengths or shapes) is deprecated. If you meant to do this, you must specify 'dtype=object' when creating the ndarray\n",
            "/usr/local/lib/python3.7/dist-packages/tensorflow/python/keras/datasets/imdb.py:159: VisibleDeprecationWarning: Creating an ndarray from ragged nested sequences (which is a list-or-tuple of lists-or-tuples-or ndarrays with different lengths or shapes) is deprecated. If you meant to do this, you must specify 'dtype=object' when creating the ndarray\n",
            "  x_train, y_train = np.array(xs[:idx]), np.array(labels[:idx])\n",
            "/usr/local/lib/python3.7/dist-packages/tensorflow/python/keras/datasets/imdb.py:160: VisibleDeprecationWarning: Creating an ndarray from ragged nested sequences (which is a list-or-tuple of lists-or-tuples-or ndarrays with different lengths or shapes) is deprecated. If you meant to do this, you must specify 'dtype=object' when creating the ndarray\n",
            "  x_test, y_test = np.array(xs[idx:]), np.array(labels[idx:])\n"
          ],
          "name": "stderr"
        }
      ]
    },
    {
      "cell_type": "markdown",
      "metadata": {
        "id": "WNysLjgs_don"
      },
      "source": [
        "• The variables train_data and test_data are lists of reviews;\n",
        "\n",
        "Each review is a list of word indices (encoding a sequence of words).\n",
        "\n",
        "• train_labels and test_labels are lists of 0s and 1s\n",
        "\n",
        " where 0 stands for negative and 1 stands for positive."
      ]
    },
    {
      "cell_type": "code",
      "metadata": {
        "colab": {
          "base_uri": "https://localhost:8080/"
        },
        "id": "dVobIoXfDB1K",
        "outputId": "5a72eb6a-3982-45d2-c418-4f22416717f0"
      },
      "source": [
        "train_labels"
      ],
      "execution_count": 3,
      "outputs": [
        {
          "output_type": "execute_result",
          "data": {
            "text/plain": [
              "array([1, 0, 0, ..., 0, 1, 0])"
            ]
          },
          "metadata": {
            "tags": []
          },
          "execution_count": 3
        }
      ]
    },
    {
      "cell_type": "code",
      "metadata": {
        "colab": {
          "base_uri": "https://localhost:8080/"
        },
        "id": "Zz1suXOP_yQQ",
        "outputId": "dae70c4b-5465-4a59-d2e2-785a177a72bc"
      },
      "source": [
        " print('TRAIN DATA: ', train_data.shape)\n",
        "print('labels: ', train_labels.shape)\n",
        "print('TEST DATA: ', test_data.shape)\n",
        "print('labels: ', test_labels.shape)"
      ],
      "execution_count": 4,
      "outputs": [
        {
          "output_type": "stream",
          "text": [
            "TRAIN DATA:  (25000,)\n",
            "labels:  (25000,)\n",
            "TEST DATA:  (25000,)\n",
            "labels:  (25000,)\n"
          ],
          "name": "stdout"
        }
      ]
    },
    {
      "cell_type": "markdown",
      "metadata": {
        "id": "uN_goWdu88Nw"
      },
      "source": [
        "# Data\n",
        "---\n",
        "\n"
      ]
    },
    {
      "cell_type": "markdown",
      "metadata": {
        "id": "Na1PFnSvAmOV"
      },
      "source": [
        "### One-hot encoding:\n",
        "\n",
        "Encoding the integer sequences into a binary matrix"
      ]
    },
    {
      "cell_type": "code",
      "metadata": {
        "id": "iG3QWNg298p0"
      },
      "source": [
        "import numpy as np\n",
        "def vectorize_sequences(sequences, dimension=10000):\n",
        "  results = np.zeros((len(sequences), dimension))\n",
        "  for i, sequence in enumerate(sequences):\n",
        "    results[i, sequence] = 1.\n",
        "  return results\n",
        "x_train = vectorize_sequences(train_data)\n",
        "x_test = vectorize_sequences(test_data)\n",
        "\n",
        "# Using Keras:\n",
        "from keras.utils.np_utils import to_categorical\n",
        "one_hot_train_labels = to_categorical(train_labels)\n",
        "one_hot_test_labels = to_categorical(test_labels)"
      ],
      "execution_count": 5,
      "outputs": []
    },
    {
      "cell_type": "code",
      "metadata": {
        "id": "Mbcl3U52_BsM"
      },
      "source": [
        "y_train = np.asarray(train_labels).astype('float32')\n",
        "y_test = np.asarray(test_labels).astype('float32')"
      ],
      "execution_count": 6,
      "outputs": []
    },
    {
      "cell_type": "code",
      "metadata": {
        "colab": {
          "base_uri": "https://localhost:8080/"
        },
        "id": "nIBt7427BuwN",
        "outputId": "8a8d7d5f-0285-4f92-af67-9cb1cdaf3f67"
      },
      "source": [
        "max([max(sequence) for sequence in train_data])"
      ],
      "execution_count": 7,
      "outputs": [
        {
          "output_type": "execute_result",
          "data": {
            "text/plain": [
              "9999"
            ]
          },
          "metadata": {
            "tags": []
          },
          "execution_count": 7
        }
      ]
    },
    {
      "cell_type": "markdown",
      "metadata": {
        "id": "xYfcro97GF36"
      },
      "source": [
        "## • Setting aside a validadion set:"
      ]
    },
    {
      "cell_type": "code",
      "metadata": {
        "id": "ctjGqNTeFfQp"
      },
      "source": [
        "x_val = x_train[:10000]\n",
        "partial_x_train = x_train[10000:]\n",
        "y_val = y_train[:10000]\n",
        "partial_y_train = y_train[10000:]"
      ],
      "execution_count": 8,
      "outputs": []
    },
    {
      "cell_type": "markdown",
      "metadata": {
        "id": "XIIiOovBFHyY"
      },
      "source": [
        "# Model\n",
        "----\n",
        "\n",
        "1. Build \n",
        "2. Compile\n",
        "3. Fit"
      ]
    },
    {
      "cell_type": "code",
      "metadata": {
        "id": "71mo7Y8NBvYk"
      },
      "source": [
        "from keras import models\n",
        "from keras import layers\n",
        "from keras import optimizers\n",
        "# for custom losses and metrics:\n",
        "# from keras import losses \n",
        "# from keras import metrics \n",
        "\n",
        "model = models.Sequential()\n",
        "model.add(layers.Dense(16, activation='relu', input_shape=(10000,)))\n",
        "model.add(layers.Dense(16, activation='relu'))\n",
        "model.add(layers.Dense(1, activation='sigmoid'))"
      ],
      "execution_count": 9,
      "outputs": []
    },
    {
      "cell_type": "code",
      "metadata": {
        "colab": {
          "base_uri": "https://localhost:8080/"
        },
        "id": "hhXplD1dFKSf",
        "outputId": "b376a9a7-cbae-41c1-d54e-50678aee95ef"
      },
      "source": [
        "model.compile(optimizer=optimizers.RMSprop(lr=0.001),\n",
        "loss='binary_crossentropy',\n",
        "metrics=['accuracy'])\n",
        "\n",
        "history = model.fit(partial_x_train,\n",
        "partial_y_train,\n",
        "epochs=20,\n",
        "batch_size=512,\n",
        "validation_data=(x_val, y_val))"
      ],
      "execution_count": 10,
      "outputs": [
        {
          "output_type": "stream",
          "text": [
            "Epoch 1/20\n",
            "30/30 [==============================] - 4s 36ms/step - loss: 0.6023 - accuracy: 0.7031 - val_loss: 0.4095 - val_accuracy: 0.8634\n",
            "Epoch 2/20\n",
            "30/30 [==============================] - 1s 18ms/step - loss: 0.3453 - accuracy: 0.8961 - val_loss: 0.3132 - val_accuracy: 0.8841\n",
            "Epoch 3/20\n",
            "30/30 [==============================] - 1s 18ms/step - loss: 0.2341 - accuracy: 0.9280 - val_loss: 0.2794 - val_accuracy: 0.8923\n",
            "Epoch 4/20\n",
            "30/30 [==============================] - 1s 20ms/step - loss: 0.1873 - accuracy: 0.9395 - val_loss: 0.2890 - val_accuracy: 0.8838\n",
            "Epoch 5/20\n",
            "30/30 [==============================] - 1s 19ms/step - loss: 0.1482 - accuracy: 0.9551 - val_loss: 0.2791 - val_accuracy: 0.8878\n",
            "Epoch 6/20\n",
            "30/30 [==============================] - 1s 18ms/step - loss: 0.1194 - accuracy: 0.9650 - val_loss: 0.3070 - val_accuracy: 0.8808\n",
            "Epoch 7/20\n",
            "30/30 [==============================] - 1s 19ms/step - loss: 0.0964 - accuracy: 0.9736 - val_loss: 0.3205 - val_accuracy: 0.8816\n",
            "Epoch 8/20\n",
            "30/30 [==============================] - 1s 19ms/step - loss: 0.0814 - accuracy: 0.9786 - val_loss: 0.3278 - val_accuracy: 0.8810\n",
            "Epoch 9/20\n",
            "30/30 [==============================] - 1s 19ms/step - loss: 0.0637 - accuracy: 0.9843 - val_loss: 0.3493 - val_accuracy: 0.8794\n",
            "Epoch 10/20\n",
            "30/30 [==============================] - 1s 18ms/step - loss: 0.0521 - accuracy: 0.9881 - val_loss: 0.3732 - val_accuracy: 0.8778\n",
            "Epoch 11/20\n",
            "30/30 [==============================] - 1s 19ms/step - loss: 0.0434 - accuracy: 0.9898 - val_loss: 0.4155 - val_accuracy: 0.8754\n",
            "Epoch 12/20\n",
            "30/30 [==============================] - 1s 19ms/step - loss: 0.0340 - accuracy: 0.9932 - val_loss: 0.4344 - val_accuracy: 0.8720\n",
            "Epoch 13/20\n",
            "30/30 [==============================] - 1s 18ms/step - loss: 0.0283 - accuracy: 0.9944 - val_loss: 0.4614 - val_accuracy: 0.8730\n",
            "Epoch 14/20\n",
            "30/30 [==============================] - 1s 19ms/step - loss: 0.0214 - accuracy: 0.9963 - val_loss: 0.4925 - val_accuracy: 0.8732\n",
            "Epoch 15/20\n",
            "30/30 [==============================] - 1s 19ms/step - loss: 0.0146 - accuracy: 0.9988 - val_loss: 0.5578 - val_accuracy: 0.8653\n",
            "Epoch 16/20\n",
            "30/30 [==============================] - 1s 18ms/step - loss: 0.0158 - accuracy: 0.9986 - val_loss: 0.5600 - val_accuracy: 0.8698\n",
            "Epoch 17/20\n",
            "30/30 [==============================] - 1s 19ms/step - loss: 0.0098 - accuracy: 0.9989 - val_loss: 0.5898 - val_accuracy: 0.8692\n",
            "Epoch 18/20\n",
            "30/30 [==============================] - 1s 20ms/step - loss: 0.0076 - accuracy: 0.9994 - val_loss: 0.6286 - val_accuracy: 0.8688\n",
            "Epoch 19/20\n",
            "30/30 [==============================] - 1s 19ms/step - loss: 0.0062 - accuracy: 0.9994 - val_loss: 0.6653 - val_accuracy: 0.8679\n",
            "Epoch 20/20\n",
            "30/30 [==============================] - 1s 19ms/step - loss: 0.0036 - accuracy: 0.9999 - val_loss: 0.6983 - val_accuracy: 0.8667\n"
          ],
          "name": "stdout"
        }
      ]
    },
    {
      "cell_type": "code",
      "metadata": {
        "colab": {
          "base_uri": "https://localhost:8080/"
        },
        "id": "bAEUogNYO1xY",
        "outputId": "e90be526-aeac-45fd-f9fc-2c59713b00cb"
      },
      "source": [
        "history.history.keys()"
      ],
      "execution_count": 11,
      "outputs": [
        {
          "output_type": "execute_result",
          "data": {
            "text/plain": [
              "dict_keys(['loss', 'accuracy', 'val_loss', 'val_accuracy'])"
            ]
          },
          "metadata": {
            "tags": []
          },
          "execution_count": 11
        }
      ]
    },
    {
      "cell_type": "code",
      "metadata": {
        "colab": {
          "base_uri": "https://localhost:8080/",
          "height": 295
        },
        "id": "v8WqXumHGYpL",
        "outputId": "ef6025a3-c548-4e68-a54e-8c4ac1cd6884"
      },
      "source": [
        "import matplotlib.pyplot as plt\n",
        "\n",
        "acc = history.history['accuracy']\n",
        "loss_values = history.history['loss']\n",
        "val_loss_values = history.history['val_loss']\n",
        "epochs = range(1, len(acc) + 1)\n",
        "plt.plot(epochs, loss_values, 'bo', label='Training loss')\n",
        "plt.plot(epochs, val_loss_values, 'b', label='Validation loss')\n",
        "plt.title('Training and validation loss')\n",
        "plt.xlabel('Epochs')\n",
        "plt.ylabel('Loss')\n",
        "plt.legend()\n",
        "plt.show()"
      ],
      "execution_count": 12,
      "outputs": [
        {
          "output_type": "display_data",
          "data": {
            "image/png": "[encoded data removed]",
            "text/plain": [
              "<Figure size 432x288 with 1 Axes>"
            ]
          },
          "metadata": {
            "tags": [],
            "needs_background": "light"
          }
        }
      ]
    },
    {
      "cell_type": "code",
      "metadata": {
        "colab": {
          "base_uri": "https://localhost:8080/",
          "height": 295
        },
        "id": "ZfdBunpGOpou",
        "outputId": "964e48cf-fdb8-478a-f7d6-73f1e531650d"
      },
      "source": [
        "plt.clf()\n",
        "val_acc = history.history['val_accuracy']\n",
        "plt.plot(epochs, acc, 'bo', label='Training acc')\n",
        "plt.plot(epochs, val_acc, 'k', label='Validation acc')\n",
        "plt.title('Training and validation accuracy')\n",
        "plt.xlabel('Epochs')\n",
        "plt.ylabel('Loss')\n",
        "plt.legend()\n",
        "plt.show()"
      ],
      "execution_count": 13,
      "outputs": [
        {
          "output_type": "display_data",
          "data": {
            "image/png": "[encoded data removed]",
            "text/plain": [
              "<Figure size 432x288 with 1 Axes>"
            ]
          },
          "metadata": {
            "tags": [],
            "needs_background": "light"
          }
        }
      ]
    },
    {
      "cell_type": "markdown",
      "metadata": {
        "id": "hziD6BraP6FR"
      },
      "source": [
        "### OVERFITTING after epoch 2"
      ]
    },
    {
      "cell_type": "markdown",
      "metadata": {
        "id": "JJBxvUrpQE_B"
      },
      "source": [
        "### Retraining from scratch"
      ]
    },
    {
      "cell_type": "code",
      "metadata": {
        "colab": {
          "base_uri": "https://localhost:8080/",
          "height": 514
        },
        "id": "_dn0hU74PJi6",
        "outputId": "594ee583-9e5d-43a4-a474-0d00d89085cd"
      },
      "source": [
        "model = models.Sequential()\n",
        "model.add(layers.Dense(32, activation='relu', input_shape=(10000,)))\n",
        "model.add(layers.Dropout(0.2))\n",
        "model.add(layers.Dense(1, activation='sigmoid'))\n",
        "\n",
        "model.compile(optimizer='adam',\n",
        "              loss='binary_crossentropy',\n",
        "              metrics=['accuracy'])\n",
        "\n",
        "history = model.fit(partial_x_train,\n",
        "                    partial_y_train,\n",
        "                    epochs=5,\n",
        "                    batch_size=512,\n",
        "                    validation_data=(x_val, y_val))\n",
        "\n",
        "results = model.evaluate(x_test, y_test)\n",
        "\n",
        "acc = history.history['accuracy']\n",
        "loss_values = history.history['loss']\n",
        "val_loss_values = history.history['val_loss']\n",
        "epochs = range(1, len(acc) + 1)\n",
        "\n",
        "plt.plot(epochs, loss_values, 'bo', label='Training loss')\n",
        "plt.plot(epochs, val_loss_values, 'k', label='Validation loss')\n",
        "plt.title('Training and validation loss')\n",
        "plt.xlabel('Epochs')\n",
        "plt.ylabel('Loss')\n",
        "plt.legend()\n",
        "plt.show()\n",
        "print('\\nRESULTS: ', results)"
      ],
      "execution_count": 14,
      "outputs": [
        {
          "output_type": "stream",
          "text": [
            "Epoch 1/5\n",
            "30/30 [==============================] - 1s 25ms/step - loss: 0.6016 - accuracy: 0.6950 - val_loss: 0.3626 - val_accuracy: 0.8685\n",
            "Epoch 2/5\n",
            "30/30 [==============================] - 1s 19ms/step - loss: 0.3074 - accuracy: 0.8952 - val_loss: 0.2975 - val_accuracy: 0.8864\n",
            "Epoch 3/5\n",
            "30/30 [==============================] - 1s 18ms/step - loss: 0.2222 - accuracy: 0.9276 - val_loss: 0.2780 - val_accuracy: 0.8909\n",
            "Epoch 4/5\n",
            "30/30 [==============================] - 1s 18ms/step - loss: 0.1806 - accuracy: 0.9436 - val_loss: 0.2764 - val_accuracy: 0.8897\n",
            "Epoch 5/5\n",
            "30/30 [==============================] - 1s 18ms/step - loss: 0.1493 - accuracy: 0.9570 - val_loss: 0.2797 - val_accuracy: 0.8870\n",
            "782/782 [==============================] - 2s 2ms/step - loss: 0.2987 - accuracy: 0.8790\n"
          ],
          "name": "stdout"
        },
        {
          "output_type": "display_data",
          "data": {
            "image/png": "[encoded data removed]",
            "text/plain": [
              "<Figure size 432x288 with 1 Axes>"
            ]
          },
          "metadata": {
            "tags": [],
            "needs_background": "light"
          }
        },
        {
          "output_type": "stream",
          "text": [
            "\n",
            "RESULTS:  [0.2986607849597931, 0.8789600133895874]\n"
          ],
          "name": "stdout"
        }
      ]
    },
    {
      "cell_type": "code",
      "metadata": {
        "colab": {
          "base_uri": "https://localhost:8080/"
        },
        "id": "YfdugKPNQ49s",
        "outputId": "3d3eafe7-bc21-460a-cbf5-b5440a9e05ba"
      },
      "source": [
        "model.predict(x_test)"
      ],
      "execution_count": 19,
      "outputs": [
        {
          "output_type": "execute_result",
          "data": {
            "text/plain": [
              "array([[0.20693086],\n",
              "       [0.9997856 ],\n",
              "       [0.9798716 ],\n",
              "       ...,\n",
              "       [0.08905879],\n",
              "       [0.1575146 ],\n",
              "       [0.67486125]], dtype=float32)"
            ]
          },
          "metadata": {
            "tags": []
          },
          "execution_count": 19
        }
      ]
    },
    {
      "cell_type": "markdown",
      "metadata": {
        "id": "Off6cGOWbQe0"
      },
      "source": [
        "The network is confident for some samples (0.99 or more, or 0.01 or less) but less confident for others (0.6, 0.4)."
      ]
    },
    {
      "cell_type": "code",
      "metadata": {
        "colab": {
          "base_uri": "https://localhost:8080/"
        },
        "id": "aU4IlExWdxfK",
        "outputId": "41692a98-0e90-49dd-f155-77fcf3609488"
      },
      "source": [
        "test_labels"
      ],
      "execution_count": 21,
      "outputs": [
        {
          "output_type": "execute_result",
          "data": {
            "text/plain": [
              "array([0, 1, 1, ..., 0, 0, 0])"
            ]
          },
          "metadata": {
            "tags": []
          },
          "execution_count": 21
        }
      ]
    },
    {
      "cell_type": "code",
      "metadata": {
        "id": "AFe-y1dtmKug"
      },
      "source": [
        ""
      ],
      "execution_count": null,
      "outputs": []
    }
  ]
}