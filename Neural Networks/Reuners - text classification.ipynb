{
  "nbformat": 4,
  "nbformat_minor": 0,
  "metadata": {
    "colab": {
      "name": "Reuners - text classification.ipynb",
      "provenance": [],
      "collapsed_sections": []
    },
    "kernelspec": {
      "name": "python3",
      "display_name": "Python 3"
    },
    "language_info": {
      "name": "python"
    },
    "accelerator": "GPU"
  },
  "cells": [
    {
      "cell_type": "code",
      "metadata": {
        "colab": {
          "base_uri": "https://localhost:8080/"
        },
        "id": "ya8pPX9aX5vL",
        "outputId": "7e882eee-d220-4fd8-e0e2-085fb00987bd"
      },
      "source": [
        "from keras.datasets import reuters\n",
        "(train_data, train_labels), (test_data, test_labels) = reuters.load_data(\n",
        "num_words=10000)"
      ],
      "execution_count": 1,
      "outputs": [
        {
          "output_type": "stream",
          "text": [
            "/usr/local/lib/python3.7/dist-packages/tensorflow/python/keras/datasets/reuters.py:148: VisibleDeprecationWarning: Creating an ndarray from ragged nested sequences (which is a list-or-tuple of lists-or-tuples-or ndarrays with different lengths or shapes) is deprecated. If you meant to do this, you must specify 'dtype=object' when creating the ndarray\n",
            "  x_train, y_train = np.array(xs[:idx]), np.array(labels[:idx])\n",
            "/usr/local/lib/python3.7/dist-packages/tensorflow/python/keras/datasets/reuters.py:149: VisibleDeprecationWarning: Creating an ndarray from ragged nested sequences (which is a list-or-tuple of lists-or-tuples-or ndarrays with different lengths or shapes) is deprecated. If you meant to do this, you must specify 'dtype=object' when creating the ndarray\n",
            "  x_test, y_test = np.array(xs[idx:]), np.array(labels[idx:])\n"
          ],
          "name": "stderr"
        }
      ]
    },
    {
      "cell_type": "markdown",
      "metadata": {
        "id": "u4Zu0lZyYIz8"
      },
      "source": [
        "# Data\n",
        "---\n",
        "Set of short newswires and their topics, published\n",
        "by Reuters in 1986.\n",
        "\n",
        "There\n",
        "are 46 different topics; some topics are more represented than others, but each topic\n",
        "has at least 10 examples in the training set."
      ]
    },
    {
      "cell_type": "code",
      "metadata": {
        "colab": {
          "base_uri": "https://localhost:8080/"
        },
        "id": "BLXfcf7tX8vn",
        "outputId": "f20edc26-8a1e-499e-fb3e-8f812f39977f"
      },
      "source": [
        "print('TRAIN Data shape:', train_data.shape)\n",
        "print('TEST Data shape:', test_data.shape)\n",
        "train_data"
      ],
      "execution_count": 2,
      "outputs": [
        {
          "output_type": "stream",
          "text": [
            "TRAIN Data shape: (8982,)\n",
            "TEST Data shape: (2246,)\n"
          ],
          "name": "stdout"
        },
        {
          "output_type": "execute_result",
          "data": {
            "text/plain": [
              "array([list([1, 2, 2, 8, 43, 10, 447, 5, 25, 207, 270, 5, 3095, 111, 16, 369, 186, 90, 67, 7, 89, 5, 19, 102, 6, 19, 124, 15, 90, 67, 84, 22, 482, 26, 7, 48, 4, 49, 8, 864, 39, 209, 154, 6, 151, 6, 83, 11, 15, 22, 155, 11, 15, 7, 48, 9, 4579, 1005, 504, 6, 258, 6, 272, 11, 15, 22, 134, 44, 11, 15, 16, 8, 197, 1245, 90, 67, 52, 29, 209, 30, 32, 132, 6, 109, 15, 17, 12]),\n",
              "       list([1, 3267, 699, 3434, 2295, 56, 2, 7511, 9, 56, 3906, 1073, 81, 5, 1198, 57, 366, 737, 132, 20, 4093, 7, 2, 49, 2295, 2, 1037, 3267, 699, 3434, 8, 7, 10, 241, 16, 855, 129, 231, 783, 5, 4, 587, 2295, 2, 2, 775, 7, 48, 34, 191, 44, 35, 1795, 505, 17, 12]),\n",
              "       list([1, 53, 12, 284, 15, 14, 272, 26, 53, 959, 32, 818, 15, 14, 272, 26, 39, 684, 70, 11, 14, 12, 3886, 18, 180, 183, 187, 70, 11, 14, 102, 32, 11, 29, 53, 44, 704, 15, 14, 19, 758, 15, 53, 959, 47, 1013, 15, 14, 19, 132, 15, 39, 965, 32, 11, 14, 147, 72, 11, 180, 183, 187, 44, 11, 14, 102, 19, 11, 123, 186, 90, 67, 960, 4, 78, 13, 68, 467, 511, 110, 59, 89, 90, 67, 1390, 55, 2678, 92, 617, 80, 1274, 46, 905, 220, 13, 4, 346, 48, 235, 629, 5, 211, 5, 1118, 7, 2, 81, 5, 187, 11, 15, 9, 1709, 201, 5, 47, 3615, 18, 478, 4514, 5, 1118, 7, 232, 2, 71, 5, 160, 63, 11, 9, 2, 81, 5, 102, 59, 11, 17, 12]),\n",
              "       ...,\n",
              "       list([1, 141, 3890, 387, 81, 8, 16, 1629, 10, 340, 1241, 850, 31, 56, 3890, 691, 9, 1241, 71, 9, 5985, 2, 2, 699, 2, 2, 2, 699, 244, 5945, 4, 49, 8, 4, 656, 850, 33, 2993, 9, 2139, 340, 3371, 1493, 9, 2, 22, 2, 1094, 687, 83, 35, 15, 257, 6, 57, 9190, 7, 4, 5956, 654, 5, 2, 6191, 1371, 4, 49, 8, 16, 369, 646, 6, 1076, 7, 124, 407, 17, 12]),\n",
              "       list([1, 53, 46, 957, 26, 14, 74, 132, 26, 39, 46, 258, 3614, 18, 14, 74, 134, 5131, 18, 88, 2321, 72, 11, 14, 1842, 32, 11, 123, 383, 89, 39, 46, 235, 10, 864, 728, 5, 258, 44, 11, 15, 22, 753, 9, 42, 92, 131, 728, 5, 69, 312, 11, 15, 22, 222, 2, 3237, 383, 48, 39, 74, 235, 10, 864, 276, 5, 61, 32, 11, 15, 21, 4, 211, 5, 126, 1072, 42, 92, 131, 46, 19, 352, 11, 15, 22, 710, 220, 9, 42, 92, 131, 276, 5, 59, 61, 11, 15, 22, 10, 455, 7, 1172, 137, 336, 1325, 6, 1532, 142, 971, 6463, 43, 359, 5, 4, 326, 753, 364, 17, 12]),\n",
              "       list([1, 227, 2406, 91, 2, 125, 2855, 21, 4, 3976, 76, 7, 4, 757, 481, 3976, 790, 5259, 5654, 9, 111, 149, 8, 7, 10, 76, 223, 51, 4, 417, 8, 1047, 91, 6917, 1688, 340, 7, 194, 9411, 6, 1894, 21, 127, 2151, 2394, 1456, 6, 3034, 4, 329, 433, 7, 65, 87, 1127, 10, 8219, 1475, 290, 9, 21, 567, 16, 1926, 24, 4, 76, 209, 30, 4033, 6655, 5654, 8, 4, 60, 8, 4, 966, 308, 40, 2575, 129, 2, 295, 277, 1071, 9, 24, 286, 2114, 234, 222, 9, 4, 906, 3994, 8519, 114, 5758, 1752, 7, 4, 113, 17, 12])],\n",
              "      dtype=object)"
            ]
          },
          "metadata": {
            "tags": []
          },
          "execution_count": 2
        }
      ]
    },
    {
      "cell_type": "code",
      "metadata": {
        "colab": {
          "base_uri": "https://localhost:8080/"
        },
        "id": "97g2WPWRYlmT",
        "outputId": "3d86f8f9-e7e2-4947-936f-b46cd4553201"
      },
      "source": [
        "train_data[0] # first training example"
      ],
      "execution_count": 3,
      "outputs": [
        {
          "output_type": "execute_result",
          "data": {
            "text/plain": [
              "[1,\n",
              " 2,\n",
              " 2,\n",
              " 8,\n",
              " 43,\n",
              " 10,\n",
              " 447,\n",
              " 5,\n",
              " 25,\n",
              " 207,\n",
              " 270,\n",
              " 5,\n",
              " 3095,\n",
              " 111,\n",
              " 16,\n",
              " 369,\n",
              " 186,\n",
              " 90,\n",
              " 67,\n",
              " 7,\n",
              " 89,\n",
              " 5,\n",
              " 19,\n",
              " 102,\n",
              " 6,\n",
              " 19,\n",
              " 124,\n",
              " 15,\n",
              " 90,\n",
              " 67,\n",
              " 84,\n",
              " 22,\n",
              " 482,\n",
              " 26,\n",
              " 7,\n",
              " 48,\n",
              " 4,\n",
              " 49,\n",
              " 8,\n",
              " 864,\n",
              " 39,\n",
              " 209,\n",
              " 154,\n",
              " 6,\n",
              " 151,\n",
              " 6,\n",
              " 83,\n",
              " 11,\n",
              " 15,\n",
              " 22,\n",
              " 155,\n",
              " 11,\n",
              " 15,\n",
              " 7,\n",
              " 48,\n",
              " 9,\n",
              " 4579,\n",
              " 1005,\n",
              " 504,\n",
              " 6,\n",
              " 258,\n",
              " 6,\n",
              " 272,\n",
              " 11,\n",
              " 15,\n",
              " 22,\n",
              " 134,\n",
              " 44,\n",
              " 11,\n",
              " 15,\n",
              " 16,\n",
              " 8,\n",
              " 197,\n",
              " 1245,\n",
              " 90,\n",
              " 67,\n",
              " 52,\n",
              " 29,\n",
              " 209,\n",
              " 30,\n",
              " 32,\n",
              " 132,\n",
              " 6,\n",
              " 109,\n",
              " 15,\n",
              " 17,\n",
              " 12]"
            ]
          },
          "metadata": {
            "tags": []
          },
          "execution_count": 3
        }
      ]
    },
    {
      "cell_type": "code",
      "metadata": {
        "colab": {
          "base_uri": "https://localhost:8080/"
        },
        "id": "yQVw0brbY7Qf",
        "outputId": "d36339cb-7405-4314-db3e-df225407c078"
      },
      "source": [
        "train_labels[0]"
      ],
      "execution_count": 4,
      "outputs": [
        {
          "output_type": "execute_result",
          "data": {
            "text/plain": [
              "3"
            ]
          },
          "metadata": {
            "tags": []
          },
          "execution_count": 4
        }
      ]
    },
    {
      "cell_type": "markdown",
      "metadata": {
        "id": "_YlXl_Amcg_p"
      },
      "source": [
        "##  Decoding newswires back to text:"
      ]
    },
    {
      "cell_type": "code",
      "metadata": {
        "id": "-6GT74PvZX8T"
      },
      "source": [
        "word_index = reuters.get_word_index()\n",
        "reverse_word_index = dict([(value, key) for (key, value) in word_index.items()])\n",
        "decoded_newswire = ' '.join([reverse_word_index.get(i - 3, '?') for i in\n",
        "train_data[0]])"
      ],
      "execution_count": 5,
      "outputs": []
    },
    {
      "cell_type": "markdown",
      "metadata": {
        "id": "sdznQJ8lcluI"
      },
      "source": [
        "## Encoding the data, One-hot encoding:"
      ]
    },
    {
      "cell_type": "code",
      "metadata": {
        "id": "zsqWxUkBcn5H"
      },
      "source": [
        "import numpy as np\n",
        "def vectorize_sequences(sequences, dimension=10000):\n",
        "  results = np.zeros((len(sequences), dimension))\n",
        "  for i, sequence in enumerate(sequences):\n",
        "    results[i, sequence] = 1.\n",
        "  return results\n",
        "\n",
        "\n",
        "x_train = vectorize_sequences(train_data)\n",
        "x_test = vectorize_sequences(test_data)"
      ],
      "execution_count": 6,
      "outputs": []
    },
    {
      "cell_type": "markdown",
      "metadata": {
        "id": "byAq_YiBcxGo"
      },
      "source": [
        "To vectorize the labels, there are two possibilities: you can cast the label list as an integer tensor, or you can use one-hot encoding. \n",
        "\n",
        "One-hot encoding is a widely used format for categorical data, also called categorical encoding"
      ]
    },
    {
      "cell_type": "code",
      "metadata": {
        "id": "-IVUB1picoOE"
      },
      "source": [
        "def to_one_hot(labels, dimension=46):\n",
        "  results = np.zeros((len(labels), dimension))\n",
        "  for i, label in enumerate(labels):\n",
        "    results[i, label] = 1.\n",
        "  return results\n",
        "\n",
        "one_hot_train_labels = to_one_hot(train_labels)\n",
        "one_hot_test_labels = to_one_hot(test_labels)\n",
        "# from keras.utils.np_utils import to_categorical\n",
        "# one_hot_train_labels = to_categorical(train_labels)\n",
        "# one_hot_test_labels = to_categorical(test_labels)"
      ],
      "execution_count": 7,
      "outputs": []
    },
    {
      "cell_type": "markdown",
      "metadata": {
        "id": "imMxQkk2zAAi"
      },
      "source": [
        "# Model\n",
        "----\n",
        "\n",
        "1. Build model\n",
        "2. Compile\n",
        "3. Fit"
      ]
    },
    {
      "cell_type": "code",
      "metadata": {
        "id": "04WzTEi1zBM1"
      },
      "source": [
        "from keras import models\n",
        "from keras import layers\n",
        "from keras import optimizers\n",
        "model = models.Sequential()\n",
        "model.add(layers.Dense(64, activation='relu', input_shape=(10000,)))\n",
        "model.add(layers.Dense(64, activation='relu'))\n",
        "model.add(layers.Dense(46, activation='softmax'))"
      ],
      "execution_count": 8,
      "outputs": []
    },
    {
      "cell_type": "code",
      "metadata": {
        "id": "02-29iyszDth"
      },
      "source": [
        "model.compile(optimizer=optimizers.RMSprop(lr=0.001),\n",
        "              loss='categorical_crossentropy',\n",
        "              metrics=['accuracy'])"
      ],
      "execution_count": 9,
      "outputs": []
    },
    {
      "cell_type": "code",
      "metadata": {
        "colab": {
          "base_uri": "https://localhost:8080/"
        },
        "id": "vAX2o0Ts1q33",
        "outputId": "29f2be45-9cd4-4846-98b8-fa59aaf6fc7a"
      },
      "source": [
        "x_train.shape"
      ],
      "execution_count": 10,
      "outputs": [
        {
          "output_type": "execute_result",
          "data": {
            "text/plain": [
              "(8982, 10000)"
            ]
          },
          "metadata": {
            "tags": []
          },
          "execution_count": 10
        }
      ]
    },
    {
      "cell_type": "markdown",
      "metadata": {
        "id": "s59OgpGKzNKJ"
      },
      "source": [
        "Creating validation set:"
      ]
    },
    {
      "cell_type": "code",
      "metadata": {
        "id": "J8mfrS7AzJM2"
      },
      "source": [
        "x_val = x_train[:1000]\n",
        "partial_x_train = x_train[1000:]\n",
        "y_val = one_hot_train_labels[:1000]\n",
        "partial_y_train = one_hot_train_labels[1000:]"
      ],
      "execution_count": 11,
      "outputs": []
    },
    {
      "cell_type": "code",
      "metadata": {
        "colab": {
          "base_uri": "https://localhost:8080/"
        },
        "id": "OjuxxeDlzSrT",
        "outputId": "55562aeb-5410-4ddf-db85-7518a1561e3f"
      },
      "source": [
        "history = model.fit(partial_x_train,\n",
        "                    partial_y_train,\n",
        "                    epochs=20,\n",
        "                    batch_size=512,\n",
        "                    validation_data=(x_val, y_val))"
      ],
      "execution_count": 12,
      "outputs": [
        {
          "output_type": "stream",
          "text": [
            "Epoch 1/20\n",
            "16/16 [==============================] - 2s 39ms/step - loss: 3.1415 - accuracy: 0.3864 - val_loss: 1.7521 - val_accuracy: 0.6500\n",
            "Epoch 2/20\n",
            "16/16 [==============================] - 0s 15ms/step - loss: 1.4565 - accuracy: 0.7081 - val_loss: 1.2856 - val_accuracy: 0.7180\n",
            "Epoch 3/20\n",
            "16/16 [==============================] - 0s 15ms/step - loss: 1.0704 - accuracy: 0.7747 - val_loss: 1.1218 - val_accuracy: 0.7460\n",
            "Epoch 4/20\n",
            "16/16 [==============================] - 0s 15ms/step - loss: 0.8129 - accuracy: 0.8284 - val_loss: 1.0160 - val_accuracy: 0.7850\n",
            "Epoch 5/20\n",
            "16/16 [==============================] - 0s 16ms/step - loss: 0.6467 - accuracy: 0.8677 - val_loss: 0.9687 - val_accuracy: 0.7820\n",
            "Epoch 6/20\n",
            "16/16 [==============================] - 0s 15ms/step - loss: 0.5163 - accuracy: 0.8912 - val_loss: 0.9124 - val_accuracy: 0.8120\n",
            "Epoch 7/20\n",
            "16/16 [==============================] - 0s 15ms/step - loss: 0.3966 - accuracy: 0.9233 - val_loss: 0.9110 - val_accuracy: 0.8170\n",
            "Epoch 8/20\n",
            "16/16 [==============================] - 0s 15ms/step - loss: 0.3379 - accuracy: 0.9317 - val_loss: 0.9144 - val_accuracy: 0.8130\n",
            "Epoch 9/20\n",
            "16/16 [==============================] - 0s 16ms/step - loss: 0.2770 - accuracy: 0.9417 - val_loss: 0.9293 - val_accuracy: 0.8220\n",
            "Epoch 10/20\n",
            "16/16 [==============================] - 0s 16ms/step - loss: 0.2310 - accuracy: 0.9479 - val_loss: 0.9398 - val_accuracy: 0.8130\n",
            "Epoch 11/20\n",
            "16/16 [==============================] - 0s 15ms/step - loss: 0.1926 - accuracy: 0.9525 - val_loss: 0.9594 - val_accuracy: 0.8080\n",
            "Epoch 12/20\n",
            "16/16 [==============================] - 0s 15ms/step - loss: 0.1732 - accuracy: 0.9553 - val_loss: 0.9417 - val_accuracy: 0.8200\n",
            "Epoch 13/20\n",
            "16/16 [==============================] - 0s 15ms/step - loss: 0.1513 - accuracy: 0.9590 - val_loss: 0.9603 - val_accuracy: 0.8170\n",
            "Epoch 14/20\n",
            "16/16 [==============================] - 0s 15ms/step - loss: 0.1359 - accuracy: 0.9594 - val_loss: 1.0066 - val_accuracy: 0.8040\n",
            "Epoch 15/20\n",
            "16/16 [==============================] - 0s 15ms/step - loss: 0.1258 - accuracy: 0.9618 - val_loss: 1.0322 - val_accuracy: 0.8070\n",
            "Epoch 16/20\n",
            "16/16 [==============================] - 0s 15ms/step - loss: 0.1207 - accuracy: 0.9597 - val_loss: 1.0535 - val_accuracy: 0.8000\n",
            "Epoch 17/20\n",
            "16/16 [==============================] - 0s 15ms/step - loss: 0.1134 - accuracy: 0.9613 - val_loss: 1.0764 - val_accuracy: 0.8080\n",
            "Epoch 18/20\n",
            "16/16 [==============================] - 0s 16ms/step - loss: 0.1056 - accuracy: 0.9646 - val_loss: 1.0209 - val_accuracy: 0.8100\n",
            "Epoch 19/20\n",
            "16/16 [==============================] - 0s 16ms/step - loss: 0.1018 - accuracy: 0.9619 - val_loss: 1.1200 - val_accuracy: 0.7930\n",
            "Epoch 20/20\n",
            "16/16 [==============================] - 0s 15ms/step - loss: 0.1066 - accuracy: 0.9624 - val_loss: 1.1036 - val_accuracy: 0.7980\n"
          ],
          "name": "stdout"
        }
      ]
    },
    {
      "cell_type": "markdown",
      "metadata": {
        "id": "M7DZ4Z-UzdRi"
      },
      "source": [
        "### Training and Validation Loss"
      ]
    },
    {
      "cell_type": "code",
      "metadata": {
        "colab": {
          "base_uri": "https://localhost:8080/",
          "height": 295
        },
        "id": "eoLZV-SbzPcZ",
        "outputId": "76a4565b-0cd2-475b-970f-89e42f26e4a2"
      },
      "source": [
        "import matplotlib.pyplot as plt\n",
        "\n",
        "loss = history.history['loss']\n",
        "val_loss = history.history['val_loss']\n",
        "epochs = range(1, len(loss) + 1)\n",
        "plt.plot(epochs, loss, 'bo', label='Training loss')\n",
        "plt.plot(epochs, val_loss, 'b', label='Validation loss')\n",
        "plt.title('Training and validation loss')\n",
        "plt.xlabel('Epochs')\n",
        "plt.ylabel('Loss')\n",
        "plt.legend()\n",
        "plt.show()"
      ],
      "execution_count": 13,
      "outputs": [
        {
          "output_type": "display_data",
          "data": {
            "image/png": "[encoded data removed]",
            "text/plain": [
              "<Figure size 432x288 with 1 Axes>"
            ]
          },
          "metadata": {
            "tags": [],
            "needs_background": "light"
          }
        }
      ]
    },
    {
      "cell_type": "markdown",
      "metadata": {
        "id": "9BLK88-53Dyn"
      },
      "source": [
        "OVERFITS AFTER NINE EPOCHS!"
      ]
    },
    {
      "cell_type": "markdown",
      "metadata": {
        "id": "1bZmpah02xv2"
      },
      "source": [
        "### Training and Validation Accuracy"
      ]
    },
    {
      "cell_type": "code",
      "metadata": {
        "colab": {
          "base_uri": "https://localhost:8080/",
          "height": 295
        },
        "id": "DCe_FmhrzaWP",
        "outputId": "2e30a45a-b32a-4ad0-f420-431d84fd752b"
      },
      "source": [
        "acc = history.history['accuracy']\n",
        "val_acc = history.history['val_accuracy']\n",
        "plt.plot(epochs, acc, 'bo', label='Training acc')\n",
        "plt.plot(epochs, val_acc, 'b', label='Validation acc')\n",
        "plt.title('Training and validation accuracy')\n",
        "plt.xlabel('Epochs')\n",
        "plt.ylabel('Loss')\n",
        "plt.legend()\n",
        "plt.show()"
      ],
      "execution_count": 14,
      "outputs": [
        {
          "output_type": "display_data",
          "data": {
            "image/png": "[encoded data removed]",
            "text/plain": [
              "<Figure size 432x288 with 1 Axes>"
            ]
          },
          "metadata": {
            "tags": [],
            "needs_background": "light"
          }
        }
      ]
    },
    {
      "cell_type": "markdown",
      "metadata": {
        "id": "jv8eeHSx3J2W"
      },
      "source": [
        "### Let’s train a new network from scratch for nine epochs and then evaluate it on the test set"
      ]
    },
    {
      "cell_type": "code",
      "metadata": {
        "colab": {
          "base_uri": "https://localhost:8080/"
        },
        "id": "wHBWEPQk20NR",
        "outputId": "c02d9e5f-05d7-4a44-e77f-9d8a44fe4f51"
      },
      "source": [
        "model = models.Sequential()\n",
        "model.add(layers.Dense(64, activation='relu', input_shape=(10000,)))\n",
        "model.add(layers.Dense(64, activation='relu'))\n",
        "model.add(layers.Dense(46, activation='softmax'))\n",
        "\n",
        "model.compile(optimizer='rmsprop',\n",
        "              loss='categorical_crossentropy',\n",
        "              metrics=['accuracy'])\n",
        "\n",
        "model.fit(partial_x_train,\n",
        "          partial_y_train,\n",
        "          epochs=9,\n",
        "          batch_size=512,\n",
        "          validation_data=(x_val, y_val))\n",
        "\n",
        "results = model.evaluate(x_test, one_hot_test_labels)\n",
        "print('\\nRESULTS:', results)"
      ],
      "execution_count": 15,
      "outputs": [
        {
          "output_type": "stream",
          "text": [
            "Epoch 1/9\n",
            "16/16 [==============================] - 1s 25ms/step - loss: 3.1299 - accuracy: 0.4147 - val_loss: 1.7583 - val_accuracy: 0.6450\n",
            "Epoch 2/9\n",
            "16/16 [==============================] - 0s 15ms/step - loss: 1.5482 - accuracy: 0.6978 - val_loss: 1.2984 - val_accuracy: 0.7310\n",
            "Epoch 3/9\n",
            "16/16 [==============================] - 0s 15ms/step - loss: 1.0954 - accuracy: 0.7698 - val_loss: 1.1077 - val_accuracy: 0.7620\n",
            "Epoch 4/9\n",
            "16/16 [==============================] - 0s 15ms/step - loss: 0.8204 - accuracy: 0.8279 - val_loss: 1.0207 - val_accuracy: 0.7740\n",
            "Epoch 5/9\n",
            "16/16 [==============================] - 0s 16ms/step - loss: 0.6630 - accuracy: 0.8617 - val_loss: 0.9499 - val_accuracy: 0.8020\n",
            "Epoch 6/9\n",
            "16/16 [==============================] - 0s 15ms/step - loss: 0.5197 - accuracy: 0.8891 - val_loss: 0.9090 - val_accuracy: 0.8080\n",
            "Epoch 7/9\n",
            "16/16 [==============================] - 0s 15ms/step - loss: 0.4087 - accuracy: 0.9177 - val_loss: 0.8879 - val_accuracy: 0.8260\n",
            "Epoch 8/9\n",
            "16/16 [==============================] - 0s 16ms/step - loss: 0.3404 - accuracy: 0.9293 - val_loss: 0.8835 - val_accuracy: 0.8200\n",
            "Epoch 9/9\n",
            "16/16 [==============================] - 0s 15ms/step - loss: 0.2782 - accuracy: 0.9379 - val_loss: 0.9086 - val_accuracy: 0.8120\n",
            "71/71 [==============================] - 0s 3ms/step - loss: 1.0073 - accuracy: 0.7832\n",
            "\n",
            "RESULTS: [1.0072517395019531, 0.7831701040267944]\n"
          ],
          "name": "stdout"
        }
      ]
    },
    {
      "cell_type": "markdown",
      "metadata": {
        "id": "dNXrnoRS3Wyr"
      },
      "source": [
        "Reaches an accuracy of ~80%"
      ]
    },
    {
      "cell_type": "markdown",
      "metadata": {
        "id": "0t2dkHuc3ePg"
      },
      "source": [
        "### Comparing with baseline (RANDOM GUESS):"
      ]
    },
    {
      "cell_type": "code",
      "metadata": {
        "colab": {
          "base_uri": "https://localhost:8080/"
        },
        "id": "FlbgOHWU3XHH",
        "outputId": "1b690f6b-1422-4219-bc3d-d012127713ef"
      },
      "source": [
        "import copy\n",
        "test_labels_copy = copy.copy(test_labels)\n",
        "np.random.shuffle(test_labels_copy)\n",
        "hits_array = np.array(test_labels) == np.array(test_labels_copy)\n",
        "float(np.sum(hits_array)) / len(test_labels)"
      ],
      "execution_count": 16,
      "outputs": [
        {
          "output_type": "execute_result",
          "data": {
            "text/plain": [
              "0.17898486197684774"
            ]
          },
          "metadata": {
            "tags": []
          },
          "execution_count": 16
        }
      ]
    },
    {
      "cell_type": "markdown",
      "metadata": {
        "id": "IGlbcsuR4Q4-"
      },
      "source": [
        "Generating predictions for new data"
      ]
    },
    {
      "cell_type": "code",
      "metadata": {
        "colab": {
          "base_uri": "https://localhost:8080/"
        },
        "id": "nwZ8Lphl3xQk",
        "outputId": "66bee8cd-a9aa-4b51-bcb8-38f6dfea7f54"
      },
      "source": [
        "predictions = model.predict(x_test)\n",
        "print('shape:', predictions.shape)"
      ],
      "execution_count": 17,
      "outputs": [
        {
          "output_type": "stream",
          "text": [
            "shape: (2246, 46)\n"
          ],
          "name": "stdout"
        }
      ]
    },
    {
      "cell_type": "code",
      "metadata": {
        "colab": {
          "base_uri": "https://localhost:8080/"
        },
        "id": "Kj03fzDN4ViP",
        "outputId": "ba952377-56ce-4822-bb27-54c2ecf3e527"
      },
      "source": [
        "np.sum(predictions[0])"
      ],
      "execution_count": 18,
      "outputs": [
        {
          "output_type": "execute_result",
          "data": {
            "text/plain": [
              "1.0000001"
            ]
          },
          "metadata": {
            "tags": []
          },
          "execution_count": 18
        }
      ]
    },
    {
      "cell_type": "markdown",
      "metadata": {
        "id": "WtRkfVRq4Z-n"
      },
      "source": [
        "The largest entry is the predicted class—the class with the highest probability:"
      ]
    },
    {
      "cell_type": "code",
      "metadata": {
        "colab": {
          "base_uri": "https://localhost:8080/"
        },
        "id": "rkrfW6Tf4YPn",
        "outputId": "b2246f3e-9564-4e2c-fbeb-961ba978ab26"
      },
      "source": [
        "np.argmax(predictions[0])"
      ],
      "execution_count": 19,
      "outputs": [
        {
          "output_type": "execute_result",
          "data": {
            "text/plain": [
              "3"
            ]
          },
          "metadata": {
            "tags": []
          },
          "execution_count": 19
        }
      ]
    },
    {
      "cell_type": "markdown",
      "metadata": {
        "id": "t6I9_jMJ4jk-"
      },
      "source": [
        "# A different way to handle the labels and the loss\n",
        "----"
      ]
    },
    {
      "cell_type": "markdown",
      "metadata": {
        "id": "p0gc5fwn4paP"
      },
      "source": [
        "Another way to encode the labels would be to cast them as an integer tensor"
      ]
    },
    {
      "cell_type": "code",
      "metadata": {
        "id": "bvsoGjlo4bRm"
      },
      "source": [
        "y_train = np.array(train_labels)\n",
        "y_test = np.array(test_labels)"
      ],
      "execution_count": 20,
      "outputs": []
    },
    {
      "cell_type": "markdown",
      "metadata": {
        "id": "7KZ-eqb24uSR"
      },
      "source": [
        "The loss function categorical_crossentropy expects the labels to follow a categorical encoding;\n",
        "\n",
        "With integer labels, you should use sparse_categorical_crossentropy "
      ]
    },
    {
      "cell_type": "code",
      "metadata": {
        "id": "yj8aA3vC4rDz"
      },
      "source": [
        "# model.compile(optimizer='rmsprop',\n",
        "#               loss='sparse_categorical_crossentropy',\n",
        "#               metrics=['acc'])"
      ],
      "execution_count": 21,
      "outputs": []
    },
    {
      "cell_type": "markdown",
      "metadata": {
        "id": "yRVIbGXs5Cn3"
      },
      "source": [
        "# Wrapping Up\n",
        "----"
      ]
    },
    {
      "cell_type": "markdown",
      "metadata": {
        "id": "_hUWme9C5Fwt"
      },
      "source": [
        "* If you’re trying to classify data points among N classes, your network should end with a Dense layer of size N;\n",
        "\n",
        "* In a single-label, multiclass classification problem, your network should end\n",
        "with a softmax activation so that it will output a probability distribution over the N output classes;\n",
        "\n",
        "* Categorical crossentropy is almost always the loss function you should use for\n",
        "such problems. It minimizes the distance between the probability distributions output by the network and the true distribution of the targets;\n",
        "\n",
        "* There are two ways to handle labels in multiclass classification:\n",
        "  1. Encoding the labels via categorical encoding (also known as one-hot encoding) and using categorical_crossentropy as a loss function\n",
        "  2. Encoding the labels as integers and using the sparse_categorical_crossentropy loss function\n",
        "\n",
        "* If you need to classify data into a large number of categories, you should avoid creating information bottlenecks in your network due to intermediate layers that are too small.\n"
      ]
    },
    {
      "cell_type": "code",
      "metadata": {
        "id": "ygMSsAAy53XP"
      },
      "source": [
        ""
      ],
      "execution_count": null,
      "outputs": []
    }
  ]
}