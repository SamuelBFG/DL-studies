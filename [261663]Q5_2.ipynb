{
  "nbformat": 4,
  "nbformat_minor": 0,
  "metadata": {
    "accelerator": "GPU",
    "colab": {
      "name": "[261663]Q5_2.ipynb",
      "provenance": [],
      "toc_visible": true,
      "include_colab_link": true
    },
    "kernelspec": {
      "display_name": "Python 3",
      "language": "python",
      "name": "python3"
    },
    "language_info": {
      "codemirror_mode": {
        "name": "ipython",
        "version": 3
      },
      "file_extension": ".py",
      "mimetype": "text/x-python",
      "name": "python",
      "nbconvert_exporter": "python",
      "pygments_lexer": "ipython3",
      "version": "3.7.4"
    }
  },
  "cells": [
    {
      "cell_type": "markdown",
      "metadata": {
        "id": "view-in-github",
        "colab_type": "text"
      },
      "source": [
        "<a href=\"https://colab.research.google.com/github/SamuelBFG/DL-studies/blob/master/%5B261663%5DQ5_2.ipynb\" target=\"_parent\"><img src=\"https://colab.research.google.com/assets/colab-badge.svg\" alt=\"Open In Colab\"/></a>"
      ]
    },
    {
      "cell_type": "markdown",
      "metadata": {
        "id": "s1S9tjbA-n01"
      },
      "source": [
        "# IA353 - Redes Neurais\n",
        "# EF2 - Questão 5 - Parte 2"
      ]
    },
    {
      "cell_type": "markdown",
      "metadata": {
        "id": "KaUWoA3BtU7V"
      },
      "source": [
        "### Um sistema de comunicação simples consiste em 3 módulos principais: transmissor, canal, e receptor. O transmissor envia uma mensagem ao receptor pelo canal, e a comunicação é dita bemsucedida se o receptor e o transmissor concordarem no que foi enviado. \n",
        "\n",
        "### Isso pode ser visto como um Autoencoder [[1]](https://ieeexplore.ieee.org/document/8054694), onde seu codificador atua como o transmissor do sistema de comunicação, e seu decodificador atua como o receptor. O canal atua como as restrições intrínsecas do Autoencoder.\n",
        "\n",
        "\n",
        "### O objetivo desse notebook é reformular o problema de engenharia de um sistema de comunicação simples, em termos de sua camada física, em um problema de aprendizado profundo com um Autoencoder.\n",
        "\n",
        "\n",
        "### Para comparação, adotaremos a taxa de erro na mensagem (block error rate, BLER) como medida de performance em alguma modulação tradicionalmente usada em engenharia de comunicações."
      ]
    },
    {
      "cell_type": "markdown",
      "metadata": {
        "id": "ooFJycJs-n03"
      },
      "source": [
        "**Professor:** Fernando J. Von Zuben <br>\n",
        "**Aluno(a):**  Samuel Borges Ferreira Gomes"
      ]
    },
    {
      "cell_type": "markdown",
      "metadata": {
        "id": "J4ZoUKa6tU7W"
      },
      "source": [
        "## 5.1. Imports"
      ]
    },
    {
      "cell_type": "code",
      "metadata": {
        "colab": {
          "base_uri": "https://localhost:8080/"
        },
        "id": "0dkMb1tztU7W",
        "outputId": "12d943e3-eaa0-4cb4-bef2-60848711b9b7"
      },
      "source": [
        "# import tensorflow as tf\n",
        "import numpy as np\n",
        "import matplotlib.pyplot as plt\n",
        "import tensorflow.compat.v1 as tf\n",
        "\n",
        "tf.disable_v2_behavior() "
      ],
      "execution_count": 1,
      "outputs": [
        {
          "output_type": "stream",
          "text": [
            "WARNING:tensorflow:From /usr/local/lib/python3.7/dist-packages/tensorflow/python/compat/v2_compat.py:96: disable_resource_variables (from tensorflow.python.ops.variable_scope) is deprecated and will be removed in a future version.\n",
            "Instructions for updating:\n",
            "non-resource variables are not supported in the long term\n"
          ],
          "name": "stdout"
        }
      ]
    },
    {
      "cell_type": "markdown",
      "metadata": {
        "id": "A5TxziAJtU7X"
      },
      "source": [
        "## 5.2. Modelo de sistema de comunicação simples\n",
        "\n",
        "![Comunicação tradicional](https://i.imgur.com/0nQ4X8K.png)\n",
        "\n",
        "A tarefa do transmissor é selecionar e mapear símbolos de uma fonte de informação $w\\in\\mathcal{W}=\\{1,2,\\ldots,M\\}$ em uma sequência de $n$ símbolos do canal  $\\mathbf{x}\\in\\mathbb{R}^{n}$ que compõem o sinal transmitido, realizando $n$ usos discretos do canal. Para isto, aplica a transformação $f\\colon\\mathcal{W}\\mapsto\\mathbb{R}^{n}$ na mensagem $s$ afim de gerar o sinal transmitido $\\mathbf{x}=f(w)\\in \\mathbb{R}^{n}$. O vetor transmitido é sujeito a uma restrição de potência no *hardware* tal que $||\\mathbf{x}||_{2}^2 \\leq n$. Cada mensagem é representada por uma sequência de *bits* de comprimento $k=log_{2}(M)$. Desse modo, a taxa de comunicação deste sistema de comunicação é $R=k/n$ [*bits*/transmissão]. \n",
        "\n",
        "O canal age como um sistema estocástico descrito por sua matriz de transição definida pela função densidade de probabilidade condicional $p(\\mathbf{y}|\\mathbf{x})$ entre sua entrada e saída. Na recepção, uma versão possivelmente distorcida $\\mathbf{y}\\in\\mathbb{R}^{n}$ de $\\mathbf{x}$ pode ser observada. Desse modo, o objetivo do receptor é aplicar a transformação determinística  $g\\colon\\mathbb{R}^{n}\\mapsto\\mathcal{W}$ afim de produzir uma estimativa $\\hat{w}=g(\\mathbf{y})$ da mensagem original $w$ com erro arbitrariamente pequeno.\n",
        "\n",
        "A relação entrada-saída do canal do $i$-ésimo uso de canal pode ser visto na forma\n",
        "\n",
        "\n",
        "$y_{i}=x_{i} +n_{i}$,\n",
        "\n",
        "em que $n_{i}\\sim \\mathcal{N}(0,N_{0}/2)$. A densidade espectral do ruído é dada por $N_{0}$, enquanto $x_{i}$ e $y_{i}$ representam a entrada e a saída do canal, respectivamente.\n"
      ]
    },
    {
      "cell_type": "markdown",
      "metadata": {
        "id": "v8gzhX9YJU0c"
      },
      "source": [
        "## 5.3. Autoencoder como sistema de comunicação fim-a-fim"
      ]
    },
    {
      "cell_type": "code",
      "metadata": {
        "id": "LNr8xfCsytdk"
      },
      "source": [
        "k = 8          # Número de bits de informação por mensagem\n",
        "n = 8          # Número de usos discretos do canal\n",
        "M = 2**k       # Número de mensagens"
      ],
      "execution_count": 2,
      "outputs": []
    },
    {
      "cell_type": "markdown",
      "metadata": {
        "id": "7SkW7BXLB0_C"
      },
      "source": [
        "### Criamos as mensagens que queremos transmitir em cada batch, extraídas de uma distribuição uniforme.\n",
        "\n",
        "### **Para treinar eficientemente sob método de otimização iterativo, consideramos que essa entrada é codificada em um vetor *one-hot!***"
      ]
    },
    {
      "cell_type": "code",
      "metadata": {
        "id": "Zg_0YMHatU7X"
      },
      "source": [
        "# AUTOENCODER SYSTEM MODEL\n",
        "batch_size = tf.placeholder(tf.int32,shape=[])\n",
        "w = tf.random.uniform(shape=[batch_size],minval=0,maxval=M,dtype=tf.int32)\n",
        "w_one_hot = tf.one_hot(w,depth=M)"
      ],
      "execution_count": 3,
      "outputs": []
    },
    {
      "cell_type": "markdown",
      "metadata": {
        "id": "CEpPi_t_Lqgh"
      },
      "source": [
        "### Autoencoder"
      ]
    },
    {
      "cell_type": "code",
      "metadata": {
        "id": "0PfZ5bNatU7Y"
      },
      "source": [
        "# Transmitter\n",
        "tx = tf.keras.layers.Dense(units=M,activation=\"relu\")(w_one_hot)\n",
        "tx = tf.keras.layers.Dense(units=n,activation=None)(tx)\n",
        "x = tx / tf.sqrt(tf.reduce_mean(tf.square(tx)))\n",
        "\n",
        "# Channel\n",
        "noise_std = tf.placeholder(dtype=tf.float32,shape=[])\n",
        "noise = tf.random.normal(shape=tf.shape(x),stddev=noise_std)\n",
        "y = x + noise\n",
        "\n",
        "# Receiver\n",
        "rx = tf.keras.layers.Dense(units=M, activation=\"relu\")(y)\n",
        "w_hat = tf.keras.layers.Dense(units=M, activation=None)(rx)"
      ],
      "execution_count": 4,
      "outputs": []
    },
    {
      "cell_type": "markdown",
      "metadata": {
        "id": "OmRddKeNCp1D"
      },
      "source": [
        "- Transmissor: A primeira camada transmissora densa deve ter ativação \"relu\"  e pode ter qualquer número de unidades, sendo escolhida igual a $M$ para ser coerente com a ordem de modulação. A segunda camada densa deve ter $n$ unidades, formando a saída de o transmissor, que não deve ter nenhuma função de ativação, uma vez que queremos que o transmissor seja capaz de emitir quaisquer números de valor real. Para evitar que o transmissor aprenda saídas desnecessariamente grandes e se torne numericamente instável, normalizamos a potência média de todas as saídas do transmissor no *mini-batch* para igual a 1.\n",
        "\n",
        "- Canal: Para efeitos de simplicidade, adota-se o canônico ruído gaussiano branco aditivo básico (AWGN), que simplesmente adiciona no sinal transmitido valores aleatoriamente extraídos de uma distribuição normal com variância correspondendo a densidade espectral do ruído. \n",
        "\n",
        "- Receptor: Dependendo da complexidade do modelo de canal, podemos agora adicionar várias dessas camadas ao nosso modelo para aumentar a complexidade e os recursos da rede neural. Mas para o canal AWGN simples, uma camada de entrada com ativação ReLU e uma de saída são suficientes no lado do receptor. A camada densa de saída deve ter M unidades, uma vez que queremos produzir uma previsão sobre a probabilidade de cada mensagem possível. \n",
        "\n"
      ]
    },
    {
      "cell_type": "markdown",
      "metadata": {
        "id": "zECXs5M9EcBM"
      },
      "source": [
        "Usamos uma função de perda de entropia cruzada padrão que inerentemente ativa os logits com “softmax” e aceita rótulos esparsos."
      ]
    },
    {
      "cell_type": "code",
      "metadata": {
        "id": "6ZIsgZ-etU7Y"
      },
      "source": [
        "# Loss function\n",
        "cross_entropy = tf.losses.sparse_softmax_cross_entropy(labels=w, logits=w_hat)"
      ],
      "execution_count": 5,
      "outputs": []
    },
    {
      "cell_type": "markdown",
      "metadata": {
        "id": "VEhs7H-zE1AG"
      },
      "source": [
        "Calculamos a taxa média de erro de mensagem (ou bloco) do *mini-batch* decidindo com *hard-decision* a saída do receptor no elemento com a maior probabilidade (argmax)."
      ]
    },
    {
      "cell_type": "code",
      "metadata": {
        "id": "fPCLq2FptU7Z"
      },
      "source": [
        "# Metrics\n",
        "correct_predictions = tf.equal(tf.argmax(tf.nn.softmax(w_hat),axis=1,output_type=tf.int32),w)\n",
        "accuracy = tf.reduce_mean(tf.cast(correct_predictions,dtype=tf.float32))\n",
        "bler = 1.0 - accuracy"
      ],
      "execution_count": 6,
      "outputs": []
    },
    {
      "cell_type": "markdown",
      "metadata": {
        "id": "LfXBfKpjFJzH"
      },
      "source": [
        "Adotamos Adam como otimizador."
      ]
    },
    {
      "cell_type": "code",
      "metadata": {
        "id": "mA0jrbXytU7Z"
      },
      "source": [
        "# Optimizer\n",
        "lr = tf.placeholder(dtype=tf.float32,shape=[])\n",
        "train_op = tf.train.AdamOptimizer(learning_rate=lr).minimize(cross_entropy)"
      ],
      "execution_count": 7,
      "outputs": []
    },
    {
      "cell_type": "code",
      "metadata": {
        "id": "8J0txYynzfqw"
      },
      "source": [
        "sess = tf.Session()\n",
        "sess.run(tf.global_variables_initializer())"
      ],
      "execution_count": 8,
      "outputs": []
    },
    {
      "cell_type": "markdown",
      "metadata": {
        "id": "Y50y6ibdFNdj"
      },
      "source": [
        "Formulamos uma definição de relação sinal ruído (SNR) por bit média $E_{b}/N_{0}$, para que possamos treinar facilmente em determinada SNR. Esta função simplesmente calcula o desvio padrão do ruído para um determinada SNR (enquanto a potência do sinal é normalizada para 1)"
      ]
    },
    {
      "cell_type": "code",
      "metadata": {
        "id": "YW_SCqy_zhp4"
      },
      "source": [
        "def EbNo2Sigma(ebnodb):\n",
        "  '''Convert Eb/No in dB to noise standard deviation'''\n",
        "  ebno = 10**(ebnodb/10)\n",
        "  bits_per_complex_symbol = k/(n/2)\n",
        "  return 1.0/np.sqrt(bits_per_complex_symbol*ebno)"
      ],
      "execution_count": 9,
      "outputs": []
    },
    {
      "cell_type": "markdown",
      "metadata": {
        "id": "x-0TyXB6Fj_L"
      },
      "source": [
        "Treinamento: Começamos com 1.000 iterações de execução da função train_op com um pequeno batch_size de apenas 100 mensagens e uma taxa de aprendizado de 0,001. Após essa primeira época de treinamento, reduzimos a taxa de aprendizado para 0,0001 e executamos outra época com 10.000 iterações. Para a última época de treinamento, aumentamos o tamanho do lote para 1.000 e executamos outras 10.000 iterações. Durante todos os períodos de treinamento, definimos a SNR de treinamento para 7 dB."
      ]
    },
    {
      "cell_type": "code",
      "metadata": {
        "id": "fhNRMzOGzjEO"
      },
      "source": [
        "for i in range(1000):\n",
        "  sess.run(train_op, feed_dict={batch_size: 100, noise_std: EbNo2Sigma(7.0), lr: 0.001})\n",
        "\n",
        "for i in range(10000):\n",
        "  sess.run(train_op, feed_dict={batch_size: 100, noise_std: EbNo2Sigma(7.0), lr: 0.0001})\n",
        "\n",
        "for i in range(10000):\n",
        "  sess.run(train_op, feed_dict={batch_size: 1000, noise_std: EbNo2Sigma(7.0), lr: 0.0001})"
      ],
      "execution_count": 10,
      "outputs": []
    },
    {
      "cell_type": "markdown",
      "metadata": {
        "id": "U2L5gIMLLgGV"
      },
      "source": [
        "## 5.4. Análise de performance"
      ]
    },
    {
      "cell_type": "markdown",
      "metadata": {
        "id": "WqAJJtSTGQ5z"
      },
      "source": [
        "Vamos verificar o desempenho do autoencoder plotando sua BLER em uma faixa de SNR. Portanto, precisamos executar uma simulação de Monte Carlo para obter uma BLER precisa para cada ponto SNR. Neste exemplo, simulamos a BLER de 0 a 14dB executando 10 *mini-batchtes* de 100.000 mensagens para cada ponto SNR."
      ]
    },
    {
      "cell_type": "code",
      "metadata": {
        "id": "UNRAd01QzsA3"
      },
      "source": [
        "snr_range = np.linspace(0,14,15)\n",
        "monte_carlo_bler = np.zeros((len(snr_range),))\n",
        "for i in range(len(snr_range)):\n",
        "  for j in range(10):\n",
        "    monte_carlo_bler[i] += sess.run(bler, feed_dict={batch_size: 100000, noise_std: EbNo2Sigma(snr_range[i]), lr: 0.0})\n",
        "monte_carlo_bler = monte_carlo_bler / 10"
      ],
      "execution_count": 11,
      "outputs": []
    },
    {
      "cell_type": "code",
      "metadata": {
        "colab": {
          "base_uri": "https://localhost:8080/",
          "height": 528
        },
        "id": "CSaq8QV5ztTi",
        "outputId": "d1bff945-ae8b-4ec1-f3bb-a0b62ad75b63"
      },
      "source": [
        "plt.figure(figsize=(10,8))\n",
        "plt.plot(snr_range, monte_carlo_bler, linewidth=2.0)\n",
        "plt.legend(['Autoencoder'], prop={'size': 16}, loc='upper right');\n",
        "plt.yscale('log')\n",
        "plt.xlabel('EbNo (dB)', fontsize=18)\n",
        "plt.ylabel('Block-error rate', fontsize=18)\n",
        "plt.grid(True)\n",
        "plt.ylim([1e-5,1])"
      ],
      "execution_count": 12,
      "outputs": [
        {
          "output_type": "execute_result",
          "data": {
            "text/plain": [
              "(1e-05, 1)"
            ]
          },
          "metadata": {
            "tags": []
          },
          "execution_count": 12
        },
        {
          "output_type": "display_data",
          "data": {
            "image/png": "[encoded data removed]",
            "text/plain": [
              "<Figure size 720x576 with 1 Axes>"
            ]
          },
          "metadata": {
            "tags": [],
            "needs_background": "light"
          }
        }
      ]
    },
    {
      "cell_type": "markdown",
      "metadata": {
        "id": "DxM45AIgQ0fk"
      },
      "source": [
        "## 5.5. Comparação com esquema clássico de modulação"
      ]
    },
    {
      "cell_type": "markdown",
      "metadata": {
        "id": "zn7TmB5RL3Ca"
      },
      "source": [
        "Agora é possível comparar esse desempenho com outros esquemas de modulação. Neste exemplo, o Autoencoder se comunica a uma taxa $R=8/8=1$, de forma que fornecemos [[2]](https://mlc.committees.comsoc.org/2019/08/23/learning-to-communicate-hands-on-coding/) a BLER para o esquema binário de modulação de fase e quadratura (BPSK) não codificado."
      ]
    },
    {
      "cell_type": "code",
      "metadata": {
        "colab": {
          "base_uri": "https://localhost:8080/",
          "height": 528
        },
        "id": "CbfagEX8L3b-",
        "outputId": "bd32ae3e-4e9d-4352-af0c-957cd851ae5d"
      },
      "source": [
        "BLER_QPSK_k8n8 = np.array([4.818329E-01, 3.720104E-01, 2.645386E-01, 1.698987E-01, 9.636992E-02, 4.703772E-02, 1.914436E-02, 6.244719E-03, 1.551032E-03, 2.745986E-04, 3.194809E-05, 2.384186E-06, 0.000000E+00, 0.000000E+00, 0.000000E+00])\n",
        "\n",
        "plt.figure(figsize=(10,8))\n",
        "plt.plot(snr_range, monte_carlo_bler, linewidth=2.0)\n",
        "plt.plot(snr_range, BLER_QPSK_k8n8, linewidth=2.0)\n",
        "plt.legend(['Autoencoder', 'BPSK não-codificado'], prop={'size': 16}, loc='upper right');\n",
        "plt.yscale('log')\n",
        "plt.xlabel('EbNo (dB)', fontsize=18)\n",
        "plt.ylabel('Block-error rate', fontsize=18)\n",
        "plt.grid(True)\n",
        "plt.ylim([1e-5,1])\n",
        "plt.xlim([0,10])"
      ],
      "execution_count": 16,
      "outputs": [
        {
          "output_type": "execute_result",
          "data": {
            "text/plain": [
              "(0.0, 10.0)"
            ]
          },
          "metadata": {
            "tags": []
          },
          "execution_count": 16
        },
        {
          "output_type": "display_data",
          "data": {
            "image/png": "[encoded data removed]",
            "text/plain": [
              "<Figure size 720x576 with 1 Axes>"
            ]
          },
          "metadata": {
            "tags": [],
            "needs_background": "light"
          }
        }
      ]
    },
    {
      "cell_type": "markdown",
      "metadata": {
        "id": "6rEObCo9PKAJ"
      },
      "source": [
        "## 5.6. Conclusões\n",
        "\n",
        "Para o cenário adotado, o desempenho do Autoencoder implica que ele aprendeu algum esquema de codificação e modulação conjunta, sem qualquer conhecimento a priori de engenharia de comunicações, de modo que um ganho de codificação foi obtido. Além disso, sistemas dessa natureza apontam um interessante gradiente para problemas cujo modelos não sejam matematicamente tratáveis."
      ]
    },
    {
      "cell_type": "markdown",
      "metadata": {
        "id": "VVNW58zdQEvP"
      },
      "source": [
        "## 5.7. Referências\n",
        "\n",
        "[[1]](https://ieeexplore.ieee.org/document/8054694) An Introduction to Deep Learning for the Physical Layer\n",
        "\n",
        "[[2]](https://mlc.committees.comsoc.org/2019/08/23/learning-to-communicate-hands-on-coding/) Learning to Communicate: Hands-on Coding"
      ]
    },
    {
      "cell_type": "code",
      "metadata": {
        "id": "_eOyJVMgQ-zV"
      },
      "source": [
        ""
      ],
      "execution_count": null,
      "outputs": []
    }
  ]
}